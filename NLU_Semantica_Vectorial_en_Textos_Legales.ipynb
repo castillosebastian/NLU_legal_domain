{
  "nbformat": 4,
  "nbformat_minor": 0,
  "metadata": {
    "colab": {
      "name": "NLU_Semantica_Vectorial_en_Textos_Legales.ipynb",
      "provenance": [],
      "collapsed_sections": [],
      "authorship_tag": "ABX9TyP8C12Vm8un/lrnoduFB5Gh",
      "include_colab_link": true
    },
    "kernelspec": {
      "name": "python3",
      "display_name": "Python 3"
    }
  },
  "cells": [
    {
      "cell_type": "markdown",
      "metadata": {
        "id": "view-in-github",
        "colab_type": "text"
      },
      "source": [
        "<a href=\"https://colab.research.google.com/github/castillosebastian/NLU_legal_domain/blob/master/NLU_Semantica_Vectorial_en_Textos_Legales.ipynb\" target=\"_parent\"><img src=\"https://colab.research.google.com/assets/colab-badge.svg\" alt=\"Open In Colab\"/></a>"
      ]
    },
    {
      "cell_type": "markdown",
      "metadata": {
        "id": "qnBNSOIX99B1"
      },
      "source": [
        "# Semantica Vectorial en Textos Legales: Exploración"
      ]
    },
    {
      "cell_type": "code",
      "metadata": {
        "id": "rpxMVDQy9PhZ"
      },
      "source": [
        "# Libraries, tools and thanks \n",
        "import bs4\n",
        "import nltk\n",
        "import numpy\n",
        "import pandas as pd\n",
        "import io\n",
        "import requests\n",
        "from google.colab import drive\n",
        "import numpy as np \n",
        "import json"
      ],
      "execution_count": 2,
      "outputs": []
    },
    {
      "cell_type": "code",
      "metadata": {
        "id": "jJAxQeOi3eRz",
        "outputId": "6c5b2ed6-32d1-469d-f607-df7930ce5ad1",
        "colab": {
          "base_uri": "https://localhost:8080/",
          "height": 50
        }
      },
      "source": [
        "from google.colab import drive # import drive from google colab\n",
        "\n",
        "ROOT = \"/content/drive\"     # default location for the drive\n",
        "print(ROOT)                 # print content of ROOT (Optional)\n",
        "\n",
        "drive.mount(ROOT)           # we mount the google drive at /content/drive"
      ],
      "execution_count": 3,
      "outputs": [
        {
          "output_type": "stream",
          "text": [
            "/content/drive\n",
            "Mounted at /content/drive\n"
          ],
          "name": "stdout"
        }
      ]
    },
    {
      "cell_type": "code",
      "metadata": {
        "id": "7_qSVGUt4ASA",
        "outputId": "9ca25e2f-74bc-41da-a6c3-19e3db822ce3",
        "colab": {
          "base_uri": "https://localhost:8080/",
          "height": 33
        }
      },
      "source": [
        "%cd  'drive/My Drive/Colab Notebooks/data'"
      ],
      "execution_count": 4,
      "outputs": [
        {
          "output_type": "stream",
          "text": [
            "/content/drive/My Drive/Colab Notebooks/data\n"
          ],
          "name": "stdout"
        }
      ]
    },
    {
      "cell_type": "code",
      "metadata": {
        "id": "rnDT50z377Nk",
        "outputId": "abf27c8f-e790-4065-93df-d7a5ed5c71af",
        "colab": {
          "base_uri": "https://localhost:8080/",
          "height": 50
        }
      },
      "source": [
        "%ls"
      ],
      "execution_count": 5,
      "outputs": [
        {
          "output_type": "stream",
          "text": [
            "corpus_fallosmetdat.json  tbdoctrina.json  tbmetdat.json\n",
            "corpus_textosfallos.json  tbfallos.json\n"
          ],
          "name": "stdout"
        }
      ]
    },
    {
      "cell_type": "markdown",
      "metadata": {
        "id": "yFTywqxn3_mA"
      },
      "source": [
        "# Lectura de tablas de datos primarios"
      ]
    },
    {
      "cell_type": "code",
      "metadata": {
        "id": "LAA71S5CxjmW"
      },
      "source": [
        "with open('tbfallos.json', 'r') as myfile:\n",
        "    data1=myfile.read()\n",
        "# parse file\n",
        "tbfallos = json.loads(data1)\n",
        "tbfallos = pd.DataFrame.from_dict(tbfallos)"
      ],
      "execution_count": 6,
      "outputs": []
    },
    {
      "cell_type": "code",
      "metadata": {
        "id": "zcPhLlph_YRD",
        "outputId": "a0529708-6774-4332-f3c3-6a3d0993b5db",
        "colab": {
          "base_uri": "https://localhost:8080/",
          "height": 118
        }
      },
      "source": [
        "tbfallos['textos_fallo'][1]"
      ],
      "execution_count": 7,
      "outputs": [
        {
          "output_type": "execute_result",
          "data": {
            "application/vnd.google.colaboratory.intrinsic+json": {
              "type": "string"
            },
            "text/plain": [
              "'#TEXTO COMPLETO#A C U E R D O#En la ciudad de La Plata, a 15 de mayo de 2019, habiéndose establecido, de conformidad con lo dispuesto en el Acuerdo 2078, que deberá observarse el siguiente orden de votación: doctores Soria, de Lázzari, Genoud, Kogan, se reúnen los señores Jueces de la Suprema Corte de Justicia en acuerdo ordinario para pronunciar sentencia definitiva en la causa C. 122.321, \"F., R.. Determinación de la capacidad jurídica\".#A N T E C E D E N T E S#La Sala I de la Cámara de Apelación en lo Civil y Comercial de San Isidro confirmó el fallo de primera instancia que, en los autos sobre determinación de la capacidad jurídica del señor R. F., resolvió aprobar la rendición de cuentas efectuada por la Curaduría Oficial de Alienados (v. fs. 689 y 660, respectivamente).#Se interpuso, por la titular de la Asesoría de Incapaces n° 2 departamental, recurso extraordinario de inaplicabilidad de ley (v. fs. 705/711).#Oído el señor Procurador General, dictada la providencia de autos y encontrándose la causa en estado de pronunciar sentencia, la Suprema Corte resolvió plantear y votar la siguiente#C U E S T I Ó N#¿Es fundado el recurso extraordinario de inaplicabilidad de ley?#V O T A C I Ó N#A la cuestión planteada, el señor Juez doctor Soria dijo:#I. En el marco del proceso judicial por determinación de la capacidad jurídica del señor R. F., en trámite ante el Juzgado de Familia n° 4 de San Isidro, la titular de la Curaduría Oficial de Alienados de San Isidro y Zárate-Campana acompañó una rendición de cuentas informando los movimientos y saldos de la Cuenta de Autos y de la Cuenta Fiscal de Curaduría, adjuntando comprobantes para acreditar los gastos efectuados para el sostenimiento del causante e informando los montos y erogaciones originados en el subsidio ley 10.315, para el caso de que el señor F. estuviera gozando del mismo (v. fs. 541/548).#La Asesora de Incapaces impugnó la rendición de cuentas efectuada, esgrimiendo que de la documentación acompañada junto a la misma surgían dos facturas de la acompañante terapéutica -Daniela Elizabeth Ferreyra- en concepto de honorarios por trámites de afiliación al Programa Federal de Salud (PROFE-Salud), emitidas con fechas 11 de noviembre de 2015 y 15 de enero de 2016 por las sumas de $720 y $800, respectivamente (v. fs. 566).#Manifestó que de la compulsa del expediente surgía que desde el año 2013, luego de que el señor F. egresara con un permiso de salida del Hospital Cabred, no se habían tenido noticias del mismo, existiendo además constancias de la búsqueda de su paradero (v. fs. 566).#Hizo referencia a las resoluciones 578/03 y 127/06 en cuanto regulan la necesidad de intervención de los acompañantes terapéuticos, aspectos sobre los que deben trabajar, etcétera, y la obligación de los curadores de informar al juez lo presupuestado mensualmente para gastos ordinarios (v. fs. 566 vta.), puntualizando que en las constancias de autos no había elementos que indicaran las actividades desplegadas por la acompañante Ferreyra en lo que hace a las funciones e incumbencias profesionales, así como tampoco documentación que respalde las gestiones y trámites facturados por dicha profesional, máxime teniendo en cuenta que se desconocía el paradero del señor F. (v. fs. 567).#Solicitó que se brinden explicaciones respecto de los puntos señalados en la impugnación, para cuyo fin propuso la realización de una audiencia ante el juez (v. fs. 567 y vta.).#Frente a dichos planteos, el Juzgado dispuso el pase de las actuaciones a la Curaduría Oficial de Alienados a fin de que se expida al respecto (v. fs. 568).#La titular de la Curaduría contestó la impugnación y solicitó la aprobación de rendición efectuada (v. fs. 597/599 vta.).#Allí, refirió que las personas con padecimientos mentales son beneficiarias de una pensión contributiva a la que se le practica un descuento mensual del Programa Federal de Salud cuya afiliación no es automática, por lo que la persona comienza a pagar por un servicio de salud que no recibe hasta tanto se concluyan los trámites y pase a figurar como activo en el padrón.#Adujo que desde la Curaduría se había generado una operatoria para suplir la falta de afiliación automática, siendo los acompañantes terapéuticos quienes concurren a la Delegación del PROFE al final de un recorrido previo que deben realizar para conseguir toda la documentación necesaria (v. fs. 598).#Asimismo, hizo referencia a la cuestión vinculada con la disponibilidad de los recursos con los que contaba el organismo y controvirtió por inadecuada la normativa citada por la Asesora impugnante (v. fs. 599).#El Juzgado resolvió, sin perjuicio de la impugnación realizada, aprobar por única vez en cuanto ha lugar por derecho la rendición de cuentas efectuada en los términos y con los alcances manifestados a fs. 548. Asimismo, hizo saber a la Curaduría Oficial que deberá acreditar en autos los trámites realizados en favor del causante por los cuales se presentan las facturas y el resultado de los mismos.#Además, señaló que en lo sucesivo y para futuras rendiciones de cuentas se deberá denunciar en la causa la disposición de la Suprema Corte que autoriza a la Curaduría Oficial a tercerizar la gestión de trámites, señalando que, al asignarse un acompañante terapéutico a algún justiciable, se deberá denunciar en los respectivos autos cuales serían sus tareas y el procedimiento para su designación (v. fs. 600).#II. Apelado dicho pronunciamiento por la Asesora interviniente (v. fs. 633), la Sala I de la Cámara de Apelación lo confirmó (v. fs. 689 y vta.).#III. Contra dicho fallo se alza la Asesora mencionada mediante recurso extraordinario de inaplicabilidad de ley, denunciando la violación de los arts. 18, 75 incs. 22 y 23 de la Constitución nacional; 8 de la Convención Americana sobre los Derechos Humanos; 1, 2, 4, 5, 12, 13 de la Convención sobre los Derechos de las Personas con Discapacidad (leyes 26.378 y 27.044); XVII, XVIII de la Declaración Americana de los Derechos y Deberes del Hombre; 8 de la Declaración Universal de Derechos Humanos; 10, 15, 36.5 y 171 de la Constitución provincial; 3, 130, 131, 134, 858, 860 inc. \"c\", 862, 1.716, 1.717, 1.766, 1.775, 1.776 del Código Civil y Comercial y 1, 2 y 4 de la ley 26.944. Asimismo, denuncia absurdo (v. fs. 705/711).#Sostiene que la sola afirmación de la Cámara de que las explicaciones brindadas por la Curaduría Oficial resultan razonables, sin abordar ninguna de las defensas planteadas, constituye un típico ejercicio de formulación dogmática y una decisión arbitraria (v. fs. 709).#Expone que en el fallo impugnado se ignoran todos y cada uno de los elementos obrantes en la causa, las acciones instadas, en particular una investigación criminal sobre el hecho, todo lo que imponía el rechazo de las cuentas (v. fs. 708 vta.).#Controvierte que para fundamentar normativamente la sentencia y concluir en la razonabilidad de las explicaciones brindadas por la Curaduría Oficial, la Cámara invoque la Convención sobre los Derechos de las Personas con Discapacidad y a partir de la misma pondere y califique el gasto y la contratación efectuados como razonable (v. fs. 710 y vta.).#IV. El recurso debe prosperar.#Comparto y hago propios los fundamentos y conclusiones vertidos por el señor Procurador General en su dictamen de fs. 782/787, los que estimo abastecen adecuadamente la respuesta que cabe brindar en el sub lite (conf. causas C. 113.234, sent. de 9-V-2012; C. 115.708, sent. de 12-VI-2013; C. 121.104, sent. de 23-V-2017; C. 121.980 \"P., S\", sent. de 27-VI-2018), en cuanto señala \"...la ausencia de las razones o motivos por los cuales se receptan como base de la decisión, las manifestaciones de la Curaduría Oficial...\" (fs. 784 vta.).#En efecto, el Tribunal de Alzada, como único sustento de su decisión de tener por razonable la explicación brindada por la Curaduría Oficial y mantener la providencia que aprobó la rendición de cuentas impugnada, alude a la Convención sobre los Derechos de las Personas con Discapacidad y su Protocolo Facultativo \"...en cuanto establece el criterio por el cual los procedimientos deben ser ajustados de manera de facilitar la realización de los trámites...\" (fs. 689 vta.).#Tal como denuncia la recurrente (v. fs. 710 vta./711), las genéricas apreciaciones formuladas en el fallo impugnado, además de no cumplir con los mandatos convencionales que exigen atención especial de las personas con discapacidad, manejo transparente con rendición de cuentas documentada, precisa y detallada, justificada en necesidades concretas y verificables, no se corresponden con los hechos acreditados en la causa, máxime cuando -como viene denunciando la Asesora de Incapaces- en la rendición de cuentas presentada por la Curaduría Oficial, se incluyen gastos para la contratación de quien sería la acompañante terapéutica para realizar gestiones y tramitaciones en favor del señor F., facturadas en noviembre de 2015 y enero de 2016, cuando el causante mantiene paradero desconocido para todos los órganos judiciales desde julio de 2013 (v. fs. 566, 635, 655 vta., 707).#IV. En virtud de lo expuesto, corresponde hacer lugar al recurso extraordinario de inaplicabilidad de ley interpuesto, revocar el fallo impugnado y devolver los autos al Tribunal de origen para que, con la debida integración, dicte un nuevo pronunciamiento (art. 289, CPCC).#Las costas se imponen por su orden, dada la índole de los temas debatidos (art. 68, segundo párrafo, CPCC).#La presente se notificará con copia del dictamen de fs. 782/787.#Voto por la afirmativa.#Los señores Jueces doctores de Lázzari y Genoud y la señora Jueza doctora Kogan, por los mismos fundamentos del señor Juez doctor Soria, votaron también por la afirmativa.#Con lo que terminó el acuerdo, dictándose la siguiente#S E N T E N C I A#Por lo expuesto en el acuerdo que antecede, de conformidad con lo dictaminado por el señor Procurador General, se hace lugar al recurso extraordinario de inaplicabilidad de ley interpuesto, se revoca el fallo impugnado y se devuelven los autos al Tribunal de origen para que, con la debida integración, dicte un nuevo pronunciamiento (art. 289, CPCC).#Las costas se imponen por su orden, dada la índole de los temas debatidos (art. 68, segundo párrafo, CPCC).#Notifíquese con copia del dictamen de fs. 782/787 y devuélvase.#EDUARDO NESTOR DE LÁZZARI#DANIEL FERNANDO SORIA\\xa0 LUIS ESTEBAN GENOUD#HILDA KOGAN#CARLOS E. CAMPS#Secretario'"
            ]
          },
          "metadata": {
            "tags": []
          },
          "execution_count": 7
        }
      ]
    },
    {
      "cell_type": "code",
      "metadata": {
        "id": "mdk0Ayko9co2"
      },
      "source": [
        "with open('tbmetdat.json', 'r') as myfile:\n",
        "    data1=myfile.read()\n",
        "# parse file\n",
        "tbmetdat = json.loads(data1)\n",
        "tbmetdat = pd.DataFrame.from_dict(tbmetdat)"
      ],
      "execution_count": 8,
      "outputs": []
    },
    {
      "cell_type": "code",
      "metadata": {
        "id": "n4Dyutw7_bax",
        "outputId": "9ff668ca-c2bb-4f22-ae5f-35c8e8bdd5ab",
        "colab": {
          "base_uri": "https://localhost:8080/",
          "height": 164
        }
      },
      "source": [
        "tbmetdat[tbmetdat.nro_causa == 122321]"
      ],
      "execution_count": 9,
      "outputs": [
        {
          "output_type": "execute_result",
          "data": {
            "text/html": [
              "<div>\n",
              "<style scoped>\n",
              "    .dataframe tbody tr th:only-of-type {\n",
              "        vertical-align: middle;\n",
              "    }\n",
              "\n",
              "    .dataframe tbody tr th {\n",
              "        vertical-align: top;\n",
              "    }\n",
              "\n",
              "    .dataframe thead th {\n",
              "        text-align: right;\n",
              "    }\n",
              "</style>\n",
              "<table border=\"1\" class=\"dataframe\">\n",
              "  <thead>\n",
              "    <tr style=\"text-align: right;\">\n",
              "      <th></th>\n",
              "      <th>nro_causa</th>\n",
              "      <th>fres</th>\n",
              "      <th>textos_raw_len</th>\n",
              "      <th>materia</th>\n",
              "      <th>tipo_fallo</th>\n",
              "      <th>tribunal_emisor</th>\n",
              "      <th>caratula</th>\n",
              "      <th>caratula_pub</th>\n",
              "      <th>magistrados_votantes</th>\n",
              "      <th>tribunal_origen</th>\n",
              "      <th>bnro</th>\n",
              "      <th>magistrados</th>\n",
              "      <th>sumario</th>\n",
              "      <th>voces</th>\n",
              "    </tr>\n",
              "  </thead>\n",
              "  <tbody>\n",
              "    <tr>\n",
              "      <th>1</th>\n",
              "      <td>122321</td>\n",
              "      <td>2019-05-15</td>\n",
              "      <td>160</td>\n",
              "      <td>CIVIL Y COMERCIAL</td>\n",
              "      <td>Sentencia Definitiva</td>\n",
              "      <td>SUPREMA CORTE DE JUSTICIA DE LA PROVINCIA (SCBA)</td>\n",
              "      <td>Figueredo, Rafael s/ Determinación de la capac...</td>\n",
              "      <td>F. ,R. s/ Determinación de la capacidad jurídica</td>\n",
              "      <td>Soria-de Lázzari-Genoud-Kogan</td>\n",
              "      <td>CAMARA DE APELACION EN LO CIVIL Y COMERCIAL SA...</td>\n",
              "      <td>158.0</td>\n",
              "      <td>Soria - de Lázzari - Genoud - Kogan.</td>\n",
              "      <td>\\nSentencia-Fundamentación. Rendición de cuen...</td>\n",
              "      <td>RENDICION DE CUENTAS,APROBACION,SENTENCIA,FUND...</td>\n",
              "    </tr>\n",
              "  </tbody>\n",
              "</table>\n",
              "</div>"
            ],
            "text/plain": [
              "   nro_causa  ...                                              voces\n",
              "1     122321  ...  RENDICION DE CUENTAS,APROBACION,SENTENCIA,FUND...\n",
              "\n",
              "[1 rows x 14 columns]"
            ]
          },
          "metadata": {
            "tags": []
          },
          "execution_count": 9
        }
      ]
    },
    {
      "cell_type": "code",
      "metadata": {
        "id": "I9R0VwoSAR50",
        "outputId": "bf6554a8-279c-4dea-b628-c3acca29632a",
        "colab": {
          "base_uri": "https://localhost:8080/",
          "height": 266
        }
      },
      "source": [
        "tbmetdat.loc[1]"
      ],
      "execution_count": 10,
      "outputs": [
        {
          "output_type": "execute_result",
          "data": {
            "text/plain": [
              "nro_causa                                                          122321\n",
              "fres                                                           2019-05-15\n",
              "textos_raw_len                                                        160\n",
              "materia                                                 CIVIL Y COMERCIAL\n",
              "tipo_fallo                                           Sentencia Definitiva\n",
              "tribunal_emisor          SUPREMA CORTE DE JUSTICIA DE LA PROVINCIA (SCBA)\n",
              "caratula                Figueredo, Rafael s/ Determinación de la capac...\n",
              "caratula_pub             F. ,R. s/ Determinación de la capacidad jurídica\n",
              "magistrados_votantes                        Soria-de Lázzari-Genoud-Kogan\n",
              "tribunal_origen         CAMARA DE APELACION EN LO CIVIL Y COMERCIAL SA...\n",
              "bnro                                                                  158\n",
              "magistrados                          Soria - de Lázzari - Genoud - Kogan.\n",
              "sumario                  \\nSentencia-Fundamentación. Rendición de cuen...\n",
              "voces                   RENDICION DE CUENTAS,APROBACION,SENTENCIA,FUND...\n",
              "Name: 1, dtype: object"
            ]
          },
          "metadata": {
            "tags": []
          },
          "execution_count": 10
        }
      ]
    },
    {
      "cell_type": "code",
      "metadata": {
        "id": "AdZNjjAVDywY",
        "outputId": "b87dfa10-6b66-4d83-8a88-04d532169e5d",
        "colab": {
          "base_uri": "https://localhost:8080/",
          "height": 67
        }
      },
      "source": [
        "tbmetdat.loc[1].sumario"
      ],
      "execution_count": 11,
      "outputs": [
        {
          "output_type": "execute_result",
          "data": {
            "application/vnd.google.colaboratory.intrinsic+json": {
              "type": "string"
            },
            "text/plain": [
              "' \\nSentencia-Fundamentación. Rendición de cuentas-Aprobación. \\nLa Suprema Corte de Justicia de la Provincia de Buenos Aires revocó la sentencia que tubo por \\naprobada  la rendición  de  cuentas  presentada  por  el  Curador  Oficial  en  el  marco  del  proceso de \\ndeterminación de la capacidad, considerando la falta de fundamentación suficiente del fallo y de \\nadecuación a los hechos probados en la causa. '"
            ]
          },
          "metadata": {
            "tags": []
          },
          "execution_count": 11
        }
      ]
    },
    {
      "cell_type": "code",
      "metadata": {
        "id": "0aY84LI9-vzs"
      },
      "source": [
        "with open('tbdoctrina.json', 'r') as myfile:\n",
        "    data1=myfile.read()\n",
        "# parse file\n",
        "tbdoctrina = json.loads(data1)\n",
        "tbdoctrina = pd.DataFrame.from_dict(tbdoctrina)"
      ],
      "execution_count": 12,
      "outputs": []
    },
    {
      "cell_type": "code",
      "metadata": {
        "id": "0zA-Fy7QCiqb",
        "outputId": "1ae21282-a9cd-4c43-b2b9-8aa12f5bfb85",
        "colab": {
          "base_uri": "https://localhost:8080/",
          "height": 197
        }
      },
      "source": [
        "tbdoctrina.head()"
      ],
      "execution_count": 13,
      "outputs": [
        {
          "output_type": "execute_result",
          "data": {
            "text/html": [
              "<div>\n",
              "<style scoped>\n",
              "    .dataframe tbody tr th:only-of-type {\n",
              "        vertical-align: middle;\n",
              "    }\n",
              "\n",
              "    .dataframe tbody tr th {\n",
              "        vertical-align: top;\n",
              "    }\n",
              "\n",
              "    .dataframe thead th {\n",
              "        text-align: right;\n",
              "    }\n",
              "</style>\n",
              "<table border=\"1\" class=\"dataframe\">\n",
              "  <thead>\n",
              "    <tr style=\"text-align: right;\">\n",
              "      <th></th>\n",
              "      <th>nro_causa</th>\n",
              "      <th>doctrina_nro</th>\n",
              "      <th>doctrina</th>\n",
              "    </tr>\n",
              "  </thead>\n",
              "  <tbody>\n",
              "    <tr>\n",
              "      <th>0</th>\n",
              "      <td>122514</td>\n",
              "      <td>1</td>\n",
              "      <td>El recurso de inaplicabilidad de ley no consti...</td>\n",
              "    </tr>\n",
              "    <tr>\n",
              "      <th>1</th>\n",
              "      <td>122514</td>\n",
              "      <td>2</td>\n",
              "      <td>Los juicios de divorcio en trámite al momento ...</td>\n",
              "    </tr>\n",
              "    <tr>\n",
              "      <th>2</th>\n",
              "      <td>122514</td>\n",
              "      <td>3</td>\n",
              "      <td>Cuando en la causa sobre divorcio las partes n...</td>\n",
              "    </tr>\n",
              "    <tr>\n",
              "      <th>3</th>\n",
              "      <td>122514</td>\n",
              "      <td>4</td>\n",
              "      <td>El artículo 7 del nuevo Código Civil y Comerci...</td>\n",
              "    </tr>\n",
              "    <tr>\n",
              "      <th>4</th>\n",
              "      <td>122514</td>\n",
              "      <td>5</td>\n",
              "      <td>La aplicación inmediata de las normas se disti...</td>\n",
              "    </tr>\n",
              "  </tbody>\n",
              "</table>\n",
              "</div>"
            ],
            "text/plain": [
              "   nro_causa  doctrina_nro                                           doctrina\n",
              "0     122514             1  El recurso de inaplicabilidad de ley no consti...\n",
              "1     122514             2  Los juicios de divorcio en trámite al momento ...\n",
              "2     122514             3  Cuando en la causa sobre divorcio las partes n...\n",
              "3     122514             4  El artículo 7 del nuevo Código Civil y Comerci...\n",
              "4     122514             5  La aplicación inmediata de las normas se disti..."
            ]
          },
          "metadata": {
            "tags": []
          },
          "execution_count": 13
        }
      ]
    },
    {
      "cell_type": "code",
      "metadata": {
        "id": "CGq9V37yBcCR",
        "outputId": "20b95cfa-3f13-4d6b-89bb-676a5d979e0f",
        "colab": {
          "base_uri": "https://localhost:8080/",
          "height": 50
        }
      },
      "source": [
        "tbdoctrina[tbdoctrina.nro_causa == 122321].doctrina"
      ],
      "execution_count": 14,
      "outputs": [
        {
          "output_type": "execute_result",
          "data": {
            "text/plain": [
              "10    Debe ser revocado el fallo que, como único sus...\n",
              "Name: doctrina, dtype: object"
            ]
          },
          "metadata": {
            "tags": []
          },
          "execution_count": 14
        }
      ]
    },
    {
      "cell_type": "markdown",
      "metadata": {
        "id": "VxHVilJxfgzX"
      },
      "source": [
        "# Procesamiento con Stanza (StanfordNLP)\n",
        "\n",
        "- https://github.com/stanfordnlp/stanza"
      ]
    },
    {
      "cell_type": "code",
      "metadata": {
        "id": "6KYLU44dfhNd",
        "outputId": "91aaf225-f87b-4063-dd1d-ee95072ec8c2",
        "colab": {
          "base_uri": "https://localhost:8080/",
          "height": 300
        }
      },
      "source": [
        "! pip install stanza"
      ],
      "execution_count": 15,
      "outputs": [
        {
          "output_type": "stream",
          "text": [
            "Collecting stanza\n",
            "\u001b[?25l  Downloading https://files.pythonhosted.org/packages/e7/8b/3a9e7a8d8cb14ad6afffc3983b7a7322a3a24d94ebc978a70746fcffc085/stanza-1.1.1-py3-none-any.whl (227kB)\n",
            "\u001b[K     |████████████████████████████████| 235kB 1.4MB/s \n",
            "\u001b[?25hRequirement already satisfied: requests in /usr/local/lib/python3.6/dist-packages (from stanza) (2.23.0)\n",
            "Requirement already satisfied: torch>=1.3.0 in /usr/local/lib/python3.6/dist-packages (from stanza) (1.6.0+cu101)\n",
            "Requirement already satisfied: protobuf in /usr/local/lib/python3.6/dist-packages (from stanza) (3.12.4)\n",
            "Requirement already satisfied: numpy in /usr/local/lib/python3.6/dist-packages (from stanza) (1.18.5)\n",
            "Requirement already satisfied: tqdm in /usr/local/lib/python3.6/dist-packages (from stanza) (4.41.1)\n",
            "Requirement already satisfied: chardet<4,>=3.0.2 in /usr/local/lib/python3.6/dist-packages (from requests->stanza) (3.0.4)\n",
            "Requirement already satisfied: certifi>=2017.4.17 in /usr/local/lib/python3.6/dist-packages (from requests->stanza) (2020.6.20)\n",
            "Requirement already satisfied: idna<3,>=2.5 in /usr/local/lib/python3.6/dist-packages (from requests->stanza) (2.10)\n",
            "Requirement already satisfied: urllib3!=1.25.0,!=1.25.1,<1.26,>=1.21.1 in /usr/local/lib/python3.6/dist-packages (from requests->stanza) (1.24.3)\n",
            "Requirement already satisfied: future in /usr/local/lib/python3.6/dist-packages (from torch>=1.3.0->stanza) (0.16.0)\n",
            "Requirement already satisfied: six>=1.9 in /usr/local/lib/python3.6/dist-packages (from protobuf->stanza) (1.15.0)\n",
            "Requirement already satisfied: setuptools in /usr/local/lib/python3.6/dist-packages (from protobuf->stanza) (50.3.0)\n",
            "Installing collected packages: stanza\n",
            "Successfully installed stanza-1.1.1\n"
          ],
          "name": "stdout"
        }
      ]
    },
    {
      "cell_type": "code",
      "metadata": {
        "id": "8oS1AodfhBK_",
        "outputId": "1c315e16-f2cd-4e8f-a0a6-ffe535884576",
        "colab": {
          "base_uri": "https://localhost:8080/",
          "height": 416
        }
      },
      "source": [
        "import stanza\n",
        "stanza.download('es') # download English model\n",
        "nlp = stanza.Pipeline('es') # initialize Spanish neural pipeline\n",
        "doc = nlp(\"Alberto Fernandez es presidente de Argetina\") # run annotation over a sentence"
      ],
      "execution_count": 60,
      "outputs": [
        {
          "output_type": "stream",
          "text": [
            "Downloading https://raw.githubusercontent.com/stanfordnlp/stanza-resources/master/resources_1.1.0.json: 122kB [00:00, 4.92MB/s]                    \n",
            "2020-10-23 15:36:44 INFO: Downloading default packages for language: es (Spanish)...\n",
            "2020-10-23 15:36:45 INFO: File exists: /root/stanza_resources/es/default.zip.\n",
            "2020-10-23 15:36:52 INFO: Finished downloading models and saved to /root/stanza_resources.\n",
            "2020-10-23 15:36:52 INFO: Loading these models for language: es (Spanish):\n",
            "=======================\n",
            "| Processor | Package |\n",
            "-----------------------\n",
            "| tokenize  | ancora  |\n",
            "| mwt       | ancora  |\n",
            "| pos       | ancora  |\n",
            "| lemma     | ancora  |\n",
            "| depparse  | ancora  |\n",
            "| ner       | conll02 |\n",
            "=======================\n",
            "\n",
            "2020-10-23 15:36:52 INFO: Use device: cpu\n",
            "2020-10-23 15:36:52 INFO: Loading: tokenize\n",
            "2020-10-23 15:36:52 INFO: Loading: mwt\n",
            "2020-10-23 15:36:52 INFO: Loading: pos\n",
            "2020-10-23 15:36:53 INFO: Loading: lemma\n",
            "2020-10-23 15:36:53 INFO: Loading: depparse\n",
            "2020-10-23 15:36:54 INFO: Loading: ner\n",
            "2020-10-23 15:36:55 INFO: Done loading processors!\n"
          ],
          "name": "stderr"
        }
      ]
    },
    {
      "cell_type": "code",
      "metadata": {
        "id": "GoN6Z6-Nhoyb"
      },
      "source": [
        "doc"
      ],
      "execution_count": null,
      "outputs": []
    },
    {
      "cell_type": "markdown",
      "metadata": {
        "id": "0htV8eRVeXpe"
      },
      "source": [
        "# Tokenizacion y Segmentacion de sentencias"
      ]
    },
    {
      "cell_type": "markdown",
      "metadata": {
        "id": "hBeYD2NM7NNN"
      },
      "source": [
        "## Método por REGEX"
      ]
    },
    {
      "cell_type": "code",
      "metadata": {
        "id": "yYocwcHh7RSV"
      },
      "source": [
        "import re\n",
        "def split_into_sentences(text):       \n",
        "    text = text.replace(\"#\",\"<stop>\")    \n",
        "    sentences = text.split(\"<stop>\")\n",
        "    sentences = sentences[:-1]\n",
        "    sentences = [s.strip() for s in sentences]\n",
        "    return sentences\n",
        "split_into_sentences(tbfallos['textos_fallo'][1])"
      ],
      "execution_count": null,
      "outputs": []
    },
    {
      "cell_type": "markdown",
      "metadata": {
        "id": "GsSpnzIN7nac"
      },
      "source": [
        "## Método Stanza"
      ]
    },
    {
      "cell_type": "code",
      "metadata": {
        "id": "qqUZEfmU7s1-"
      },
      "source": [
        "text = tbfallos['textos_fallo'][1]\n",
        "text = text.replace(\"#\",\"\\n\\n\")"
      ],
      "execution_count": 66,
      "outputs": []
    },
    {
      "cell_type": "code",
      "metadata": {
        "id": "TDHfX3Ld8Ndh"
      },
      "source": [
        "nlp = stanza.Pipeline(lang='es', processors='tokenize', tokenize_no_ssplit=True)\n",
        "doc = nlp(text)\n",
        "for i, sentence in enumerate(doc.sentences):\n",
        "    print(f'====== Sentence {i+1} tokens =======')\n",
        "    print(*[f'id: {token.id}\\ttext: {token.text}' for token in sentence.tokens], sep='\\n')"
      ],
      "execution_count": null,
      "outputs": []
    },
    {
      "cell_type": "code",
      "metadata": {
        "id": "0VUGkMho9QC9"
      },
      "source": [
        "doc.sentences[11]"
      ],
      "execution_count": null,
      "outputs": []
    },
    {
      "cell_type": "markdown",
      "metadata": {
        "id": "L3IBxc1V9yfQ"
      },
      "source": [
        "# POS y Ufeat"
      ]
    },
    {
      "cell_type": "code",
      "metadata": {
        "id": "-vrU-ttU9-Y3"
      },
      "source": [
        "# nlp = stanza.Pipeline(lang='es', processors='tokenize,mwt,pos')\n",
        "# print(*[f'word: {word.text}\\tupos: {word.upos}\\txpos: {word.xpos}\\tfeats: {word.feats if word.feats else \"_\"}' for sent in doc.sentences for word in sent.words], sep='\\n')"
      ],
      "execution_count": null,
      "outputs": []
    },
    {
      "cell_type": "markdown",
      "metadata": {
        "id": "wWqFP5MY_FIY"
      },
      "source": [
        "# Entidades"
      ]
    },
    {
      "cell_type": "code",
      "metadata": {
        "id": "f-tUv3W6_jwl"
      },
      "source": [
        "nlp = stanza.Pipeline(lang='es', processors='tokenize,ner')\n",
        "print(*[f'entity: {ent.text}\\ttype: {ent.type}' for ent in doc.ents], sep='\\n')"
      ],
      "execution_count": null,
      "outputs": []
    },
    {
      "cell_type": "code",
      "metadata": {
        "id": "tfO288hxHXwE",
        "outputId": "c469429e-002b-4d7e-890d-827d1d17e414",
        "colab": {
          "base_uri": "https://localhost:8080/",
          "height": 33
        }
      },
      "source": [
        "print(*[f'entity: {ent.text}\\ttype: {ent.type}' for ent in doc.ents], sep='\\n')\n"
      ],
      "execution_count": 69,
      "outputs": [
        {
          "output_type": "stream",
          "text": [
            "\n"
          ],
          "name": "stdout"
        }
      ]
    },
    {
      "cell_type": "markdown",
      "metadata": {
        "id": "q-rNk1nW_kOq"
      },
      "source": [
        "# Imprimo Palabra"
      ]
    },
    {
      "cell_type": "code",
      "metadata": {
        "id": "W0w6cP3H_JDj",
        "outputId": "6255c5b4-d270-4265-85cd-154b41971999",
        "colab": {
          "base_uri": "https://localhost:8080/",
          "height": 100
        }
      },
      "source": [
        "word = doc.sentences[0].words[0]\n",
        "print(word)"
      ],
      "execution_count": 54,
      "outputs": [
        {
          "output_type": "stream",
          "text": [
            "{\n",
            "  \"id\": 1,\n",
            "  \"text\": \"TEXTO\",\n",
            "  \"misc\": \"start_char=2|end_char=7\"\n",
            "}\n"
          ],
          "name": "stdout"
        }
      ]
    }
  ]
}