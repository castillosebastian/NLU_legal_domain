{
  "nbformat": 4,
  "nbformat_minor": 0,
  "metadata": {
    "colab": {
      "name": "NLU_Semantica_Vectorial_en_Textos_Legales.ipynb",
      "provenance": [],
      "authorship_tag": "ABX9TyN+iqumLGTxjFTxnsMksqZZ",
      "include_colab_link": true
    },
    "kernelspec": {
      "name": "python3",
      "display_name": "Python 3"
    }
  },
  "cells": [
    {
      "cell_type": "markdown",
      "metadata": {
        "id": "view-in-github",
        "colab_type": "text"
      },
      "source": [
        "<a href=\"https://colab.research.google.com/github/castillosebastian/NLU_legal_domain/blob/master/NLU_Semantica_Vectorial_en_Textos_Legales.ipynb\" target=\"_parent\"><img src=\"https://colab.research.google.com/assets/colab-badge.svg\" alt=\"Open In Colab\"/></a>"
      ]
    },
    {
      "cell_type": "markdown",
      "metadata": {
        "id": "qnBNSOIX99B1"
      },
      "source": [
        "# Semantica Vectorial en Textos Legales: Exploración"
      ]
    },
    {
      "cell_type": "code",
      "metadata": {
        "id": "FjiRvNix90Zn"
      },
      "source": [
        ""
      ],
      "execution_count": null,
      "outputs": []
    }
  ]
}