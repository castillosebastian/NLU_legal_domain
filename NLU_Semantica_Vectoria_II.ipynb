{
  "nbformat": 4,
  "nbformat_minor": 0,
  "metadata": {
    "colab": {
      "name": "NLU_Semantica_Vectoria_II.ipynb",
      "provenance": [],
      "authorship_tag": "ABX9TyNP/ZmscbaQshnnR7el7PSw",
      "include_colab_link": true
    },
    "kernelspec": {
      "name": "python3",
      "display_name": "Python 3"
    },
    "accelerator": "GPU"
  },
  "cells": [
    {
      "cell_type": "markdown",
      "metadata": {
        "id": "view-in-github",
        "colab_type": "text"
      },
      "source": [
        "<a href=\"https://colab.research.google.com/github/castillosebastian/NLU_legal_domain/blob/master/NLU_Semantica_Vectoria_II.ipynb\" target=\"_parent\"><img src=\"https://colab.research.google.com/assets/colab-badge.svg\" alt=\"Open In Colab\"/></a>"
      ]
    },
    {
      "cell_type": "markdown",
      "metadata": {
        "id": "RIOC9tzHzBjD"
      },
      "source": [
        "# Semantica Vectorial para procesar sentencias"
      ]
    },
    {
      "cell_type": "code",
      "metadata": {
        "id": "u6lhCPvQ5kxw"
      },
      "source": [
        "# Libraries, tools and thanks \n",
        "import bs4\n",
        "import nltk\n",
        "import numpy\n",
        "import pandas as pd\n",
        "import io\n",
        "import requests\n",
        "from google.colab import drive\n",
        "import numpy as np \n",
        "import json"
      ],
      "execution_count": 1,
      "outputs": []
    },
    {
      "cell_type": "code",
      "metadata": {
        "id": "6MUuIZYyKxsk"
      },
      "source": [
        "# procesar con GPU"
      ],
      "execution_count": null,
      "outputs": []
    },
    {
      "cell_type": "code",
      "metadata": {
        "id": "jJAxQeOi3eRz",
        "outputId": "97781838-495d-43dc-cb7e-d9d3decda96d",
        "colab": {
          "base_uri": "https://localhost:8080/",
          "height": 50
        }
      },
      "source": [
        "from google.colab import drive # import drive from google colab\n",
        "\n",
        "ROOT = \"/content/drive\"     # default location for the drive\n",
        "print(ROOT)                 # print content of ROOT (Optional)\n",
        "\n",
        "drive.mount(ROOT)           # we mount the google drive at /content/drive"
      ],
      "execution_count": 2,
      "outputs": [
        {
          "output_type": "stream",
          "text": [
            "/content/drive\n",
            "Drive already mounted at /content/drive; to attempt to forcibly remount, call drive.mount(\"/content/drive\", force_remount=True).\n"
          ],
          "name": "stdout"
        }
      ]
    },
    {
      "cell_type": "code",
      "metadata": {
        "id": "7_qSVGUt4ASA",
        "outputId": "835789d2-4959-4b74-db7e-670cfd73ee7c",
        "colab": {
          "base_uri": "https://localhost:8080/",
          "height": 33
        }
      },
      "source": [
        "%cd  'drive/My Drive/Colab Notebooks/data'"
      ],
      "execution_count": 3,
      "outputs": [
        {
          "output_type": "stream",
          "text": [
            "/content/drive/My Drive/Colab Notebooks/data\n"
          ],
          "name": "stdout"
        }
      ]
    },
    {
      "cell_type": "code",
      "metadata": {
        "id": "rnDT50z377Nk",
        "outputId": "87d66579-4222-4d85-dcdb-f99c237309c2",
        "colab": {
          "base_uri": "https://localhost:8080/",
          "height": 50
        }
      },
      "source": [
        "%ls"
      ],
      "execution_count": 4,
      "outputs": [
        {
          "output_type": "stream",
          "text": [
            "corpus_fallosmetdat.json  tbdoctrina.json  tbmetdat.json\n",
            "corpus_textosfallos.json  tbfallos.json\n"
          ],
          "name": "stdout"
        }
      ]
    },
    {
      "cell_type": "markdown",
      "metadata": {
        "id": "yFTywqxn3_mA"
      },
      "source": [
        "# Lectura de tablas de datos primarios"
      ]
    },
    {
      "cell_type": "code",
      "metadata": {
        "id": "LAA71S5CxjmW"
      },
      "source": [
        "with open('tbfallos.json', 'r') as myfile:\n",
        "    data1=myfile.read()\n",
        "# parse file\n",
        "tbfallos = json.loads(data1)\n",
        "tbfallos = pd.DataFrame.from_dict(tbfallos)"
      ],
      "execution_count": 5,
      "outputs": []
    },
    {
      "cell_type": "code",
      "metadata": {
        "id": "zcPhLlph_YRD",
        "outputId": "0c2aa469-c896-4133-e6ab-2d1edd837a7e",
        "colab": {
          "base_uri": "https://localhost:8080/",
          "height": 118
        }
      },
      "source": [
        "tbfallos['textos_fallo'][1]"
      ],
      "execution_count": 8,
      "outputs": [
        {
          "output_type": "execute_result",
          "data": {
            "application/vnd.google.colaboratory.intrinsic+json": {
              "type": "string"
            },
            "text/plain": [
              "'#TEXTO COMPLETO#A C U E R D O#En la ciudad de La Plata, a 15 de mayo de 2019, habiéndose establecido, de conformidad con lo dispuesto en el Acuerdo 2078, que deberá observarse el siguiente orden de votación: doctores Soria, de Lázzari, Genoud, Kogan, se reúnen los señores Jueces de la Suprema Corte de Justicia en acuerdo ordinario para pronunciar sentencia definitiva en la causa C. 122.321, \"F., R.. Determinación de la capacidad jurídica\".#A N T E C E D E N T E S#La Sala I de la Cámara de Apelación en lo Civil y Comercial de San Isidro confirmó el fallo de primera instancia que, en los autos sobre determinación de la capacidad jurídica del señor R. F., resolvió aprobar la rendición de cuentas efectuada por la Curaduría Oficial de Alienados (v. fs. 689 y 660, respectivamente).#Se interpuso, por la titular de la Asesoría de Incapaces n° 2 departamental, recurso extraordinario de inaplicabilidad de ley (v. fs. 705/711).#Oído el señor Procurador General, dictada la providencia de autos y encontrándose la causa en estado de pronunciar sentencia, la Suprema Corte resolvió plantear y votar la siguiente#C U E S T I Ó N#¿Es fundado el recurso extraordinario de inaplicabilidad de ley?#V O T A C I Ó N#A la cuestión planteada, el señor Juez doctor Soria dijo:#I. En el marco del proceso judicial por determinación de la capacidad jurídica del señor R. F., en trámite ante el Juzgado de Familia n° 4 de San Isidro, la titular de la Curaduría Oficial de Alienados de San Isidro y Zárate-Campana acompañó una rendición de cuentas informando los movimientos y saldos de la Cuenta de Autos y de la Cuenta Fiscal de Curaduría, adjuntando comprobantes para acreditar los gastos efectuados para el sostenimiento del causante e informando los montos y erogaciones originados en el subsidio ley 10.315, para el caso de que el señor F. estuviera gozando del mismo (v. fs. 541/548).#La Asesora de Incapaces impugnó la rendición de cuentas efectuada, esgrimiendo que de la documentación acompañada junto a la misma surgían dos facturas de la acompañante terapéutica -Daniela Elizabeth Ferreyra- en concepto de honorarios por trámites de afiliación al Programa Federal de Salud (PROFE-Salud), emitidas con fechas 11 de noviembre de 2015 y 15 de enero de 2016 por las sumas de $720 y $800, respectivamente (v. fs. 566).#Manifestó que de la compulsa del expediente surgía que desde el año 2013, luego de que el señor F. egresara con un permiso de salida del Hospital Cabred, no se habían tenido noticias del mismo, existiendo además constancias de la búsqueda de su paradero (v. fs. 566).#Hizo referencia a las resoluciones 578/03 y 127/06 en cuanto regulan la necesidad de intervención de los acompañantes terapéuticos, aspectos sobre los que deben trabajar, etcétera, y la obligación de los curadores de informar al juez lo presupuestado mensualmente para gastos ordinarios (v. fs. 566 vta.), puntualizando que en las constancias de autos no había elementos que indicaran las actividades desplegadas por la acompañante Ferreyra en lo que hace a las funciones e incumbencias profesionales, así como tampoco documentación que respalde las gestiones y trámites facturados por dicha profesional, máxime teniendo en cuenta que se desconocía el paradero del señor F. (v. fs. 567).#Solicitó que se brinden explicaciones respecto de los puntos señalados en la impugnación, para cuyo fin propuso la realización de una audiencia ante el juez (v. fs. 567 y vta.).#Frente a dichos planteos, el Juzgado dispuso el pase de las actuaciones a la Curaduría Oficial de Alienados a fin de que se expida al respecto (v. fs. 568).#La titular de la Curaduría contestó la impugnación y solicitó la aprobación de rendición efectuada (v. fs. 597/599 vta.).#Allí, refirió que las personas con padecimientos mentales son beneficiarias de una pensión contributiva a la que se le practica un descuento mensual del Programa Federal de Salud cuya afiliación no es automática, por lo que la persona comienza a pagar por un servicio de salud que no recibe hasta tanto se concluyan los trámites y pase a figurar como activo en el padrón.#Adujo que desde la Curaduría se había generado una operatoria para suplir la falta de afiliación automática, siendo los acompañantes terapéuticos quienes concurren a la Delegación del PROFE al final de un recorrido previo que deben realizar para conseguir toda la documentación necesaria (v. fs. 598).#Asimismo, hizo referencia a la cuestión vinculada con la disponibilidad de los recursos con los que contaba el organismo y controvirtió por inadecuada la normativa citada por la Asesora impugnante (v. fs. 599).#El Juzgado resolvió, sin perjuicio de la impugnación realizada, aprobar por única vez en cuanto ha lugar por derecho la rendición de cuentas efectuada en los términos y con los alcances manifestados a fs. 548. Asimismo, hizo saber a la Curaduría Oficial que deberá acreditar en autos los trámites realizados en favor del causante por los cuales se presentan las facturas y el resultado de los mismos.#Además, señaló que en lo sucesivo y para futuras rendiciones de cuentas se deberá denunciar en la causa la disposición de la Suprema Corte que autoriza a la Curaduría Oficial a tercerizar la gestión de trámites, señalando que, al asignarse un acompañante terapéutico a algún justiciable, se deberá denunciar en los respectivos autos cuales serían sus tareas y el procedimiento para su designación (v. fs. 600).#II. Apelado dicho pronunciamiento por la Asesora interviniente (v. fs. 633), la Sala I de la Cámara de Apelación lo confirmó (v. fs. 689 y vta.).#III. Contra dicho fallo se alza la Asesora mencionada mediante recurso extraordinario de inaplicabilidad de ley, denunciando la violación de los arts. 18, 75 incs. 22 y 23 de la Constitución nacional; 8 de la Convención Americana sobre los Derechos Humanos; 1, 2, 4, 5, 12, 13 de la Convención sobre los Derechos de las Personas con Discapacidad (leyes 26.378 y 27.044); XVII, XVIII de la Declaración Americana de los Derechos y Deberes del Hombre; 8 de la Declaración Universal de Derechos Humanos; 10, 15, 36.5 y 171 de la Constitución provincial; 3, 130, 131, 134, 858, 860 inc. \"c\", 862, 1.716, 1.717, 1.766, 1.775, 1.776 del Código Civil y Comercial y 1, 2 y 4 de la ley 26.944. Asimismo, denuncia absurdo (v. fs. 705/711).#Sostiene que la sola afirmación de la Cámara de que las explicaciones brindadas por la Curaduría Oficial resultan razonables, sin abordar ninguna de las defensas planteadas, constituye un típico ejercicio de formulación dogmática y una decisión arbitraria (v. fs. 709).#Expone que en el fallo impugnado se ignoran todos y cada uno de los elementos obrantes en la causa, las acciones instadas, en particular una investigación criminal sobre el hecho, todo lo que imponía el rechazo de las cuentas (v. fs. 708 vta.).#Controvierte que para fundamentar normativamente la sentencia y concluir en la razonabilidad de las explicaciones brindadas por la Curaduría Oficial, la Cámara invoque la Convención sobre los Derechos de las Personas con Discapacidad y a partir de la misma pondere y califique el gasto y la contratación efectuados como razonable (v. fs. 710 y vta.).#IV. El recurso debe prosperar.#Comparto y hago propios los fundamentos y conclusiones vertidos por el señor Procurador General en su dictamen de fs. 782/787, los que estimo abastecen adecuadamente la respuesta que cabe brindar en el sub lite (conf. causas C. 113.234, sent. de 9-V-2012; C. 115.708, sent. de 12-VI-2013; C. 121.104, sent. de 23-V-2017; C. 121.980 \"P., S\", sent. de 27-VI-2018), en cuanto señala \"...la ausencia de las razones o motivos por los cuales se receptan como base de la decisión, las manifestaciones de la Curaduría Oficial...\" (fs. 784 vta.).#En efecto, el Tribunal de Alzada, como único sustento de su decisión de tener por razonable la explicación brindada por la Curaduría Oficial y mantener la providencia que aprobó la rendición de cuentas impugnada, alude a la Convención sobre los Derechos de las Personas con Discapacidad y su Protocolo Facultativo \"...en cuanto establece el criterio por el cual los procedimientos deben ser ajustados de manera de facilitar la realización de los trámites...\" (fs. 689 vta.).#Tal como denuncia la recurrente (v. fs. 710 vta./711), las genéricas apreciaciones formuladas en el fallo impugnado, además de no cumplir con los mandatos convencionales que exigen atención especial de las personas con discapacidad, manejo transparente con rendición de cuentas documentada, precisa y detallada, justificada en necesidades concretas y verificables, no se corresponden con los hechos acreditados en la causa, máxime cuando -como viene denunciando la Asesora de Incapaces- en la rendición de cuentas presentada por la Curaduría Oficial, se incluyen gastos para la contratación de quien sería la acompañante terapéutica para realizar gestiones y tramitaciones en favor del señor F., facturadas en noviembre de 2015 y enero de 2016, cuando el causante mantiene paradero desconocido para todos los órganos judiciales desde julio de 2013 (v. fs. 566, 635, 655 vta., 707).#IV. En virtud de lo expuesto, corresponde hacer lugar al recurso extraordinario de inaplicabilidad de ley interpuesto, revocar el fallo impugnado y devolver los autos al Tribunal de origen para que, con la debida integración, dicte un nuevo pronunciamiento (art. 289, CPCC).#Las costas se imponen por su orden, dada la índole de los temas debatidos (art. 68, segundo párrafo, CPCC).#La presente se notificará con copia del dictamen de fs. 782/787.#Voto por la afirmativa.#Los señores Jueces doctores de Lázzari y Genoud y la señora Jueza doctora Kogan, por los mismos fundamentos del señor Juez doctor Soria, votaron también por la afirmativa.#Con lo que terminó el acuerdo, dictándose la siguiente#S E N T E N C I A#Por lo expuesto en el acuerdo que antecede, de conformidad con lo dictaminado por el señor Procurador General, se hace lugar al recurso extraordinario de inaplicabilidad de ley interpuesto, se revoca el fallo impugnado y se devuelven los autos al Tribunal de origen para que, con la debida integración, dicte un nuevo pronunciamiento (art. 289, CPCC).#Las costas se imponen por su orden, dada la índole de los temas debatidos (art. 68, segundo párrafo, CPCC).#Notifíquese con copia del dictamen de fs. 782/787 y devuélvase.#EDUARDO NESTOR DE LÁZZARI#DANIEL FERNANDO SORIA\\xa0 LUIS ESTEBAN GENOUD#HILDA KOGAN#CARLOS E. CAMPS#Secretario'"
            ]
          },
          "metadata": {
            "tags": []
          },
          "execution_count": 8
        }
      ]
    },
    {
      "cell_type": "code",
      "metadata": {
        "id": "nIHXCKCM6Rfd",
        "outputId": "ee9b151b-1851-4f21-bf11-c1d1f6bd7a26",
        "colab": {
          "base_uri": "https://localhost:8080/",
          "height": 197
        }
      },
      "source": [
        "tbfallos.head()"
      ],
      "execution_count": 14,
      "outputs": [
        {
          "output_type": "execute_result",
          "data": {
            "text/html": [
              "<div>\n",
              "<style scoped>\n",
              "    .dataframe tbody tr th:only-of-type {\n",
              "        vertical-align: middle;\n",
              "    }\n",
              "\n",
              "    .dataframe tbody tr th {\n",
              "        vertical-align: top;\n",
              "    }\n",
              "\n",
              "    .dataframe thead th {\n",
              "        text-align: right;\n",
              "    }\n",
              "</style>\n",
              "<table border=\"1\" class=\"dataframe\">\n",
              "  <thead>\n",
              "    <tr style=\"text-align: right;\">\n",
              "      <th></th>\n",
              "      <th>textos_fallo</th>\n",
              "      <th>nro_causa</th>\n",
              "    </tr>\n",
              "  </thead>\n",
              "  <tbody>\n",
              "    <tr>\n",
              "      <th>0</th>\n",
              "      <td>#TEXTO COMPLETO#A C U E R D O#En la ciudad de ...</td>\n",
              "      <td>122176</td>\n",
              "    </tr>\n",
              "    <tr>\n",
              "      <th>1</th>\n",
              "      <td>#TEXTO COMPLETO#A C U E R D O#En la ciudad de ...</td>\n",
              "      <td>122321</td>\n",
              "    </tr>\n",
              "    <tr>\n",
              "      <th>2</th>\n",
              "      <td>#TEXTO COMPLETO#\"VOSS SUSANA BEATRIZ C/ VILLAR...</td>\n",
              "      <td>123033</td>\n",
              "    </tr>\n",
              "    <tr>\n",
              "      <th>3</th>\n",
              "      <td>#TEXTO COMPLETO#A C U E R D O#En la ciudad de ...</td>\n",
              "      <td>122514</td>\n",
              "    </tr>\n",
              "    <tr>\n",
              "      <th>4</th>\n",
              "      <td>#TEXTO COMPLETO#\"RICA ARIEL FEDERICO Y OTROS C...</td>\n",
              "      <td>123396</td>\n",
              "    </tr>\n",
              "  </tbody>\n",
              "</table>\n",
              "</div>"
            ],
            "text/plain": [
              "                                        textos_fallo  nro_causa\n",
              "0  #TEXTO COMPLETO#A C U E R D O#En la ciudad de ...     122176\n",
              "1  #TEXTO COMPLETO#A C U E R D O#En la ciudad de ...     122321\n",
              "2  #TEXTO COMPLETO#\"VOSS SUSANA BEATRIZ C/ VILLAR...     123033\n",
              "3  #TEXTO COMPLETO#A C U E R D O#En la ciudad de ...     122514\n",
              "4  #TEXTO COMPLETO#\"RICA ARIEL FEDERICO Y OTROS C...     123396"
            ]
          },
          "metadata": {
            "tags": []
          },
          "execution_count": 14
        }
      ]
    },
    {
      "cell_type": "markdown",
      "metadata": {
        "id": "Zik8UJ2cDrxh"
      },
      "source": [
        "# Instalar librería STANZA (Stanford NLP)"
      ]
    },
    {
      "cell_type": "code",
      "metadata": {
        "id": "6KYLU44dfhNd"
      },
      "source": [
        "! pip install stanza"
      ],
      "execution_count": null,
      "outputs": []
    },
    {
      "cell_type": "code",
      "metadata": {
        "id": "8oS1AodfhBK_",
        "outputId": "07fd1b98-ae9b-4202-9146-102109e3af86",
        "colab": {
          "base_uri": "https://localhost:8080/",
          "height": 83
        }
      },
      "source": [
        "import stanza\n",
        "stanza.download('es') # download spanish model"
      ],
      "execution_count": 11,
      "outputs": [
        {
          "output_type": "stream",
          "text": [
            "Downloading https://raw.githubusercontent.com/stanfordnlp/stanza-resources/master/resources_1.1.0.json: 122kB [00:00, 15.2MB/s]                    \n",
            "2020-10-27 13:09:43 INFO: Downloading default packages for language: es (Spanish)...\n",
            "2020-10-27 13:10:00 INFO: File exists: /root/stanza_resources/es/default.zip.\n",
            "2020-10-27 13:10:06 INFO: Finished downloading models and saved to /root/stanza_resources.\n"
          ],
          "name": "stderr"
        }
      ]
    },
    {
      "cell_type": "markdown",
      "metadata": {
        "id": "8RyZsHEz5taT"
      },
      "source": [
        "# Prueba de Tokenizacion de un sumario"
      ]
    },
    {
      "cell_type": "code",
      "metadata": {
        "id": "qqUZEfmU7s1-"
      },
      "source": [
        "fallos = tbfallos['textos_fallo'][1]\n",
        "fallos = fallos.replace(\"#\",\"\\n\\n\")\n",
        "#fallos = fallos.values.tolist()"
      ],
      "execution_count": 55,
      "outputs": []
    },
    {
      "cell_type": "code",
      "metadata": {
        "id": "TDHfX3Ld8Ndh",
        "outputId": "bd3ec73a-bb58-4fb3-906e-2c7585553bd3",
        "colab": {
          "base_uri": "https://localhost:8080/",
          "height": 350
        }
      },
      "source": [
        "nlp = stanza.Pipeline(lang='es', processors='tokenize,ner,mwt,pos,lemma,depparse', tokenize_no_ssplit=True)\n",
        "doc = nlp(fallos)"
      ],
      "execution_count": 56,
      "outputs": [
        {
          "output_type": "stream",
          "text": [
            "2020-10-27 11:34:38 INFO: Loading these models for language: es (Spanish):\n",
            "=======================\n",
            "| Processor | Package |\n",
            "-----------------------\n",
            "| tokenize  | ancora  |\n",
            "| mwt       | ancora  |\n",
            "| pos       | ancora  |\n",
            "| lemma     | ancora  |\n",
            "| depparse  | ancora  |\n",
            "| ner       | conll02 |\n",
            "=======================\n",
            "\n",
            "2020-10-27 11:34:38 INFO: Use device: cpu\n",
            "2020-10-27 11:34:38 INFO: Loading: tokenize\n",
            "2020-10-27 11:34:38 INFO: Loading: mwt\n",
            "2020-10-27 11:34:38 INFO: Loading: pos\n",
            "2020-10-27 11:34:39 INFO: Loading: lemma\n",
            "2020-10-27 11:34:39 INFO: Loading: depparse\n",
            "2020-10-27 11:34:40 INFO: Loading: ner\n",
            "2020-10-27 11:34:42 INFO: Done loading processors!\n"
          ],
          "name": "stderr"
        }
      ]
    },
    {
      "cell_type": "code",
      "metadata": {
        "id": "-4NRYg4SA1h5",
        "outputId": "56314837-c56c-4294-efc5-b98f3955ed38",
        "colab": {
          "base_uri": "https://localhost:8080/",
          "height": 34
        }
      },
      "source": [
        "doc.sentences[0].text"
      ],
      "execution_count": 57,
      "outputs": [
        {
          "output_type": "execute_result",
          "data": {
            "application/vnd.google.colaboratory.intrinsic+json": {
              "type": "string"
            },
            "text/plain": [
              "'TEXTO COMPLETO'"
            ]
          },
          "metadata": {
            "tags": []
          },
          "execution_count": 57
        }
      ]
    },
    {
      "cell_type": "code",
      "metadata": {
        "id": "LbhldXImDMaq"
      },
      "source": [
        "for sent in doc.sentences:\n",
        "    print(sent.text)"
      ],
      "execution_count": null,
      "outputs": []
    },
    {
      "cell_type": "code",
      "metadata": {
        "id": "EKvaRH-r7e3P"
      },
      "source": [
        "for i, sentence in enumerate(doc.sentences):\n",
        "    print(f'====== Sentence {i+1} tokens =======')\n",
        "    print(*[f'id: {token.id}\\ttext: {token.text}' for token in sentence.tokens], sep='\\n')"
      ],
      "execution_count": null,
      "outputs": []
    },
    {
      "cell_type": "code",
      "metadata": {
        "id": "0VUGkMho9QC9"
      },
      "source": [
        "dicts = doc.to_dict() # dicts is List[List[Dict]], representing each token / word in each sentence in the document"
      ],
      "execution_count": 61,
      "outputs": []
    },
    {
      "cell_type": "markdown",
      "metadata": {
        "id": "AnJS3EU9wsEU"
      },
      "source": [
        "# Prueba de manipulacion de objeto \"doc\" sobre un sumario"
      ]
    },
    {
      "cell_type": "code",
      "metadata": {
        "id": "8bSrAtGCwv9q"
      },
      "source": [
        "def print_doc_info(doc):\n",
        "    print(f\"Num sentences:\\t{len(doc.sentences)}\")\n",
        "    print(f\"Num tokens:\\t{doc.num_tokens}\")\n",
        "    print(f\"Num words:\\t{doc.num_words}\")\n",
        "    print(f\"Num entities:\\t{len(doc.entities)}\")"
      ],
      "execution_count": 22,
      "outputs": []
    },
    {
      "cell_type": "code",
      "metadata": {
        "id": "u82GFYTPw7Bp",
        "outputId": "373edc94-e7d9-48c2-ba51-95178aaf0b3b",
        "colab": {
          "base_uri": "https://localhost:8080/",
          "height": 83
        }
      },
      "source": [
        "print_doc_info(doc)"
      ],
      "execution_count": 23,
      "outputs": [
        {
          "output_type": "stream",
          "text": [
            "Num sentences:\t47\n",
            "Num tokens:\t2008\n",
            "Num words:\t2013\n",
            "Num entities:\t92\n"
          ],
          "name": "stdout"
        }
      ]
    },
    {
      "cell_type": "code",
      "metadata": {
        "id": "U4PB5pfLyJ0s"
      },
      "source": [
        "def word_info_df(doc):\n",
        "    \"\"\"\n",
        "    - Parameters: doc (a Stanza Document object)\n",
        "    - Returns: A Pandas DataFrame object with one row for each token in\n",
        "      doc, and columns for text, lemma, upos, and xpos.\n",
        "    \"\"\"\n",
        "    rows = []\n",
        "    for sentence in doc.sentences:\n",
        "        for word in sentence.words:\n",
        "            row = {\n",
        "                \"text\": word.text,\n",
        "                \"lemma\": word.lemma,\n",
        "                \"upos\": word.upos,\n",
        "                \"xpos\": word.xpos,\n",
        "            }\n",
        "            rows.append(row)\n",
        "    return pd.DataFrame(rows)"
      ],
      "execution_count": 24,
      "outputs": []
    },
    {
      "cell_type": "code",
      "metadata": {
        "id": "vK6DdBNH1w_3"
      },
      "source": [
        "word_info_df(doc)"
      ],
      "execution_count": null,
      "outputs": []
    },
    {
      "cell_type": "code",
      "metadata": {
        "id": "tYvkAKg349PH",
        "outputId": "bde2b7ab-62ca-44ff-96b7-f287d93d6170",
        "colab": {
          "base_uri": "https://localhost:8080/",
          "height": 33
        }
      },
      "source": [
        "doc.num_words"
      ],
      "execution_count": 60,
      "outputs": [
        {
          "output_type": "execute_result",
          "data": {
            "text/plain": [
              "2013"
            ]
          },
          "metadata": {
            "tags": []
          },
          "execution_count": 60
        }
      ]
    },
    {
      "cell_type": "code",
      "metadata": {
        "id": "XCxAr3Be1-lz",
        "outputId": "49ad2c66-aade-4f79-a596-6f29adca23fe",
        "colab": {
          "base_uri": "https://localhost:8080/",
          "height": 33
        }
      },
      "source": [
        "doc.num_tokens"
      ],
      "execution_count": 61,
      "outputs": [
        {
          "output_type": "execute_result",
          "data": {
            "text/plain": [
              "2008"
            ]
          },
          "metadata": {
            "tags": []
          },
          "execution_count": 61
        }
      ]
    },
    {
      "cell_type": "markdown",
      "metadata": {
        "id": "4WxzLZ7s7EIr"
      },
      "source": [
        "# Prueba sobre entidades de un sumario"
      ]
    },
    {
      "cell_type": "code",
      "metadata": {
        "id": "Zf3V9fPq8Yxm"
      },
      "source": [
        "print(*[f'entity: {ent.text}\\ttype: {ent.type}' for ent in doc.ents], sep='\\n')[1]"
      ],
      "execution_count": null,
      "outputs": []
    },
    {
      "cell_type": "code",
      "metadata": {
        "id": "Zl0TWNSm78re"
      },
      "source": [
        "# select person entities\n",
        "def select_person_entities(doc):\n",
        "    return [ent for ent in doc.entities if ent.type == \"PER\"]"
      ],
      "execution_count": 63,
      "outputs": []
    },
    {
      "cell_type": "code",
      "metadata": {
        "id": "YbdE-9Hn7Hda"
      },
      "source": [
        "def person_df(doc):\n",
        "    \"\"\"\n",
        "    - Parameters: doc (a Stanza Document object)\n",
        "    - Returns: A Pandas DataFrame with one row for each entity in doc\n",
        "      that has a \"PERSON\" type, and and columns text, type, start_char.\n",
        "    \"\"\"\n",
        "    rows = []\n",
        "    persons = select_person_entities(doc)\n",
        "    for person in persons:\n",
        "        row = {\n",
        "            \"text\": person.text,\n",
        "            \"type\": person.type,\n",
        "            \"start_char\": person.start_char,\n",
        "            \"end_char\": person.end_char\n",
        "        }\n",
        "        rows.append(row)\n",
        "    return pd.DataFrame(rows)\n"
      ],
      "execution_count": 64,
      "outputs": []
    },
    {
      "cell_type": "code",
      "metadata": {
        "id": "q4NnhD1U7T4p"
      },
      "source": [
        "person_df(doc)"
      ],
      "execution_count": null,
      "outputs": []
    },
    {
      "cell_type": "markdown",
      "metadata": {
        "id": "dDw6HEMjDJ5S"
      },
      "source": [
        "## Pruebas de manipulacion"
      ]
    },
    {
      "cell_type": "code",
      "metadata": {
        "id": "s6j0xU19DHBu"
      },
      "source": [
        "for i, sent in enumerate(doc.sentences):\n",
        "  sent.print_tokens()"
      ],
      "execution_count": null,
      "outputs": []
    },
    {
      "cell_type": "code",
      "metadata": {
        "id": "lu7DkZlcDHB2"
      },
      "source": [
        "# Iterate over all tokens in all sentences\n",
        "for i, sent in enumerate(doc.sentences):    \n",
        "    for t in sent.tokens:\n",
        "        print(t.text)"
      ],
      "execution_count": null,
      "outputs": []
    },
    {
      "cell_type": "code",
      "metadata": {
        "id": "BciQ23WnDHB4"
      },
      "source": [
        "# Iterate over all words in all sentences\n",
        "for i, sent in enumerate(doc.sentences):    \n",
        "    for w in sent.words:\n",
        "        print(w.text)"
      ],
      "execution_count": null,
      "outputs": []
    },
    {
      "cell_type": "code",
      "metadata": {
        "id": "_ONzDqVIDHB6"
      },
      "source": [
        "# Iterate over all entities in all sentences\n",
        "for i, sent in enumerate(doc.sentences):    \n",
        "    for e in sent.entities:\n",
        "        print(e.text)"
      ],
      "execution_count": null,
      "outputs": []
    },
    {
      "cell_type": "code",
      "metadata": {
        "id": "wyE2CNGmDHB8"
      },
      "source": [
        "# Iterate over all llemmas in all sentences\n",
        "for i, sent in enumerate(doc.sentences):    \n",
        "    for w in sent.words:\n",
        "        print(w.lemma)"
      ],
      "execution_count": null,
      "outputs": []
    },
    {
      "cell_type": "markdown",
      "metadata": {
        "id": "vO_RLJnQJF9v"
      },
      "source": [
        "# Bibliografia\n",
        "\n",
        "- https://medium.com/@severinperez/exploring-literature-with-the-stanza-nlp-package-927d5b6556bf \n",
        "- https://colab.research.google.com/github/stanfordnlp/stanza/blob/master/demo/Stanza_CoreNLP_Interface.ipynb#scrollTo=ezEjc9LeV2Xs\n",
        "- https://scikit-learn.org/stable/modules/feature_extraction.html \n",
        "\n"
      ]
    },
    {
      "cell_type": "markdown",
      "metadata": {
        "id": "-nd6OoNXI3K-"
      },
      "source": [
        "# Prueba de Trabjo en Corspus"
      ]
    },
    {
      "cell_type": "code",
      "metadata": {
        "id": "yUrph76u8EXZ"
      },
      "source": [
        "fallos = tbfallos['textos_fallo']"
      ],
      "execution_count": 6,
      "outputs": []
    },
    {
      "cell_type": "code",
      "metadata": {
        "id": "cC2cS46m8kV8"
      },
      "source": [
        "fallos"
      ],
      "execution_count": null,
      "outputs": []
    },
    {
      "cell_type": "code",
      "metadata": {
        "id": "OxLe6JgU84Uw"
      },
      "source": [
        "fallos = fallos.replace(\"#\",\"\\n\\n\")\n",
        "fallos = fallos.values.tolist()"
      ],
      "execution_count": 8,
      "outputs": []
    },
    {
      "cell_type": "code",
      "metadata": {
        "id": "UB9Lg5Id84Uz",
        "outputId": "678f3cc4-54e6-4c00-e580-6b6fae9738d4",
        "colab": {
          "base_uri": "https://localhost:8080/",
          "height": 283
        }
      },
      "source": [
        "nlp = stanza.Pipeline(lang='es', processors='tokenize,mwt,pos,lemma', tokenize_no_ssplit=True)\n",
        "doc = nlp(fallos)  "
      ],
      "execution_count": 12,
      "outputs": [
        {
          "output_type": "stream",
          "text": [
            "2020-10-27 13:10:15 INFO: Loading these models for language: es (Spanish):\n",
            "=======================\n",
            "| Processor | Package |\n",
            "-----------------------\n",
            "| tokenize  | ancora  |\n",
            "| mwt       | ancora  |\n",
            "| pos       | ancora  |\n",
            "| lemma     | ancora  |\n",
            "=======================\n",
            "\n",
            "2020-10-27 13:10:16 INFO: Use device: gpu\n",
            "2020-10-27 13:10:16 INFO: Loading: tokenize\n",
            "2020-10-27 13:10:22 INFO: Loading: mwt\n",
            "2020-10-27 13:10:22 INFO: Loading: pos\n",
            "2020-10-27 13:10:23 INFO: Loading: lemma\n",
            "2020-10-27 13:10:23 INFO: Done loading processors!\n"
          ],
          "name": "stderr"
        }
      ]
    },
    {
      "cell_type": "code",
      "metadata": {
        "id": "j5nhMWQiRQSh"
      },
      "source": [
        "def print_doc_info(doc):\n",
        "    print(f\"Num sentences:\\t{len(doc.sentences)}\")\n",
        "    print(f\"Num tokens:\\t{doc.num_tokens}\")\n",
        "    print(f\"Num words:\\t{doc.num_words}\")\n",
        "    print(f\"Num entities:\\t{len(doc.entities)}\")"
      ],
      "execution_count": 15,
      "outputs": []
    },
    {
      "cell_type": "code",
      "metadata": {
        "id": "u2IWKD-jRQSo",
        "outputId": "f63f5842-29ec-48d6-82d3-f395c086a60f",
        "colab": {
          "base_uri": "https://localhost:8080/",
          "height": 83
        }
      },
      "source": [
        "print_doc_info(doc)"
      ],
      "execution_count": 16,
      "outputs": [
        {
          "output_type": "stream",
          "text": [
            "Num sentences:\t914\n",
            "Num tokens:\t3654986\n",
            "Num words:\t3672017\n",
            "Num entities:\t0\n"
          ],
          "name": "stdout"
        }
      ]
    },
    {
      "cell_type": "code",
      "metadata": {
        "id": "729dNgweRgSQ",
        "outputId": "953da3bd-ad6f-4295-83f6-2a2e4d2579d5",
        "colab": {
          "base_uri": "https://localhost:8080/"
        }
      },
      "source": [
        "print(*[f'{word.lemma}' for sent in doc.sentences for word in sent.words])"
      ],
      "execution_count": 20,
      "outputs": [
        {
          "output_type": "stream",
          "text": [
            "para pronunciar sentencia definitivo en el causa A. 70303 , \" Mouremble , Marcelo contra Prov . de Bs . As . s/Pretensión indemnizatoria . Recurso extraordinario de inaplicabilidad de ley \" .#A N T e C e D e N T e S#I . el Cámara de Apelación en él Contencioso Administrativo con asiento en el Plata rechazar el recurso de apelación deducido por el parte demandado y confirmar el sentencia de primero instancia que rechazar el excepción de prescripción opuesto por el demandado , con costa a el vencido ( fs . 144/147 ) .#II . cisconfor yo con ese pronunciamiento , el demandado deducir recurso extraordinario de inaplicabilidad de ley ( fs . 151/158 ) , el que ser conceder por el Cámara actuante a fs . 16016161.9I6 . dictado el providencia de auto ( v. fs . 167 ) y glosado el memoria presentado por el parte actor ( fs. 170/788 ) el causa quedar en estado de pronunciar sentencia , por él que el Tribunal resolver plantear y votar el siguiente#C U e S T I Ó N# ¿ ser fundado el recurso extraordinario de inaplicabilidad de ley ? #V o T a C I Ó N#A el cuestión planteado , el señora Jueza doctora Kogan decir : #I . el Cámara de Apelación en él Contencioso Administrativo con asiento en el Plata rechazar el recurso de apelación deducido por el parte demandado y confirmar el sentencia de primero instancia que rechazar el excepción de prescripción opuesto por el demandado . #Para así decidir , ponderar que el ocupación temporáneo ser uno instituto de derecho público , al igual que el expropiación , por él que el indemnización tener en ambos institución el mismo fundamento y función : proteger el propiedad . entender que , a falta de previsión legal , el acción deducido por el particular no prescribir hasta tanto no él efectivizar el reparación debido , él que no él haber configurar en el caso . #Puso de relieve que no él haber probar el cese de el ocupación o que el parte actor haber recuperar el pleno uso y goce de su campo y destacar , por último , que si bien en el caso no haber existir traslación de el propiedad , el situación quedar igualmente amparado por él dispuesto en el art . 17 de el Constitución nacional . # el costa ser imponer a el apelante vencido , con cita de el arts . 52 de el ley 5708 y 68 del Código Procesal Civil y Comercial .#II . contra ese pronunciamiento el demandado deducir recurso extraordinario de inaplicabilidad de ley , en cuyo marco denunciar el siguiente vicio : a ) violación de el doctrina legal vinculado con el plazo de prescripción aplicable a el ocupación temporáneo anormal de el arts . 53 de el ley 5708 y 4037 del Código Civil ; y b ) violación del art. 37 de el ley 5708.1 . respecto del primero agravio , postular que el fallo de el alzada él ajustar al criterio establecido para el caso de expropiación , en el cual el indemnización previo ser uno recaudo constitucional , pero que el caso de auto él tratar de uno supuesto de fuerza mayor , previsto en el art . 53 de el ley 5708 .#Sostiene que el cuestión deber regir él por el parámetro vertido por este Tribunal en el caso Ac . 95901 , \" Cross y Lanz \" , sentenciar el 11-III-2009 , en el cual él entender - según aducir - que el plazo de prescripción aplicable ser el del art . 4037 del Código Civil , cuyo término haber de computar él desde que el crédito existir y poder ser exigir . #Transcribe distinto párrafo de el decisión y remarcar que ambos caso ser análogo en su plataforma fáctico y en el cuestión jurídico debatido , por él cual entender que el caso deber ser resolver en el mismo sentido .xb . acerca del segundo agravio , citar el art . 37 de el ley 5708 y alegar que el presente resultar encuadrado en el segundo párrafo de el norma , en tanto él referir a todo el supuesto en el cual no él debatir el monto de el indemnización . decir , a todo evento , que el aplicación supletorio del Código de Procedimientos en él Contencioso Administrativo , conducir al mismo resultado , pues el art . 51 ese referir al texto vigente al momento de interponer el recurso - prever idéntico criterio para el distribución de costa , por él que deber ser imponer por su orden .#III . en su memoria , el accionante comenzar por destacar que deber tener él en cuenta que el curso de el prescripción quedar interrumpir en 1995 con el promoción de uno demanda de expropiación inversa , que finalmente ser rechazar y de él cual obrir suficiente constancia en auto . #Respecto del precedente invocado por el recurrente , argumentar que ser uno \" despropósito \" aceptar el distinción entre ocupación temporáneo \" normal \" o \" anormal \" , cuando ser criticado en forma unánime por el estudioso del tema . #Trae a colación uno antecedente de el Corte Suprema de Justicia de el Nación , según el cual el ocupación temporáneo ser equivalente a el expropiación y él encontrar protegido con el mismo garantía , y reiterar que no deber distinguir él \" especie \" de ocupación . #Reconoce que ser situación disímil , pero interpretar que ese no ser uno motivo suficiente para efectuar el distinción propuesto . nuevamente cita jurisprudencia de el Corte de el Nación y postular que el acción en todo el caso ser imprescriptible por su naturaleza de derecho público . # por último , aducir que el doctrina sentado en el caso \" Cross y Lanz \" ser incoherente , todo vez que si él decidir recurrir al Código Civil deber haber él aplicar el art . 4019 inc. 4 ° , ya que él plantear uno pretensión de reivindicación en forma subsidiario .#IV . en mi opinión el recurso deber prosperar , tal como en adelante explicar .#a . el violación a el doctrina legal que invalidar uno acto jurisdiccional él configurar cuando el Tribunal haber determinar el interpretación de el norma legal que regir el relación sustancial debatido en uno determinado controversia y el fallo impugnado él transgredar , precisamente , en uno caso similar ( causa A. 68826 , sent. del 5-XII-2008 ; A. 69210 , sent. del 26-VIII-2009 ; A. 70410 , \" Farmacia Española S.C.S. \" , sent. del 18-V-2011 ; A. 69981 , Farmacia Lipstein , sent. del 31-vIII-2011 ) .#Y a ese fin tener dicho este Corte que no ser necesario para considerar doctrina legal en el término del art . 279 del Código Procesal Civil y Comercial que el interpretación que él hacer de el ley ser reiterado pues uno solo fallo , interpretar uno norma legal deber ser considerar doctrina legal hasta tanto no ser modificar por otro postura ( conf. doctr . Ac . 39440 , \" Ayala de Barbero \" , sent. del 27-II-1990 , \" Acuerdos y Sentencias \" , 1990-I , p. 235 ; Ac . 46105 , \" Morgues \" , sent. del 22-IX-1992 , \" Acuerdos y Sentencias \" , 1992-III , p. 461 ; Ac . 53753 , \" Cooperativa Agrícola limitado el Victoria \" , sent. del 4-Iv-1995 , \" Acuerdos y Sentencias \" , 1995-I , p . 607 ) .#de este modo , sólo ser suficiente uno remedio extraordinario como el intentar cuando él individual concretamente el doctrina que él decir violado y él señalar el aspecto fáctico que rodear al caso donde este Suprema Corte sentar el criterio que él pretender aplicar , deber él indicar en el respectivo denuncia el cita de el norma legal que , emanado de dicho doctrina , resultar conculcado por el tribunal de apelación ( conf . causa Ac . 84617 , sent. del 5-V-2004 y su cita , entre otro ) . Requisitos que , a mi juicio , haber ser cabalmente cumplir por el recurrente de auto . # en efecto , el cuestión debatido en el especie ser análogo a el del precedente Ac . 95901 , \" Cross y Lanz \" , sent. del 11-III-2009 , y el Cámara omitir seguir el criterio expuesto por este Corte en ese oportunidad . #En el causa citado él haber entablar uno acción personal tendiente a obtener uno resarcimiento por el perjuicio ocasionado por el ocupación temporáneo de uno bien por parte del Fisco provincial , en el término del art . 53 de el ley 5708 ; y en el presente él perseguir el mismo objeto , aunque también él adunar en forma subsidiario el plantear de acción real reivindicatorio y negatorio ( v. fs . 65 vta./66 ) .#A su vez , el cuestión jurídico sometido a decisión de este Tribunal en el precedente mentado él referir a el prescripción de el acción ( conf. párrafo III ) y en el presente el agravio traer también haber quedar ceñido a el prescripción de el acción personal por daño derivado de el ocupación temporáneo . # por último , deber destacar él que en ambos caso el origen de el invasión del Estado en el predio del particular provenir de uno necesidad que ser calificar como de \" fuerza mayor \" y encuadrado en el art . 53 de el ley 5708 , al haber tener por finalidad prevenir el consecuencia del desborde de uno curso de agua , procurar así enervar el efecto de el inundación que circunstancialmente padecer el región ( v . cons . IV.3 , causa Ac . 95901 , cit. ; fs . 116/22 y 144/147 de este auto ) .#A partir de tal base , entonces , haber de verificar el criterio que dimanar del fallo dictar en el causa Ac . 95901 , \" Cross y Lanz \" , para realizar su confronte con el decisión recurrido . # en aquel entonces este Corte distinguir el régimen de el ocupación temporario mentado en el art . 53 de el ley 5708 de el principio que regir el materia expropiatorio , y entender que aquél no deber reunir igual recaudo que este para que su ejercicio ser válido , pues no depender de que el indemnización ser abonar al particular en forma previo . # por tal razón y en él que a el cuestión debatido concernir , considerar el Tribunal que no ser aplicable a el ocupación del art . 53 de el ley 5708 el doctrina según el cual el curso de el prescripción sólo nacer a partir del reconocimiento de el indemnización sino que , por el contrario , ser de aplicación a este supuesto el principio civilístico de acuerdo con el cual el dies a quo de el acción personal para reclamar el compensación por el uso de el cosa y el daño y perjuicio respectivo , correr desde el momento en que el crédito existir y poder ser exigir . #La parte actor expresar en su memoria que ser improcedente el distinción entre supuesto \" especie \" de ocupación y que todo el situación deber responder a el principio propio de el expropiación , pero más allá de ese clasificación , ser el propio texto del art . 53 de el ley 5708 el que permitir al Estado el normalización de el situación legal \" posteriormente \" . #En el caso de el ocupación por fuerza mayor previsto en el art . 53 de el ley 5708 , no haber pérdida del derecho de propiedad sino simplemente uno afectación temporal del carácter pleno del dominio por razón de emergencia , expresamente definido en el norma ( incendio , inundación , terremoto o epidemia ) . #El caso \" Calas \" ( Fallos 327:2264 ) mencionado por el parte actor , tampoco alcanzar a conmover el criterio vertido porque el instituto de el ocupación temporáneo y el expropiación sólo ser asimilar , en ese oportunidad , a el efecto del pago de el indemnización y en cuanto a que este ser justo , íntegro y en dinero . pero en ninguno momento él postular que en el caso de el ocupación deber además ser previo ni que el acción ser imprescriptible . # también haber de rechazar él el argumento vinculado con el carácter imprescriptible de el acción por su naturaleza de derecho público y el supuesto renuncia tácito estatal a prever plazo de prescripción específico para el materia . el parte actora citar en apoyo de su postura diverso fallo de el Corte Suprema de el Nación pero en realidad el máximo tribunal no haber sostener que el acción ser imprescriptible sino que , en materia de expropiación y en función de él establecido en el art . 17 de el Constitución nacional , el curso del término recién poder nacer a partir de que existir uno suma líquido y exigible en concepto de indemnización , todo vez que él producir uno subrogación real del derecho de dominio ( conf . Fallos 315:596 y su cita , 320:1263 , 330:3635 ).#Acierta , entonces , el recurrente , al señalar que el Cámara él apartar del criterio vigente expuesto por este Tribunal en el referido causa \" Cross y Lanz \" , al haber aplicar a este caso precedente que no él referir a el cuestión debatido y al haber soslayar el aplicación de el interpretación del texto legal pertinente , deber revocar él el decisión ( art . 279 , C.P.C .C. ) . en el supuesto del art . 53 de el ley 5708 no ser requisito que el indemnización ser previo y el curso de el prescripción haber de correr desde que el crédito existir y ser exigible .#b . por último , en él atingente al agravio vinculado con el imposición en costa , y atento a el solución que él proponer con referencia a el cuestión principal - que importar el revocación del fallo de Cámara- , corresponder readecuar él a el nuevo decisión y en consecuencia imponerser sas a el actora quien ahora resultar vencido ( conf. arts . 274 y 68 del C.P.C.C. ) . #Cabe recordar que al respecto haber sostener antes de ahora que el régimen establecido en el art . 37 de el ley 5708 ser exclusivo y excluyente , salvo supuesto de excepción ( Ac . 35558 , sent. del 2-IX-1986 en \" Acuerdos y Sentencias \" , 1986-III-13 ) , como acontecer en el especie . # en efecto , haber decir este Tribunal que en materia expropiatorio regir el art . 37 de el ley 5708 para resolver el orden de el costa en tanto y en cuanto el controversia quedar limitado a el fijación del \" precio \" expropiatorio ( conf . Ac . 45768 , sent. del 22-IX-1992 ) . Mas en supuesto como el de auto , en que el objeto debatir él circunscribir a el prescriptibilidad de el acción intentado y por tanto exceder el fijación del \" precio expropiatorio \" , el imposición de costa deber regir él por el régimen general previsto en el Código Procesal Civil y Comercial , tener en consecuencia cabida el noción de vencido conforme el éxito o no de el impugnación ensayado ( Ac . 33305 , sent. del 12-III-1985 en \" Acuerdos y Sentencias \" , 1985-I-288 ; \" Jurisprudencia Argentina \" , 1985-IV-254 y \" el Ley \" , 1985-D , 345 ; Ac . 33401 , sent. del 12-III-1985 en \" Acuerdos y Sentencias \" , 1985-I-288 ; Ac . 33413 , sent. del 23-vII.I1995 ; C. 96494 , sent. de 13-VIII-2008 ; Ac . 93302 , \" Barzi \" , sent. del 30-V-2007 ; C. 101244 , \" Macías \" , sent. del 7-X-2009 , entre mucho otro ) .# de tal modo , corresponder imponer el costa de ambos instancia a el parte actor , quien ahora resultar vencido .#V . por él expuesto , proponer al Acuerdo hacer lugar al recurso de inaplicabilidad de ley interpuesto , revocar el sentencia recurrido , y hacer lugar a el excepción opuesto , declarar prescripta el acción indemnizatorio por el ocupación temporario anormal . # el costa de este instancia extraordinario él imponer a el actora en su calidad de vencido ( arts . 68 y 289 in fine del C.P.C.C. ) .#Voto por el afirmativo . #a el cuestión planteado , el señor Juez doctor Negri decir dii . al igual que mi colega preopinante , entender que el recurso en tratamiento prosperar .#a . en el precedente de este Corte \" Pefaure \" ( C. 52386 , sent. del 26-VII-1994 ) el voto que contar con mi adhesión destacar el importancia del instituto de el prescripción y su consagrado aplicación en todo el rama del derecho con el objeto de tutelar valor , tal como el orden y el seguridad jurídico . él aclarar allí , además , que su último razón radicar en él inadmisible que resultar para el deudor encontrar él ante uno espera indefinido o excesivamente prolongado . # en este caso , reiterar dicho conclusión pues , el instituto tender a sanear situación cuyo prolongado indefinición atento no sólo contra el derecho patrimonial como el de propiedad consagrar en el art . 17 de el Constitución nacional , sino también contra el principio general del derecho ( Ac . 52386 , sent . del 26-VII-1994 ; Ac . 54130 , sent. del 17-X-1995 ; Ac . 56592 , sent. del 9-IV-1996 ; Ac . 57659 , sent. del 27-XII-1996 ; Ac . 57048 , sent. del 18-III , 1997 ) .#b . el derecho administrativo estar expresado y contenido en norma positivo , como también , en principio de derecho público , gran parte extraído de el Constitución y , del derecho privado , especialmente del derecho civil ( conf . Marienhoff , Miguel S. ; \" Tratado de Derecho Administrativo \" , t . I , Ed . Abeledo Perrot , Bs . As. , 1965 , págs . 147 y ss ) .# el art . 4019 del Código Civil declarar que todo el acción ser prescriptible , enumerar el excepción , a el que él poder agregar el que involucrar derecho indisponible o irrenunciable . # en consecuencia , el primero agravio introducir por el recurrente deber prosperar , todo vez que el regla ser el prescriptibilidad y el imprescriptibilidad sólo estar reservado para cuestión excepcional ( de allí el necesidad de indicación legal expresar que él determinar ) .icir . sin perjuicio de él expuesto , y en virtud de el consideración que él efectuar en el voto precedente respecto de el materia expropiatorio , haber de dejar a salvo mi opinión en orden a que , en ese caso , el curso de el prescripción nacer desde el momento en que él configurar el supuesto del art . 41 de el ley 5708 y su titular , el expropiado , tener el razonable plazo de diez año para iniciar el expropiación inversa o irregular . el límite al ejercicio de ese acción ser regir por el interés público y establecido para garantizar el orden social ( conf . mi voto en causa C. 102848 , sent. del 29-XII20009 ; C. 95589 , sent. del 9-VI-2010 ; C. 98129 , sent. del 7-III-2012 , entre otro ) .#II . por último , en cuanto al cuestionamiento referir a el imposición de costa coincido con el solución propiciado por el colega que iniciar el acuerdo en el pto . IV . ap. b -primer párrafo- de su exposición . #Con el alcance indicado , dar mi voto también por el afirmativo . # el señor Juez doctor Genoud , por el mismo fundamento expuesto por el señora Jueza doctora Kogan , votar también por el afirmativo . #a el cuestión planteado , el señor Juez doctor Soria decir : # adherir al voto de el doctora Kogan , circunscribir mi acompañamiento al desarrollo que él referir al supuesto de acción que reclamar uno compensación derivado de uno ocupación temporario conforme el término previsto por el art . 53 de el ley 5708 ; tal como acontecer en el sub lite ; dejar constancia que no haber tener intervención en el causa C . 95901 , \" Cross y Lanz \" , sent. de 11-III-2009 .#Con el alcance indicado , voto por el afirmativo . #a el cuestión planteado , el señor Juez doctor de Lázzari:#Adhiero , al voto de el doctora Kogan , en conformidad con mi adhesión a el causa C . 95901 , \" Cross y Lanz \" , sent. del 11-III-2009 . #Por él expuesto , proponer hacer lugar al recurso extraordinario de inaplicabilidad , revocar el sentencia recurrido y declarar prescripta el acción indemnizatorio derivado de el ocupación temporáneo extraordinario .#Voto por el afirmativo . #a el cuestión planteado , el señor Juez doctor Hitters decir # adherir al relato de antecedente y desarrollo argumental formulado por mi distinguido colega que abrir el presente acuerdo . #Sólo yo permitir precisar que encontrar él fuera de discusión el carácter anormal o extraordinario de el ocupación temporáneo ( el canalización denominado \" Corte de loma el Amalia - Mouremble \" ser llevado a cabo por el Dirección Provincial de Hidráulica , en el curso del año 1988 , como parte de el obra tendiente a paliar el efecto de el inundación - ver demanda , punto III.1 , Hechos ; fs . 66- ) , conforme él exponer al votar el causa C . 95901 , \" Cross y Lanz \" , sent. del 11-III-2009 , el uso de el propiedad no estar condicionado al pago de uno indemnización previo ( art. 53 ley 5708 ) , razón por el cual , en ausencia de previsión especifico en el materia , resultar de aplicación al caso el regla general sobre prescripción previsto en el Código Civil . # por él expuesto , proponer al Acuerdo hacer lugar al recurso extraordinario de inaplicabilidad de ley , revocar el sentencia recurrido y declarar prescripta el acción indemnizatorio derivado de el ocupación temporáneo anormal o extraordinario .#Voto por el afirmativo . #Costas al recurrente vencido ( art . 289 , C.P.C .C. ; art . 60.1 , C.P.C.A. , ley 12008 ) .#A el cuestión planteado , el señor Juez doctor Pettigiani decir : # por el mismo fundamento adherir al voto de el doctora Kogan en cuanto acoger el recurso traer por violación a el doctrina denunciado por el recurrente ( S.C.B.A. , causa C. 905901 , \" Cross y Lanz , Esther Mariana c/ Fisco de el Provincia de Buenos Aires s/ Expropiación Inversa \" , sent. del 11-III-2009 ) , y en su consecuencia , rescindir el sentencia recurrido , declarar el prescripción de el acción intentado , con costa en todo el instancia a el accionante por su objetivo condición de vencido ( arts . 274 , 68 y 289 del C.P.C.C. ) .#Voto por el afirmativo . #Con él que terminar el acuerdo , dictar él el siguiente#S e N T e N C I A#Por él expuesto en el acuerdo que anteceder , él hacer lugar al recurso extraordinario de inaplicabilidad de ley , revocar él el sentencia recurrido y declarar él prescripta el acción indemnizatorio por el ocupación temporario anormal . el costa tanto de primero como de segundo instancia él imponer a el actora en su calidad de vencido ( conf. arts . 68 y 274 del C.P.C.C. ) . # el costa del recurso extraordinario de inaplicabilidad de ley también él imponer a el actora en su calida de vencido ( arts . 68 , primero párrafo y 289 in fine del C.P.C.C. ) .#Regístrese , notifiquer y devolver él . #JUAN CARLOS Hittersiluis ESTEBAN GENOUD HECTOR NEGRI #HILDA KOGAN eduardo JULIO PETTIGIANI ieduardo NESTOR de LAZZARI DANIEL FERNANDO SORIA #JUAN JOSE MARTIARENA#Secretario #TEXTO completo C U e R D O#En el ciudad de el Plata , a 9 de septiembre de 2015 , haber él establecer , de conformidad con él dispuesto en el Acuerdo 2078 , que deber observar él el siguiente orden de votación : doctor de Lázzari , Negri , Kogan , Pettigiani , él reunir el señor juez de el Suprema Corte de Justicia en acuerdo ordinario para pronunciar sentencia definitivo en el causa A. 71396 , \" Y.P.F . S.A. contra Municipalidad de Vicente López sobre pretensión anulatorio . Recurso extraordinario de inaplicabilidad de ley \" .#A N T e C e D e N T e S#La Cámara de Apelación en él Contencioso Administrativo con asiento en San Martín decidir rechazar el recurso de apelación interpuesto por el firma Y.P.F. S.A. y , por él tanto , confirmar el sentencia de primero instancia en cuanto rechazar el pretensión de auto , consistente en el revocación de el resolución 5112002 y 4222006 , que reajustar el determinación tributario de el tasa de seguridad e higiene por el Dirección de Rentas de el Municipalidad de Vicente López ( ver pronunciamiento a fs . 760/90 ) .# cisconfor yo con tal pronunciamiento , el parte actor deducir recurso extraordinario de inaplicabilidad de ley ( fs. 795/11 ) , el que ser conceder por el Cámara interviniente a fs . 813/14 .#Dictada el providencia de auto para resolver ( fs. 822 ) y encontrar él el causa en estado de pronunciar sentencia , corresponder plantear y votar el siguiente#C U e S T I Ó N# ¿ ser fundado el recurso extraordinario de inaplicabilidad de ley ? #V o T a C I Ó N#A el cuestión planteado , el señor Juez doctor de Lázzari dijo: #I.1 . el titular del Juzgado en él Contencioso Administrativo de San Isidro , en él que al caso interesar , rechazar el demanda interpuesto por el firma Y.P.F. S.A. contra el Municipalidad de Vicente López , por el cual él pretender el anulación de el resolución 5112002 y 4222006 que reajustar el determinación tributario de el Tasa de Seguridad e Higiene por el Dirección de Rentas de el citado comuna , de acuerdo a él previsto por el art . 143 de el ordenanza fiscal 20573 y del art . 35 del Convenio Multilateral ( v. sent. del 4-9I-2010 , obrante a fs . 760/90 ) .#Para así decidir , el magistrado entender que no él encontrar presente en el acto administrativo desestimatorio , el vicio de falta de fundamentación y carencia de causa , al no haber él contravenir el norma del Convenio Multilateral , relativo a el determinación de el tasa de Inspección por Seguridad e Higiene -a percibir él sobre el distribución de ingreso bruto entre todo aquel municipio de el Provincia de Buenos Aires en el que efectivamente él desarrollar actividad comercial , con independencia de el existencia efectivo de uno local habilitado - ni que hallar dejar de configurar él el hecho imponible previsto en el ordenanza fiscal por el circunstancia de que no él haber prestado el servicio previsto en él , el cual consistir en el servicio de contralor destinado a preservar el seguridad e higiene de instalación , local o establecimiento ubicado dentro del Partido .#Asimismo , concluir que el acto de el Administración Pública gozar de uno presunción de legitimidad que no haber ser desmerecer por el probanza de el causa .#2 . Disconforme con ese pronunciamiento , el parte actor deducir recurso de apelación , argumentar que el sentencia de grado él apartar de el debido interpretación de el probanza de el causa en punto a valorar el configuración efectivo del hecho imponible , así como su extensión de acuerdo a él normado por el párrafo 3ro . del art . 35 del Convenio Multilateral .#Asimismo él agraviar de el falta de tratamiento por el a quo de el cuestión de el legitimidad de el acto administrativo atacar , vulnerar así el derecho de defensa de quien accionar ( v. fs . 717/38 ) .#3 . en sentencia obrante a fs . 760/90 , el Cámara de Apelación en él Contencioso y Administrativo con asiento en el ciudad de General San Martín decidir confirmar el sentencia apelado . # al analizar el agravio denunciado por el recurrente , el alzado considerar correcto el razonamiento desarrollado por el juez de primero instancia al entender que no existir violación a el garantía de defensa , dado que el empresa poder ( y de hecho ejercer puntualmente su defensa ) presentar todo el escrito pertinente , así como el prueba de cargo para fundamentar su posición en sede administrativo . #De su lado , caracterizar -conforme cita de jurisprudencia de el Corte federal y de este Suprema Corte que él indicar en el citado fallo - a el tasa como uno categoría tributario derivado del poder de imperio del Estado , que él diferenciar del impuesto por el presupuesto de hecho adoptar por el ley , que consistir en el desarrollo de uno actividad estatal ( potencial ) que atañer al obligado y que , por él , desde el momento en que el Estado organizar el servicio y él poner a disposición del particular , este no poder rehusar su pago aún cuando no hacer uso de aquél , o no tener interés en él , ya que el servicio tener en miras el interés general ( v. punto 3 y 4 del voto del doctor Saulquin , al cual adherir el doctor Bezzi y Echarri ) . #Ponderó que tampoco él encontrar vulnerado el derecho aplicable en relación con el estimación de el base imponible , atento a él normado por el arts . 10 de el ley 10559 y 1 de el ley 10261 , que remitir a el aplicación del art . 35 del Convenio Multilateral , donde claramente él disponer que el municipio poder gravar \" en conjunto el ciento por ciento ( %100 ) del monto imponible atribuible al fisco provincial \" . Circunstancia que , por él demás él encontrar confirmado por el jurisprudencia de este Suprema Corte en el causa B. 54620 , \" Compañía Argentina de Seguros Providencia S.A. \" , sent. del 28-V-1996 y B. 56058 , \" Molinos Río de el Plata S.A. \" , sent. del 13-IX-2000 ( v . punto 8 del voto citado ) . #La Cámara , finalmente , estimar el monto pagado como consecuencia de el presentación de el declaración jurado respectivo ( conf. art . 105 de el ordenanza fiscal y tributario ) no resultar desproporcionado a el servicio brindado , ni aun confiscatorio en el término pretendido ( v. punto 9º del fallo ) .#4 . el parte actora interponer recurso extraordinario de inaplicabilidad de ley ( fs . 795/11 ) denunciar , concretamente , el siguiente agravios:#a ) Falta de prestación real y efectivo del servicio por parte de el administración comunal : apuntar el recurrente que haber mediar en el caso , uno error de juzgamiento por parte de el Cámara sentenciante en tanto no haber mediar prestación \" efectivo \" del servicio de inspección de seguridad , salubridad e higiene , condición de procedencia de el tasa pretendido . en tal sentido , manifestar que no bastar que el prestación del citado servicio ser \" meramente potencial \" sino que el mismo deber realizar él en forma concreto y real , en tanto el mismo él constituir en verdadero causa de el obligación tributario . Cita al respecto fallo de el Corte Suprema de Justicia de el Nación y opinión de autor de doctrina.#b ) Interpretación erróneo de el norma aplicable : el recurrente denuncia que el sentencia en crisis haber vulnerar el sistema impositivo regulado por el Ordenanza Fiscal y Tributaria de el Municipalidad de Vicente López , que en su arts . 143 y conc . fijar el base imponible sobre el ingreso bruto devengado para el sujeto pasivo por el ejercicio habitual de el actividad gravado , pero ejercido dentro del municipio . Razón por el cual , aducir , sólo sobre ese actividad él proyectar el poder de policía y el potestad tributario de el demandado , sin que poder computar él el ingreso bruto percibir fuera de tal límite jurisdiccional .xc ) Existencia de absurdo valorativo en el decisión : asimismo , sostener que el demandado no haber probar - como ser su deber procesal - el verdadero prestación del mentado servicio . de tal manera que , ante el negativa de el firma Y.P.F. S.A. respecto de el existencia de el prestación correlativo al tributo pretender , él generar uno caso de \" arbitrariedad técnico \" en el fallo de el alzada , puesto que en el mismo él imponer el deber de demostrar el ausencia del servicio en cabeza de el actora , cuando deber ser uno deber de el demandado arrimar a el causa el propio constancia administrativo del caso para cotejar el existencia o no de acta de requerimiento de inspección . #II . el recurso no poder prosperar .#1 . interesar señalar que ser requisito de ineludible cumplimiento para el recurrente , el réplica concreto directo y eficaz de todo el fundamento del fallo , puesto que el insuficiencia impugnatorio en este aspecto , dejar incólume el decisión que él controvertir y ese deficiencia él presentar , entre otro factor , como consecuencia de el falta de cuestionamiento idóneo de el concepto o fundamento sobre el que , al margen de su acierto o error , él asirtar el sentencia del Tribunal ( doct . causa Ac . 73447 ; sent. del 3-V-2000 ; Ac . 72204 , sent. del 15-III-2000 ; Ac . 81965 , sent. del 19-III-2003 ; Ac . 90421 , sent. del 27-VI-2007 ) . #Tal déficit exhibir el pieza recursivo . él por cuanto el recurrente denuncia el violación de el ley ( v . punto III , incs. 1 y 2 de su escrito impugnatorio ) y repetir consideración anteriormente formulado acerca de el interpretación que corresponder efectuar respecto de el Ordenanza Fiscal y Tributaria de el Municipalidad de Vicente López ( arts . 143 y concs. ) , así como del Convenio Multilateral ( arts. 33 y 35 ) en relación con el forma de percepción de el tasa de seguridad , salubridad e higiene , el configuración de su base imponible y el cálculo del rubro ingreso bruto a nivel provincial . Temáticas que ser específicamente desarrollado y resolver por el Cámara interviniente , sin que el ataque ahora perfilar abordar adecuadamente el razón argumental desplegado allí para entender el actuar administrativo comunal como uno legítimo uso de el potestad constitucional y legal derivado de el normativa aplicable . de allí que él expresar resolución a este temática en el acápite 3 , 4º , 5º , 7º , 8º y 9º de el sentencia , - en el caso - sólo él mostrar atacado desde uno mero opinión divergente . # en ese mismo orden , desatender el quejoso el observación que hacer el alzada , en cuanto reparar en él dispuesto por el art . 10 de el ley 10559 y su relación sistemático con él dispuesto en el citado art . 35 del Convenio Multilateral , de donde surgir el potestad tributario de el comuna en el que él encontrar el establecimiento comercial habilitado , para gravar \" en conjunto \" el 100/100 del monto imponible atribuible al Fisco provincial en concepto de ingreso bruto , a efecto de liquidar el monto de el tasa de seguridad e higiene ( v . punto 8º del voto unánime de el sentencia recurrido ) . # él mismo suceder con el agravio relativo a el carga de el prueba en materia de demostración sobre el existencia efectivo de uno servicio de inspección en salubridad y el ausencia de acta al respecto . en este punto , pues , como él decir , el Cámara tratar especialmente dicho temática en el considerando 3 y 4 de el sentencia atacado , sin que él vislumbrar en el recurso intentar uno temperamento impugnativo distinto del que ya ser desestimar por ese mismo tribunal .#2 . por otro lado , el recurrente denuncia en forma genérico e impreciso el violación de doctrina legal , incumplir de este modo el exigencia básico que establecer el art . 279 del Código Procesal Civil y Comercial relativo a el indicación , en término claro y concreto de el doctrina de este Tribunal que él reputar violado o erróneamente aplicado ( doct. causa Ac . 95743 , sent. del 13-XII-2006 ) . #En el sub examinar el recurso obrante a fs . 795/11 omitir desarrollar de qué manera el escaso precedente de este Suprema Corte que citar - de manera genérico y sin adecuado fundamentación - , haber ser erróneamente aplicar o transgreder , y cómo él él relacionar con el supuesto actuación indebido del Tribunal a quo . lejos estar él , pues , de ajustar él a él impuesto por el art . 279 del Código Procesal Civil y Comercial . # en tal sentido , deber tener él presente que el actora citar mayormente fallo de el Corte Suprema de Justicia de el Nación ( v. concretamente fs . 798 ; 799 ; 800 vta. ; 803 vta. y 810 y vta. ) en aval de su agravio relativo a el presunto violación de el obligación de prestar el servicio de inspección en materia de salubridad , seguridad e higiene , como causa adecuado para el percepción de el tasa , pero -en rigor- no desarrollar el tópico como uno verdadero denuncia de violación de doctrina legal , en el término requerido por el ordenamiento procesal ( conf. art . 279 del C.P.C.C. ) . # más allá de él , considerar conveniente recordar que ser doctrina reiterado de este Tribunal que resultar inapropiado el cita de doctrina legal cuando diferir el condición fáctico y jurídico de el causa con el del precedente invocado ( conf. causa Ac . 76777 , sent. del 28-III20001 ; Ac . 76888 , sent. del 19-II-2002 ; Ac . 84617 , sent. del 5-V-2004 ; A. 68808 , \" Maidana \" , sent. del 20-VI-2007 ; A. 68817 , \" Bersani Ledesma \" , sent. del 20-VI-2007 , entre mucho otro ) . Del mismo modo , él haber expresar que el doctrina legal cuyo conculcación habilitar el recurso extraordinario de inaplicabilidad de ley , ser el establecido por el Suprema Corte a través de su pronunciamiento y no el que emanar de el jurisprudencia de otro tribunal de justicia ( doct . causa L. 117035 , \" Abregu \" , resol . del 25-IX-2013 ; C. 114995 , \" Van Den Oteen \" , sent. del 3-X-2012 , entre mucho otro ) .# asimismo , caber recordar él , el opinión de el autor no constituir el \" doctrina legal \" a que él referir el art . 279 del Código Procesal Civil y Comercial ( conf . doct. causa L. 117.059 , \" Aranda \" , resol . del 205II-20013 ; L. 116842 , \" Ferreyra Sotelo \" , resol. del 24-X-2012 , entre otro ) . todo el sostén argumentativo que el recurrente atribuir a el necesidad causal de el prestación del servicio como precondición para el ejercicio de el potestad tributario municipal radicar , en definitiva , en digresión brindado por autor de el doctrina tributarista ( v. consideración efectuado en el recurso extraordinario , a fs . 799 ) .# de allí pues , que deber concluir él que , en el caso , el recurso en tratamiento no expresar ni alegar el violación concreto de el doctrina legal de este Tribunal en el término expuesto . # por añadidura , ser dable destacar que el Cámara interviniente fundamentar , correctamente , parte de su voto en el doctrina derivado de este Suprema Corte en el causa B . 53450 , \" Molinos Río de el Plata \" , sent. del 3-III-1998 , donde el Tribunal expresar -ante uno plantear similar como él ser el reproche de que el servicio generador de el obligación tributario no haber ser prestado por el demandada - que \" no existir norma constitucional o legal que obligar a que el tasa exhibir proporcionalidad entre el costo del servicio y el monto del gravamen , ya que mediante él que él percibir no deber atender él únicamente a el gasto de el oficina que él prestar , debido a que tanto el existencia de este como el cumplimiento de su fin depender de el total organización municipal , cuyo erogación general deber incidir en el prestación particular en uno medida cuyo determinación ser cuestión propio de el política financiero ( ' Acuerdos y Sentencias ' : 1957-IV-542 ; 1966-II-187 ; doct. causa I. 824 , ' Alicurá ' ; I. 825 , ' el Constan-cia ' ; I. 1139 , ' Sanatorio Argentino ' , sent . 22-XI-83 ; I. 1243 , ' Empresa Hípica Argentina S.A. ' , sent . 6-IX-88 ; I. 1273 , ' Torres y Liva S.A. ' , sent . 18-IV-89 ; B. 52173 y B. 51937 , ' Empresa Nobleza Picardo S.A.I.C. y F.' , ambos sent . 28-XI-95 , entre otro ) \" .# en él atinente a el falta de prestación del servicio de inspección de seguridad e higiene por parte de el demandado , pues , caber advertir que él constituir uno cuestión que corresponder a el actora dejar demostrado ( doct . causa I. 1243 cit. ; I. 1297 , \" Czarnecki \" , sent. del 8-V-90 y su cita ; B. 52173 , \" Nobleza Piccardo S.A.I.C. \" , sent. del 28-XI-1995 y B. 53450 cit.#3 . finalmente , el agravio relativo a el existencia de absurdo en el sentencia atacado también deber ser desestimar . # más allá de el incorrección técnico de invocar él en este sede , el examen de él actuar no resultar uno vicio del razonamiento constitutivo del absurdo , desde que el quejoso reiterar argumento antes expuesto oponer a el apreciación efectuado por el Cámara consideración que él sustentar sólo en su propio criterio y que no traducir más que mero discrepancia subjetivo . este Corte haber expresar que el vicio de absurdo él configurar con el desvío palmario y notorio de el ley de el lógica o el razonamiento viciado de tal modo que llevar a conclusión contradictorio o incongruente con el constancia de el causa , no configurar él con el mero exhibición de uno criterio discordante por parte del recurrente ( L. 81982 , sent . del 20-XII20006 ; L. 90361 , sent. del 6-VI-2007 ; L. 83615 , sent. del 20-VI-2007 y L. 83398 , sent. del 31-vIII-2007 ; C. 98267 , \" Samara \" , sent. del 23-IV-2008 ; C. 101253 , \" Kaiyer \" , sent. del 16-XII-2009 y A. 70002 , \" Vecchi \" , sent. del 31-vIII-2011 , entre otro ) .#III . por él anteriormente expuesto , concluir que el recurso obrante a fs . 1769/1796 resultar insuficiente a el fin pretendido ( arg. art . 279 , C.P.C.C. ) . # ser así , dar mi voto por el negativa . con costa a el recurrente en su condición de vencido ( arts . 51 , ley 12008 - texto según ley 14437 ; 60.1 , ley 12008 texto según ley 13101- y 68 y 289 del C.P.C.C. ) .#A el cuestión planteado , el señor Juez doctor Negri decir : # al igual que el colega que yo preceder , entender que el recurso en tratamiento no poder prosperar , todo vez que el impugnante no haber lograr demostrar el infracción legal que denunciar , ni el violación de el doctrina legal que citar ( conf. art . 279 , C.P.C.C. ) . en tal sentido , prestir mi adhesión a el fundamento que brindar en el punto I , II -aps . 1 y 2- y III de su exposición . # por otro parte , entender que el denuncia de arbitrariedad del fallo que ensayar el recurrente carecer de entidad , en tanto él basar en afirmación genérico técnicamente insuficiente para lograr el revisión pretendido ( conf . causa C. 108184 , sent. del 22-XII-2010 ) . #Con costa a el vencido ( arts . 289 C.P.C.C. ) .#Voto por el negativa . # el señora Jueza doctora Kogan , por el mismo fundamento del señor Juez doctor Negri , votar también por el negativa . ir el cuestión planteado , el señor Juez doctor Pettigiani decir : # adherir a el solución propiciado por el distinguido colega doctor de Lázzari en su voto y a el fundamento brindado a tal fin . él con exclusión de él allí señalar en el apartado II.2 párrafo séptimo y octavo , en tanto entender que el conclusión propuesto por el aludido colega él abastecer de modo adecuado con el restante consideración que sustentar su parecer . #Con el alcance indicado voto , pues , por el negativa . #Costas a el recurrente vencido ( arts . 60.1 , ley 12008 ; t .o. ley 13101 ; 68 primero párrafo y 289 in fine del C.P.C.C. ) . #Con él que terminar el acuerdo , dictar él el siguiente#S e N T e N C I A#Por él expuesto en el acuerdo que anteceder , él rechazar el recurso extraordinario de inaplicabilidad de ley , con costa a el recurrente vencido ( arts . 51 , ley 12008 - texto según ley 14437 y 60.1 , ley 12008 - texto según ley 13101- y 68 , 279 y 289 del C.P.C.C. ) . # el depósito quedar perdido para el recurrente ( arts . 293 y 294 , C.P.C.C. ) .#Regístrese , notifiquer y devolver él . #HECTOR NEGRI #HILDA KOGAN eduardo JULIO PETTIGIANI ieduardo NESTOR de LAZZARI #JUAN JOSE MARTIARENA#Secretario #TEXTO completo C U e R D O#En el ciudad de el Plata , a 15 de julio de 2015 , haber él establecer , de conformidad con él dispuesto en el Acuerdo 2078 , que deber observar él el siguiente orden de votación : doctor Negri , Genoud , Kogan , de Lázzari , él reunir el señor juez de el Suprema Corte de Justicia en acuerdo ordinario para pronunciar sentencia definitivo en el causa Q. 71783 , \" Orellano , Mirta Elena c . Caja de Retiros , Jubilaciones y Pensiones de el Policía de el Provincia de Buenos Aires ( QUEJA por denegación de RIL ) \" .#A N T e C e D e N T e S#I . el Cámara de Apelación en él Contencioso Administrativo con asiento en Mar del Plata hacer lugar al recurso de apelación interpuesto por el actora , revocar el sentencia de primero instancia y anular el resolución atacado , reconocer él a el señora Orellano el derecho que él asir a el pensión solicitado ( v. fs . 98107 ) .#II . cisconfor yo con ese decisión , el demandado interponer recurso extraordinario de inaplicabilidad de ley ( fs . 116/123 ) el que , denegar ( fs . 128/129 ) , motivar el presentación de el consecuente queja ante este Tribunal ( v. fs . 215/218 ) .#III . por resolución de fecha 30-V-2012 este Corte hacer lugar al recurso de hecho y conceder el remedio extraordinario de inaplicabilidad de ley deducido ( v. fs . 228/20 ) .#IV . incontrar él el causa en estado de pronunciar sentencia , el Suprema Corte resolver plantear y votar el siguiente#C U e S T I Ó N# ¿ ser fundado el recurso extraordinario de inaplicabilidad de ley interpuesto ? #V o T a C I Ó N#A el cuestión planteado , el señor Juez doctor Negri dijo: #I.1 . el señora Mirta Elena Orellano promover demanda contencioso administrativo contra el Caja de Retiros , Jubilaciones y Pensiones de el Policía de el provincia de Buenos Aires , con el objeto de obtener el anulación de el resolución emitido por el Directorio del organismo previsional que él denegar el beneficio de pensión derivado del fallecimiento de su cónyuge .#2 . el juez de primero instancia en él Contencioso Administrativo n° 1 del Departamento Judicial Azul dictar sentencia rechazar el pretensión anulatorio promovido , por entender que el señor Abalos , cónyuge de el actora , no contar con servicio suficiente ni afiliación a el Caja demandado al momento de su fallecimiento ( fs . 60/65 ) .#3 . el Cámara de Apelaciones en él Contencioso Administrativo de Mar del Plata hacer lugar al recurso de apelación deducido por el accionante , revocar el pronunciamiento de grado y anular el resolución atacado , reconocer él a el actora el derecho que él asir a el pensión solicitado . #Para así resolver destacar que el art . 42 del decreto ley 9538/190 ( régimen aplicable conforme el fecha fallecimiento del señor Abalos ) establecer que para el determinación de el prestación pensionario deber aplicar él uno porcentaje ( 75/100 ) sobre el monto del haber previsional que tener otorgar el causante que , al momento de su fallecimiento : i ) haber ser titular de uno derecho jubilatorio ; o ii ) tener derecho a jubilación ; o iii ) él encontrar en actividad .#Señaló que el sub examinar no versar sobre ninguno de el situación contemplado en el dos primero supuesto de el norma reseñado , todo vez que el pensión solicitado por el señora Orellano encontrar su razón de ser en el muerte de su esposo encontrar él en actividad como trabajador autónomo , contingencia distinto y plenamente independiente de el que él verificar cuando quien fallecer él hallar jubilado o en condición de acceder al beneficio jubilatorio . iconsiderar así que no ser del caso exigir , para el obtención del beneficio pensionario , el cumplimiento del requisito vinculado con el antigüedad en el servicio prestado , en tanto dicho recaudo cobrar virtualidad sólo con respecto a el dos primero supuesto . # despejado tal cuestión , analizar el denegatoria de el Caja demandado en tanto el causante haber fallecer sin encontrar él afiliado a su régimen .#Destacó que el citado art . 42 del decreto 9538/190 exigir , a el efecto del otorgamiento de el pensión , que el causante fallecer estar en actividad . y si bien ser cierto que luego , en el arts . 43 a 47 , al regular quién tener derecho a percibir pensión móvil , él referir al causante de el prestación como \" afiliado \" , concluir de él que el ley estar exigir que este él encontrar formalmente afiliado al régimen de el Caja de Policías al momento del deceso , no implicar sino desinterpretar el texto de tal disposición . #Para decidir en tal sentido hacer referencia a el doctrina que emanar de este Corte de el causa B . 55171 , \" Frattini \" , sentencia del 23-IV-1996.#4 . contra tal pronunciamiento el demandado interponer recurso extraordinario de inaplicabilidad de ley o doctrina legal . #Sostuvo que el Cámara actuante resolver sobre el base de el primero parte del art . 42 del decreto ley 9538/190 , omitir reparar en el segundo parte de dicho norma , cuyo inclusión haber arrojar uno interpretación completamente distinto a el efectuado . #Agregó que el consideración del art. 41 de ese cuerpo legal también haber modificar el tratamiento de el cuestión . #Reparó que el norma en crisis regular el quantum de el pensión y no su procedencia . explicar así que el tercero presupuesto ( este es , el pensión en caso de que el causante haber fallecer estar en actividad ) , que ser justamente en el cual el Cámara funda su decisorio , aclarar a continuación \" salvo que el muerte ocurrir por acto de servicio o como consecuencia del mismo \" . #Señaló que cuando el artículo hablar de actividad él tratar de actividad en el fuerza y no prestar cualquiera tipo de servicio , menos aún en otro jurisdicción . # en subsidio manifestar que en caso de duda el art . 53 de el ley de jubilación de policía remitir al sistema previsional provincial , cuyo art . 67 regular que en el supuesto de fallecimiento en actividad , el Instituto de Previsión Social ser caja otorgante de el pensión siempre que el causante él encontrar afiliado a el mismo al momento de producir él el deceso .#II . Adelanto que el recurso no poder prosperar . # tener en cuenta el marco normativo aplicable ( decreto 9538/190 ) , el alzada considerar que en el caso no corresponder exigir , para el obtención del beneficio pensionario , el cumplimiento del requisito vinculado con el antigüedad en el servicio prestado , en tanto el causante no gozar de beneficio jubilatorio alguno ni él hallar en condición de jubilar él , sino que fallecer en actividad , supuesto en el cual el pensión no él hallar condicionado al cumplimiento de el recaudo exigido para el jubilación . #sentado él , juzgar desacertado el resolución de el Caja demandado que denegar el derecho pensionario en tanto el causante haber fallecer sin encontrar él afiliado a su régimen ( v. fs . 18 del expte. adm. 2138-112758/07 ) , considerar que el norma requerir únicamente que este \" fallecer estar en actividad \" . así , agregar que concluir que el ley estar exigir que el causante él encontrar formalmente afiliado al régimen de el Caja demandado al momento de su deceso , no implicar sino desinterpretar el texto de el norma . #Tal como él sostener el alzada , este Corte haber decir con anterioridad que cuando el ley hablar de \" afiliado \" , no estar incorporar uno requisito más a el fin del discernimiento del beneficio pensionario . Llama afiliado al causante porque asignar tal carácter al personal en actividad , a el jubilado y también a el que haber desempeñar servicio de afiliación al organismo previsional y conservar en él depositado su aporte , al menos hasta que ser titular de beneficio otorgado en otro ámbito y él proceder a el transferencia de aporte ( conf . doctrina causa B. 55171 , \" Frattini \" , sent. del 23-IV-1996 , en relación al régimen instituido por el ley 8587/76 ; B. 54784 , \" Dana \" , sent. del 27-vI-1995 ; B. 54539 , \" Rositano de Baena \" , sent. del 15-VIII-1995 y B. 56023 , \" Alcadeff \" , sent. del 4-III-1997 ; entre otro ) .#Esta ser el exégesis que más armonizar con el texto de el disposición aplicable al caso . por otro parte en el interpretación de el norma que acordar jubilación y pensión deber privar el fin tuitivo propio de el materia previsional , cuidar que el sentido que a él él él asignir no conducir a el pérdida o al desconocimiento de derecho a quien el ley haber querer proteger . #Más aún si él , como en el caso , implicar el denegación del beneficio en mérito de uno distingo indebido . él por cuanto , tal como ser poner de manifiesto por el a quo , el juez de grado incurrir en uno error al considerar que el actora poder ejercer su derecho a obtener el pensión pretendido ante el Administración nacional , en tanto el servicio nacional reconocido él ser por uno lapso de cinco mes y veintidós día con aporte ( v. fs . 13 del expte. adm. 2138-112758/07 ) , mientras que en el policía registrar siete año , cinco mes y quince día de servicio con aporte ( según cálculo efectuado por el División de Afiliaciones y Cómputos a fs . 13 del citado expte. adm. ) # en el caso no él discutir que el causante haber estar en actividad al momento de su muerte , en tanto él surgir acreditar del reconocimiento de servicio efectuado por el A.N.Se .S. ( v . resol. del 29-IV-2005 , fs . 60 del expte. adm. 2138-112758/07 ) , por él que no caber exigir otro requisito a el efecto de consagrar el derecho a pensión de el actora . # el solo circunstancia del fallecimiento del causante mientras él encontrar en actividad , generar en cabeza de el viuda el derecho a percibir uno pensión , sin exigir tal norma otro requisito para su procedencia .#III . por el fundamento expuesto corresponder el rechazo del recurso extraordinario interpuesto ( art . 289 in fine , C.P.C .C. ) .#Voto por el negativa . # el costa él imponer al recurrente vencido ( arts . 60 inc. 1 , ley 12008 , texto según ley 13101 ; 289 in fine del C.P.C.C. ) .#A el cuestión planteado , el señor Juez doctor Genoud dijo: #I.1 . el Caja de Retiros , Jubilaciones y Pensiones de el Policía de el Provincia de Buenos Aires denegar el otorgamiento del beneficio de pensión solicitar por el señora Orellano , todo vez que el causante haber fallecer sin encontrar él , en ese entonces , afiliado a su régimen .#2 . por su parte el Cámara actuante interpretar el dispositivo legal , afirmar que cuando él aludir al \" afiliado \" no él incorporar uno nuevo requisito , pues referir al personal en actividad , a el jubilado y también a el que haber desempeñar servicio de afiliación al organismo previsional y conservar en él depositado su aporte , al menos hasta que ser titular de beneficio otorgado en otro ámbito y él proceder a el transferencia de aporte .#II . el temática haber ser abordar anteriormente por este Tribunal , si bien con uno integración distinto y en el marco del decreto ley 9650/980 ( B. 56023 , \" Alcadeff \" , sent. del 4-III-1997 ; entre otro ) .#1 . en efecto , el mayoría decisorio que allí brindar su opinión - de el cual tomar su motivación el sentencia recurrida- considerar que a el fin del otorgamiento de uno beneficio pensionario , el referencia normativa en relación al causante de el prestación como al \" afiliado \" no poder interpretar él como el exigencia de el formal afiliación de aquél a uno régimen previsional como requisito para el generación del derecho a pensión en favor de su causahabientes . a tal fin sólo corresponder exigir que el causante estar en actividad a el fecha de producir él su deceso .#2 . asimismo , el opinión minoritario ponderar el ausencia de argumento legal que funda él el afirmación según el cual , por el solo hecho de estar trabajar al momento del deceso sin haber manifestar su voluntad de afiliar él o abonar el aporte , deber considerar él afiliado en actividad , que ser él que exigir el ley . a él él añadir que no suplir tal recaudo el acto administrativo de reconocimiento de servicio dictar por el Caja Nacional de Previsión para Trabajadores Autónomos , cuyo efecto él limitar a uno eventual cómputo de aquéllo .#iii.1 . desde el perspectiva que proponer , destacar que el punto central consistir en determinar a qué organismo previsional él corresponder ejercer el rol de Caja otorgante . #Colocado en tal dialéctico , cobrar especial vigor el método constructivo de interpretación jurídico que él fundamentar en el totalidad sistemático que conformar uno texto jurídico , tener en consideración que en materia previsional deber procurar él el aplicación racional de el norma que él integrar , evitar el adopción de solución injusto cuando ser posible arbitrar otro de mérito opuesto . # así el norma que disciplinar el caso no deber ser interpretar en forma aislado e inconexo , sino como parte de uno estructura sistemático considerado en su totalidad .#2 . el denominado Ley Nacional del Sistema Integrado de Jubilaciones y Pensiones 24.241 ( promulgado el 13-X-1993 , fecha en que entrar en vigencia conforme él establecer el art . 191 ap. \" d \" derogar el ley 18037 y , en él referir al organismo que deber asumir el rol de Caja otorgante , disponer que ser cualquiera de el comprendido en el sistema de reciprocidad en cuyo régimen él acreditar \" mayor cantidad de año de servicio con aporte \" ( art . 168 , ley cit. ) . # por su parte el art . 67 del decreto ley 9650/980 , señalar que ser otorgante de el prestación , aquel a el que corresponder el mayor tiempo con aporte .#3 . ser así que , el mayor parte de su vida activo , el causante él desempeñar en el Policía provincial , por él que no existir duda que tal ejercicio determinar el mayor cantidad de año con aporte a el Caja respectivo , el que deber asumir por tanto el rol de entidad otorgante del beneficio .#IV . por él brevemente expuesto , y en cuanto resultar coincidente con él señalar hasta aquí , adherir al voto del señor Juez doctor Negri y dar el mío en igual sentido . #Voto por el negativa . # el señor juez doctor Kogan y de Lázzari , por el mismo fundamento expuesto por el señor Juez doctor Genoud , votar también por el negativa . #Con el que terminar el acuerdo , dictar él el siguiente#S e N T e N C I A#Por él expuesto en el acuerdo que anteceder , por mayoría de fundamento concordante , él rechazar el recurso extraordinario interpuesto ( art . 289 , C.P.C .C. ) . # el costa él imponer al recurrente vencido ( arts . 60 inc. 1 , ley 12008 , texto según ley 13101 ; 289 in fine del C.P.C.C. ) .#Regístrese , notifiquer y devolver él . iluis ESTEBAN GENOUD #HECTOR NEGRI HILDA KOGAN ieduardo NESTOR de LAZZARI #JUAN JOSE MARTIARENA#Secretario #TEXTO completo C U e R D O#En el ciudad de el Plata , a 9 de septiembre de 2015 , haber él establecer , de conformidad con él dispuesto en el Acuerdo 2078 , que deber observar él el siguiente orden de votación : doctor Genoud , Soria , de Lázzari , Kogan , él reunir el señor juez de el Suprema Corte de Justicia en acuerdo ordinario para pronunciar sentencia definitivo en el causa I . 3230 , \" INC S.A. ( ex Carrefour Argentina S.A. ) . Inconstituciona-lidad art. 36 ley 13003 \" .#A N T e C e D e N T e S#I . el empresa INC S.A. ( ex Carrefour Argentina S.A. ) , por apoderado , promover demanda originario solicitar que él declarar el inconstitucionalidad del art . 36 de el ley 13003 ( B.O. , 6-I-2003 ) en cuanto convalidar el Informe 116/02 emitido por el Dirección Provincial de Rentas que imponer a cierto contribuyente uno adicional del 30/100 del Impuesto sobre el Ingresos Brutos para el año 2002 , en violación - según alega- del principio de Legalidad Tributaria . #II . el Asesor General de Gobierno él presentar a contestar el demanda , oponer él liminarmente a su admisibilidad y , subsidiariamente , solicitar su rechazo con argumento de fondo . #III . agregado el cuaderno de prueba de ambos parte , el alegato de el actora y oído el señora Procuradora General , el causa quedar en estado de ser resuelto , por él que el Tribunal decidir plantear y votar el siguientes#C U e S T I o N e S#1ª . ¿ ser admisible el demanda ? # en caso afirmativo :#2ª . ¿ ser fundado ? #V o T a C I Ó N#A el primero cuestión planteado , el señor Juez doctor Genoud decir : # el empresa accionante cuestionar el constitucionalidad del art . 36 de el Ley Impositiva 13003 en cuanto afirmar que ser a partir del 1 de enero de 2003 que él dejar sin efecto el incremento del 30/100 de el alícuota del Impuesto sobre el Ingresos Brutos que el supermercado e hipermercado de venta minorista deber tributar , en oposición a valor inferior previsto oportunamente en el Ley Impositiva del año 200..444iclico que el ley 12727 establecer uno aumento del 30/100 en el importe previsto en el Ley Impositiva 2001 para ser aplicar a partir del mes de julio del referir año y por él , únicamente válido para el período fiscal que ser dictar ; este es , durante el año 2001118i que dicho disposición en ninguno caso poder haber proyectado su efecto más allá de el fecha de vigencia de el norma que modificar . sin embargo , puntualizar que el Ley Impositiva del 2002 él aprobar recién en mayo de ese año ; con él cual el primero parte de ese ciclo regir el Ley Impositiva del año 2001 prorrogado automáticamente . #Señala que el nivel de tributación aplicable en ese primero mes no incluir el incremento del 30/100 en el alícuota del Impuesto sobre el Ingresos Brutos porque el norma que disponer tal aumento no él encontrar incorporado al texto de el ley impositivo prorrogado . # Precisa que aun considerar inaplicable el subir aludido durante el período anterior a el sanción de el nuevo ley impositivo , su parte ingresar el anticipo mensual computar el adicional del 30/100 pues considerar apropiado adoptar el conducta de mayor precaución . #Manifiesta que el Ley Impositiva del 2002 ( ley 12879 ) ser finalmente sancionar y para el actividad atinente a el que desempeñar el empresa que representar , él establecer el mismo alícuota del 3/100 que venir ser aplicable antes de el subir dispuesto por el Ley de Emergencia 12727 .#Indica que pese a el claridad de su disposición , el Dirección provincial de Rentas emitir uno documento denominado \" Informe 116/02 \" o \" Dictamen 116/02 \" por el cual él disponer el aplicación de alícuota adicional a el establecido por el Legislatura para ese año respecto del impuesto en cuestión y , con fundamento en dicho instrumento , intimar de pago a Carrefour Argentina S.A. -actualmente INC S.A. - por el diferencia no ingresado . # en ese contexto ser sancionar el Ley Impositiva 2003 ( 13.003 ) -impugnado en auto - que introducir uno disposición que pretender legitimar el aludido Informe 116/02 , en tanto por su intermedio él especificar que el incremento del 30/100 él dejar sin efecto a partir del 1-I-2003 ; con él cual él aseverar tácitamente que el mismo él hallar vigente durante todo el año 2002.#destaca que ser precisamente tal precepto normativo el que él causar agravio pues él considerar violatorio de el garantía constitucional de legalidad tributario contemplado en el arts . 25 y 103 inc . 1 de el Constitución provincial . #Argumenta que el legislador no poder sanear retroactivamente el atropello a el garantía más elemental que producir el aprobación del mencionado Informe 116/02 , apelar a establecer el valor del impuesto para uno ejercicio fiscal que ya haber concluir cuando el ley 13003 ser dictado . #Funda su posición en el norma de el Constitución provincial antes citado junto a él dispuesto por el arts . 5 , 19 y 33 de el Carta nacional . #Ofrece probar y plantear el caso federal .#II . 1 . el Asesoría General de Gobierno , oponer liminarmente el inadmisibilidad de el demanda con fundamento en el siguiente cuestión ; a saber :#a . Extemporaneidad#Pone de relieve el carácter patrimonial de el derecho invocado junto al hecho de que el plantear no resultar preventivo , atento él cual señalar que deber respetar él el plazo de treinta día para deducir el acción , previsto por el art . 684 del Código Procesal Civil y Comercial .#Argumenta que , de acuerdo al modo en que ser planteado el pretensión constitucional , el supuesto lesión de derecho él concretar a partir de el vigencia de el norma cuestionado pues ser a partir de entonces que el empresa actor deber ajustar él a el requisito y condición allí establecido . #Añade que el ley 13003 ser publicar en el Boletín Oficial el día 6-I-2003 y el demanda recién él presentar el 25-VI-2003 ; es decir , uno vez vencer el plazo de treinta día previsto por el Código de rito para su plantear . #Pide , en consecuencia , él declarar el inadmisibilidad de el demanda por su extemporaneidad , con imposición de costa .xb . el demanda no él dirigir contra el norma en él sino contra aquel que el accionante presumir ser intención del legislador . #Señala que el empresa demandante circunscribir su agravio a el interpretación que él mismo efectuar de el norma reputado lesivo al aseverar que el Poder Ejecutivo \" pretender legitimar \" el ejercicio del poder tributario por parte de el Dirección Provincial de Rentas ; con él cual , no él tratar del objeto sobre el que deber versar el demanda originario de inconstitucionalidad .xc . Ausencia de interés en accionar . # por último , destacar que el ley 13003 lejos de perjudicar a el actora , él beneficiar puesto que dejar sin efecto el incremento de el alícuota previsto hasta entonces para el actividad que este desempeñar respecto del Impuesto a el Ingresos Brutos .#2 . en cuanto al fondo , negar el afirmación de el actora en él atinente a el alcance del Informe 116/02 de el Dirección Provincial de Rentas pues considerar que no poder ser calificar como -ni pretender sarir uno acto de alcance general con trascendencia fuera del organismo emisor . #Aduce que él tratar de uno instrumento producido por uno oficina técnico dirigido a informar y evacuar uno plantear formulado por el Subdirección Grandes Contribuyentes y agente de Recaudación que , de ninguno modo regir el relación tributario para con el contribuyente . #Indica que el obligación que pesar sobre el actora respecto del Impuesto sobre el Ingresos Brutos él hallar perfectamente delineado en el ley tributario respectivo y , el incremento de el alícuota , en el art. 36 de el ley 12727 .#Concluye que en tal condición , no poder endilgar él a el ley 13003 violación al principio de legalidad pues , por su intermedio , el Legislatura provincial haber ejercer el facultad que el Constitución él haber encomendar en el art . 103 inc. 1 . # en definitiva , pedir el rechazo de el demanda fundado en el conformidad de el norma objetado con el texto de el Carta provincial y el condena en costa a el accionante .#III . por su parte , el señora Procuradora General emitir dictamen aconsejar el rechazo de el pretensión debido a -entre otro razón - el extemporaneidad de el presentación de el demanda ( v. fs . 401/006 ) .#IV . a este altura del análisis advierto que este Tribunal él haber pronunciar en uno causa anterior ( causa I. 3231 , \" Supermercados Norte S.A. \" , sent. del 15-XII-5010 ) en el que tanto el cuestión controvertido como el circunstancia temporal que rodear su plantear , él presentar en forma idéntico al presente . por tal razón , el fundamento expuesto en aquel precedente guiar , en él pertinente , el solución del caso .#1 . el punto de partida de el primero cuestión planteado residir en determinar si resultar aplicable al sub lite el art . 684 del Código de rito y , en su caso , establecer si el demanda haber ser presentar dentro del plazo allí establecido . # el tratamiento de el restante planteo , depender del resultado al que él arribar en aquel cuestión liminar . #a fin de establecer el aplicación del plazo de treinta día al caso en análisis , el normativa en vigor imponer discriminar si yo encontrar en presencia de derecho de naturaleza patrimonial ( conf. art . 684 , C.P.C.C. ) . # en sustancia , el actora perseguir el declaración de inconstitucionalidad del art . 36 de el Ley Impositiva 13003 ( B.O. , 6-I-2003 ) , en su condición de sujeto pasivo del impuesto a el Ingresos Brutos , invocar el trasgresión al principio de Legalidad en materia tributario por exigir él uno adicional sobre el valor de el alícuota originariamente previsto .#a . sobre el punto recordar que a juicio de este Tribunal rever carácter patrimonial el acción que él entablar para salvaguardar interés económico eventualmente afectado por el norma reputado inconstitucional , no deber él prescindir de tal carácter por el hecho de que él alegar otro daño no patrimonial que aparecer como complementario del interés primario en cuyo defensa él accionar ( doctr . causa I. 1335 , \" Club Atlético Brown \" , sent. del 27-IX-1994 ) como tampoco otorgar carácter institucional en el sentido del art . 685 del Código Procesal Civil y Comercial a el norma cuestionado , el circunstancia de que él discutir uno derecho reconocido por el Constitución , pues en último instancia todo el derecho encontrar resguardo constitucional ( doctr . causa I. 1180 , \" Locurscio \" , sent. del 7-VIII-1990 ) .#Es así que uno reclamo de naturaleza tributario como el que ser motivo de controversia en auto , por su marcado carácter patrimonial , definir el contenido de el acción y con él el aplicación del plazo de caducidad señalar en el Código de rito .#b . para evaluar , entonces , el tempestividad de el pretensión articulado , ser menester desentrañar el fecha a partir de el cual comenzar a correr el término reglado por el art . 684 del Código Procesal Civil y Comercial . # de acuerdo a el norma referido , el plazo deber computar él \" desde que el precepto impugnado afectar concretamente el derecho patrimonial del actor \" ; con él cual , más allá del supuesto en que el pretensión ser ejercido con finalidad preventivo , el momento a partir del cual comenzar a correr dicho término ser uno cuestión que haber de verificar él en cada caso ( doctr . causa I. 1591 , \" González \" , sent. del 20-X-1998 ; I. 2148 , \" Mule \" , sent. del 21-V-2008 ) .#Esta Corte haber resolver que si del relato y antecedente del caso surgir que el afectación de el situación invocado por el actor él producir con el dictado de el norma que cuestionar , al establecer él en él el obligación tributario de aplicación a su situación y quedar con su vigencia sujeto al cumplimiento de tal imposición , el plazo de caducidad deber computar él desde ese momento ( causa I . 1854 , \" Lamano \" , res. del 11-X-1995 ; I. 2148 , antes cit.) .#c . por cuanto concernir a este último , resultar que el ley 13003 ( B.O. , 6-I-2003 ) - en él que ser materia de impugnación por el demandante - regular el fecha fijado para el cese del adicional de el alícuota del Impuesto a el Ingresos Brutos , el cual establecer para el día 1-I-2003 . #Es del caso destacar , que el incremento aludido haber ser implementar por el Ley de Emergencia 12727 para ser aplicar a partir del mes de julio de 2001 sobre el alícuota del Impuesto a el Ingresos Brutos previsto por el ley impositivo de ese año . # el norma del año siguiente - ley 12879 fijar el valor de tributación del gravamen en cuestión en el índice ordinario del 3/100 . pese a él , el entonces Dirección Provincial de Rentas elaborar uno documento denominado \" Informe 116/02 \" con fecha 14-VI-2002 por el cual determinar que el aumento incluido en el art. 6 de el ley 12727 tener \" ... vocación de permanencia , este ser que él prolongar por todo aquel tiempo que irrogar el proceso de transformación aludido \" ( v. copia del dictamen referir a fs. 9 ) . # en ese contexto él dictar el ley impugnado en el proceso ; él cual explicar que únicamente disponer el fecha de extinción del suplemento sin hacer referencia a aquéllo en el que iniciar su vigencia . #Siendo él así , el afectación de derecho en este caso él identificar con el fecha de publicación de el norma pues ser a partir de entonces que el empresa accionante estar en condición de tomar conocimiento , tanto de el vigencia como del contenido de el ley tributario controvertido y , de ese modo estimar el consecuencia perjudicial de su aplicación .#d . el circunstancia del caso apuntado en el apartado anterior , descartar también el finalidad preventivo del accionante al momento de deducir el acción . #Es que el precepto que cuestionar , no tener vocación de regir para el futuro sino que su finalidad ­insisto - ser conferir certeza a el situación jurídico nacido al amparo de el ley tributario anterior . #Entre otro nota que informar el caso y corroborar el conclusión precedente , valer resaltar el intimación cursado por el agencia recaudador provincial en el que él invocar únicamente a el ley 12727 como fuente primario del suplemento de el obligación tributario . él ser así no sólo respecto de aquél emitido con anterioridad a el sanción de el ley 13003 en el que también él incluir al mentado Informe 116/02 ( v. copia de fs. 26 y 30 ) sino precisamente el enviado con fecha 27-I-2003 ; es decir , uno vez en curso el ley 13003 ( v. copia a fs . 28 ) .# en tal condición , el agravio del modo expuesto por el accionante y fundamento de su pretensión constitucional -liquidación del Impuesto a el Ingresos Brutos correspondiente al período fiscal 2002 con el adicional del 30/100 - , ya él haber producir al tiempo en que ser presentar el demanda ( v. cargo a fs . 56 vta. del 25-VI-2003 ) .# de cualquiera modo , en el término empleado por el art . 684 del Código Procesal Civil y Comercial no él requerir el dictado de uno acto administrativo de alcance particular para considerar afectado de modo concreto el derecho patrimonial de el contribuyente comprendido en el norma atacado y sujeto por tanto a el obligación de pago del impuesto en cuestión . él determinante del caso , a efecto de iniciar el cómputo del plazo de caducidad , ser que de el hecho acreditado en el causa resultar inequívoco el aplicación de el norma en crisis ( doctr . causa I. 1514 , \" Chirdo \" , res . del 23-IV-1991 ; I. 1513 , \" Merlo \" , res . 18-V-1991 ; I. 1329 , \" Playamar S.R.L. \" , sent. del 10-XII-1992 ; I. 1451 , \" Clínica Cosme Argerich \" , sent. del 5-III-1996 ; I. 2009 , \" Falocco \" , sent. del 7-X-1997 ; I. 2151 , \" Smaldini \" , res. del 8-IX-1998 ; I. 1607 , \" Hidalgo \" , sent. del 13-IV-1999 ; I. 2160 , \" Parque Eterno C.A. \" , res. del 27-Iv-1999 ; I. 2219 , \" Serrano González \" , sent. del 3-IV-2008 ; I. 2148 , antes cit. , entre otro ) .#2 . ser él así , tener presente que el ley 13003 ser publicar en el Boletín Oficial el día 6-I-2003 , el demanda articulado con fecha 25-VI-2003 ( v . cargo impuesto a fs . 56 vta. ) , resultar extemporáneo . # el vencimiento del plazo señalar sellar el suerte adverso de el posibilidad de ventilar en este instancia uno plantear como el proponer ( causa I . 1645 , \" Figoni \" , res. de 26-VII-1994 ; I. 1631 , \" Labinca S.A. \" , sent. del 17-II-1998 ; I. 1616 , \" Marsiglia \" , sent. del 8-IX-1998 ; I. 1591 , \" González \" , sent. del 29-X-1998 ; I. 1593 , \" Paredes \" , sent. del 29-XII-1998 ; I. 1587 , \" Montiel \" , sent. del 29-XII-1998 ; I. 2160 , \" Parque Eterno S.A. \" , res. del 27-Iv-1999 , I. 2219 , \" Serrano González \" , sent. del 3-IV-2008 , I. 1995 , antes cit. , I. 70883 , \" D’Argenio \" , res. del 19-2-2010 ; I. 3135 , \" Salvatierra \" , sent. del 7-2I--2010 , entre mucho otro ) sin perjuicio de el restante camino procesal a el que el parte demandante poder recurrir en defensa de el derecho constitucional que decir tener conculcado ( doctr. causa \" Rolfo , Mateo y otro c/ Municipalidad de San Pedro \" , sent. del 7-III-1967 , \" Jurisprudencia Argentina \" , 1967-V9-511 , reiterado recientemente en I. 2219 , \" Serrano González \" , sent. del 3-IV-2008 ; I. 2170 , \" Asarchuk \" , sent. del 10-III-2010 ) .#V . a tenor de él expuesto , tener en cuenta que el plazo fatal para ventilar en este instancia originario uno plantear como el proponer haber fenecer , el demanda resultar inadmisible . ir el cuestión planteado , voto por el negativa . # en atención al sentido de mi voto a el primero cuestión , entender que no ser necesario que yo expidar sobre el segundo . #Costas a el actora , por su objetivo condición de vencido ( art. 68 del C.P.C .C. ) . # el señor juez doctor Soria , de Lázzari y Kogan , por el fundamento expuesto por el señor Juez doctor Genoud , votar el primero cuestión también por el negativa . #Con él que terminar el acuerdo , dictar él el siguiente#S e N T e N C I A#Por el fundamento expuesto en el acuerdo que anteceder , oído el señora Procuradora General , él rechazar el demanda . # Costas a el actora por su condición de vencido ( art. 68 , C.P.C.C. ) . # por su actuación en auto , regúlanse el honorario de el letrado interviniente ; a saber : por el parte actor , doctor Horacio Daniel García Prieto en el suma de peso … , Ricardo Albina en el suma de peso … y Gustavo Grinberg en el suma de peso … ; por el demandado , al señor Asesor General de Gobierno en el suma de peso … ( arts . 10 , 13 , 14 , 15 , 16 , 21 , 22 , 23 segundo párrafo , 28 inc. \" a \" y 54 del decreto ley 8904/1977 ) , cantidad a el que él deber adicionar el 10/100 ( ley 8455 ) y el porcentaje que corresponder según el condición tributario de el mencionado profesional frente al Impuesto al Valor Agregado . #Regístrese y notifíquese . iluis ESTEBAN GENOUD #HILDA KOGAN eduardo NESTOR de LAZZARI #DANIEL FERNANDO SORIA #JUAN JOSE MARTIARENA#Secretario #TEXTO completo C U e R D O#En el ciudad de el Plata , a 24 de junio de 2015 , haber él establecer , de conformidad con él dispuesto en el Acuerdo 2078 , que deber observar él el siguiente orden de votación : doctor Hitters , de Lázzari , Negri , Pettigiani , Kogan , él reunir el señor juez de el Suprema Corte de Justicia en acuerdo ordinario para pronunciar sentencia definitivo en el causa A. 72381 , \" Zerbini , Francisco Cayetano contra Instituto Municipal del Deporte de Lomas de Zamora . Recurso extraordinario de inaplicabilidad de ley \" .#A N T e C e D e N T e S#La Cámara de Apelación en él Contencioso Administrativo con asiento en el Plata rechazar el recurso de apelación interpuesto por el actor , confirmar el sentencia de primero instancia e imponer el costa en el orden causado ( fs. 573/578 ) rexisconfor yo con ese pronunciamiento , el accionante promover recurso extraordinario de nulidad e inaplicabilidad de ley ( fs. 583/995 ) , el que ser concedido por el Cámara ( fs . 314/315 ) . #Esta Suprema Corte desestimar el recurso extraordinario de nulidad y llamar auto para resolver en relación al de inaplicabilidad de ley ( fs. 603/004 ) , por él que , encontrar él el causa en estado de pronunciar sentencia , resolver plantear y votar el siguiente#C U e S T I Ó N# ¿ ser fundado el recurso extraordinario de inaplicabilidad de ley interpuesto ? #V o T a C I Ó N#A el cuestión planteado , el señor Juez doctor Hitters decir : #I. 1 . el señor Francisco Cayetano Zerbini iniciar demanda contencioso administrativo contra el Instituto Municipal del Deporte y el Municipalidad de Lomas de Zamora , solicitar el nulidad de su despido , su reincorporación y el resarcimiento del daño moral ( fs . 69/88 ) .#2 . el Juzgado en él Contencioso Administrativo del Departamento Judicial Lomas de Zamora hacer lugar a el excepción de falta de legitimación pasivo articulado por el municipio accionado y rechazar el demanda interpuesto contra el Instituto Municipal del Deporte ( IMDEP ; fs . 514/522 vta . ) .#3 . el Cámara de Apelación del fuero con asiento en el Plata confirmar el pronunciamiento de grado ( fs. 573/579 ) , para él cual considerar , en primero lugar , que el recurso no él expresar sobre el excepción de falta de legitimación pasivo de el demandado , por él que , en ese punto , el decisorio llegar firme a el alzada . # por otro parte , que el expresión de agravio no contener uno réplica efectivo en cuanto al fondo de el cuestión . pponderar que , de el constancia de el causa surgir que el sucesivo designación en planta transitorio haber ser formulado en el marco de el ley 11757 , acorde el disposición especifico referido a ese clase de emplazamiento en el empleo público municipal - personal temporario-B , y que , consecuentemente , el actor no ser titular de uno situación jurídico como el que esgrimir en el demanda , en el que solicitar el nulidad de el baja , haber caído e indemnización . #y que , por aplicación del régimen citado , el actor y el agente que él encontrar en el mismo situación estatutario , no poseer estabilidad en el empleo y carecer de derecho a indemnización por cese , decisión que poder ser adoptar por razón de servicio . #Sostuvo que , el pauta constitucional que ordenar que , en caso de duda , deber propiciar él uno interpretación a favor del trabajador ( art. 39 , Constitución provincial ) , tampoco resultar de aplicación al presente , dado que no él verificar el presencia de circunstancia fáctico y/o jurídico opinable y que generar duda sobre su configuración , pues tanto el emplazamiento en el empleo como el función encomendado haber ser precisamente encuadrar en el planta del personal temporario . #En el mismo sentido , agregar que no él hallar acreditar en auto el realización - por parte del actor - de tarea típico de el actividad del personal de planta permanente y , por él tanto , vedado al temporario , cuestión que haber demostrar el existencia de vicio , en tanto haber constituido uno modo de ocultar uno vínculo de empleo estable , mediante el sucesivo renovación de el término de vencimiento . #finalmente , afirmar que el lapso de desempeño superior al exigido para gozar de estabilidad en el cargo no bastar para consolidar el situación jurídico subjetivo reclamado , pues él necesitar además que no haber infracción a el normativa específico sobre el que el actor haber ser designar . #Así , en razón de que el obrar administrativo no merecer reparo , el impugnación en ese segundo instancia deber ser desestimar . #II . contra dicho fallo el actora promover recurso extraordinario de nulidad e inaplicabilidad de ley ( art. 279 del C.P.C.C. ; fs . 583/995 ) . ambos ser concedido por el Cámara actuante .#Luego este Tribunal desestimar el primero de él ( fs. 603/004 ) .#III . respecto al segundo , el parte denunciar violación de doctrina legal , esgrimir que de acuerdo con él establecido en el art . 14 bis de el Constitución nacional , al consagrar el estabilidad del empleado público , no formular distinción alguno acerca del carácter de personal de planta permanente o personal contratado que aquél poder detentar . # asimismo , alegar el erróneo aplicación del art . 92 de el ley 11757 y el violación del art . 102 de el mismo norma . a su vez , arguyar el erróneo apreciación de el ley 23592 , en tanto prohibir el realización de acto discriminatorio , dentro de el cual él entender comprendido el \" despido represalia \" , cuestión que decir , haber ser silenciar en el acto administrativo que disponer su cesantía .#IV . llegar a este punto , considerar que el impugnación deducido no poder prosperar . el notable insuficiencia que portar ( conf. art . 279 del C.P.C.C. ) habilitar el aplicación del art . 31 bis de el ley 5827 -texto según el ley 13812 - que facultar a este Corte a proceder al rechazo de el recurso extraordinario con el solo invocación de ese norma , cuando haber ser insuficientemente fundado . # advertir que el impugnante no cumplir adecuadamente con el fundamentación de su agravio sino que reproducir , ante este instancia , similar argumento a el expuesto al formular el apelación , que ya ser analizar y resolver por el Cámara actuante . # en ese lógica , él que hacer ser señalar su disconformidad y , acto seguido , desarrollar conceptualmente cada uno de el tópico de su escrito de impugnación -estabilidad en el empleo público , erróneo aplicación del art . 92 de el ley 11757 , erróneo aplicación de el ley 23592 , pero limitar él exclusivamente a sostener el argumento de su posición en auto , con abundante aporte jurisprudencial , no dar respuesta a el necesidad de refutar puntualmente , en forma consistente y concreto , el sentencia emitido por el a quo . # al respecto , este Tribunal tener dicho que ser requisito ineludible para el éxito de el postulación recursivo el impugnación concreto , directo y eficaz de el motivación esencial que contener el pronunciamiento objetado , tarea que no él cumplir cuando el recurrente él limitar a exhibir su discrepancia con el criterio del sentenciante ( conf. doct . causa Ac . 70490 , sent. del 22-XI-2000 ; Ac . 92125 , sent. del 26-X-2005 ; Ac . 92476 , sent. del 6-IX-2006 , entre otro ) dejar sin réplica el fundamento del fallo atacar ( conf. doct. causa Ac . 91522 , sent. del 15-III-2006 ; Ac . 90916 , sent. del 28-VI-2066 ; C. 94419 , sent. del 27-VI-2007 , entre otro ) .# además , omitir cualquiera referencia a el doctrina de este Corte citado por el alzada , y aplicable al caso , que fundamentar el fallo atacar .#V . por el razón expuesto , atento a que el recurso haber ser insuficientemente fundado , corresponder su rechazo ( arts . 31 bis , ley 5827 , texto según ley 13812 y 289 del C.P.C.C. ) .#Voto por el negativa . #Costas a el vencido ( arts . 60 inc. 1 , ley 12008 , texto según ley 13101 ; 68 y 289 in fine del C.P.C.C. ) . # el señor Juez doctor de Lázzari , por el mismo fundamento del señor Juez doctor Hitters , votar también por el negativa . ir el cuestión planteado , el señor Juez doctor Negri decir : #I . en mi criterio el recurso en tratamiento exhibir uno suficiente fundamentación . #Por tal motivo , disentir con el solución propiciado por mi colega preopinante , en tanto entender no él encontrar dado el circunstancia que habilitar a este Suprema Corte a rechazar él con el solo invocación del art . 31 bis de el ley 5827 , texto según ley 138121III . en tal contexto e ingresar al fondo de el cuestión planteado , observar que no ser uno hecho controvertido que el actor él vincular con el demandado mediante uno relación de empleo público , como personal de planta transitorio , cumplir tarea de vigilancia en el Instituto Municipal del Deporte de Lomas de Zamora .#a . Conforme surgir de el constancia obrante en el causa , dicho vínculo él prolongar a través de sucesivo renovación , que él ser prorrogar hasta el 31 de mayo de 2007 , fecha a partir de el cual él disponer su cese ( fs . 185/253 ) . #como alegar el recurrente , ese proceder importar , de uno lado , el falta de consideración de otro elemento que demostrar que el relación laboral entablado entre el parte tener el nota de permanencia propio del trabajo estable y , de otro , el erróneo subsunción del relato de el situación del accionante en el norma estatutario aplicado . # de ese modo , considerar que el a quo él desentenderse de el real naturaleza del vínculo laboral demostrado con el documental aportado , de el que él advertir que , en el caso , él haber generar uno situación que resultar asimilable a el del personal de planta permanente con estabilidad .xb . en reiterado oportunidad haber sostener que el designación del personal de planta temporario deber responder , necesariamente , a el pauta fijado en el norma respectivo . es decir , resultar menester consignar en tal acto cuál ser el servicio , obra o tarea a el que él destinar al agente en tanto el plantel temporario ( personal mensualizado y jornalizado ) él componer con aquel empleado necesario para el ejecución de servicio , explotación , obra , o tarea de carácter temporario , eventual o estacional , que no poder ser realizado con personal permanente de el Administración ( B. 49890 , \" Villalba \" , sent. del 11-VIII-1987 ; B. 50547 , \" Zaragoza \" , sent. del 31-V-1988 y posterior ) .#Resulta indudable que el función desarrollado por el recurrente ser actividad normal de uno entidad como el accionado , que poder ser prestar con personal estable de el mismo . en ese condición , el conducta de el demandado , al designar al actor en forma sucesivo e ininterrumpido por uno lapso aproximado de cinco año , devenir carente de razonabilidad .#Asimismo , tal como él indicar en el precedente referido , él actuar por el autoridad administrativo , él manifestar como uno ejercicio abusivo de el facultad que el ordenamiento jurídico él otorgar para designar agente de planta temporario , que intentar frustrar , de manera ilegítimo , el derecho a el estabilidad que asignar a el empleado público el cláusula constitucional en vigencia ( arts . 14 bis , Constitución nacional y 103 inc. 12 , Constitución provincial ) y que tener carácter operativo ( doct . causa B. 49890 , \" Villalba \" , sent. del 11-VIII-1987 y su cita ) .xc . y si bien no caber duda que el derecho a el estabilidad en el empleo no poseer carácter absoluto , cuando el relación laboral él haber consolidar en mérito del desempeño efectivo de tarea propio del personal permanente y de el continuidad en él durante el plazo señalar precedentemente , el garantía de estabilidad no poder ser desconocido mediante uno conducta irrazonable y abusivo de el autoridad administrativo ( conf . mi voto en causa L. 67396 , \" Faraci \" , sent. del 30-IX-1997 ; B. 54753 , \" Batista \" , sent. del 12-V-1998 ; B. 57369 , \" Oliva \" , sent. del 10-IV-2001 ; B. 56138 , \" Moya \" , sent. del 29-VII22001 ; A. 68916 , \" Soverón \" , sent. del 1-X-2008 ) .#d . en virtud de el razón expuesto , juzgar que el decisión deláo quondebar ser revocar , todo vez que el pretensión del accionante resultar fundado .#III . tal como proponer ser resuelto el cuestión , corresponder que yo expidar respecto al pedido de resarcimiento efectuado en el demanda ( art. 289 del C.P.C .C. ) .#a . en ese sentido , y conforme haber sostener en causa similar ( conf. mi voto en B. 53291 , \" Álvarez \" ; B. 55364 , \" Tamborini \" ; B. 53466 , \" Chousa \" , entre otro ) , el daño que provocar el separación ilegítimo del agente deber presumirseáin re ipsa . # sin perjuicio de él , considerar en cambio que el magnitud del perjuicio ocasionado a uno agente que haber ser declarar cesante sin derecho no poder establecer él en forma genérico y depender de el característica y particularidad del caso , que corresponder evaluar al juzgador ( conf. arts . 519 , 522 y concs. del Código Civil ) .# en consecuencia y atender a el especial circunstancia de el causa , tener en cuenta asimismo él expresado por el demandante al fundar el monto de el daño y perjuicio que solicitar él él reconocer , en orden a él dispuesto por el art . 165 del Código Procesal Civil y Comercial , considerar pertinente fijar en concepto de indemnización uno suma equivalente al 70 de el sueldo dejado de percibir desde el separación de su cargo y hasta el fecha del presente pronunciamiento . el dicho monto deber adicionar él el correspondiente a el interés , que él calcular , desde cada uno de el período en que él haber devengar y hasta el efectivo pago , de acuerdo a el tasa que pagar el Banco de el Provincia de Buenos Aires en el depósito a treinta día vigente en el distinto período de aplicación ( arts. 7 y 10 de el ley 23928 , texto según ley 25561 , coincidente en ambos redacción en su contenido ; 622 , Código Civil y 5 , ley 25561 ) .#b . en orden a el cuestión referente al daño moral , pensar que el reconocimiento de dicho rubro resultar procedente pues , no caber duda , que el cese dispuesto provocar en el actor intranquilidad y sufrimiento , extremo este que poder desvirtuar él mediante uno prueba objetivo de el improcedencia del agravio moral , que deber correr por cuenta del responsable del hecho dañoso , él que no él haber acreditar en el presente causa ( arts . 165 y 375 del C.P.C.C. ) . #Por él expuesto estimar prudente fijar por este concepto el importe de $ 15000 .#Costas a el vencido ( arts . 60.1 , ley 12008 , texto según ley 13101 ; 289 C.P.C.C. ) . #Con el alcance indicado , voto por el afirmativo . # el señor juez doctor Pettigiani y Kogan , por el mismo fundamento del señor Juez doctor Hitters , votar también por el negativa . #Con él que terminar el acuerdo , dictar él el siguiente#S e N T e N C I A#Por él expuesto en el acuerdo que anteceder , por mayoría , él rechazar el recurso extraordinario interpuesto ( arts . 60 , ley 12008 - texto según ley 13101- ; 279 , C.P.C.C. ) . #Costas a el vencido ( arts . 68 y 289 in fine , C.P.C.C. ) .#Regístrese , notifíquese y devolver él . #JUAN CARLOS HITTERS #HECTOR NEGRI HILDA KOGAN ieduardo julio PETTIGIANI eduardo NESTOR de LAZZARI #JUAN JOSE MARTIARENA#Secretario #TEXTO completo C U e R D O#En el ciudad de el Plata , a 15 de julio de 2015 , haber él establecer , de conformidad con él dispuesto en el Acuerdo 2078 , que deber observar él el siguiente orden de votación : doctor Hitters , Kogan , Genoud , Pettigiani , él reunir el señor juez de el Suprema Corte de Justicia en acuerdo ordinario para pronunciar sentencia definitivo en el causa C . 119109 , \" Battistini , Gladys Noemí contra Tramanoni , Héctor Rubén . Incidente de nulidad \" .#A N T e C e D e N T e S#La Cámara de Apelación en él Civil y Comercial del Departamento Judicial de Zárate-Campana confirmar el decisión del magistrado de primero instancia que , a su turno y en el marco de uno incidente de nulidad promover en el auto \" Tramanoni , Héctor Rubén . Acuerdo preventivo extrajudicial \" , hacer lugar a el pretensión incoado al encontrar reunido en auto el presupuesto necesario para su progreso ( fs . 116/120 vta . y 155/158 vta . ) .# él interponer , por el incidentado vencido , recurso extraordinario de inaplicabilidad de ley ( fs . 161/75 ) . idictar el providencia de auto y encontrar él el causa en estado de pronunciar sentencia , el Suprema Corte resolver plantear y votar el siguiente#C U e S T I Ó N# ¿ ser fundado el recurso extraordinario de inaplicabilidad de ley ? #V o T a C I Ó N#A el cuestión planteado , el señor Juez doctor Hitters dijo:#I . en el marco del presente incidente nulitivo , el Juzgado de Primera Instancia en él Civil y Comercial n° 2 , con asiento en el ciudad de Zárate , hacer lugar a el pretensión impetrado por el legitimada activo declarar , en consecuencia , el nulidad del acuerdo preventivo extrajudicial homologado en el auto que obrir por cuerda : \" Tramanoni , Héctor Rubén . Acuerdo preventivo extrajudicial \" ( fs . 116/120 vta . ) .#II . a su turno , el Cámara de Apelación del fuero departamental confirmar tal decisión ( fs . 155/158 vta . ) . pparar así decidir , en él que aquí interesar destacar , estimar que el señor Tramanoni presentar uno acuerdo preventivo extrajudicial y solicitar su homologación omitir informar - dentro de el composición de su pasivo - el crédito del señor Carlos Gerónimo José Emens ( hijo - por entonces menor- de el incidentista ) , que equivaler al 58.43/100 del pasivo , en tanto el acreedor que prestar conformidad con el acuerdo representar tanto solo el 41.57/100 del pasivo , por él que el mayoría obtenido no ser - en rigor- tal ( fs . 156 ) .#Situada el controversia en tal término , considerar que no corresponder , bajo el amparo de haber observar el forma del proceso concursal , utilizar instituto legal como el relativo a maniobra fraudulento en perjuicio de el acreedor ( art . 961 del Código Civil ; fs . cit . ) . # así también , manifestar que él encontrar probado que el irregularidad ser de tal entidad que justificar decretar tanto el nulidad del acuerdo como el de el resolución que él homologar , puesto que de él contrario él estar convalidar uno conducta reñido con el finalidad de el ley y utilizar al procedimiento citado como uno instrumento para el fraude ( fs. 156/vto . ) .#III . contra este último pronunciamiento interponer el incidentado perdidoso recurso extraordinario de inaplicabilidad de ley , mediante el cual aducir infracción a el arts . 75 y 76 de el ley 24522 ; 34 inc. 4 , 68 , 69 , 71 , 163 inc. 6 , 164 , 289 , 375 y 384 del Código Procesal Civil y Comercial ; 18 de el Constitución nacional y 171 de su par provincial . asimismo , esgrimir conculcación de doctrina legal que citar ( fs . 161/75 ) .#IV . el recurso no prospera.#a ) liminarmente y con el afán de abastecer el presente propuesta decisorio , estimar necesario realizar uno serie de apreciación sobre el actuación procesal sucedido , que servir de sustento para el solución que haber de propiciar . # ver .#i ] el señor Carlos Gerónimo José Emes -ahora mayor de edad- representado por el letrada apoderado Miriam Elida Serrano , resultar ser acreedor legítimo del acuerdista Tramanoni , ser reconocer tal carácter en el sentencia dictado en el auto \" Battistini , Gladys Noemí y otro contra Peker , Hugo Alberto y otro . Daños y perjuicio \" , en el cual él él condenar -mediante sentencia definitivo del 13-XI-1999 - a abonar el suma de $ 170000 , con más el del 6/100 anual desde el fecha del hecho y hasta el 31 de marzo de 1991 ; y a partir de allí y hasta el efectivo pago a el que pagar el Banco de el Provincia de Buenos Aires en su depósito a 30 día ( v. fs . 4/9 ) .# ahora bien , celebrado uno acuerdo entre el parte el día 5-V-1999 - y oportunamente homologado- con relación a dicho pleito , y ante el incumplimiento del mismo , él proceder a trabar embargo sobre bien de el deudor , quien entre él -atento a su carácter solidario - él encontrar el señor Tramanoni , quien resultar cautelado - con fecha 4 de julio de 2003- sobre dos inmueble de su propiedad ( v. fs . 14 vta. ) . el 2-XI-2004 , él mandar llevar adelante el ejecución , decisión que ser confirmar por el alzada el 23-II-2006.#Posteriormente , el día 17 de diciembre de 2007 él requerir el reinscripción de el referido medida cautelar ( cuyo caducidad operar el día 25 de febrero de 2008 ) ; mientras que el día 19 del mismo mes y año , el parte acreedor él imponer del proveído que disponer el traslado del pedido de levantamiento de el embargo peticionado por el deudor Tramanoni , con fundamento en el acuerdo preventivo extrajudicial ( A.P.E. ) celebrado en el auto \" Tramanoni , Héctor Rubén . Acuerdo preventivo extrajudicial \" ( v. fs . 20 vta. ) .#Cabe señalar , a este altura , que el incidentado en este auto , a el sazón legitimado pasivo en el proceso de ejecución de sentencia antes aludido , a escaso cuatro mes de haber ser anoticiar de el decisión de el alzado recaída en aquel proceso de cumplimiento de sentencia ( este ser el 14-VI-2006 ) , presentar para su homologación el Acuerdo Preventivo Extrajudicial que motivar el presente , ínterin celebrado durante ese período , sin el intervención ni el convocatoria del incidentista , a fin de que participar del mismo en su carácter de acreedor con sentencia judicial firme que reconocer su crédito.#ii ] haber tomar conocimiento de tal cuadro de situación , el apoderada del acreedor promover incidente de nulidad de todo él actuar en dicho proceso y de su homologación . en subsidio , solicitar el inconstitucionalidad del instituto legal ( fs. 21 y sgte . ) .# al respecto , considerar totalmente fraudulento él allí actuar por ser aprobar por acreedor que representar el 41.57/100 del total real de su pasivo y que ser , en su mayoría , de dudoso existencia . aseverar que él haber ocultar su crédito litigioso , el cual representar el 58.43/100 de el totalidad de aquel pasivo y que de haber ser convocar a participar del mismo , no él haber obtener el mayoría necesario ( fs . 23 ) .#iii ] en tarea de resolver , el magistrado de el instancia liminar entender que haber existir fraude por parte del acuerdista al no incluir deliberadamente a Emens en su lista de acreedor , más todavía cuando el peticionante saber que ese omisión ser esencial y determinante para obtener el mayoría necesario , conseguir el homologación del acuerdo y con él , perjudicar él ( fs . 119 vta . ) .#iv ] a su turno , el Cámara de Apelación departamental confirmar dicho decisorio al concluir que en este legajo judicial él haber probar que el irregularidad ser de tal entidad que justificar - más allá de haber él cumplir formalmente con el paso establecido en el normativa específica- decretar el nulidad del concordato extrajudicial . de él contrario , argumentar , él estar convalidar uno conducta reñido con el finalidad de el ley ( que el deudor en cesación de pago acordar con su acreedor ) utilizar al acuerdo preventivo extrajudicial como instrumento para el fraude ( fs. 156/vto . ) .#b ) dicho forma de decidir agravia al recurrente , por cuanto considerar que él haber descartar injustificadamente su defensa basado , por uno lado , en haber cumplir el requisito de admisión para obtener el homologación del acuerdo preventivo extrajudicial y , por el otro , en que el señora Tramanoni carecer de legitimación para instar el acción articulado , sin embargo y no obstante él , él tener por acreditado el recaudo para estimar el pretensión nulificatorio . asimismo , arguyar que no él haber demostrar el vicio que caracterizar a el pretensión instado ( fs . 168170 vta . ) .#c ) 1 . el Acuerdo Preventivo Extrajudicial él encontrar normado en el arts . 69 a 76 de el ley concursal . de acuerdo a este reglamentación , y en él que aquí interesar , ser el propio deudor el que en principio determinar quién ser su acreedor y quien no ; y con él celebrar uno acuerdo que ser presentar ante el justicia a el fin de su homologación . uno vez que el deudor haber cumplir con el requisito formal establecido por el art . 72 y el magistrado interviniente así él entender , él producir el efecto del mismo artículo citado , in fine . admitido formalmente el acuerdo preventivo extrajudicial él ordenar el publicación edictal ( art. 74 ) , el que abrir el período para formular oposición o para ingresar - en forma anómala- a el masa pasivo . no prever el reglamentación de menta el intervención del síndico , ni el fuero de atracción de el proceso judicial en trámite . vencido el plazo para oponer él , haber él o no admitir el crédito que él presentar bajo el mecanismo del art . 75 , pasar el auto para el consideración del concordato por el judicante , a el fin de que el mismo examinar su naturaleza formal y sustancial y decidir , su homologación o su rechazo . si ser homologar , surtir el efecto otorgado por el art. 76 y quedar sometido a el disposición establecido en el capítulo V , Título II , sección III , IV y V de el ley . es decir , él hacer extensivo al \" A.P.E. \" el efecto del acuerdo preventivo judicial homologado , y alcanzar a todo el acreedor del deudor , cuyo crédito ser de fecha anterior al momento de presentación del mismo para su homologación . en definitiva , él torna vinculante para dicho acreedor , que él incluir a todo ( disidente y ausente ) , haber o no intervenir en el negociación . # ahora bien , el art . 76 de el ley concursal -ubicado en su Capítulo VII , según ley 25589 rezar él siguiente : \" efecto de el homologación . el acuerdo homologado conforme a el disposición de este sección producir el efecto previsto en el artículo 56 , y quedar sometido a el previsión de el Secciones III , IV , y V del Capítulo V del Título II de este ley . \" .# asimismo , el art . 56 -ubicado en el Sección III del Capítulo V , según ley 26086- , en su primero párrafo , disponer : \" aplicación a todo el acreedor : el acuerdo homologado producir efecto respecto de todo el acreedor quirografario cuyo crédito él haber originar por causa anterior a el presentación , aunque no haber participar en el procedimiento \" . # por otro parte , el art . 60 -situado en el Sección IV del Capítulo V- enunciar : \" sujeto y término . el acuerdo homologado poder ser declarar nulo , a pedido de cualquiera acreedor comprendido en él , dentro del plazo de caducidad de seis ( 6 ) mes , contado a partir del auto que disponer el homologación del acuerdo . Causal . el nulidad sólo poder fundar él en el dolo empleado para exagerar el pasivo , reconocer o aparentar privilegio inconsistente o constituido ilícitamente , y ocultar o exagerar el activo , descubierto después de vencido el plazo del art . 50 \" . # por último , quedar por resaltar al art . 75 -ubicado en el Capítulo VII- , especialmente en tela de juicio , que regular en su primero parte él siguiente : \" Oposición . poder oponer él al acuerdo el acreedor denunciado y aquel que demostrar sumariamente haber ser omitir en el listado previsto en el inciso 2 del artículo 72 . el oposición deber presentar él dentro de el diez ( 10 ) día posterior a el último publicación de edicto , y poder fundar él solamente en omisión o exageración del activo o pasivo o el inexistencia de el mayoría exigido por el artículo 73 \" ( el destacado en el párrafo anterior yo pertenecer ) .#Enunciado someramente el régimen jurídico , ver que el mentado art . 75 habilitar expresamente a el acreedor \" omitido \" y a el \" denunciado \" por el deudor , a que él oponer a el homologación del acuerdo . el norma estatuir que sólo poder oponer él el acreedor denunciado y aquéllo que demostrar sumariamente haber ser omitir en el listado previsto por el art . 72 en su inciso segundo .#2 . el acción de nulidad importar uno medio para impugnar el sentencia a fin de restar él eficacia , este es , eliminar el efecto de el anterior decisión homologatorio al igual que él obtenido con el instituto de el revocación procesal ordinario . #Atento a el extensión que tener el homologación del acuerdo a todo el acreedor , en función del art . 56 , el mismo así aprobado poder ser declarar nulo a pedido de cualquiera acreedor comprendido en él , dentro del plazo de caducidad de seis mes contado a partir del auto que disponer el homologación ( conf. art . 60 , L.C.Q. ) . # el nulidad sólo poder fundar él en el dolo empleado para exagerar el pasivo y ocultar o exagerar el activo , descubrir después de vencido el plazo del art . 75 , ya que aquí no existir el etapa impugnatorio del art . 50 . # por remisión expresar del art . 76 hacia el 60 , tener que el legitimado para solicitar el nulidad del \" A.P.E. \" ser todo el acreedor comprendido en él .#3 . tal es , pues , en su grande rasgo el régimen legal del A.P.E. conforme el lineamiento que traer el ley concursal . # despuntar en este regulación , el existencia de uno importante tramo del proceso de formación de el voluntad que transitir en uno etapa extrajudicial previo a el presentación al juez , resultar por tal motivo trascendental el deber de información y transparencia que pesar sobre el apista , tanto respecto de el totalidad de el acreedor que conformar el pasivo , como del órgano jurisdiccional quien - con el elemento aportado al proceso - él pronunciar en definitiva sobre el viabilidad de su homologación . él haber decir , con relación a este instituto , que \" ser propio de el dinámica concordatario del APE el etapa extrajudicial donde el deudor inegociar con su acreedor uno fórmula concordatario que él permitir superar el crisis económico de su empresa \" ( Junyent Bas , Francisco A. , \" nuevamente sobre el naturaleza del APE \" , LL Enfoques , 2012 -agosto- , 114 ) .# ahora bien , apegado a el literalidad de el aludido reglamentación , el hilo argumental del recurso en tratamiento criticar el decisorio en crisis , postular - como ya él expliquar que el aquí incidentista carecer de legitimación para desconformar él con el término del acuerdo homologado , en tanto no haber ejercer el acción previsto en el régimen falencial , en el plazo y condición allí establecido . #Abona su postura alegar haber ajustado su obrar al estricto cumplimiento de el extremo formal exigido por el aludido reglamentación . #Es este el tesis que , por él demás , venir sostener el quejoso invariablemente a través de el diverso instancia transitado hasta el presente ( ver , por ejemplo , escrito de fs . 55/61 vta. , al contestar el plantear de nulidad que dar origen a este incidencia ; memorial de fs . 137/151 , y recurso extraordinario de fs . 61/174 vta . ) .# Vale decir , que - según él - no poder reputar él fraudulento el conducta que reflejar el exacto acatamiento de el normativa aplicable al caso .#4 . tal argumentación , en mi opinión , ser ineficaz a el fin que pretender ( art. 289 del C.P.C.C. ) . # yo explicar .#a . ya el juez de origen señalar el vicio que afectar al procedimiento , no sólo por haber excluir indebidamente al incidentista del listado de acreedor ( cuando indudablemente él ser ) , sino - y aquí radicar el gravedad del caso - por no haber él convocar al \" extenso período de negociación con el acreedor \" que culminar en el propuesta de acuerdo ( fs . 119 vta . ) . #Recuerdo a este altura - pues él resultar dirimente - que mediar escaso cuatro mes entre el decisión de el alzada que mandar llevar adelante el ejecución de uno crédito cierto , reconocido mediante sentencia judicial firme varios año antes , y que luego haber ser objeto de uno acuerdo suscripto por el apista , posteriormente incumplir , y el presentación del acuerdo al juez del A.P.E. # el peticionante -señalar el judicante de origen- no sólo excluir del listado al incidentista , sino que \" declarar bajo juramento que no existir otro acreedor que el que firmar el propuesta \" ( fs . 119 ) . #\" no haber duda que haber fraude -sentenció aquel decisión - . el juzgado ser víctima de uno engaño al no incluir Tramanoni deliberadamente a Emens en el lista de acreedor , cuando el peticionante saber que ese omisión ser esencial y determinante para conseguir el homologación del acuerdo y perjudicar a este acreedor ( arts . 931 , 932 y 933 , Código Civil ) ... ser claro que él utilizar el figura del acuerdo preventivo extrajudicial para uno fin no previsto por el ley \" ( fs . 119 vta. ) # ser así que , con base en él normado en el arts . 953 , 1071 , 1044 y 1045 juzgar que el acción de fraude ejercido deber prosperar . \" este norma -explicar ser de aplicación a todo el rama del derecho y por él tanto al derecho concursal , con plazo de prescripción que en este caso no él vencer ni ser plantear \" ( fs . 120 ) . # en idéntico línea de sentido , el cámara afirmar que \" no corresponder , bajo el amparo de haber observar el forma del proceso concursal , utilizar instituto legal como maniobra fraudulento en perjuicio de el acreedor que promover el nulidad , art. 961 del Código Civil \" ( fs. 156 ) . de allí que concluir que \" en este legajo judicial él haber probar que el irregularidad expuesto ser de tal entidad que justificar -insisto , más allá de haber él cumplir formalmente el paso establecido en el normativa específico - decretar el nulidad del APE como de el resolución que él homologar , de él contrario él estar convalidar uno conducta reñido con el finalidad de el ley ( que el deudor en cesación de pago acordar con su acreedor ) , y utilizar al Acuerdo Preventivo Extrajudicial como instrumento para el fraude \" ( fs. 156 y vta . ) . #\" el conducta desplegado por el apista -continuó- vulnerar además principio elemental de todo acuerdo , en particular , el de buen fe , perjudicar con su accionar a su principal acreedor , por él que el derecho no deber amparar ese conducta , que si bien poder estar aparentemente cubierto de uno marco legal , ser contrario con el ordenamiento normativo en su conjunto \" ( fs . 156 vta . ) # Fincó así su postura en torno al plexo legal aplicado en que el normativa general actuado por el sentenciante de origen ( arts . 953 y 1071 ) , prevalecer por el especial previsto en el ley concursal ( art. 60 , L.C.Q. ) , \" en tanto el magistrado tener el facultad de apreciar el adaptación del caso que él él proponer a el totalidad del orden jurídico y en virtud de él encuadrar él en el norma legal que entender corresponder \" ( fs . 159 vta./160 ) . #Concluyó de ese manera , que \" el argumento fundamental del apelante consistente en criticar el resolución que él resultar adverso en función de haber cumplir formalmente el paso del proceso concursal resultar , a el vista del análisis precedente , insostenible para acoger el reclamo intentar \" ( fs . 157 vta .) #b . de cara a este fundamento del fallo atacar , el recurso en tratamiento postular , en primero lugar , que el decisorio en crisis distorsionar el instituto del A.P.E. y atribuir malo fe a ese parte , cuando ser el conducta del incidentista el que motivar que quedar fuera del procedimiento ( fs . 166 vta. ) . y él , insistir en el cumplimiento de el requisito formal de su parte , y el falta de articulación de el vía específico de impugnación del acuerdo ( fs . 166 vta./167 ) . #Este agravio no ser de recibo .#i . - de uno lado , omitir refutar el conclusión sentencial según el cual - y como ya referir , además de el regla previsto en el ley falencial , el afectado cuenta con el herramienta que él proporcionar el norma general del ordenamiento civil ( en el caso , el acción de fraude fundado en el arts . 954 , 1071 , 931 , siguiente y concordante del Código Civil ) , y que a juicio del a quo prevalecer sobre el falencial . tal omisión , dejar incólume aquel presupuesto del razonamiento de el sentencia en crisis , él que mostrar el insuficiencia de este aspecto del embate ( art. 279 del C.P.C .C. ) . # con claridad él advertir de el reseña que acabar de efectuar , que el tramo de el decisión en tratamiento , no discurrir sobre el cumplimiento o incumplimiento de el paso reglamentado en el ley falencial , sino que - precisamente - sostener que mediante ese cumplimiento él pergeñar el obrar fraudulento del deudor . #Bien haber señalar el Corte federal , que \" el conformación de el acreedor ser condición necesario pero no suficiente para obtener el homologación , pues el juez poder ejercer uno control sustancial de el propuesta , poder denegar su aprobación si él considerar abusivo o en fraude a el ley \" ( C.S.J.N. , A. 2495.XL , in re \" Arcángel Maggio S.A. s. concurso preventivo s/ incidente de impugnación de acuerdo preventivo \" , sent. del 15-III-2007 , criterio reiterado en \" Sociedad Comercial del Plata S.A. s . Concurso preventivo \" , Abeledo Perrot n° 70055695 ) , pauta de integración normativa que encontrar plenamente aplicable al caso de auto , y que habilitar - y no desplazar el aplicación de el principio general del derecho común a el problemática de auto . #Es que , como bien advertir Junyent Bas , \" si bien ser cierto que el APE ser uno instituto concursal , no poder iparificar él ’ al concurso preventivo y el integración normativa ser el tema nuclear que no poder isimplificar él en el afirmación de el concursalidad del instituto \" ( \" nuevamente sobre el naturaleza del APE \" , LL Enfoques , 2012 -agosto- , 114 ) . no parecer censurable el necesario ensamble ( con ajuste y reserva ) con el ordenamiento de fondo que predicar el a quo , en tanto , como enseñar Salvat-Acuña Anzorena , \" desde el instante en que el ordenamiento jurídico civil haber incorporar el orden público y el buen costumbre entre el objeto posible de uno quebrantamiento ilícito , cuando él recurrir a él para determinar este no él negar el derecho , sino que él él confirmar , porque todo hacer parte de ese mismo orden jurídico \" ( \" Tratado de Derecho Civil Argentino \" , Tipográfica Editora Argentina , Bs.As . 1958 , tomo I , pág. 26 ) .#ii. - por él demás , el embate dirigido a cuestionar el calificación que hacer el alzada de el conducta del recurrente como de \" malo fe \" , referir a uno labor de apreciación que al ser propio y privativo de el instancia de grado , a fin de habilitar su revisión en este instancia extraordinario haber de ser acompañado de el condigno denuncia y demostración del absurdo , extremo este que siquiera ser esbozar en el pieza en tratamiento , él que sellar su suerte adverso ( art. 279 del C.P.C.C. ) . #No alcanzar dicho umbral de crítica el afirmación del recurrente en torno a que ese parte hacer él que corresponder al denunciar el juicio del nulidicente en el listado de juicio conforme él exigir el art . 72 inc. 3 de el Ley de Concursos y Quiebras . #nuevamente , el a quo advertir que tal conducta -la de incluir al acreedor únicamente en el lista de proceso en trámite- y correlativamente , el de omitir su mención en el \" listado de acreedor \" , ser uno maniobra de engaño tendiente a consumar el fraude . #No haber de pasar inadvertido , que en este tipo de alternativa concursal , resultar visceral el adecuado cumplimiento del deber de información en relación a el elemento que componer el activo y pasivo del patrimonio del deudor , conforme él venir advertir con ahínco el doctrina especializado ( ver , entre otro , Nissen , Ricardo A. , \" el control judicial de el acuerdo preventivo \" , LL 207-2.133323 ; Favier Dubois , Eduardo M. -h.- , \" el investigación en el proceso concursales . uno agenda hacia el buen práctica \" , LL Enfoques 2011 -marzo- , 90 ; Flores , Fernando M. , Junyent Bas , Francisco , \" el deber informativo del deudor apista y el naturaleza abusivo de el propuesta : dos situación que menoscabar el Acuerdo Preventivo Extrajudicial - A.P.E.- \" ; Junyent Bas , Francisco A. , \" nuevamente sobre el naturaleza del APE \" , LL Enfoques , 2012 -agosto- , 114 ) . # en el caso , el inclusión o no del proceso judicial por el que tramitar el crédito del nulidicente ( en rigor , el acudimiento al órgano jurisdiccional para obtener el cumplimiento del débito insoluto ) en el listado de juicio en trámite , aun cuando él él conceder al recurrente que en tal renglón deber consignar el dato del proceso en cuestión , poco aportar a el cabal satisfacción del deber que pesar sobre el apista de enunciar el totalidad de el acreedor ( conducta que , según referir , hacer al núcleo del deber de información ) , y que en el caso él reputar incumplir . como explicar Truffat , \" el deudor que recurrir al APE deber - como el concursado- acompañar el nómina de su acreedor y hacer él certificar por contador público . deber asimismo , y el cuestión no ser baladí , acompañar el listado de juicio en su contra ( donde él suponer figurar aquel acreencia ilitigioso ’ que el debitor desconocer como tal ) ( ' APE : uno instituto concursal que carecer de verificación de crédito , pero que requerir de alguno suerte de determinación del pasivo ' , LL , Sup . Esp . Acuerdo Prev . Extrajudicial , 2004 ( noviembre ) , 85 , cursiva agregado ) \" .# y ser que el hecho de que el cobro de el acreencia haber deber transitar el senda de su ejecución forzado , debido a el recalcitrancia del deudor , no él quitar su carácter de tal ( crédito exigible ) , máxime cuando dicho deuda haber ser reconocido por uno decisión judicial que haber alcanzar el inmutabilidad de el cosa juzgado . él contrario importar colocar en mejor posición a aquel acreedor que haber mantener uno actitud más pasivo frente al crédito insatisfecho , en relación a aquéllo que -actualizar su voluntad de concretar su percepción - haber acudir al auxilio jurisdiccional . de allí que lucir inexacto el afirmación del quejoso , en torno a que \" el acreedor tener uno crédito en expectativa \" , conforme el pasaje que lucir a fs . 168 de el pieza en tratamiento . # en tal término , no él advertir explicación alguno que justificar su omisión en el listado de acreedor , aun cuando al propio tiempo poder ser incluir en el categoría de juicio en trámite o \" con sentencia no cumplido \" como insistentemente señalar el recurrente ; él atender a el finalidad informativo que inspirar cada uno de el mencionado menú de información exigido por el estatuto falencial , a partir de el cual resultar indispensable su preciso denuncia , particularmente en relación a su incontrovertible exigibilidad y abultado cuantía . #Explica Heredia , que el exigencia de menta ( el de denunciar el proceso en trámite ) , ser idéntico a el requerido por el art . 11 inc. 5 de el ley ( \" Tratado Exegético de Derecho Concursal \" , Abaco , Buenos Aires , 2000 , tomo 2 , p. 588 ) . con relación a este último norma referir : \" bueno ser aclarar que él exigir uno mero enumeración de el proceso judicial y administrativo ; no ser menester que el deudor indicar el característica de cada uno , naturaleza , estado procesal , etc. , salvo que él tratar de uno dato de interés para el trámite concursal \" ( ob. cit. , tomo 1 , pág . 383 , cursiva agregado ) . idéntico advertencia formula Grispo , cuando señalar el no exigencia de tal precisión , \" salvo que , por razón especial , ser de interés para el concurso \" ( \" Tratado sobre el ley de concurso y quiebras \" , Ad-hoc , Buenos Aires , Tomo 1 , pág . 189 ) .# en consecuencia , y aun atender a el propio lógica del recurrente , en el sentido de que bastar el mero mención del proceso en el listado de juicio en trámite , él advertir deficitario el información que al respecto poner a disposición del judicante .#iii. - no poder dejar de advertir a este altura que , en el caso , el acreencia reclamado reconocer como causa el daño personal padecido por el incidentista , cuando a el corto edad de cinco mes , y en ocasión de ser transportar en el vehículo de propiedad del apista , sufrir severo lesión neurológico , producto de uno accidente de tránsito ocurrido en el año 1989 ( ver fs. 4 del incidente ) , él que él traducir fundamentalmente en el reclamo judicial de el rubro que compensar tanto el incapacidad sufrido , como el gasto terapéutico vinculado a el mismo . luego de diez año de tránsito judicial , obtener sentencia favorable firme , de el que derivar uno compromiso de pago de parte del apista ( año 1999 , fs . 10/13 ) , a el postre incumplir en el año 2001 , él que tornar inevitable el vicisitud de su ejecución forzado ( fs. 14 ) . el citación de venta en este proceso quedar firme a principio del año 2006 . precisamente , por entonces , comenzar el negociación con el restante acreedor imarginar él al aquí incidentista- , cuando a estar a el precisión que antecedar , gozar de uno claro status de acreedor , titular de uno elevadísimo porcentaje del total de crédito que componer el pasivo del apista . #Para más , trátar el presente caso , de uno típico supuesto de uno sujeto que integrar el categoría del denominado \" acreedor involuntario \" , aquéllo que \" no conceder crédito al deudor sino que resultar acreedor por otro causa , como hecho ilícito , por ejemplo \" ( Alegría , Héctor , \" el derecho comercial y su principal problemáticas \" , LL Sup . Act . 12-III-2013 , 1 ) y que por tal calificación resultar menesteroso de uno tratamiento preferencial en el proceso concursal ( véase , Barreiro , Marcelo G. ; Truffat , E. Daniel . , \" el acreedor involuntario \" , en RDPyC , tomo 2013-2 . \" Concursos . Actualización - I \" , Rubinzal Culzoni , Santa Fe , 2003 , pág . 241 y ss . ; Baracat , Edgar J. , \" otro creación de el juez activista : el acreedor involuntario \" , LL 2014-B , 90 ; Micelli , María Indiana , \" el nuevo tutela diferenciado del derecho concursal . el acreedor involuntario \" , LL Litoral , 2011 -febrero- , 30 ; Vaiser , Lidia , \" el acreedor ' involuntario ' en el ley concursal y en el doctrina de el Corte Suprema de Justicia \" , LL 201-C1 , 816 ; Parellada , Carlos A. , \" el acreedor por daño extracontractuales en el proceso concursal \" , LL 2009-C , 905 ; Dasso , Ariel Gustavo , \" el Derecho Concursal hoy \" , LL 2009-B , 921 ; Alegría , Héctor , \" Aspectos humanos no patrimonial en el insolvencia \" , LL 2008-F , 1134 ) .# respecto de este categoría especial de acreencia , él haber precisar que \" el necesidad de solucionar el cuestión él originar , generalmente , en el hecho de que este crédito ( al menos el extracontractual que requerir el tramitación de extenso juicio ordinario para ser reconocer ) , llegar por él general tarde al concurso y ser someter a propuesta respecto de el que no haber poder opinar \" ( Barreiro y Truffat , cit. , p . 252 ) . # el mentado directriz de trato preferente de este acreedor no ser novedoso para este Tribunal , y sobrevolar , por caso , en él resolver en el precedente que él registrar Ac . 92938 , \" González , Feliciana c . Microómnibus General San Martín S.A.C. Incidente de verificación tardío \" ( sent. del 5-VI-2006 ) , donde él poner especial énfasis en el tarea innovador de el tribunal como mecanismo para hacer directamente operativo el contenido del derecho a el salud . con cita de Mosset Iturraspe , el ex Ministro doctor Roncoroni expresar : \" el jerarquización del derecho a el salud , como uno derecho fundamental , incorporado a el Constitución , configurar , asimismo , uno desafío a el sensibilidad y a el imaginación de el juez ; uno puerta abierto al ' activismo judicial ' , pues de poco servir semejante reconocimiento si todo haber de quedar en uno mero declaración de carácter formal , en uno norma no operativo \" . en el caso , él tratar de conferir el derecho de pronto pago a uno acreedor que no gozar de ese beneficio legalmente . para él , él enfatizar que \" ... el tribunal tener especialmente en cuenta que el presente ser uno caso excepcional y límite pues el concursada lesionar , hacer más de doce año , a el actora en su salud e integridad físico , poner énfasis en que de ser él oponible el acuerdo firmado con el acreedor , el víctima cobrar el 40 de su acreencia , recién a el 96 año , él que tornar ilusorio cualquiera tratamiento que poder efectivizar él sobre su minusvalía físico del 40 \" .#No él yo escapar , tampoco , que cualquiera maniobra tendiente a desbaratar el expectativa de cobro del crédito del acreedor nulidicente haber caer en saco roto , si el magistrado de origen haber actuar tempranamente su poderes-deber de investigación ( arts . 34 inc . 5 ap. \" c \" y 36 inc . 2 y concs. del C.P.C.C. ; 274 y concs. de el ley 24522 ) , mediante el sencillo expediente de llevar el noticia de el apertura del trámite –a través de comunicación de estilo- a el proceso denunciado , para conocimiento de acreedor eventualmente soslayado de el negociación . tal omisión , con todo , no empezar el ilicitud reprochado al apista .#c . finalmente , y cuanto atañer a el denunciado violación de el doctrina legal que identificar el recurrente ( fs . 165 vta. ) , haber de advertir acerca de su palmario insuficiencia , en tanto él haber limitar el quejoso a el mero identificación de el precedente que decir vulnerado , sin siquiera individualizar el doctrina que emanar de el mismo , ni explicar de modo preciso su correspondencia con el caso de auto , y el manera en que el mismo haber ser desoír ( art . 279 del C.P.C .C. ) .#V . en consecuencia , corresponder rechazar el recurso extraordinario en tratamiento , con costa ( arts . 68 y 289 del C.P.C.C. ) .#Voto por el negativa . # el señor juez doctor Kogan , Genoud y Pettigiani , por el mismo fundamento del señor Juez doctor Hitters , votar el cuestión planteado también por el negativa . #Con él que terminar el acuerdo , dictar él el siguiente#S e N T e N C I A#Por él expuesto en el acuerdo que anteceder , él rechazar el recurso extraordinario interpuesto ; con costa ( arts . 68 y 289 , C.P.C.C. ) . # el depósito previo de $ 23200 , efectuado a fs . 182 , quedar perdido ( art . 294 , Cód. cit. ) , deber el tribunal dar cumplimiento a él dispuesto por el arts . 6 y 7 de el Resolución 425/002 ( texto Resol . 8702002 ) .#Notifíquese y devolver él . #JUAN CARLOS Hittersiluis ESTEBAN GENOUD HILDA KOGAN ieduardo julio PETTIGIANI#CARLOS E. CAMPS#Secretario #TEXTO completo C U e R D O#En el ciudad de el Plata , a 24 de junio de 2015 , haber él establecer , de conformidad con él dispuesto en el Acuerdo 2078 , que deber observar él el siguiente orden de votación : doctor Negri , Pettigiani , Genoud , Kogan , él reunir el señor juez de el Suprema Corte de Justicia en acuerdo ordinario para pronunciar sentencia definitivo en el causa B . 67078 , \" Galli , Gerardo contra Municipalidad de Villa Gesell . Demanda contencioso administrativo \" .#A N T e C e D e N T e S#I . Gerardo Galli , con patrocinio letrado , promover demanda contencioso administrativo contra el Municipalidad de Villa Gesell solicitar su reubicación como personal profesional arquitecto . # en consecuencia , pedir él reconocer el diferencia salarial entre ese categoría y el que revistar desde su ingreso a el comuna , con interés y costa ( pto . IV.c ) Prueba Pericial , fs . 35 vta. ) .#II . el Municipalidad de Villa Gesell perder el derecho de contestar el demanda al dejar transcurrir el plazo legal que tener para hacer él , sin haber efectuar dicho presentación ( fs . 306 ) .#III . agregar el actuación administrativo , producido el prueba ofrececido por el parte actor y glosar su alegato , el causa quedar en estado de dictar sentencia , decidir el Tribunal plantear y votar el siguiente#C U e S T I Ó N# ¿ ser fundado el demanda ? #V o T a C I Ó N#A el cuestión planteado , el señor Juez doctor Negri decir : #I . el demandante , de profesión arquitecto , decir que ser designar agente de el Municipalidad de Villa Gesell , en el categoría 16.1Expone que presentar el título habilitante y que su acto de nombramiento no sólo referir a su profesión , sino que además él asignar función de proyectista , resultar requisito indispensable para su desempeño ser arquitecto . #Manifiesta que desde su ingreso ser categorizar como personal técnico y no como profesional acorde corresponder a su título universitario . #Expresa que el día 24-VI-2002 iniciar uno expediente , individualizado con el nº 1954-02 , letra G , solicitar él él reencasille , alegar que él deber asimilar su categoría a el de el profesional municipal . #Dice que el demandado él incorporar como personal técnico . # Puntualiza que por decreto 183 él rechazar su pedido . agregar que , contra dicho decisión interponer recurso de revocatoria , alegar que el mismo no estar debidamente motivado , por él que resultar ilegítimo . #Esgrime que el considerando de ese acto no alcanzar para fundar el denegatoria . #Recuerda que el Estatuto para el Personal de el Municipalidades , ley 11757 , atribuir al departamento ejecutivo comunal el determinación por vía reglamentario del escalafón y el nómina salarial para el personal . asimismo invocar él dispuesto en el art . 19 de ese regulación y sostener que el retribución del agente municipal estar integrado , entre otro concepto , por el sueldo que él determinar por ordenanza . # aseverar que en el caso de el Municipalidad de Villa Gesell , el ordenanza de Presupuesto de Gastos y Cálculo de Recursos municipal fijar el sueldo del personal .#Arguye que el competencia del intendente de nombrar al personal no poder apartar él de él justo , ser necesario actuar con parámetro estructural objetivo , encasillar a el agente según el título , conocimiento e idoneidad . #Expone que el Ordenanza de Presupuesto 1630 , del 12 de junio 1998 , definir al Personal Profesional y al Técnico . así , decir que en su ap . 111113 . el personal profesional comprender a el agente con título universitario , que realizar actividad propio de su profesión , aplicar conocimiento y método científico a problema tecnológico , económico , social , industrial y gubernamental . agregar que , el ap. 11111.4 . precisar que el personal técnico comprender a el agente con título , diploma o certificado de carácter técnico de enseñanza secundario y al personal que con conocimiento y práctica secundar a aquel en trabajo específico del área o sector al que estar afectado . #Expone que , de conformidad con dicho norma , el categorización del personal ser claro en orden a que , todo aquel que poseer título universitario ser designar como profesional y el que tener certificado de enseñanza secundario , si reunir el conocimiento requerido , ser técnico . #Reitera que el comuna demandado no poseer estatuto que organizar al personal . aducir que el cuestión no contemplado en el ordenanza de presupuesto , deber ser analizar a el luz de el ley 11757 . invocar el derecho a el carrera y a uno retribución justo ( art. 14 bis , Const. nacional ) .# sostener que el Intendente deber determinar el escalafón y el nómina salarial para el personal de el Administración municipal , tener en cuenta el carrera administrativo . #Agrega que uno encasillamiento indebido del funcionario o empleado público dentro del escalafón , lesionar no sólo el derecho a el carrera administrativo sino que poder incidir en el monto de el retribución a percibir . #Expone que el principio rector en el función administrativo deber ser el razonabilidad , que imponer que el acto emanado del funcionario poseer uno contenido justo . #Afirma que del análisis de el Ordenanza de Presupuesto surgir que el categoría mínimo de el profesional de el comuna ser el 17.#Sostiene que no existir fundamento de ley ni reglamentario que justificar que él encontrar en el categoría que comprender a el agente técnico . agregar que para el función de proyectista que desempeñar y como él disponer su designación , ser necesario el título universitario habilitante de arquitecto . #En otro orden , señalar que su ingreso haber ser tildar de político y que el erróneo escalafonamiento encubrir uno descalificación hacia su persona . #Ofrece prueba .#II . haber ser legalmente notificar , el Municipalidad traído a juicio dejar transcurrir el término que tener para contestar el demanda . si bien deber tener él por perdido el derecho dejar de usar , él no bastar por él solo para admitir el progreso de el pretensión . #como haber sostener el Tribunal , el falta de contestación configurar solamente uno presunción que poder o no hallar él corroborar por el prueba producido en el causa y que en el instancia contencioso administrativo adquirir relevancia en relación con el hecho que surgir del expediente administrativo en que él documentar el procedimiento antecedente del acto que él impugnar ( doct. arts . 354 inc . 1 , C.P.C.C. y 77 C.P.C.A. , ley 12008 ; conf. causa B. 48840 , \" Moyano \" , sent. del 31-VIII-1984 , \" Acuerdos y Sentencias \" , 1984-I-636 ; B. 48678 , \" Zolotnik \" , sent. del 22-V-1984 , \" Acuerdos y Sentencias \" , 1984-I-120 ; B. 55995 , \" Alcuaz \" , sent. del 5-IV-2000 ) .#III . sentar él anterior , proceder examinar el constancia administrativo -expte . G. 1919/04 , G. 1954/02 y el legajo del señor Galli 1273 , glosado a el presente causa a fs . 63/296 de auto - de el que surgir el siguiente circunstancia útil para el decisión del plantear del actor : #A. Legajo 1273:#1 . con fecha 20-XI-1992 , el Municipalidad de Villa Gesell contratar al señor Gerardo Galli para que prestar servicio como \" proyectista , categoría 16 \" , con 30 hora semanal de labor , desde el 25-XI-1992 al 25-V-1993 ( v. fs . 287 de el causa ) . dicho contrato ser prorrogar hasta el 25-VII.I1993 , luego hasta el 31-III-1994 y posteriormente hasta el 31-XII-1994 ( conf. surgir de fs . 278 , 274 y 265 ) .#2 . a fs . 261/62 , obra copia del decreto 261 del 20-vII19994 mediante el cual el Intendente municipal designar , a partir del 1 de julio de 1994 al demandante como proyectista , categoría 16 , con uno régimen horario de treinta hora semanal ( ver art. 7 ) .#3 . con fecha 9-VIII-1994 él dictar el decreto 292 , mediante el cual él él designar \" en el Planta Temporaria Mensualizada correspondiente al Plantel Básico de Personal de el Municipalidad de Villa Gesell ... \" ( v. art. 5 , dec . 292 , fs . 255/259 ) .#4 . a partir del 1 de enero de 1995 él nombrar , en forma definitivo al requirente , en el categoría 16 , con uno régimen horario de treinta hora semanal ( v. art. 9 , dec. 4 , del 2-I-1995 , fs . 249 ) . asimismo , determinar que el gasto que demandar su cumplimiento , ser imputado a el Partida del Presupuesto de Gastos : Personal Técnico , 120-1-1-1-1-4 ( art. 10 ) .#B . Expediente G. 1919/04 fs . 66 de el causa , obra el decreto de aceptación de el renuncia presentado por el agente Galli , a partir del 1 de abril de 2004 ( dec. 478 del 14-IV-2004 ) .#C . Expediente G 1954/02:#1 . con fecha 24 de junio de 2002 , el agente Gerardo Galli él presentar ante el comuna demandado y solicitar el adecuación de su situación de revista en el escalafón municipal . sostener que desde su incorporación en el año 1992 haber ser indebidamente categorizar como personal técnico , cuando deber haber ser incluir como personal profesional en su condición de arquitecto ( conf. fs . 68 de el causa ) .#2 . a fs . 70 él agregar el informe del Departamento de Personal de el comuna , con el detalle de el haber que percibir el agente Galli.#3 . Previo dictamen jurídico ( fs. 86 y 86 vta. ) , el Intendente municipal dictar el decreto 183 del 11-II-2003 que rechazar el aludido pedido de reubicación . para así decidir aducir que él haber designar al agente como Proyectista , Categoría 16 y con uno régimen horario de 30 hora semanal de labor . sostener que el Departamento Ejecutivo , al ajustar él a el término de ese designación \" haber actuar dentro del marco de su exclusivo competencia , sin que él asistir al reclamante derecho a que su categorización ser alterado ... \" ( fs . 93/94 ) . #IV . exponer el antecedente de el causa , corresponder decidir si el pretensión del accionante tendiente a que él él encasillar como personal profesional -arquitecto - resultar fundado . #Argumenta que presentar su título de arquitecto , que el comuna demandado él asignar función de proyectista y que para tal tarea resultar requisito indispensable el título universitario . no obstante él , el decreto 261/999 por el cual ser designar él encasillar en el categoría de personal técnico . #Funda su pretensión en él normado por el art . 19 de el ley 11757 , en el previsión de el Ordenanza 1630 de Presupuesto de Gastos y Cálculo de Recursos dictado en el Municipalidad accionado para el año 1998 y en el derecho a el carrera y a uno retribución justo ( art. 14 bis , Const. nacional ) . # también solicitar él condenar a el demandado a abonar él el diferencia entre el cargo profesional y el que ser designar desde su ingreso a el Administración . #Cabe dejar sentado que el agente presentar su renuncia al cargo que ocupar en el Municipalidad de Villa Gesell con fecha 31-III-2004 ( v. fs . 64 de el causa ) , ser aceptar por decreto 478/004 y él hacer efectivo a partir del 1 de abril de 2004 ( v. fs . 66 ) .#1 . Adelanto que el demanda deber ser rechazar en tanto el actor no haber lograr acreditar el derecho a que él él encasillar en uno cargo profesional como pretender .ia . tal como surgir de el constancia de el actuación administrativo - previamente detallado - , haber quedar demostrado que el requirente prestar servicio para el Municipalidad de Villa Gesell , como personal contratado a partir del 20-XI-1992 y hasta el 25-V-1993 ( v. fs . 287 de el causa ) . según ser estipular , prestar servicio como \" proyectista , categoría 16 \" , con 30 hora semanal de labor . dicho contrato ser prorrogar en diverso oportunidad hasta el 31-XII-1994 ( conf. surgir de fs . 278 , 274 y 265 de el causa ) .#b . por decreto 261 del 20-vII19994 el Intendente municipal él designar como Proyectista , Categoría 16 , con uno régimen horario de treinta hora semanal , a partir del 1 de julio de 1994 ( ver art. 7 ) . asimismo , determinar que el gasto que demandar su cumplimiento ser imputado a el Partida del Presupuesto de Gastos : Personal Técnico , 130-1-1-1-1-4 . si bien de el constancia administrativo surgir que el decreto 290 del 9-VIII-1994 , derogar ese acto ( v . art. 1 , fs . 260 ) , en ese mismo fecha él dictar el decreto 292 , mediante el cual él él designar \" en el Planta Temporaria Mensualizada correspondiente al Plantel Básico de Personal de el Municipalidad de Villa Gesell para el ejercicio 1994 y de acuerdo con el plazo establecido en cada uno de el contrato celebrado con anterioridad al presente decreto - el que de pleno derecho quedar convalidado ... \" ( v . art. 5 , dec . 292 , fs . 255/259 ) . # por tanto , hasta ese momento el relación entre el agente y el comuna él regir únicamente por el cláusula del contrato de locación de servicio , de conformidad con él que allí él especificar en punto a su tarea , duración del acuerdo y retribución a abonar él ( conf. art . 95 , Ord . Gral . 207/97 , vigente en ese época ) .icho . finalmente , a partir del 1 de enero de 1995 él él nombrar en forma definitivo en el categoría 16 , con uno régimen horario de treinta hora semanal ( v. art. 9 , dec. 4 , del 2-I-1995 , fs . 249 ) . asimismo , dicho acto determinar que el gasto que demandar su cumplimiento , ser imputado a el Partida del Presupuesto de Gastos : Personal Técnico , 120-1-1-1-1-4 ( v. art . 10 ) .#2 . el detalle del vínculo laboral que unir al requirente con el demandado , permitir concluir que el señor Galli siempre revistar como \" proyectista , categoría 16 , con uno régimen horario de 30 hora semanal \" , que el gasto ser imputado a el Partida del Presupuesto de Gastos correspondiente al \" Personal Técnico \" y ser mantener en ese categoría al ingresar al plantel básico ( v. dec . 4/1995 , fs . 249 de el causa ) . #Es dable resaltar que el comuna accionado , al nombrar él en forma definitivo en el planta municipal , mantener el nivel escalafonario y grupo ocupacional que revistar el accionante durante el vigencia del contrato de prestación de servicio que él unir con el comuna al inicio de su vínculo laboral .#3 . ahora bien , el demandante esgrimir que el Departamento Ejecutivo deber encasillar a su personal \" según su título , conocimiento e idoneidad \" , ajustar él a el estructuración orgánico y a el regulación escalafonario y salarial . sostener que deber respetar él el derecho a el carrera y a uno retribución justo ( art. 14 bis Const. nacional ) . # haber establecer este Corte que tanto el función o el empleo público que comprender él que él denominar carrera administrativo estar internamente estructurado en grado diverso , deber él tener presente que el facultad del Poder Ejecutivo de nombrar y remover a su empleado comprender el de otorgar él ascenso y ubicar él en el respectivo categoría del escalafón , sin que el ejercicio de tal atribución poder ser revisar por el Poder Judicial , salvo el caso de irrazonabilidad , arbitrariedad o lesión de derecho consagrado en el Constitución provincial ( conf . doct. causa B. 52.092 , \" Rapisarda \" , sent. del 17-X-1990 ; B. 51595 , \" Manfredi de Rodríguez \" , sent. del 23-II-1993 ; B. 53436 , \" Fiorenza \" , sent. del 12-X-1993 ; B. 55971 , \" Pulvermarcher \" , sent. del 29-vIII-2007 ; B. 63447 , \" Bruni \" , sent. del 13-vII20111 , entre otro ) .# si bien el señor Galli haber acreditar el grado de instrucción alcanzado ( v. copia del título de arquitecto , legajo personal , fs . 180 de el causa ) , no probar que el función que desempeñar corresponder al cargo profesional –arquitecto - como pretender . # en efecto , mas allá de el alegación del demandante en punto a que ser designar como proyectista y que para el tarea que desempeñar en el comuna ser necesario el título de arquitecto , él cierto ser que no aportar constancia alguno que él acreditar . tampoco surgir de el causa el tarea que cumplir , su grado de complejidad , el nivel de responsabilidad o el manejo de técnica especifico que permitir tener por cierto su reclamo .#4 . en otro orden el demandante funda su pretensión en él dispuesto en el Ordenanza de Presupuesto 1630 de el Municipalidad de Villa Gesell para el año 1998 . #Si bien aducir que dicho regulación establecer que el personal profesional \" ... comprender a el agente con título universitario , que realizar actividad propio de su profesión ... \" y que el \" Personal Técnico comprender a el agente con titulo , diploma o certificado de carácter técnico de enseñanza secundario ... \" , y que según él allí dispuesto \" todo aquel que poseer título universitario ser designar como profesional , así como el que tener uno certificado secundario , si reunir el conocimiento técnico ser técnico \" ( v. fs . 33 de el demanda ) , no acompañar el norma que invocar como fundamento de su pretensión . #Cabe resaltar que no obrir en auto ni en el actuación administrativo copia de ese ordenanza ni otro normativa de el comuna que respaldar su postura . # con relación a este particular circunstancia , este Tribunal haber manifestar anteriormente que el principio según el cual el juez conocer el derecho -iura novit curia- no él extender a el totalidad de el reglamentación local que , al igual que el derecho extranjero , él resultar imposible conocer . por tal motivo , el mentado ordenanza ser uno hecho que deber acreditar él de acuerdo a el regla que regir el carga de el prueba en cualquiera proceso ; y a cuyo respecto , no él ofrecer ni él producir probanza alguno ( conforme arts . 77 inc. 1 de el ley 12008 -texto según ley 13101- y 375 , C.P.C.C. ; doct. causa B. 63590 , \" Saisi \" , sent. del 5-III-2003 ; B. 55010 , \" Chaina \" , resol . del 12-XI-2003 ; B. 56618 , \" Oviedo \" , sent. del 4-X-2006 ; B. 65861 , \" Círculo \" , sent. del 10-X-2007 ; B. 69722 , \" Porretti \" , resol . del 15-X-2008 ; B. 64188 , \" Machado \" , sent. del 21-III-2012 y B. 64862 , \" Poli \" , sent. del 19-XII-2012 ; B. 61673 , \" Amadeo \" , sent. del 25-IX-2013 , entre otro ) .# no obstante el sanción de el ley 14491 que ordenar el publicación de el ordenanza y demás decisión municipal , el citado doctrina resultar aplicable al sub examinar en razón de el fecha en que él dictar el regulación invocado por el demandante . #Cabe concluir que el norma dictado por el Municipalidad con base en el cual el accionante asegurar que su designación deber hacer él en uno cargo profesional , ser uno hecho que deber probar de acuerdo a el regla que regir el carga de el prueba en cualquiera proceso ( arts . 77 inc. 1 de el ley 12008 - texto según ley 13101- y 375 , C.P.C.C. ) .#5 . según expresar el actor para el función de proyectista resultar requisito indispensable el título de arquitecto . asimismo arguyar que el profesional municipal poseer cargo de mayor jerarquía . # tal circunstancia no surgir reflejado en el constancia de el causa . #Como ya exponer , no existir prueba alguno que acreditar cual ser el tarea y función que desempeñar el agente como \" proyectista \" , ni tampoco que para ejercer él él requerir título de arquitecto . #Por su parte , el recibo de haber obrante en el expte. adm . G-1954/02 ( v. fs . 78 de el causa ) , únicamente detallar el sueldo básico , el bonificación que percibir en el mes de julio de 2002 y confirmar que su categoría ser el 16 . # él cierto ser que no haber aportar prueba alguno que demostrar su derecho a ser encuadrar en el cargo profesional que pretender ; el falta de el extremo aducido en respaldo de el pretensión comportar uno omisión insoslayable ( arts . 375 , C.P.C.C. y 77 inc. 1 , ley 12008 - texto según ley 13101- ) .# tampoco resultar acreditar que el profesional del municipio revistar a partir de el categoría 17 , tal como él sostener en su demanda ( v . párrafo tercero , fs . 34 vta . ) .# por otro parte , no haber constancia que permitir establecer cual deber ser el categoría que pretender revistar el demandante , ni el monto de el retribución que él haber corresponder . # si bien el pericia ofrececido en el demanda -a fin de determinar el diferencia entre el haber mensual de el categoría en que él él ubicar desde su ingreso al municipio y el que pretender , requerir el documentación contable y laboral de el accionada , ( v. pto . IV . Prueba , c] pericial contable , fs . 35 vta. ) , dicho medida haber ser abandonar por el interesar ( v. fs . 313 ) .#Así , no obstante el requerimiento que él formular a el comuna para que acompañar el valor salarial vigente para el categoría reclamado por el demandante así como el copia de el recibo de haber percibir por el actor en el período que trabajar bajo su orden ( fs . 324 , 328 y 330 ) , el parte actor desistir de el pericia ( fs . 312/313 ) . #Va de suyo , entonces , que en el supuesto de inexistencia o insuficiencia de prueba conducente o eficaz sobre uno punto litigioso , haber de acudir él a el regla de distribución de el carga probatorio , el que él encontrar condensado en el art . 375 del Código Procesal Civil y Comercial , aplicable en forma supletorio a este trámite ( art . 77 inc. 1 , ley 12008 - texto según ley 13101- ) .# desde antiguo este Corte haber decidir que deber rechazar él el pretensión actor si este no haber cumplir el regla del onus probandi , situación que contener uno pauta de conducta para el juzgador e implicar el autorresponsabilidad de el parte por su comportamiento en el proceso ( doct . causa B. 47854 , \" Hotelera Río de el Plata S.A.C.E.I. \" , sent. del 8-V-1990 ; B. 51419 , \" Mazzola \" , sent. del 21-IV-1998 ; B. 63951 , \" T.C. Haedo S.R.L. \" , sent. del 3-XII-2008 ; B. 65216 , \" Morici \" sent. del 22-vIII-2012 ; B. 66260 , \" Sánchez \" , sent. del 12-IX-2012 , entre otro ) . # tener en cuenta el carácter de juicio pleno en que él desenvolvar el acción contencioso administrativo y de el amplio facultad con que contar el parte para probar el hecho justificativo de el pretensión , incumbir al actor el carga de demostrar el realidad de el situación fáctico en que sustentar su reclamo , no sólo por revestir tal calidad en el proceso ( art. 375 , C.P.C.C. ) , sino también en razón de el presunción de legitimidad que distinguir a el actividad de el Administración Pública ( doct . causa B. 49.793 , \" Bianco \" , sent. del 13-X-1987 ; B. 49170 , \" Carlos H. E. Rash Constructora S.R.L. \" , sent. del 15-III-1988 ; B. 49784 , \" Banco Español del Río de el Plata \" , sent. del 31-V-1988 ; B. 48463 , \" Scheverin \" , sent. del 27-XII-1988 ; B. 49255 , \" Vázquez \" , sent. del 12-IV-1989 ; B. 49858 , \" Brave Construcciones S.A. \" , sent. del 25-VII-1989 ; B. 50087 , \" Playa Grande \" , sent. del 8-IX-1992 ; B. 51667 , \" Terreri \" , sent. del 21-X-1997 ; B. 57150 , \" Humbertmann \" , sent. del 6-IV-1999 ; B. 55353 , \" Cobos \" , sent. del 21-VI-2000 ; B. 59986 , \" Caselli \" , sent. del 16-II-2005 ; B. 59610 , \" Matwijow \" , sent. del 15-III-2006 ; B. 56480 , \" J. G. \" , sent. del 12-IX-2007 y B. 65216 , \" Morici \" , citado ; entre mucho otro ) .# sobre el base de el consideración realizado , caber concluir que el señor Galli no haber aportar prueba alguno que evidenciar su derecho a ser encuadrar en el cargo profesional que pretender y dar el inexistencia de elemento que contravenir el legitimidad de él decidido por el Municipalidad de Villa Gesell , quedar sellar el suerte adverso del reclamo presentado por el actor .#V . por el razón expuesto , juzgar que el demanda deber ser desestimar . #Costas por su orden ( arts . 17 , ley 2961 ; 78 inc. 3 , ley 12008 , texto según ley 13101 ) .#Voto por el negativa . # el señor juez doctor Pettigiani , Genoud y Kogan , por el mismo fundamento del señor Juez doctor Negri , votar también por el negativa . #Con él que terminar el acuerdo , dictar él el siguiente#S e N T e N C I A#Por el razón expuesto en el acuerdo que anteceder , él rechazar el demanda interpuesto . #Costas por su orden ( arts . 78 inc. 3 in fine , ley 12008 conf. mod. ley 13101 , y 17 , ley 2961 ) . #Por su actuación profesional en auto regúlanse el honorario de el doctor Luis Domingo Gorrini y María Isabel Gorrini en el suma de peso … y de peso … respectivamente ( arts . 1 , 9 , 10 , 14 , 15 , 16 , 22 , 28 inc. \" a \" , 44 inc. \" b \" , segundo parte y 54 del decreto ley 8904/1977 ) , cantidad a el que él deber adicionar el 10/100 ( arts . 12 inc . \" a \" y 16 , ley 6716 , t .o. dec. 4771/195 y su modificatoria ) y el porcentaje que corresponder según el condición tributario de el mencionado profesional frente al Impuesto al Valor Agregado . #Regístrese y notifíquese . iluis ESTEBAN GENOUD #HECTOR NEGRI HILDA KOGAN ieduardo julio PETTIGIANI #JUAN JOSE MARTIARENA#Secretario #TEXTO completo C U e R D O#En el ciudad de el Plata , a 1 de julio de 2015 , haber él establecer , de conformidad con él dispuesto en el Acuerdo 2078 , que deber observar él el siguiente orden de votación : doctor Pettigiani , Kogan , Negri , de Lázzari , él reunir el señor juez de el Suprema Corte de Justicia en acuerdo ordinario para pronunciar sentencia definitivo en el causa Q. 72276 , \" Desplats , Raquel Adela y otro contra Caja de Jubilaciones , subsidio y Pensiones del Personal del Banco de el Provincia de Buenos Aires . Pretensión de restablecimiento o reconocimiento de derecho . Recurso extraordinario de inaplicabilidad de ley \" .#A N T e C e D e N T e S#I . el Cámara de Apelación en él Contencioso Administrativo con asiento en el ciudad de el Plata hacer lugar a el recurso de apelación interpuesto por el demandada y revocar el medida precautorio otorgado por el magistrado que prevenir ( fs . 96/99 vta . ; 106/00 vta. y 148150 del leg. de apelación . ).# cisconfor yo con ese pronunciamiento el apoderado de el parte actor , interponer recurso extraordinario de inaplicabilidad de ley y de nulidad cuyo concesión ser denegar por el Cámara interviniente con fundamento en el falta de definitividad del fallo atacar ( fs . 154/164 vta. ; 1751176 y 165/73 vta. del leg. de apel. ) .#II . frente a ese decisión el parte actor interponer recurso de queja en el término del art . 292 del Código Procesal Civil y Comercial ( fs . 649/666 vta. del ppal. ) , el que ser receptar por este Corte mediante resolución de fecha 5 de marzo de 2014 , por considerar que el pronunciamiento denegatorio de el medida cautelar solicitado ser equiparable a sentencia definitivo en tanto poder producir él uno agravio de imposible o insuficiente reparación ulterior ( fs. 6833887 ) .#III . Oída el señora Procuradora General ( fs . 692/694 ) y dictado el providencia de auto para resolver ( fs. 695 ) el causa él encontrar en estado de pronunciar sentencia , por él que corresponder plantear y votar el siguientes#C U e S T I o N e S#1ª ) ¿ ser fundado el recurso extraordinario de nulidad interpuesto ? # en caso negativo:#2ª ) ¿ él ser el de inaplicabilidad de ley deducido ? #V o T a C I Ó N#A el primero cuestión planteado , el señor Juez doctor Pettigiani decir : #I . el Cámara de Apelación en él Contencioso Administrativo , con asiento en el Plata , hacer lugar a el recurso de apelación interpuesto por el demandada ( de fs . 96/99 y 106/00 del leg. de apel. ) y revocar el medida cautelar concedido por el juez de primero instancia el que , a su turno ( v. fs . 374 y 423 ) ordenar a el Caja de Retiros , Jubilaciones , Subsidios y Pensiones del Personal del Banco de el Provincia de Buenos Aires él abstener de aplicar él normado por el arts . 22 segundo parte , 55 , 56 2° p. y 57 de el ley 11761 y , en consecuencia , proceder a liquidar el haber previsional de el señor coactor Héctor Alfredo Gregoire , Edgardo R. San Ciriaco , Raúl Couffignal , Betty Castro de Lorenzo y Juan Carlos Ibarra ( fs. 374 y ss. ) ; Raquel Desplats , Elsa Palmira Fraga y Luis Alberto Pisoni ( fs . 423 y ss. ) , conforme el pauta contenido en el ley vigente a el fecha de ocurrir el hecho generador de el jubilación , desestimar el medida respecto de el restante coactor . # el tribunal a quo , previo a decidir , tener en cuenta el fallo del juez de origen que en su considerando evaluar \" el edad avanzado de el accionante \" como así también \" cuestión de salud \" para tener por acreditado el requisito de admisibilidad de el tutela solicitado , en especial , el verosimilitud en el derecho y el peligro en el demora . #No obstante él , el a quo considerar que el cuestión planteado imponer uno examen más amplio , que exceder el marco preliminar de este etapa cautelar . #Señaló que , prima facie , el pretensión de el coactor mencionado no quedar abastecido , al menos en este instancia procesal , de el evidencia necesario para hacer verosímil al derecho invocado ( conf. art . 22 inc . 1 ap. \" a \" , ley 12008 , texto según ley 13101 ) .#Concluyó que no advertir el existencia de peligro en el demora sobreviniente merced a uno situación irreparable , aún cuando el materia en litigio resultar de naturaleza alimentario , en tanto el actor no haber perder su condición de jubilado ni el beneficio social ( conf. arts . 22 inc. 1° ap . B , C.P.C.A. y 230 inc. 2° del C.P.C.C. ) .#II . cisconfor yo con dicho decisión , el letrado apoderado de el parte actor interponer recurso extraordinario de nulidad en el que plantear , entre otro agravio que el fallo atacar ser dictar en infracción a él dispuesto por el arts . 168 y 171 de el Constitución provincial por haber omitir cuestión esencial y el fundamentación legal . concretamente , aducir que el Cámara no él pronunciar sobre el apelación articulado por su parte prescindir de el fundamento constitucional invocado por el magistrado que prevenir , en el que él apoyar el antecedente jurisprudencial emanado de el Suprema Corte . considerar que haber descuido o inadvertencia en el decisión .#III . el recurso extraordinario no poder prosperar .#a ) tener establecido este Tribunal que el recurso extraordinario de nulidad sólo poder sustentar él en el omisión de tratamiento de alguno cuestión esencial , en el falta de fundamentación legal , en el incumplimiento de el formalidad del acuerdo y voto individual de el juez o en el no concurrencia de el mayoría de opinión ( arts . 168 y 171 de el Constitución de el Prov . de Bs . As . ; conf. doct . Ac . 99055 , resol . del 10-VI-2009 ; Ac . 102956 , resol . del 17-VI-2099 ; C. 110656 , resol. del 2-0I-2011 ; entre otro ; él que no haber ocurrir en el caso .#b ) en cuanto a el temática que denunciar como omitido -agravio planteado en su recurso de apelación , interpuesto subsidiariamente al de reposición ( v. fs . 40/46 del leg. de apelación ) - caber advertir , según él desprender de el considerando del fallo atacar , que el mismo haber quedar naturalmente desplazado en virtud del resultado al que haber llegar el tribunal a quo al resolver sobre el cautelar ordenado , estimar que prima facie no superar , en este etapa preliminar , el examen favorable de el recaudo que hacer a su admisión , sin advertir tampoco peligro en el demora \" que sobrevenir a merced de uno situación irreparable \" . él aún cuando el materia en litigio resultar de naturaleza alimentario , en tanto el actor no haber perder su condición de jubilado ni el beneficio social ( v. fs . 149 , cons. p. 3 ) #Cabe destacar que el omisión de cuestión a el que él referir el art . 168 de el Constitución provincial ocurrir cuando el juzgador haber excluir el tema por descuido , pero no cuando el materia aparecer desplazado por el sentido de el sentencia o por el razonamiento expuesto en el mismo ( conf . causa Ac . 76895 y Ac . 79230 , ambos sent . del 19-II-2002 ; L. 90233 , sent. del 13-XII-2006 ; A. 69302 , \" Fernández \" , sent. del 26-X-2010 ; entre otro ) , como aquí acontecer . #Se advertir que en el caso , el tribunal a quo previo al rechazo de el medida cautelar peticionado haber tratar el requisito de verosimilitud en el derecho y peligro en el demora previsto por el Código Contencioso Administrativo , abordar de forma indirecto el agravio del recurrente , ante él cual el mismo manifestar su disconformidad . #Esta Corte tener dicho que ser infundar el recurso extraordinario de nulidad cuando el cuestión que él decir preterido haber ser resolver en forma implícito y negativo para el pretensión del recurrente cualquiera ser el grado de acierto que poder adjudicar él a el decisión , ya que el análisis de uno eventual error in iudicar ser ajeno al ámbito de este medio extraordinario de impugnación ( conf . causa L. 33320 , sent. del 21-IX-1984 ; L. 33547 , sent. del 23-XI-1984 ; L. 53329 , sent. del 9-VIII-1994 ; L. 56337 , sent. del 21-V-1996 ; L. 81242 , sent. del 4-.-2005 , entre otro mucho más ) .#c . tampoco ser de recibo el agravio referir a el denunciado infracción del art . 171 de el Constitución provincial , todo vez que el sentencia impugnado él hallar fundado en ley , dar él así cumplimiento a el manda establecido en dicho norma ; resultar ajeno al ámbito del remedio intentar el denuncia de uno incorrecto , desacertado , deficiente o insuficiente expresión del fundamento normativo del fallo ( conf . causa L. 87860 , sent. del 25-II-20099 ; L. 90030 , sent. del 13-II-2008 ; L. 89686 , sent. del 8-X-2008 ; L. 86282 , sent. del 19-IV-2006 ; L. 82528 , sent. del 30-XI-2005 ; L. 96682 , sent. del 21 de marzo de 2012 , entre otro ) . # en rigor , poder señalar él que el crítica esbozado por el recurrente en este parcela del recurso , él vincular con supuesto error de juzgamiento , tema ajeno al medio de impugnación intentar y propio del de inaplicabilidad de ley ( art . 279 , C.P.C .C. ; conf . Ac . 91178 , sent. del 7-XII-2005 ; C. 85363 , sent. del 27-vII2-2088 ; C. 94832 , sent. del 18-III-2009 , C. 95705 , sent . 30-XI-2099 , entre otro ) . # por él expuesto , el recurso deber ser rechazar con costa a el vencido ( arts . 60 inc. 1 , ley 12008 - texto según ley 13101- y 68 y 298 in fine , C.P.C.C. ) .#Voto por el negativa . # el señor juez doctores Kogan , Negri y de Lázzari , por el mismo fundamento del señor Juez doctor Pettigiani , votar el primero cuestión también por el negativa . #a el segundo cuestión planteado , el señor Juez doctor Pettigiani decir : #I . como antes señalar , el Cámara hacer lugar a el recurso de apelación interpuesto por el demandada revocar él decidido por el Juez de Primera Instancia que mediante resolución fechado el 9 y el 24 de febrero de 2012 , haber conceder el medida cautelar solicitado respecto de alguno de el coactor , denegar el respecto de otro ( v. fs . 148150 del leg. de apelación ) . #Contra él , el letrado de el parte actor interponer recurso extraordinario de inaplicabilidad de ley . # en primero término él agraviar en razón de que el a quo haber incurrir en el violación de el doctrina legal sentado por este Tribunal en el causa I . 1904 , \" Martín \" , sent. del 8-III-2006 , en el que él declarar el inconstitucionalidad de el arts . 22 , segundo párrafo , 55 , 56 segundo párrafo , 57 y 67 de el ley 11761 . Máxime , tener en cuenta que el Corte Suprema de Justicia de el Nación declarar inadmisible el recurso extraordinario federal interpuesto en causa de configuración análogo a aquel . # en cuanto a el coactor Ricardo Oscar Ibañez , Angelica Elena Balzardi de García Soari , Marta Amelia Pernigotti , Guillermo Victor Clarey , Ramona del Valle Pintos de Marino , Agustin Esteban Costa , Ofelia Aurora Concalves Cohelo , Norberto Anibal Gregoire , Mabel Nilda Corcuera y Hugo Rubén Archiprete , cuyo medida cautelar él ser denegar también por el juez de origen , aducir que él encontrar configurado el peligro en el demora en razón de su avanzado edad , por él cual él deber tener en cuenta él resolver por este Suprema Corte en el causa I . 69082 , \" Leguizamón \" , res . del 21-IX-2011 . Invoca absurdo y arbitrariedad . asimismo citar el causa I . 1916 , \" Desplats \" , sent. del 9-VIII-206 , en que él decretar el inconstitucionalidad de el arts . 22 seg. párr. y 55 de el ley 11761 . # en consecuencia , solicitar él revocar el sentencia de Cámara y él él conceder el medida cautelar peticionado a todo el actor , tal como él solicitar en el recurso de apelación en subsidio al de reposición . #II . Adelanto que el recurso deber prosperar .#Como haber decir este Corte en reiterado oportunidad , el finalidad del instituto cautelar no ser otro que atender a aquel que no exceder el marco de él hipotético , motivo por el cual el procedencia de todo medida precautorio no exigir de el juez uno examen de certeza sobre el existencia del derecho pretender , sino verificar el verosimilitud del derecho y el existencia de peligro de que si él mantener o alterar , en su caso , el situación de hecho o derecho , el modificación poder influir en el sentencia o convertir su ejecución en ineficaz o imposible -arts 22 inc . 1.a y 1.b de el ley 12008 , conf. texto ley 13101 y 230 del Código Procesal Civil y Comercial- ( conf . causa I. 1947 , \" Bruno de Monterrubianesi \" , res. del 5-X-2005 ; I. 68807 , \" Madueño \" , res. del 10-X-2007 , entre otro ; C.S.J.N. Fallos , 306:2060 ; 313:521 ; 318:2375 ; 314:711 ) . a él caber sumar el no afectación del interés público involucrado ( art . 22 inc . 1.1. del Código mencionado ) . #En el especie , él encontrar prima facie acreditar , en el marco de provisionalidad propio de el despacho cautelar , el cumplimiento de el recaudo exigido para el otorgamiento de el tutela precautorio requerido .#a . el pretensión cautelar solicitado encontrar sustento en el doctrina legal sentado por este Tribunal , en el que haber prosperar planteo sustancialmente análogo al aquí analizar . este circunstancia apuntalar el verosimilitud del derecho invocado por el parte actor ( causa I. 2024 , \" Velurtas \" , sent. del 10-VI-2009 ; I. 2209 , \" Bessega \" , sent. del 2-V-2013 ; I. 2226 , \" Baldarenas \" , sent. del 2-VII-2014 , entre otro ) . # si bien el verosimilitud del derecho deber ser examinar con mayor rigor si él que él procurar a través de uno medida cautelar ser el suspensión de el efecto de uno ley , decreto , ordenanza o reglamento , en atención a el presunción de constitucionalidad y legalidad que ostentar tal acto , tal principio reconocer excepción , conforme consolidado doctrina de este Tribunal , cuando ya haber ser declarar el invalidez constitucional de el disposición puesto en crisis ( causa I . 1531 , \" Alet Laboratorios \" , res. del 6-X-1992 ; I. 1584 , \" Boehringer \" , res. del 4-V-1993 , entre otro ) , circunstancia que habilitar a suponer uno razonable probabilidad de éxito en el fondo . # el inconstitucionalidad de el arts . 22 segundo párrafo , 55 , 56 segundo párrafo y 57 de el ley 11761 norma que resultar objeto de impugnación en auto - ser declarar por este Tribunal con fecha 1° de junio de 2005 , al dictar sentencia definitivo en el auto I. 1888 , \" Donnarumma , Enrique s/Inconstitucionalidad ley 11761 \" , hecho que otorgar suficiente verosimilitud al derecho pretender por el parte actor ( doct . causa I. 69258 , \" Borghetti \" , res. del 8-VIII-2012 ) .#b . en cuanto al recaudo de peligro en el demora , definido como \" el peligro de que , mientras el órgano jurisdiccional realizar su tarea , el situación de hecho él alterar de uno modo tal que , a el postre , resultar ineficaz o tardío su mandato , expuesto a llegar cuando el daño ser irremediable \" ( conf . Morello , Passi Lanza , Sosa y Berizonce , \" Códigos Procesales comentados y anotados \" , Ed . Platense , 1971 , t . III , pág. 60 ) , deber ser juzgar de acuerdo a uno juicio objetivo o derivar de hecho que poder ser apreciar incluso por tercero ( Fallos : 314:711 ; 317:978 ; 319:1325 ; 321:695 , 2278 ; 323:337 , 1849 ; 326:1999 , 3658 ) . #sobre el base de tal premisa , haber de precisar él que a el fin del examen cautelar que yo ocupar , el constancia médico de fs . 333/360 , el edad manifestado y no controvertido a fs . 363 , en el sub lite , permitir considerar que él encontrar demostrado el presupuesto analizar en relación a el coactor señor Héctor Alfredo Gregoire , Edgardo R. San Ciriaco , Raúl Couffignal , Betty Castro de Lorenzo y Juan Carlos Ibarra ( ordenado a fs . 374 y ss. ) , Raquel Desplats , Elsa Palmira Fraga y Luis Alberto Pisoni ( ordenado a fs . 423 y ss. ) . asimismo también él encontrar demostrado dicho requisito por el avanzado edad ( conforme fs . 363 y doct . causa \" Leguizamon \" , cit. ) respecto de el coactor -cuyo cautelar ser rechazar por el Juez de primero instancia a fs . 424 - señor Ricardo Oscar Ibañez , Angelica Elena Balzardi , Marta Amelia Pernigotti , Guillermo Victor Clarey , Ramona del Valle Pintos de Marino , Agustin Esteban Costa , Ofelia Aurora Concalves Cohelo , Norberto Anibal Gregoire , Mabel Nilda Corcuera y Hugo Rubén Archiprete . #Ello así , todo vez que él haber acreditar uno situación de hecho similar a el existente en otro caso en el que este Tribunal admitir este tipo de medida ( I . 2452 , \" Weinstein \" , res . del 18-XII-2002 ; I. 2983 , \" Botana \" , res. del 9-IV-2003 ; I. 3249 , \" Maristany \" , res. del 3-XII-2003 ) en tanto el documentación agregado dar cuenta de el avanzado edad y el delicado estado de salud de el peticionante . #Dado el tiempo que previsiblemente insumir arribar a el sentencia definitivo , ser dable conjeturar que el privación de uno parte del haber ocasionar a el mencionado coactor uno gravamen que ser de mucho difícil reparación ulterior , más aún considerar el naturaleza alimentario de el prestación previsional .xc . por último , no él observar que el dictado y aplicación de el medida cautelar , en el término que él ordenar , poder causar alguno perjuicio al interés público . #III . por el razón dado , haber él demostrar el violación a el doctrina legal invocado , corresponder hacer lugar al recurso de inaplicabilidad de ley interpuesto , revocar el sentencia impugnado y hacer lugar a el medida cautelar peticionado , ordenar a el Caja de Retiros , Jubilaciones , Subsidios y Pensiones del Personal del Banco de el Provincia de Buenos Aires que él abstener de aplicar él normado por el arts . 22 segundo parte , 55 , 56 2° párr. y 57 de el ley 11761 y , en consecuencia , conforme a él proceder a liquidar el haber previsional de el coactor señor Héctor Alfredo Gregoire , Edgardo R. San Ciriaco , Raúl Couffignal , Betty Norma Castro y Juan Carlos Ibarra ; Raquel Desplats , Elsa Palmira Fraga y Luis Alberto Pisoni ; como así también a el señor Ricardo Oscar Ibañez , Angelica Elena Balzardi , Marta Amelia Pernigotti , Guillermo Victor Clarey , Ramona del Valle Pintos de Marino , Agustin Esteban Costa , Ofelia Aurora Concalves Cohelo , Norberto Anibal Gregoire , Mabel Nilda Corcuera y Hugo Rubén Archipretre ; art . 289 inc. 2 del C.P.C.C. ) .#Voto por el afirmativo . Costas a el vencido ( arts . 60 inc. 1 , ley 12008 , texto según ley 13101 ; 68 y 289 in fine del C.P.C.C. ) . # el señor juez doctor Kogan , Negri y de Lázzari , por el mismo fundamento del señor Juez doctor Pettigiani , votar el segundo cuestión también por el afirmativo . #Con él que terminar el acuerdo , dictar él el siguiente#S e N T e N C I A#Por el fundamento expuesto en el acuerdo que anteceder , oído el señora Procuradora General , él rechazar el recurso extraordinario de nulidad ; con costa a el recurrente vencido ( arts . 60 inc. 1 , ley 12008 - texto según ley 13101 y 68 y 298 in fine del C.P.C.C. ) .#Asimismo , él hacer lugar al recurso extraordinario de inaplicabilidad de ley interpuesto , él revocar el sentencia impugnado y él hacer lugar a el medida cautelar peticionado conforme él expuesto en el considerar III de el presente ( art . 289 inc. 2 del C.P.C.C. ) . el costa él imponer a el demandado vencido ( arts . 60 inc. 1° , ley 12008 , texto según ley 13101 , 68 y 289 in fine del C.P.C.C. ) .#Regístrese , notifiquer y devolver él . #HECTOR NEGRI #HILDA KOGAN eduardo JULIO PETTIGIANI ieduardo NESTOR de LAZZARI #JUAN JOSE MARTIARENA#Secretario #TEXTO completo C U e R D O#En el ciudad de el Plata , a 6 de noviembre de 2019 , haber él establecer , de conformidad con él dispuesto en el Acuerdo 2078 , que deber observar él el siguiente orden de votación : doctor Kogan , de Lázzari , Soria , Negri , él reunir el señor Jueces de el Suprema Corte de Justicia en acuerdo ordinario para pronunciar sentencia definitivo en el causa C. 122456 , \" Ruiz , Lorena Itatí contra Fernández , Sergio Rubén y otro . Daños y perjuicio \" .#A N T e C e D e N T e S#La Sala III de el Cámara de Apelación en él Civil y Comercial del Departamento Judicial de el Plata modificar el pronunciamiento de origen que , a su turno , hacer lugar a el acción de daño y perjuicio incoado por el señora Lorena Itatí Ruiz y Yamila Soledad Tobio contra el Provincia de Buenos Aires ( v. fs . 168175 vta. , conjuntamente con su aclaratoria de fs . 179 y vta. y 207214 ) .#Se interponer , por el accionada vencido , recurso extraordinario de inaplicabilidad de ley ( v. fs . 217/224 vta . ) .# dictar el providencia de auto y encontrar él el causa en estado de pronunciar sentencia , el Suprema Corte resolver plantear y votar el siguiente#C U e S T I Ó N# ¿ ser fundado el recurso extraordinario de inaplicabilidad de ley ? #V o T a C I Ó N#A el cuestión planteado , el señora Jueza doctora Kogan decir : #I . a el fin de resolver el problemática traído mediante el pieza recursivo de fs . 217/224 vta. , encontrar necesario destacar el siguiente circunstancia procesal . #Las señoras Lorena Itatí Ruíz y Yamila Soledad Tobio interponer demanda de daño y perjuicio contra el señor Sergio Rubén Fernández , Daniel Ernesto Fernández , Jesús Alberto Monzón , Carlos Luján y Carlos Gerónimo Monserrat y el Provincia de Buenos Aires , en virtud del secuestro y posterior homicidio del señor Pedro Daniel Tobio ( v. fs . 7/12 ) . # en su escrito de inicio relatar que el víctima -esposo y padre de el demandante - ser privado de su libertad en ocasión de encontrar él en su domicilio y , posteriormente , asesinado por dependiente de el policía provincial . por tal razón , por uno lado , atribuir responsabilidad al Fisco local en virtud del ejercicio irregular de el obligación de su funcionario y , por el otro , solicitar el respectivo condena por el suma que allí determinar , según él que surgir de el prueba a producir él , con más su actualización ( v. fs . 7 vta. y 8 ) .#II.1 . en hora de resolver , el Juzgado en él Civil y Comercial n° 14 del Departamento Judicial de el Plata hacer lugar al reclamo impetrado . para así decidir , sostener que en el especie él hallar configurado uno prestación irregular del servicio de seguridad de el Provincia de Buenos Aires , en tanto uno de el partícipe de el delito ejercer el cargo de agente policial , emplear en el acto dañoso su uniforme , el arma reglamentario y el esposa para su consumación , él cual permitir subsumir el hecho en el ejercicio irregular de uno servicio del Estado tras haber él consumar por uno dependiente utilizar uno cosa de su propiedad ( v. fs . 168175 vta. ) .# en cuanto al monto de condena establecer que el Estado local deber pagar a el accionante el suma de $ 4300000 con más interés , deber ser calculado este según el tasa pasivo más alto que pagar el Banco de el Provincia de Buenos Aires desde el día 19 de mayo de 2009 hasta su efectivo pago ( v. fs . 175 vta . ) .#II.2 . posteriormente , el magistrado de origen aclarar oficiosamente su propio sentencia desestimar el pedido de actualización monetario solicitar por el parte actor , en base a el consideración allí vertido ( v. fs . 179 y vta . ) .#III . Apelada tal decisión , el Sala III de el Cámara Segunda de Apelaciones en el fuero departamental él mantener en cuanto a el rubro indemnizatorio . sin embargo , ante al agravio del Fisco bonaerense en torno a el interés fijado en el especie , calculado desde el día 19 de mayo de 2009 hasta su efectivo pago a el tasa pasivo más alto que pagar el Banco de el Provincia de Buenos Aires , él modificar ( v. fs . 207214 ) .#inicialmente dejar establecido que el hecho lesivo ocurrir el día 17 de octubre de 1989 y no el 19 de mayo de 2009 , como ser consignar por el juzgador de primero instancia . sobre tal circunstancia , aducir que el tipo de interés establecido resultar inoponible al accionado en virtud de el prerrogativa que establecer el ley 11192 , deber él aplicar el tipo de tasa que determinar el referir cuerpo legal ( v. fs . 212 vta . ) .#Luego , indicar que por el efecto adhesivo del recurso de apelación él imponer el análisis de el pretensión de actualización solicitado por el parte actor en el demanda que ser desestimar en el decisión de primero grado , como consecuencia directo de el erróneo determinación de el fecha de mora ( v. fs . 212 vta. y 213 ) . # en tal dirección , establecer que el capital de condena deber ser reajustar a partir del día 17 de octubre de 1989 de acuerdo a el variación del índice de precio al consumidor -nivel general que suministrar el Instituto Nacional de Estadística y Censos ( INDEC ) - , monto sobre el cual él devengar el accesorio a el tasa el 6/100 anual desde el fecha aludido hasta el día 31 de marzo de 1991 , correr a partir del día 1 de abril de 1991 el citado , conforme él determinar el art. 6 de el ley 11192 ( v. fs . 213 ) .#IV . frente a él , el letrada apoderado del Fisco local interponer recurso extraordinario de inaplicabilidad de ley por el que esgrimir el vicio de absurdo y violación a el arts . 519 , 622 , 1068 y 1083 del Código Civil ; 7 y 10 de el ley 23928 ; 34 inc . 4 y 5 , 163 inc. 6 , 165 , 272 y concordante del Código Procesal Civil y Comercial ; 17 y 18 de el Constitución nacional y 11 , 15 , 161 inc. 3 y 171 de su par bonaerense ( v. fs . 217/26 vta . ) .#IV.1 . en primero término , criticar el confirmación de el rubro indemnizatorio por apartar él de el realidad económico del caso y desentender él de el consecuencia patrimonial del fallo . cuestionar el determinación de el suma resarcitorio a valor actual y achacar el excesivo fijación en el rubro por pérdida de chance y daño moral ( v. fs . 221 vta./223 ) . #En este segmento de el protesta indicar que el decisión del a quo devenir absurdo porque : a] él mantener uno elevado indemnización que haber ser fijar a valor actual en el suma de 4300000 ; b] él expresar uno monto en uno moneda no vigente al momento del hecho y , a su vez , declarar aplicable el actualización monetario y c] él determinar el aplicación de tasa de interés del 6/100 anual desde el fecha del hecho y hasta el 31 de marzo de 1991 y a partir del 1 de abril de 1991 conforme el art. 6 de el ley 11192 ( v. fs . 222 ) . # por tal motivo , sostener que el forma de decidir implicar conceder a el damnificado uno indemnización que superar el límite de el reparación pleno e integral , generar él uno enriquecimiento sin causa en favor de aquel y , por tanto , reclamar su morigeración ( v. fs . 221 vta./223 ) .#IV.2 . en segundo orden , cuestionar el decisión del Tribunal de Alzada en referencia a el actualización monetario aplicado sobre valor resarcitorio . en este porción del embate argumentar que el procedimiento dispuesto por el juzgador de grado anterior resultar contrario a el pauta que emanar de el ley 23928 , el cual impedir practicar reajuste alguno sobre el deuda de valor con posterioridad al día 1 de abril de 1991 ( v. fs . 223 ) .#IV.3 . finalmente , él agraviar de el fórmula de el interés empleado con motivo de uno extensión a uno capital de condena confirmado a valor actual con más su actualización monetario ( v. fs . 224 vta./226 ) .#particularmente , él encargar de remarcar que el operación elaborado por el Cámara de Apelaciones para establecer el accesorio él encontrar huérfano de el razonable proporción que deber guardar con el monto de condena establecido , prescindir del criterio de realidad económico . por tal motivo , transcribir cierto pasaje jurisprudencial en apoyo de su postura y solicitar su expresar revocación ( v. fs . 225/226 ) .#V . el recurso prosperar parcialmente .#V.1 . tal como ser exponer , el letrada apoderado del Fisco él agraviar de el estimación de el rubro indemnizatorio . en este sentido , criticar el cuantificación de el monto a valor actual y considerar excesivo su fijación ( v. fs . 221 vta./223 ) . #Esta protesta no poder ser atender , en atención a su insuficiente fundamentación ( conf. doctr. art . 279 , CPCC ) .#V.1.a . inicialmente , corresponder señalar que no él deber confundir el actividad de estimar el rubro indemnizatorio a fin de reflejar el \" valor actual \" con el utilización de aquel mecanismo de \" actualización \" , \" reajuste \" o \" indexación \" de monto histórico expresamente prohibido por el norma , todo vez que este último suponer uno operación matemático y el primero sólo expresar el adecuación del valor a el realidad económico del momento en que él pronunciar el fallo ( conf . doctr. causa C. 59337 , \" Quiroga \" , sent. de 17-II-1998 ; C. 92667 , \" Mercado \" , sent. de 14-IX-2005 ; C. 99152 , \" Fisco de el Provincia de Buenos Aires \" , sent. de 5-IV-2013 y C. 117735 , \" Bi Launek S.A.A.C. \" , sent. de 24-IX-2014 ) . #Por tal motivo , en el proceso por daño y perjuicio el juez él hallar facultado para fijar el quantum indemnizatorio al momento de dictar sentencia ( conf . causa L. 77503 , \" Cardelli \" y L. 75346 , \" Britez \" , sents . de 6-2.-2001 ; C. 101107 , \" Arbizu \" , sent. de 23-III-2010 ; C. 100908 , \" Ormaechea \" , sent. de 14-.I.I2010 y C. 117735 , \" Bi Launek S.A.A.C. \" , cit. ) .#V.1.b . caber referenciar que el Tribunal de Alzada , para confirmar el capital de condena otorgar en favor de el legitimado activo , analizar en forma separado el razonabilidad de el acápite por pérdida de chance y daño moral . # en cuanto al primero , dejar en claro que a fin de establecer su cuantía , ante el supresión de el vida humano , no resultar imprescindible uno prueba concreto , sino que ser suficiente contar con el elemento indispensable para que el reparación poder estimar él en equivalencia a el pérdida sufrido , conforme a uno criterio de apreciación subjetivo y objetivo , en forma integral ( v. fs . 210 y vta . ) .#A tenor de él , valorar el edad de Yamila Soledad Tobio y Lorena Ruiz Itatí quien al momento del infortunio contar con seis mes de vida y diecinueve año , respectivamente ; y el de Pedro Daniel Tobio , quien tener veintiuno año . asimismo , estimar el proyección de su aporte y potencialidad como padre y esposo , otorgar él uno gran alcance . por tal circunstancia , considerar adecuado el apreciación efectuado por el judicante de primero grado y confirmar el importe condenatorio a favor de el accionante ( v. fs . 210/212 vta. ) .# en torno al segundo , ponderar el afectación espiritual que sufrir el demandante ante el partida del señor Tobio . destacar que , para su estimación , deber valorar él que el homicidio acortar en el hecho el lógico expectativa de el continuidad existencial y el de gozar por uno tiempo razonable con el apoyo y compañía de el víctima . bajo este directriz , encontrar también adecuado el operación realizado por el magistrado de origen y mantener el resarcimiento otorgado a el reclamante ( v. fs . 212 ) . # tal fundamento , que resultar ser el base jurídico del pronunciamiento en crisis , no lograr ser rebatir eficazmente por el escueto manifestación vertido a fs . 221 vta./223 . pues bien , su atento lectura dejar advertir que el recurrente él haber limitar a discrepar con el razón expuesto por el a quo , al exteriorizar uno mero disconformidad con el resultado obtenido y al esgrimir uno punto de vista subjetivo y discrepante sobre el desproporcionalidad de el suma acordado , el realidad económico y el alcance de el condena ( conf. doctr. causa C. 119454 , \" Giunta \" , resol . de 18-III-2015 ; C. 121801 , \" Ermanni \" , resol . de 20-IX-2017 y C. 122307 , \" Solla \" , resol. de 22-vIII-2018 ) . el recurrente omitir cuestionar el razón de hecho y de derecho que llevar a el Cámara a confirmar el importe indemnizatorio ( art . 279 , CPCC ) . #Sabido ser que para revisar el cuestión de hecho ser indispensable evidenciar contundentemente que el conclusión que él costionar ser el producto del error grave y manifiesto que derivar en afirmación insostenible a el luz de el instrumento objetivo de el causa , situación que no ocurrir en auto . por más respetable que ser el opinión de el aquí impugnante , él no autorizar - por él solo- para que este Superior Tribunal sustituir con su criterio al de el juez de el instancia de apelación ( conf . doctr. causa C. 121.297 , \" Moyano \" , resol . de 28-XII20166 ; C. 121867 , \" Cabrera \" , resol. de 11-X-2017 y C. 122560 , \" Sánchez \" , resol. de 15-VIII-2018 ) . #Lo expuesto bastar para rechazar este segmento de el protesta y descartar el infracción normativa indicado a fs . 217 vta. y 222 vta. ( arts . 279 y 289 , CPCC ) .#V.2 . distinto suerte haber de llevar el agravio vinculado con el mecanismo de actualización establecido sobre el monto de condena .#Así , sostener el Cámara que haber él pronunciar erróneamente el juzgador de origen sobre el fecha del acontecimiento lesivo , corresponder modificar tal aspecto de el decisión y , consecuentemente , dejar sin efecto el fijación de interés , imponer el tipo que surgir del art. 6 de el ley 11192 conforme el petición de el demandado ( v. fs . 212 vta . ) .# posteriormente , hacer alusión al efecto adhesivo del recurso de apelación de el parte actor , analizar el pretensión de actualización solicitado en el escrito de inicio , destacar que tal petición ser desestimar en el solución de primero grado como consecuencia directo de el erróneo determinación de el fecha de mora ( v. fs . 212 vta. y 213 ) .#Bajo este andamiaje , establecer que el capital de condena deber ser reajustar a partir del día 17 de octubre de 1989 de acuerdo a el variación del índice de precio al consumidor , nivel general que suministrar el INDEC , monto sobre el cual él devengar el accesorio a el tasa el 6/100 anual desde el fecha aludido hasta el día 31 de marzo de 1991 , correr a partir del día 1 de abril de 1991 el citado conforme él determinar el art. 6 de el ley 11192 ( v. fs . 213 ) .#Frente a él , el recurrente , denunciar infracción al art . 163 inc. 6 del Código Procesal Civil y Comercial y descalificar este parcela del fallo por cuanto entender que el mecanismo de actualización del crédito él encontrar expresamente vedado por el ley especial ( v. fs . 217 vta. y 223 ) . #Considero que deber hacer él lugar a este parcela del recurso , pues entender que acertar el recurrente respecto a que el Tribunal de Alzada haber violar el principio de congruencia . #Ello así en tanto que el órgano de origen dictar sentencia condenar al Estado provincial al pago de $ 4300000 , con más el tasa de interés pasivo más alto que pagar el Banco de el Provincia de Buenos Aires ( v. fs . 168175 vta. ) . luego , en forma oficioso , integrar el pronunciamiento a el fin de suplir el omisión en que él haber incurrir en torno a el actualización monetario solicitado por el parte actor y él descartar por considerar aplicable el disposición que surgir de el ley 23928 y 25561 ( v. fs . 179 ) .# dicho decisión ser apelado por el parte actor ( v. fs . 180 ) , pero caber destacar que su recurso ser declarar desierto por no haber él expresar el agravio en el plazo que otorgar el Código ritual ( v. fs . 194/195 ) , motivo por el cual tal aspecto sentencial quedar firme y consentir . #En tal sentido , sobre el base de el principio que gobernar el proceso dispositivo , considerar que el Tribunal de Alzada él haber transgredir pronunciar él sobre uno capítulo que no ser proponer por el legitimado activo y que tampoco corresponder ponderar en virtud del instituto de el apelación implícito , ya que dicho porción de el sentencia haber ser analizar y resuelto con sentido desfavorable por el magistrado de primero instancia ( conf . causa C. 99308 , \" O. , E. A. \" , sent. de 17-VI-2099 ; C. 100498 , \" Banco Bansud S.A. \" , sent. de 12-X-2011 y C. 118055 , \" Fernández \" , sent. de 15-VII20155 ; etcétera . ) .#A su vez , también entender que asir razón a el impugnante cuando cuestionar el aplicación de uno fórmula de actualización . # en efecto , haber manifestar este Superior Tribunal - de manera invariable - que hasta el 31 de marzo de 1991 inclusivir el crédito deber ser repotenciar , de acuerdo con el índice de variación de precio al consumidor -nivel general- publicado por el INDEC ( conf . doctr. causa Ac . 43858 , \" Zgonc \" , sent. de 21-V-1991 ; B. 61920 , \" Pecker \" , sent. de 15-XI-2005 ; entre mucho otro ) . si bien este interpretación no variar luego de el derogación del art. 8 de el ley 23928 por el art . 3 de el ley 25561 , todo vez que el principio nominalista que regir el obligación de dar suma de dinero continuar tener vigencia a partir del 1 de abril de 1991 , él cierto ser que el circunstancia fáctico que él tener en consideración para elaborar tal precedente destar de ser asimilable a el presente y su aplicación en el especie resultar censurable . #Como ver , en este actuado el instancia inferior haber cuantificar el perjuicio sufrido por el actora , otorgar uno indemnización fijado a valor actual . sobre tal operación , el Cámara de Apelaciones - por el motivo antes expuesto - disponer reajustar dicho capital a partir del día 17 de octubre de 1989 de acuerdo a el variación del índice de precio al consumidor ( v. fs . 213 ) miobrar de tal modo el operación que efectuar el a quo generar uno doble repotenciación de el deuda , uno al establecer el rubro indemnizatorio a valor actual y otro al ordenar su reajuste desde el fecha del hecho lesivo , llevar el condena a uno injusto e inadmisible doble indemnización ( conf. arts . 499 , 728 y conc . , Cód . Civ. ; 1794 , Cód . Civ. y Com. y doctr. causa C. 77461 , \" González \" , sent. de 13-XI-2002 ; C. 100299 , \" H. , S. M. \" , sent. de 11-III-2009 y C. 117926 , \" P. , M. G. \" , sent. de 11-II-2015 ) . #Por tanto , en sustento de este doble orden de motivo , corresponder hacer lugar a el agravio aquí vertido por el representante de el Provincia de Buenos Aires y casar el sentencia cuestionado en este aspecto ( art . 289 , CPCC ) .#V.3 . en cuanto al tópico vinculado con el accesorio , el mismo no poder progresar , en virtud de el argumento que a continuación paso a exponer . # en primero lugar , caber recordar que el ley 11192 resultar ser uno norma provincial que consolidar a el obligación que deber pagar el Estado cuyo causa o título ser anterior al 1 de abril de 1991 ( conf. art. 1 ) .# en segundo término , también valer destacar que si bien el pago mediante título público no él encontrar vigente ( conf. art . 12 , ley cit. ) , sí él estar el cancelación en efectivo y el aplicación de el tasa de interés a el que aludir el art . 6 de el ley 11192 , equivalente a el tasa promedio de el Caja de Ahorro Común que publicar el Banco Central de el República Argentina ( conf . doctr. causa C. 78.797 , \" Conarges S.A. \" , sent. de 20-.-2009 ; C. 94765 , \" Quevedo \" , sent. de 6-I2-2011 ; e .o. ) .#Bajo este plataforma , encontrar él alcanzar el crédito de el actora por el mentado régimen , en tanto el hecho lesivo acontecer el 17 de octubre de 1989 , el aplicación de el disposición aludido devenir ajustado a derecho ( v. fs . 7 vta . ) .# en consecuencia , corresponder rechazar este parcela del recurso , descartar el violación legal expuesto a fs . 217 vta . y dejar establecido que el tasa de interés aplicable al monto de condena , a partir del día 17 de octubre de 1989 , ser el dispuesto por el art. 6 de el ley 11192 ( art . 289 , CPCC ) .#V.4 . tampoco poder ser atender el aducido infracción a el garantía constitucional de fs . 218 por cuanto no él lograr acreditar de qué manera el pronunciamiento colisionar con el derecho y prerrogativa que él decir infringido , faena a cargo de el interesado - en el caso insatisfecho - que no poder ser suplidar por este Corte ( conf . doctr. causa C. 120119 , \" Sampedro \" , resol . de 14-X-2015 ; C. 121205 , \" Alternativa Bahiense S.C. \" , resol . de 21-XII-2016 ; C. 121337 , \" Matossian \" , resol. de 5-IV-2017 y C. 122671 , \" Lago \" , resol. de 22-vIII-2018 ) .#V.5 . finalmente , respecto a el transgresión al art . 171 de el Constitución local ( v. fs . 218 ) , ser preciso recordar que el mismo resultar extraño al recurso extraordinario de inaplicabilidad de ley , ser propio de el vía anulativo ( conf . doctr. causa C. 119305 , \" Selvarolo \" , resol . de 27-2-2015 ; C. 120642 , \" Aranda \" , resol . de 1-VI-2016 ; C. 120959 , \" Freire Hnos . S.A.I.C.F. \" , resol. de 5-IV-2017 y C. 122403 , \" Barbieri \" , resol. de 30-v-2018 ) .#VI . en función de él expresado , si él que proponer resultar compartido por mi colega , deber hacer él lugar en forma parcial al recurso interpuesto , con el alcance indicado en el punto V.2 . el costa de alzada y el de este sede extraordinario él imponer en uno 20 a el actora y en uno 80/100 a el demandado , en razón de el forma en que él resolver ( arts . 68 segundo parte , 274 , 279 y 289 , CPCC ) .#Voto , con dicho alcance , por el afirmativo . # el señor Juez doctor de Lázzari , por el mismo fundamento de el señora Jueza doctora Kogan , votar también por el afirmativo . #a el cuestión planteado , el señor Juez doctor Soria decir : # adherir al voto de mi distinguido colega doctora Kogan .#Sólo haber de añadir , en relación al agravio vinculado a el tasa de interés , que el alícuota fijado por el Tribunal de Alzada en tal concepto para el período que correr a partir del día 1 de abril de 1991 ( tasa promedio de el Caja de Ahorro Común que pulicar el Banco Central de el República Argentina , capitalizable mensualmente , conf. art. 6 , ley 11192 ) , él corresponder con el que ser expresamente peticionar por el recurrente al expresar su agravio a fs . 199 y siguiente ( v . en particular , fs . 201 y vta. ) , sin que tal pretensión recursivo del allí apelante él haber subordinar a el previo modificación del capital de condena , todo él cual sellar el suerte adverso de este tramo del embate ( art . 289 , CPCC ) . #Con el alcance indicado , voto por el afirmativo . # el señor Juez doctor Negri , por el mismo fundamento de el señora Jueza doctora Kogan , votar también por el afirmativo . #Con él que terminar el acuerdo , dictar él el siguiente#S e N T e N C I A#Por él expuesto en el acuerdo que anteceder , él hacer lugar en forma parcial al recurso interpuesto , con el alcance indicado en el punto V.2 . del voto que abrir el acuerdo . el costa de alzado y el de este sede extraordinario él imponer en uno 20 a el actora y en uno 80/100 a el demandado , en razón de el forma en que él resolver ( arts . 68 segundo parte , 274 , 279 y 289 , CPCC ) .#Notifíquese y devolver él . ieduardo NESTOR de LÁZZARI #HECTOR NEGRI DANIEL FERNANDO SORIA #HILDA kogan#carlos E. CAMPS#Secretario #TEXTO completo C U e R D O#En el ciudad de el Plata , a 11 de septiembre de 2019 , haber él establecer , de conformidad con él dispuesto en el Acuerdo 2078 , que deber observar él el siguiente orden de votación : doctor Genoud , de Lázzari , Kogan , Negri , Soria , Pettigiani , Torres , él reunir el señor Jueces de el Suprema Corte de Justicia en acuerdo ordinario para pronunciar sentencia definitivo en el causa C. 122500 , \" P. , J. F. . Incidente de declaración de adoptabilidad \" .#A N T e C e D e N T e S#La Sala I de el Cámara de Apelación en él Civil y Comercial del Departamento Judicial de Bahía Blanca confirmar tanto el sentencia de primero instancia que declarar al niño J. F. P. en situación de adoptabilidad como el resolución que otorgar su guarda preadoptivo ( v. fs . 283/287 vta . ) .# él interponer , por el progenitora , recurso extraordinario de nulidad e inaplicabilidad de ley ( v. fs . 299/303 vta. ) .#Oído el señor Procurador General , dictado el providencia de auto y encontrar él el causa en estado de pronunciar sentencia , el Suprema Corte resolver plantear y votar el siguientes#C U e S T I o N e S#1ª ) ¿ ser admisible el recurso extraordinario de nulidad ? # en caso afirmativo:#2ª ) ¿ ser fundado el mismo ? # en caso negativo:#3ª ) ¿ ser fundado el recurso extraordinario de inaplicabilidad de ley ? #V o T a C I Ó N#A el primero cuestión planteado , el señor Juez doctor Genoud decir : #I . Del análisis de el condición de admisibilidad de el vía anulatorio otorgado , caber señalar que en el escrito del recurso él advertir que , no obstante el cita del art . 171 de el Constitución provincial , en el mismo no él haber desarrollar agravio apoyado en el contenido normativo de el precepto constitucional que él dar sustento , peticionar el recurrente genéricamente el nulidad de el sentencia ( causa C. 120525 , \" Decunto \" , resol . de 4-V-2016 ; C. 120916 , \" el Tilde S.A. \" , resol . de 26-X-2016 ; C. 121516 , \" Recupero de Siniestros S.R.L. \" , resol. de 21-VI-2017 y C. 122280 , \" D'Uva \" , resol. de 11-IV-2018 ) .#Así , en tal condición , y sin perjuicio de el observación que poder realizar él en cuanto a el técnica recursivo utilizado , no él avizorar en el pieza procesal en análisis que él haber formulado desarrollo argumental alguno con sustento en el referido norma constitucional o en su contenido normativo , él que determinar el inadmisibilidad del carril impugnativo bajo estudio ( doctr . causa C. 109348 , \" Rodríguez Olivera \" , resol . de 6-I2-2011 ; C. 116488 , \" Casa Bernabe S.C.A. \" , resol . de 28-IIII2012 ; C. 117268 , \" Mindel \" , resol . de 19-XII-2012 y C. 121776 , \" Zardain \" , resol. de 20-IX-2017 ) .#II . por él tanto , caber concluir que el impugnación extraordinario de nulidad haber ser mal otorgado ( art. 296 , CPCC ) .#Voto por el negativa . # el señor Jueces doctor de Lázzari , Kogan , Negri , Soria , Pettigiani y Torres , por el mismo fundamento del señor Juez doctor Genoud , votar el primero cuestión también por el negativa . #a el segundo cuestión planteado , el señor Juez doctor Genoud decir : # en atención a él acordado al votar el primero cuestión , no corresponder el tratamiento de este segundo planteado . # así él voto . #Los señor Jueces doctores de Lázzari , Kogan , Negri , Soria , Pettigiani y Torres , por el mismo fundamento del señor Juez doctor Genoud , votar el segundo cuestión en el mismo sentido . #a el tercero cuestión planteado , el señor Juez doctor Genoud decir :#I . el Sala I de el Cámara de Apelación en él Civil y Comercial del Departamento Judicial de Bahía Blanca confirmar tanto el sentencia de primero instancia que declarar al niño J. F. P. en situación de adoptabilidad como el resolución que otorgar su guarda preadoptivo ( v. fs . 283/287 vta . ) .#Para así decidir , el a quo , luego de evaluar el prueba colectado en auto , sostener que \" el carencia que él haber evidenciar en relación al cuidado del menor y el situación de violencia justificar uno intromisión drástico e invasivo de uno estructura familiar vulnerable y disfuncional , ya que estar impactar negativamente sobre el pequeño \" ( fs . 285 vta . ) .#A él agregar que si bien el informe de fs . 200/201 , 212 y 226/227 marcar uno avance en el actitud personal de el progenitora , no cambiar el situación todo vez que simplemente concluir él favorable de el visita de el señora P. al niño , en el marco de el guarda preadoptivo otorgado ( v. fs . cit . ) .#Así , concluir que J. F. \" después de vivir algo más de uno año y medio , en uno contexto de sereno confortabilidad material y psíquico ( v. inf. fs. 49 ) , no poder forzar él ahora su restitución cuando el recurrente , más allá de mostrar alguno cambio positivo , no evidenciar modificación estructural - en su carencia y limitación personal - que asegurar al menor uno hogar en el que poder desarrollar él en forma integral \" ( fs . 286 ) .#finalmente considerar que , si bien el sentencia que declarar al niño en situación de adoptabilidad no él encontrar firme al tiempo de otorgar el guarda , el razón de proceder del magistrado de origen encontrar fundamento en el art . 612 del Código Civil y Comercial , y que si no él haber otorgar el guarda preadoptivo como él hacer , él haber llegar a uno tiempo de institucionalización de más de dos año ( v. fs . 286 vta. y 287 ) .#II . frente a él , él alzar el progenitora del niño , E. S. P. , a través del recurso extraordinario de inaplicabilidad de ley de fs . 299/303 por el cual denunciar el infracción de el arts . 613 del Código Civil y Comercial ; 7 , 8 , 9-1 , 9-2 , 18-1 , 2 y 3 y 21 de el Convención de el Derechos del Niño ; 17 y 19 de el Convención Americana de el Derechos Humanos y 75 inc . 22 de el Constitución nacional .#Alega , en síntesis , que el sentencia impugnado resultar nulo porque decidir el situación de adoptabilidad sobre el base de considerar el informe del equipo técnico del juzgado interviniente y no él dispuesto por el ente administrativo , en contradicción con él establecido por el art . 613 del Código Civil y Comercial . # también él quejar por considerar que él omitir precisar de manera concreto qué tipo de obstáculo impedir que el señora P. desarrollar su rol materno ; y el posibilidad real y concreto que el estado tener para sortear el conflicto . #Sostiene que el juez hacer referencia al hecho de violencia denunciado que dar motivo al inicio de el medida de abrigo pero que , posteriormente , no tener en consideración \" el informe que marcar uno cambio de rumbo y/o actitud por parte de mi asistido y que datar de uno tiempo actual en comparación con el referido por el Cámara de Apelaciones para fundar su voto \" ( fs . 302 ) . # por último , él agraviar por considerar que el guarda preadoptivo ser otorgado sin que él encontrar firme el sentencia que declarar al niño en situación de adoptabilidad ( v. fs . 300 vta . ) .#III . el recurso no prosperar .#III.1 . compartir y hacer propio el fundamento vertido por el señor Procurador General a fs . 313/316 vta. , por considerar que el mismo abastecer adecuadamente el respuesta que caber dar a el recurrente ( causa C. 115708 , \" N.N. \" , sent. de 12-VI-2013 ; C. 117084 , \" W. , G. \" , sent. de 4-VI-2014 ; C. 121036 , \" M. , B. D. \" , sent. de 29-XI-2017 ) , en cuanto concluir que el agravio planteado resultar insuficiente para conmover el hermenéutica desplegado en el fallo cuestionar , en cuanto resolver confirmar el declaración del niño J. F. P. en situación de adoptabilidad ( v. fs . 315/316 vta . ) .#III.2 . en cuanto al plantear dirigido a controvertir que él haber otorgar el guarda preadoptivo de J. F. al matrimonio integrado por L. R. D. C. y M. C. Á. , quien él encontrar inscripto en el Registro Único de Aspirantes a Guarda con fin de Adopción , caber observar que si bien para ese momento procesal no ser acertar el selección de el figura , todo vez que haber corresponder acudir a uno tipo \" provisorio \" o \" cautelar \" hasta tanto adquirir firmeza el declaración de adoptabilidad , él cierto ser que de el informe presentado él desprender que el proceso de vinculación con el guardador ser altamente positivo para el niño , quien actualmente él encontrar adecuadamente insertado en dicho familia ( v. fs . 177/178 , 195/196 , 197 y vta. ) , con él cual - tener en miras especialmente su superior interés - , corresponder mantener el continuidad de el guarda otorgado ( arts . 11 y 36.2 , Const. prov. ; 75 inc . 22 , Const . nac. ; 3 , 19 , 39 y concs. , CDN ) .#III.3 . finalmente estimar que en el instancia de grado deber evaluar él el posibilidad de continuar con el régimen de comunicación entre J. F. y su progenitora ( v . fs . 168170 , 171172 vta. , 173/174 , 182 , 197 y vta. , 200/201 vta. , 208209 vta. , 218/20 , 226/227 vta. , 229/230 vta. , 236 y vta. , 240/241 , 246 y vta. , 255 y vta. , 259 vta. ) , resguardar el interés superior del niño ( arts . 3 y 8.1 , CDN ) .#IV . por él expuesto , propicio el rechazo del recurso extraordinario de inaplicabilidad de ley incoar ; con costa ( arts . 68 y 289 , CPCC ) . # el presente deber notificar él con copia del dictamen de fs . 313/316 vta . #Voto por el negativa . #a el tercero cuestión planteado , el señor Juez doctor de Lázzari decir : # adherir al voto del doctor Genoud , con el siguiente salvedad . # respecto del punto III.2. compartir únicamente él expuesto en su primero parte , en cuanto mencionar el desacierto de el concesión de el guarda preadoptivo en ese instancia procesal , pues requerir otorgar uno medida con carácter provisorio o cautelar . # ahora bien , en vista de él expuesto en el dictamen del señor Procurador General en donde él mencionar que no estar dado el condición para que el niño poder retornar con su progenitora -ver fs . 315 a 316 vta. - y más allá de el errado elección de el figura jurídico , el interés superior de J. F. , tras el tiempo transcurrir , imponer confirmar el declaración de el situación de adoptabilidad . #Es por él que corresponder dejar sin efecto el guarda preadoptivo otorgado a fs . 162 y conceder uno nuevo computar a ese fin el tiempo de convivencia con su guardador ( art . 706 , Cód . Civ. y Com . ) .# así él voto . # el señora Jueza doctora Kogan , por el mismo fundamento del señor Juez doctor de Lázzari , votar el tercero cuestión en el mismo sentido . #a el tercero cuestión planteado , el señor Juez doctor Negri decir :#I . el recurso no prosperar ( art . 279 , CPCC ) .#II . el sentencia impugnado -tal como señalar el señor Procurador General a fs . 315- destacar que no ser acreditar en auto que el madre del niño , S. E. P. , él encontrar en condición de afrontar -responsablemente- el cuidado de su hijo , ni aun con el apoyo de su familiar . #Concluyó el Cámara que , sin perjuicio de que el recurrente mostrar cambio positivo , no él evidenciar modificación estructural que asegurar que el niño poder desarrollar él junto a su madre en forma integral .#III . analizado el totalidad de el constancia obrante en auto , y él expuesto en el recurso obrante a fs . 299/303 , coincidir con el colega que yo preceder en el votación en que el argumento planteado por el impugnante resultar insuficiente para conmover el decisión del Tribunal de Alzada ( conf. doctr. 279 , CPCC ) .#Advierto que , más allá del valor de el familia biológico ( v . mi voto en C. 100587 , \" G. , M.C. \" , sent. de 4-II-2009 ) , el excepcional circunstancia de este caso determinar confirmar él decidido en el instancia de grado en consideración al interés superior de J. F. ( arts . 706 inc . \" c \" , Cód . Civ . y Com. ; 7 , ley 14528 ) .#IV . por otro lado , propicio que en el instancia de grado él evaluar el posibilidad de mantener el régimen de comunicación entre el niño y su madre ( como así también de incluir en el encuentro a su pequeño hermano , quien haber nacer en el lapso que demandar este proceso , conforme surgir de fs . 260 y 302 vta. ) , siempre resguardar el interés superior de el niño , su paz y tranquilidad ( arts . 3 y 8.1 , CDN ) . # por último , en relación al agravio dirigido a cuestionar el guarda preadoptivo otorgado , adherir a él expuesto por el doctor Genoud en el punto III.2. de su voto .#V . en conclusión , al no haber ser acreditar el infracción legal denunciado , corresponder proceder al rechazo del recurso extraordinario de inaplicabilidad de ley deducido ( conf. doctr. art . 279 , CPCC ) . # el costa él imponer por su orden dado el índole de el cuestión planteado ( conf . C. 119.647 , \" M. , S.A. \" , sent. de 16-9II-2016 ; arts . 68 , segundo párrafo y 289 , CPCC ) .#Voto por el negativa . # el señor Juez doctor Soria , por el mismo fundamento del señor Juez doctor Genoud , votar el tercero cuestión también por el negativa . #a el tercero cuestión planteado , el señor Juez doctor Pettigiani decir : # por compartir su fundamento , adherir al voto del doctor Genoud. #Ello pues conciliar acabadamente con el superior interés del niño J. F. ( arg. arts . 3 , 9 y 12 , Convención sobre el Derechos del Niño [ \" CDN \" ] ; 1 , 18 , 31 , 33 , 75 inc. 22 y concs. , Const. nac. ; 594 , 595 inc. \" a \" , 607 , 706 y concs . , Cód . Civ . y Com. ; 1 , 11 , 15 , 36.2 y concs . , Const. prov. ; 4 , 5 , 6 , 7 y concs. , ley 13298 ; 1 , 2 y concs. , ley 14528 ; 384 , 853 , CPCC ) .#I . el art. 3 , párrafo 1 , de el CDN otorgar al niño el derecho a que él considerar y tener en cuenta de manera primordial su interés superior en todo el medida o decisión que él afectar ,"
          ],
          "name": "stdout"
        },
        {
          "output_type": "error",
          "ename": "KeyboardInterrupt",
          "evalue": "ignored",
          "traceback": [
            "\u001b[0;31m---------------------------------------------------------------------------\u001b[0m",
            "\u001b[0;31mKeyboardInterrupt\u001b[0m                         Traceback (most recent call last)",
            "\u001b[0;32m<ipython-input-20-fe2810772857>\u001b[0m in \u001b[0;36m<module>\u001b[0;34m()\u001b[0m\n\u001b[0;32m----> 1\u001b[0;31m \u001b[0mprint\u001b[0m\u001b[0;34m(\u001b[0m\u001b[0;34m*\u001b[0m\u001b[0;34m[\u001b[0m\u001b[0;34mf'{word.lemma}'\u001b[0m \u001b[0;32mfor\u001b[0m \u001b[0msent\u001b[0m \u001b[0;32min\u001b[0m \u001b[0mdoc\u001b[0m\u001b[0;34m.\u001b[0m\u001b[0msentences\u001b[0m \u001b[0;32mfor\u001b[0m \u001b[0mword\u001b[0m \u001b[0;32min\u001b[0m \u001b[0msent\u001b[0m\u001b[0;34m.\u001b[0m\u001b[0mwords\u001b[0m\u001b[0;34m]\u001b[0m\u001b[0;34m)\u001b[0m\u001b[0;34m\u001b[0m\u001b[0;34m\u001b[0m\u001b[0m\n\u001b[0m",
            "\u001b[0;32m/usr/local/lib/python3.6/dist-packages/ipykernel/iostream.py\u001b[0m in \u001b[0;36mwrite\u001b[0;34m(self, string)\u001b[0m\n\u001b[1;32m    398\u001b[0m             \u001b[0mis_child\u001b[0m \u001b[0;34m=\u001b[0m \u001b[0;34m(\u001b[0m\u001b[0;32mnot\u001b[0m \u001b[0mself\u001b[0m\u001b[0;34m.\u001b[0m\u001b[0m_is_master_process\u001b[0m\u001b[0;34m(\u001b[0m\u001b[0;34m)\u001b[0m\u001b[0;34m)\u001b[0m\u001b[0;34m\u001b[0m\u001b[0;34m\u001b[0m\u001b[0m\n\u001b[1;32m    399\u001b[0m             \u001b[0;31m# only touch the buffer in the IO thread to avoid races\u001b[0m\u001b[0;34m\u001b[0m\u001b[0;34m\u001b[0m\u001b[0;34m\u001b[0m\u001b[0m\n\u001b[0;32m--> 400\u001b[0;31m             \u001b[0mself\u001b[0m\u001b[0;34m.\u001b[0m\u001b[0mpub_thread\u001b[0m\u001b[0;34m.\u001b[0m\u001b[0mschedule\u001b[0m\u001b[0;34m(\u001b[0m\u001b[0;32mlambda\u001b[0m \u001b[0;34m:\u001b[0m \u001b[0mself\u001b[0m\u001b[0;34m.\u001b[0m\u001b[0m_buffer\u001b[0m\u001b[0;34m.\u001b[0m\u001b[0mwrite\u001b[0m\u001b[0;34m(\u001b[0m\u001b[0mstring\u001b[0m\u001b[0;34m)\u001b[0m\u001b[0;34m)\u001b[0m\u001b[0;34m\u001b[0m\u001b[0;34m\u001b[0m\u001b[0m\n\u001b[0m\u001b[1;32m    401\u001b[0m             \u001b[0;32mif\u001b[0m \u001b[0mis_child\u001b[0m\u001b[0;34m:\u001b[0m\u001b[0;34m\u001b[0m\u001b[0;34m\u001b[0m\u001b[0m\n\u001b[1;32m    402\u001b[0m                 \u001b[0;31m# newlines imply flush in subprocesses\u001b[0m\u001b[0;34m\u001b[0m\u001b[0;34m\u001b[0m\u001b[0;34m\u001b[0m\u001b[0m\n",
            "\u001b[0;32m/usr/local/lib/python3.6/dist-packages/ipykernel/iostream.py\u001b[0m in \u001b[0;36mschedule\u001b[0;34m(self, f)\u001b[0m\n\u001b[1;32m    201\u001b[0m             \u001b[0mself\u001b[0m\u001b[0;34m.\u001b[0m\u001b[0m_events\u001b[0m\u001b[0;34m.\u001b[0m\u001b[0mappend\u001b[0m\u001b[0;34m(\u001b[0m\u001b[0mf\u001b[0m\u001b[0;34m)\u001b[0m\u001b[0;34m\u001b[0m\u001b[0;34m\u001b[0m\u001b[0m\n\u001b[1;32m    202\u001b[0m             \u001b[0;31m# wake event thread (message content is ignored)\u001b[0m\u001b[0;34m\u001b[0m\u001b[0;34m\u001b[0m\u001b[0;34m\u001b[0m\u001b[0m\n\u001b[0;32m--> 203\u001b[0;31m             \u001b[0mself\u001b[0m\u001b[0;34m.\u001b[0m\u001b[0m_event_pipe\u001b[0m\u001b[0;34m.\u001b[0m\u001b[0msend\u001b[0m\u001b[0;34m(\u001b[0m\u001b[0;34mb''\u001b[0m\u001b[0;34m)\u001b[0m\u001b[0;34m\u001b[0m\u001b[0;34m\u001b[0m\u001b[0m\n\u001b[0m\u001b[1;32m    204\u001b[0m         \u001b[0;32melse\u001b[0m\u001b[0;34m:\u001b[0m\u001b[0;34m\u001b[0m\u001b[0;34m\u001b[0m\u001b[0m\n\u001b[1;32m    205\u001b[0m             \u001b[0mf\u001b[0m\u001b[0;34m(\u001b[0m\u001b[0;34m)\u001b[0m\u001b[0;34m\u001b[0m\u001b[0;34m\u001b[0m\u001b[0m\n",
            "\u001b[0;32m/usr/local/lib/python3.6/dist-packages/zmq/sugar/socket.py\u001b[0m in \u001b[0;36msend\u001b[0;34m(self, data, flags, copy, track, routing_id, group)\u001b[0m\n\u001b[1;32m    414\u001b[0m                                  copy_threshold=self.copy_threshold)\n\u001b[1;32m    415\u001b[0m             \u001b[0mdata\u001b[0m\u001b[0;34m.\u001b[0m\u001b[0mgroup\u001b[0m \u001b[0;34m=\u001b[0m \u001b[0mgroup\u001b[0m\u001b[0;34m\u001b[0m\u001b[0;34m\u001b[0m\u001b[0m\n\u001b[0;32m--> 416\u001b[0;31m         \u001b[0;32mreturn\u001b[0m \u001b[0msuper\u001b[0m\u001b[0;34m(\u001b[0m\u001b[0mSocket\u001b[0m\u001b[0;34m,\u001b[0m \u001b[0mself\u001b[0m\u001b[0;34m)\u001b[0m\u001b[0;34m.\u001b[0m\u001b[0msend\u001b[0m\u001b[0;34m(\u001b[0m\u001b[0mdata\u001b[0m\u001b[0;34m,\u001b[0m \u001b[0mflags\u001b[0m\u001b[0;34m=\u001b[0m\u001b[0mflags\u001b[0m\u001b[0;34m,\u001b[0m \u001b[0mcopy\u001b[0m\u001b[0;34m=\u001b[0m\u001b[0mcopy\u001b[0m\u001b[0;34m,\u001b[0m \u001b[0mtrack\u001b[0m\u001b[0;34m=\u001b[0m\u001b[0mtrack\u001b[0m\u001b[0;34m)\u001b[0m\u001b[0;34m\u001b[0m\u001b[0;34m\u001b[0m\u001b[0m\n\u001b[0m\u001b[1;32m    417\u001b[0m \u001b[0;34m\u001b[0m\u001b[0m\n\u001b[1;32m    418\u001b[0m     \u001b[0;32mdef\u001b[0m \u001b[0msend_multipart\u001b[0m\u001b[0;34m(\u001b[0m\u001b[0mself\u001b[0m\u001b[0;34m,\u001b[0m \u001b[0mmsg_parts\u001b[0m\u001b[0;34m,\u001b[0m \u001b[0mflags\u001b[0m\u001b[0;34m=\u001b[0m\u001b[0;36m0\u001b[0m\u001b[0;34m,\u001b[0m \u001b[0mcopy\u001b[0m\u001b[0;34m=\u001b[0m\u001b[0;32mTrue\u001b[0m\u001b[0;34m,\u001b[0m \u001b[0mtrack\u001b[0m\u001b[0;34m=\u001b[0m\u001b[0;32mFalse\u001b[0m\u001b[0;34m,\u001b[0m \u001b[0;34m**\u001b[0m\u001b[0mkwargs\u001b[0m\u001b[0;34m)\u001b[0m\u001b[0;34m:\u001b[0m\u001b[0;34m\u001b[0m\u001b[0;34m\u001b[0m\u001b[0m\n",
            "\u001b[0;32mzmq/backend/cython/socket.pyx\u001b[0m in \u001b[0;36mzmq.backend.cython.socket.Socket.send\u001b[0;34m()\u001b[0m\n",
            "\u001b[0;32mzmq/backend/cython/socket.pyx\u001b[0m in \u001b[0;36mzmq.backend.cython.socket.Socket.send\u001b[0;34m()\u001b[0m\n",
            "\u001b[0;32mzmq/backend/cython/socket.pyx\u001b[0m in \u001b[0;36mzmq.backend.cython.socket._send_copy\u001b[0;34m()\u001b[0m\n",
            "\u001b[0;32m/usr/local/lib/python3.6/dist-packages/zmq/backend/cython/checkrc.pxd\u001b[0m in \u001b[0;36mzmq.backend.cython.checkrc._check_rc\u001b[0;34m()\u001b[0m\n",
            "\u001b[0;31mKeyboardInterrupt\u001b[0m: "
          ]
        }
      ]
    },
    {
      "cell_type": "code",
      "metadata": {
        "id": "Fa8LKFdyRiT3"
      },
      "source": [
        ""
      ],
      "execution_count": null,
      "outputs": []
    },
    {
      "cell_type": "code",
      "metadata": {
        "id": "cz5QgNZVRiaV"
      },
      "source": [
        ""
      ],
      "execution_count": null,
      "outputs": []
    },
    {
      "cell_type": "code",
      "metadata": {
        "id": "DSRn-HYcNPBs"
      },
      "source": [
        "for i, sent in enumerate(doc.sentences):\n",
        "  sent.print_tokens()"
      ],
      "execution_count": null,
      "outputs": []
    },
    {
      "cell_type": "code",
      "metadata": {
        "id": "sGqiBvuc2TGV"
      },
      "source": [
        "def select_lemas(doc):\n",
        "    return [ent for ent in doc.entities if ent.type == \"PERSON\"]\n",
        "\n",
        "def person_df(doc):\n",
        "    \"\"\"\n",
        "    - Parameters: doc (a Stanza Document object)\n",
        "    - Returns: A Pandas DataFrame with one row for each entity in doc\n",
        "      that has a \"PERSON\" type, and and columns text, type, start_char, \n",
        "      and the sentiment of the sentence in which the entity appears.\n",
        "    \"\"\"\n",
        "    rows = []\n",
        "    persons = select_person_entities(doc)\n",
        "    for person in persons:\n",
        "        row = {\n",
        "            \"text\": person.text,\n",
        "            \"type\": person.type,\n",
        "            \"start_char\": person.start_char,\n",
        "            \"end_char\": person.end_char,\n",
        "            \"sentence_sentiment\": sentiment_descriptor(person._sent)\n",
        "        }\n",
        "        rows.append(row)\n",
        "    return pd.DataFrame(rows)\n",
        "\n",
        "characters = person_df(moby_dick)\n",
        "display(characters.head())"
      ],
      "execution_count": null,
      "outputs": []
    },
    {
      "cell_type": "markdown",
      "metadata": {
        "id": "EHQAzypsy35G"
      },
      "source": [
        "# Continuar con armado de matriz docxword con STANZA"
      ]
    },
    {
      "cell_type": "code",
      "metadata": {
        "id": "aqiFtF9HzHNP"
      },
      "source": [
        ""
      ],
      "execution_count": null,
      "outputs": []
    },
    {
      "cell_type": "markdown",
      "metadata": {
        "id": "rnRyfiDXUqCl"
      },
      "source": [
        "# Word count Matrix of documents with SKLEARN\n"
      ]
    },
    {
      "cell_type": "code",
      "metadata": {
        "id": "TNuUSe6CUHIV"
      },
      "source": [
        "from sklearn.feature_extraction.text import CountVectorizer"
      ],
      "execution_count": 170,
      "outputs": []
    },
    {
      "cell_type": "code",
      "metadata": {
        "id": "-SGqOLvZZsxN",
        "outputId": "e843a9bd-387f-4c69-f96a-56bc5bcd5baf",
        "colab": {
          "base_uri": "https://localhost:8080/",
          "height": 216
        }
      },
      "source": [
        "tbfallos['textos_fallo']"
      ],
      "execution_count": 32,
      "outputs": [
        {
          "output_type": "execute_result",
          "data": {
            "text/plain": [
              "0      #TEXTO COMPLETO#A C U E R D O#En la ciudad de ...\n",
              "1      #TEXTO COMPLETO#A C U E R D O#En la ciudad de ...\n",
              "2      #TEXTO COMPLETO#\"VOSS SUSANA BEATRIZ C/ VILLAR...\n",
              "3      #TEXTO COMPLETO#A C U E R D O#En la ciudad de ...\n",
              "4      #TEXTO COMPLETO#\"RICA ARIEL FEDERICO Y OTROS C...\n",
              "                             ...                        \n",
              "909    #TEXTO COMPLETO#A C U E R D O#En la ciudad de ...\n",
              "910    #TEXTO COMPLETO#A C U E R D O#En la ciudad de ...\n",
              "911    #TEXTO COMPLETO#A C U E R D O#En la ciudad de ...\n",
              "912    #TEXTO COMPLETO#A C U E R D O#En la ciudad de ...\n",
              "913    #TEXTO COMPLETO#A C U E R D O#En la ciudad de ...\n",
              "Name: textos_fallo, Length: 914, dtype: object"
            ]
          },
          "metadata": {
            "tags": []
          },
          "execution_count": 32
        }
      ]
    },
    {
      "cell_type": "code",
      "metadata": {
        "id": "SIecewEbVZDl"
      },
      "source": [
        "df = tbfallos['textos_fallo']"
      ],
      "execution_count": 34,
      "outputs": []
    },
    {
      "cell_type": "code",
      "metadata": {
        "id": "TqEqPaAFUQhc"
      },
      "source": [
        "cv = CountVectorizer()\n",
        "cv.fit(df)\n",
        "results = cv.transform(df)"
      ],
      "execution_count": 180,
      "outputs": []
    },
    {
      "cell_type": "code",
      "metadata": {
        "id": "6dct0LYlVdWq",
        "outputId": "6db35391-b68f-45fe-ef42-6d22c6c6938f",
        "colab": {
          "base_uri": "https://localhost:8080/",
          "height": 33
        }
      },
      "source": [
        "print(results.shape) # Sparse matrix"
      ],
      "execution_count": 181,
      "outputs": [
        {
          "output_type": "stream",
          "text": [
            "(914, 44226)\n"
          ],
          "name": "stdout"
        }
      ]
    },
    {
      "cell_type": "code",
      "metadata": {
        "id": "r8fybamPUWm8"
      },
      "source": [
        "features = cv.get_feature_names()\n",
        "df_res = pd.DataFrame(results.toarray(), columns=features)"
      ],
      "execution_count": 185,
      "outputs": []
    },
    {
      "cell_type": "code",
      "metadata": {
        "id": "Gbz-2D0PZCrO",
        "outputId": "21dff581-7e0a-43f3-a814-c72f5c550b2f",
        "colab": {
          "base_uri": "https://localhost:8080/",
          "height": 246
        }
      },
      "source": [
        "df_res.head()"
      ],
      "execution_count": 189,
      "outputs": [
        {
          "output_type": "execute_result",
          "data": {
            "text/html": [
              "<div>\n",
              "<style scoped>\n",
              "    .dataframe tbody tr th:only-of-type {\n",
              "        vertical-align: middle;\n",
              "    }\n",
              "\n",
              "    .dataframe tbody tr th {\n",
              "        vertical-align: top;\n",
              "    }\n",
              "\n",
              "    .dataframe thead th {\n",
              "        text-align: right;\n",
              "    }\n",
              "</style>\n",
              "<table border=\"1\" class=\"dataframe\">\n",
              "  <thead>\n",
              "    <tr style=\"text-align: right;\">\n",
              "      <th></th>\n",
              "      <th>00</th>\n",
              "      <th>000</th>\n",
              "      <th>0000</th>\n",
              "      <th>00000016</th>\n",
              "      <th>00000018</th>\n",
              "      <th>00000235</th>\n",
              "      <th>00000261</th>\n",
              "      <th>00000262</th>\n",
              "      <th>00000365</th>\n",
              "      <th>0000056</th>\n",
              "      <th>00000565</th>\n",
              "      <th>00000566</th>\n",
              "      <th>00000570</th>\n",
              "      <th>00000602</th>\n",
              "      <th>00000603</th>\n",
              "      <th>00000622</th>\n",
              "      <th>00000673</th>\n",
              "      <th>00000770</th>\n",
              "      <th>00000771</th>\n",
              "      <th>00000833</th>\n",
              "      <th>00001</th>\n",
              "      <th>00002772</th>\n",
              "      <th>00003413</th>\n",
              "      <th>00003417</th>\n",
              "      <th>00003907</th>\n",
              "      <th>00003908</th>\n",
              "      <th>00008571</th>\n",
              "      <th>00009</th>\n",
              "      <th>0001</th>\n",
              "      <th>000156</th>\n",
              "      <th>00018462</th>\n",
              "      <th>0002</th>\n",
              "      <th>000325</th>\n",
              "      <th>0006</th>\n",
              "      <th>000663</th>\n",
              "      <th>000969</th>\n",
              "      <th>0009867</th>\n",
              "      <th>001</th>\n",
              "      <th>001026</th>\n",
              "      <th>001133</th>\n",
              "      <th>...</th>\n",
              "      <th>ítem</th>\n",
              "      <th>ítems</th>\n",
              "      <th>íter</th>\n",
              "      <th>ñamandú</th>\n",
              "      <th>ñata</th>\n",
              "      <th>óbice</th>\n",
              "      <th>óbices</th>\n",
              "      <th>óbito</th>\n",
              "      <th>ómnibus</th>\n",
              "      <th>óntico</th>\n",
              "      <th>óptica</th>\n",
              "      <th>óptima</th>\n",
              "      <th>óptimas</th>\n",
              "      <th>óptimo</th>\n",
              "      <th>órbita</th>\n",
              "      <th>órbitas</th>\n",
              "      <th>órdenes</th>\n",
              "      <th>órgano</th>\n",
              "      <th>órganos</th>\n",
              "      <th>ósea</th>\n",
              "      <th>óseas</th>\n",
              "      <th>óseo</th>\n",
              "      <th>ótico</th>\n",
              "      <th>óvulos</th>\n",
              "      <th>últ</th>\n",
              "      <th>última</th>\n",
              "      <th>últimamente</th>\n",
              "      <th>últimas</th>\n",
              "      <th>últimaáratioádel</th>\n",
              "      <th>último</th>\n",
              "      <th>últimos</th>\n",
              "      <th>única</th>\n",
              "      <th>únicamente</th>\n",
              "      <th>únicas</th>\n",
              "      <th>único</th>\n",
              "      <th>únicos</th>\n",
              "      <th>útero</th>\n",
              "      <th>útil</th>\n",
              "      <th>útiles</th>\n",
              "      <th>útilmente</th>\n",
              "    </tr>\n",
              "  </thead>\n",
              "  <tbody>\n",
              "    <tr>\n",
              "      <th>0</th>\n",
              "      <td>0</td>\n",
              "      <td>0</td>\n",
              "      <td>0</td>\n",
              "      <td>0</td>\n",
              "      <td>0</td>\n",
              "      <td>0</td>\n",
              "      <td>0</td>\n",
              "      <td>0</td>\n",
              "      <td>0</td>\n",
              "      <td>0</td>\n",
              "      <td>0</td>\n",
              "      <td>0</td>\n",
              "      <td>0</td>\n",
              "      <td>0</td>\n",
              "      <td>0</td>\n",
              "      <td>0</td>\n",
              "      <td>0</td>\n",
              "      <td>0</td>\n",
              "      <td>0</td>\n",
              "      <td>0</td>\n",
              "      <td>0</td>\n",
              "      <td>0</td>\n",
              "      <td>0</td>\n",
              "      <td>0</td>\n",
              "      <td>0</td>\n",
              "      <td>0</td>\n",
              "      <td>0</td>\n",
              "      <td>0</td>\n",
              "      <td>0</td>\n",
              "      <td>0</td>\n",
              "      <td>0</td>\n",
              "      <td>0</td>\n",
              "      <td>0</td>\n",
              "      <td>0</td>\n",
              "      <td>0</td>\n",
              "      <td>0</td>\n",
              "      <td>0</td>\n",
              "      <td>0</td>\n",
              "      <td>0</td>\n",
              "      <td>0</td>\n",
              "      <td>...</td>\n",
              "      <td>0</td>\n",
              "      <td>0</td>\n",
              "      <td>0</td>\n",
              "      <td>0</td>\n",
              "      <td>0</td>\n",
              "      <td>0</td>\n",
              "      <td>0</td>\n",
              "      <td>0</td>\n",
              "      <td>0</td>\n",
              "      <td>0</td>\n",
              "      <td>0</td>\n",
              "      <td>0</td>\n",
              "      <td>0</td>\n",
              "      <td>0</td>\n",
              "      <td>1</td>\n",
              "      <td>0</td>\n",
              "      <td>0</td>\n",
              "      <td>7</td>\n",
              "      <td>0</td>\n",
              "      <td>0</td>\n",
              "      <td>0</td>\n",
              "      <td>0</td>\n",
              "      <td>0</td>\n",
              "      <td>0</td>\n",
              "      <td>0</td>\n",
              "      <td>0</td>\n",
              "      <td>0</td>\n",
              "      <td>0</td>\n",
              "      <td>0</td>\n",
              "      <td>1</td>\n",
              "      <td>0</td>\n",
              "      <td>0</td>\n",
              "      <td>0</td>\n",
              "      <td>0</td>\n",
              "      <td>0</td>\n",
              "      <td>0</td>\n",
              "      <td>0</td>\n",
              "      <td>1</td>\n",
              "      <td>0</td>\n",
              "      <td>0</td>\n",
              "    </tr>\n",
              "    <tr>\n",
              "      <th>1</th>\n",
              "      <td>0</td>\n",
              "      <td>0</td>\n",
              "      <td>0</td>\n",
              "      <td>0</td>\n",
              "      <td>0</td>\n",
              "      <td>0</td>\n",
              "      <td>0</td>\n",
              "      <td>0</td>\n",
              "      <td>0</td>\n",
              "      <td>0</td>\n",
              "      <td>0</td>\n",
              "      <td>0</td>\n",
              "      <td>0</td>\n",
              "      <td>0</td>\n",
              "      <td>0</td>\n",
              "      <td>0</td>\n",
              "      <td>0</td>\n",
              "      <td>0</td>\n",
              "      <td>0</td>\n",
              "      <td>0</td>\n",
              "      <td>0</td>\n",
              "      <td>0</td>\n",
              "      <td>0</td>\n",
              "      <td>0</td>\n",
              "      <td>0</td>\n",
              "      <td>0</td>\n",
              "      <td>0</td>\n",
              "      <td>0</td>\n",
              "      <td>0</td>\n",
              "      <td>0</td>\n",
              "      <td>0</td>\n",
              "      <td>0</td>\n",
              "      <td>0</td>\n",
              "      <td>0</td>\n",
              "      <td>0</td>\n",
              "      <td>0</td>\n",
              "      <td>0</td>\n",
              "      <td>0</td>\n",
              "      <td>0</td>\n",
              "      <td>0</td>\n",
              "      <td>...</td>\n",
              "      <td>0</td>\n",
              "      <td>0</td>\n",
              "      <td>0</td>\n",
              "      <td>0</td>\n",
              "      <td>0</td>\n",
              "      <td>0</td>\n",
              "      <td>0</td>\n",
              "      <td>0</td>\n",
              "      <td>0</td>\n",
              "      <td>0</td>\n",
              "      <td>0</td>\n",
              "      <td>0</td>\n",
              "      <td>0</td>\n",
              "      <td>0</td>\n",
              "      <td>0</td>\n",
              "      <td>0</td>\n",
              "      <td>0</td>\n",
              "      <td>0</td>\n",
              "      <td>1</td>\n",
              "      <td>0</td>\n",
              "      <td>0</td>\n",
              "      <td>0</td>\n",
              "      <td>0</td>\n",
              "      <td>0</td>\n",
              "      <td>0</td>\n",
              "      <td>0</td>\n",
              "      <td>0</td>\n",
              "      <td>0</td>\n",
              "      <td>0</td>\n",
              "      <td>0</td>\n",
              "      <td>0</td>\n",
              "      <td>1</td>\n",
              "      <td>0</td>\n",
              "      <td>0</td>\n",
              "      <td>1</td>\n",
              "      <td>0</td>\n",
              "      <td>0</td>\n",
              "      <td>0</td>\n",
              "      <td>0</td>\n",
              "      <td>0</td>\n",
              "    </tr>\n",
              "    <tr>\n",
              "      <th>2</th>\n",
              "      <td>0</td>\n",
              "      <td>0</td>\n",
              "      <td>0</td>\n",
              "      <td>0</td>\n",
              "      <td>0</td>\n",
              "      <td>0</td>\n",
              "      <td>0</td>\n",
              "      <td>0</td>\n",
              "      <td>0</td>\n",
              "      <td>0</td>\n",
              "      <td>0</td>\n",
              "      <td>0</td>\n",
              "      <td>0</td>\n",
              "      <td>0</td>\n",
              "      <td>0</td>\n",
              "      <td>0</td>\n",
              "      <td>0</td>\n",
              "      <td>0</td>\n",
              "      <td>0</td>\n",
              "      <td>0</td>\n",
              "      <td>0</td>\n",
              "      <td>0</td>\n",
              "      <td>0</td>\n",
              "      <td>0</td>\n",
              "      <td>0</td>\n",
              "      <td>0</td>\n",
              "      <td>0</td>\n",
              "      <td>0</td>\n",
              "      <td>0</td>\n",
              "      <td>0</td>\n",
              "      <td>0</td>\n",
              "      <td>0</td>\n",
              "      <td>0</td>\n",
              "      <td>0</td>\n",
              "      <td>0</td>\n",
              "      <td>0</td>\n",
              "      <td>0</td>\n",
              "      <td>0</td>\n",
              "      <td>0</td>\n",
              "      <td>0</td>\n",
              "      <td>...</td>\n",
              "      <td>0</td>\n",
              "      <td>0</td>\n",
              "      <td>0</td>\n",
              "      <td>0</td>\n",
              "      <td>0</td>\n",
              "      <td>0</td>\n",
              "      <td>0</td>\n",
              "      <td>0</td>\n",
              "      <td>0</td>\n",
              "      <td>0</td>\n",
              "      <td>0</td>\n",
              "      <td>0</td>\n",
              "      <td>0</td>\n",
              "      <td>0</td>\n",
              "      <td>0</td>\n",
              "      <td>0</td>\n",
              "      <td>0</td>\n",
              "      <td>0</td>\n",
              "      <td>0</td>\n",
              "      <td>0</td>\n",
              "      <td>0</td>\n",
              "      <td>0</td>\n",
              "      <td>0</td>\n",
              "      <td>0</td>\n",
              "      <td>0</td>\n",
              "      <td>0</td>\n",
              "      <td>0</td>\n",
              "      <td>0</td>\n",
              "      <td>0</td>\n",
              "      <td>0</td>\n",
              "      <td>0</td>\n",
              "      <td>0</td>\n",
              "      <td>0</td>\n",
              "      <td>0</td>\n",
              "      <td>0</td>\n",
              "      <td>0</td>\n",
              "      <td>0</td>\n",
              "      <td>0</td>\n",
              "      <td>0</td>\n",
              "      <td>0</td>\n",
              "    </tr>\n",
              "    <tr>\n",
              "      <th>3</th>\n",
              "      <td>0</td>\n",
              "      <td>0</td>\n",
              "      <td>0</td>\n",
              "      <td>0</td>\n",
              "      <td>0</td>\n",
              "      <td>0</td>\n",
              "      <td>0</td>\n",
              "      <td>0</td>\n",
              "      <td>0</td>\n",
              "      <td>0</td>\n",
              "      <td>0</td>\n",
              "      <td>0</td>\n",
              "      <td>0</td>\n",
              "      <td>0</td>\n",
              "      <td>0</td>\n",
              "      <td>0</td>\n",
              "      <td>0</td>\n",
              "      <td>0</td>\n",
              "      <td>0</td>\n",
              "      <td>0</td>\n",
              "      <td>0</td>\n",
              "      <td>0</td>\n",
              "      <td>0</td>\n",
              "      <td>0</td>\n",
              "      <td>0</td>\n",
              "      <td>0</td>\n",
              "      <td>0</td>\n",
              "      <td>0</td>\n",
              "      <td>0</td>\n",
              "      <td>0</td>\n",
              "      <td>0</td>\n",
              "      <td>0</td>\n",
              "      <td>0</td>\n",
              "      <td>0</td>\n",
              "      <td>0</td>\n",
              "      <td>0</td>\n",
              "      <td>0</td>\n",
              "      <td>2</td>\n",
              "      <td>0</td>\n",
              "      <td>0</td>\n",
              "      <td>...</td>\n",
              "      <td>0</td>\n",
              "      <td>0</td>\n",
              "      <td>0</td>\n",
              "      <td>0</td>\n",
              "      <td>0</td>\n",
              "      <td>0</td>\n",
              "      <td>0</td>\n",
              "      <td>0</td>\n",
              "      <td>0</td>\n",
              "      <td>0</td>\n",
              "      <td>0</td>\n",
              "      <td>0</td>\n",
              "      <td>0</td>\n",
              "      <td>0</td>\n",
              "      <td>0</td>\n",
              "      <td>0</td>\n",
              "      <td>0</td>\n",
              "      <td>1</td>\n",
              "      <td>0</td>\n",
              "      <td>0</td>\n",
              "      <td>0</td>\n",
              "      <td>0</td>\n",
              "      <td>0</td>\n",
              "      <td>0</td>\n",
              "      <td>0</td>\n",
              "      <td>0</td>\n",
              "      <td>0</td>\n",
              "      <td>0</td>\n",
              "      <td>0</td>\n",
              "      <td>0</td>\n",
              "      <td>0</td>\n",
              "      <td>0</td>\n",
              "      <td>0</td>\n",
              "      <td>0</td>\n",
              "      <td>0</td>\n",
              "      <td>0</td>\n",
              "      <td>0</td>\n",
              "      <td>0</td>\n",
              "      <td>0</td>\n",
              "      <td>0</td>\n",
              "    </tr>\n",
              "    <tr>\n",
              "      <th>4</th>\n",
              "      <td>0</td>\n",
              "      <td>0</td>\n",
              "      <td>0</td>\n",
              "      <td>0</td>\n",
              "      <td>0</td>\n",
              "      <td>0</td>\n",
              "      <td>0</td>\n",
              "      <td>0</td>\n",
              "      <td>0</td>\n",
              "      <td>0</td>\n",
              "      <td>0</td>\n",
              "      <td>0</td>\n",
              "      <td>0</td>\n",
              "      <td>0</td>\n",
              "      <td>0</td>\n",
              "      <td>0</td>\n",
              "      <td>0</td>\n",
              "      <td>0</td>\n",
              "      <td>0</td>\n",
              "      <td>0</td>\n",
              "      <td>0</td>\n",
              "      <td>0</td>\n",
              "      <td>0</td>\n",
              "      <td>0</td>\n",
              "      <td>0</td>\n",
              "      <td>0</td>\n",
              "      <td>0</td>\n",
              "      <td>0</td>\n",
              "      <td>0</td>\n",
              "      <td>0</td>\n",
              "      <td>0</td>\n",
              "      <td>0</td>\n",
              "      <td>0</td>\n",
              "      <td>0</td>\n",
              "      <td>0</td>\n",
              "      <td>0</td>\n",
              "      <td>0</td>\n",
              "      <td>0</td>\n",
              "      <td>0</td>\n",
              "      <td>0</td>\n",
              "      <td>...</td>\n",
              "      <td>0</td>\n",
              "      <td>0</td>\n",
              "      <td>0</td>\n",
              "      <td>0</td>\n",
              "      <td>0</td>\n",
              "      <td>0</td>\n",
              "      <td>0</td>\n",
              "      <td>0</td>\n",
              "      <td>0</td>\n",
              "      <td>0</td>\n",
              "      <td>0</td>\n",
              "      <td>0</td>\n",
              "      <td>0</td>\n",
              "      <td>0</td>\n",
              "      <td>0</td>\n",
              "      <td>0</td>\n",
              "      <td>0</td>\n",
              "      <td>3</td>\n",
              "      <td>0</td>\n",
              "      <td>0</td>\n",
              "      <td>0</td>\n",
              "      <td>0</td>\n",
              "      <td>0</td>\n",
              "      <td>0</td>\n",
              "      <td>0</td>\n",
              "      <td>0</td>\n",
              "      <td>0</td>\n",
              "      <td>0</td>\n",
              "      <td>0</td>\n",
              "      <td>0</td>\n",
              "      <td>0</td>\n",
              "      <td>1</td>\n",
              "      <td>0</td>\n",
              "      <td>0</td>\n",
              "      <td>1</td>\n",
              "      <td>0</td>\n",
              "      <td>0</td>\n",
              "      <td>0</td>\n",
              "      <td>0</td>\n",
              "      <td>0</td>\n",
              "    </tr>\n",
              "  </tbody>\n",
              "</table>\n",
              "<p>5 rows × 44226 columns</p>\n",
              "</div>"
            ],
            "text/plain": [
              "   00  000  0000  00000016  00000018  ...  únicos  útero  útil  útiles  útilmente\n",
              "0   0    0     0         0         0  ...       0      0     1       0          0\n",
              "1   0    0     0         0         0  ...       0      0     0       0          0\n",
              "2   0    0     0         0         0  ...       0      0     0       0          0\n",
              "3   0    0     0         0         0  ...       0      0     0       0          0\n",
              "4   0    0     0         0         0  ...       0      0     0       0          0\n",
              "\n",
              "[5 rows x 44226 columns]"
            ]
          },
          "metadata": {
            "tags": []
          },
          "execution_count": 189
        }
      ]
    },
    {
      "cell_type": "markdown",
      "metadata": {
        "id": "YJ133oyGgFD6"
      },
      "source": [
        "# Agregando lematización previo armando de matriz con Spacy\n",
        "\n",
        "- https://realpython.com/natural-language-processing-spacy-python/"
      ]
    },
    {
      "cell_type": "code",
      "metadata": {
        "id": "_kWQ_OXax_VT"
      },
      "source": [
        "df = tbfallos['textos_fallo']"
      ],
      "execution_count": 43,
      "outputs": []
    },
    {
      "cell_type": "code",
      "metadata": {
        "id": "HVmsroi7yA1b",
        "outputId": "8786696e-1027-4a52-a59b-bcf5710d6920",
        "colab": {
          "base_uri": "https://localhost:8080/",
          "height": 116
        }
      },
      "source": [
        "df.head()"
      ],
      "execution_count": 45,
      "outputs": [
        {
          "output_type": "execute_result",
          "data": {
            "text/plain": [
              "0    #TEXTO COMPLETO#A C U E R D O#En la ciudad de ...\n",
              "1    #TEXTO COMPLETO#A C U E R D O#En la ciudad de ...\n",
              "2    #TEXTO COMPLETO#\"VOSS SUSANA BEATRIZ C/ VILLAR...\n",
              "3    #TEXTO COMPLETO#A C U E R D O#En la ciudad de ...\n",
              "4    #TEXTO COMPLETO#\"RICA ARIEL FEDERICO Y OTROS C...\n",
              "Name: textos_fallo, dtype: object"
            ]
          },
          "metadata": {
            "tags": []
          },
          "execution_count": 45
        }
      ]
    },
    {
      "cell_type": "code",
      "metadata": {
        "id": "noms727h0tzZ",
        "outputId": "5fe0c36d-9dcf-4fca-b698-f1630bff535d",
        "colab": {
          "base_uri": "https://localhost:8080/",
          "height": 118
        }
      },
      "source": [
        "df[0]"
      ],
      "execution_count": 52,
      "outputs": [
        {
          "output_type": "execute_result",
          "data": {
            "application/vnd.google.colaboratory.intrinsic+json": {
              "type": "string"
            },
            "text/plain": [
              "'#TEXTO COMPLETO#A C U E R D O#En la ciudad de La Plata, a 8 de mayo de 2019, habiéndose establecido, de conformidad con lo dispuesto en el Acuerdo 2078, que deberá observarse el siguiente orden de votación: doctores Genoud, de Lázzari, Negri, Kogan, se reúnen los señores Jueces de la Suprema Corte de Justicia en acuerdo ordinario para pronunciar sentencia definitiva en la causa C. 122.176, \"Israel Silicaro, Osvaldo Juan contra Beaulien, Martín Oscar. Cobro sumario de pesos\".#A N T E C E D E N T E S#La Sala II de la Cámara Primera de Apelación en lo Civil y Comercial del Departamento Judicial de La Plata revocó la decisión de la jueza de primera instancia que, a su turno, declinara su competencia para intervenir en las presentes actuaciones (v. fs. 58 y vta. y 79/80 vta.).#Se interpuso, por el accionado, recurso extraordinario de inaplicabilidad de ley (v. fs. 91/103).#Oído lo dictaminado por el señor Procurador General (v. fs. 99/103 vta.), dictada la providencia de autos y encontrándose la causa en estado de pronunciar sentencia, la Suprema Corte resolvió plantear y votar la siguiente#C U E S T I Ó N#¿Es fundado el recurso extraordinario de inaplicabilidad de ley?#V O T A C I Ó N#A la cuestión planteada, el señor Juez doctor Genoud dijo:#I.1. La empresa Multicompras S.A. promovió por ante el Juzgado Civil y Comercial n° 11 del Departamento Judicial de La Plata demanda por cobro sumario de pesos, con el objeto de que se condene al señor Martín Oscar Beaulien a pagarle la suma de $37,31 con más su actualización, intereses y costas en base a la deuda contraída por la utilización del sistema de tarjeta de crédito que le proporcionó a este último (v. fs. 4/6 y 11/13).#Tiempo después, se presentó el señor Osvaldo Juan Israel Silicaro invocando el carácter de cesionario de los créditos pertenecientes a la firma Multicompras S.A. a fin de proseguir con el presente proceso, lo que así fue dispuesto, ordenándose como consecuencia la recaratulación de las actuaciones (v. fs. 30/31).#En cuanto a la traba de la litis, vale decir que habiéndose frustrado el primer acto notificatorio (v. fs. 15 y vta.) se ordenó el libramiento de un oficio al Instituto de Previsión Social para dar con el domicilio del legitimado pasivo, el cual resultó encontrarse en la ciudad de Pipinas (v. fs. 21/22 y 32/41). Practicado que fuera el nuevo anoticiamiento (v. fs. 44/45), se presentó el legitimado pasivo e invocando su calidad de consumidor solicitó el cese de la rebeldía decretada, el otorgamiento del beneficio de litigar sin gastos y la suspensión del curso de los intereses (v. fs. 53/55).#I.2. Evacuada que fuera la vista al señor agente fiscal, la magistrada a cargo del órgano jurisdiccional -de conformidad con lo dispuesto por el art. 36 de la ley 24.240 y la doctrina legal sentada por este Superior Tribunal en la causa \"Cuevas\"- se declaró incompetente para intervenir en el sub lite (v. fs. 58 y vta.).#II. Apelada tal resolución por la parte actora, la Sala II de la Cámara Primera de Apelación en el fuero departamental la revocó (v. fs. 79/80 vta.).#Centralmente, a la luz de las diversas actuaciones sucedidas y bajo la órbita del precedente \"Cuevas\", sostuvo que la oportunidad para ejercer la facultad inhibitoria resultaba extemporánea y por ende su oportunidad procesal había precluído, en tanto el órgano interviniente se había declarado incompetente luego de un prolongado lapso de iniciada la causa y en forma posterior a haber realizado distintas medidas que implicaron el ejercicio pleno de su jurisdicción (v. fs. 79 vta./80).#III. Frente a ello, el demandado -mediante asistencia letrada del señor defensor oficial- interpone recurso extraordinario de inaplicabilidad de ley por el que aduce violación de doctrina legal que cita (v. fs. 85/90 vta.).#Manifiesta que la declaración de incompetencia sólo puede corroborarse en la oportunidad en que la parte requerida se presente en juicio y confirme el lugar en donde vive; y que resulta censurable todo tipo de actividad que implique aceptar la jurisdicción en forma previa a dicha situación (v. fs. 88/90).#Continúa afirmando que, sin perjuicio de que en autos se hayan practicado las diligencias tendientes a acreditar su asiento con posterioridad al inicio del expediente, es decir, avanzado el mismo, poco importa dicha circunstancia si finalmente se certifica que -de acuerdo al art. 36 de la ley 24.240- el accionado es un consumidor (v. fs. cit.).#En síntesis, por los motivos expuestos, solicita que se revoque la solución en crisis y, consecuentemente, se deje firme el pronunciamiento de origen que dispuso que las actuaciones sean remitidas al departamento judicial correspondiente a su domicilio, puesto que mantener lo decidido por el Tribunal de Alzada conllevaría crear un estado de indefensión en virtud de verse obligado a realizar un viaje de 100 kilómetros para cada presentación y a costear un letrado que lo asista, cuando no posee los medios para solventar dicho escenario (v. fs. 89 vta.).#IV. En sentido contrario a lo que estima el señor Procurador General, considero que el recurso debe prosperar.#IV.1. Este Tribunal resolvió en el precedente C. 109.305, \"Cuevas\" (resol. de 1-IX-2010), que los jueces se encuentran autorizados a declarar de oficio la incompetencia territorial a partir de la constatación (mediante elementos serios y adecuadamente justificados) de la existencia de una relación de consumo como a las que se refiere el art. 36 de la ley 24.240.#Según se aprecia, no obstante la prohibición legal de debatir aspectos ajenos al título en los procesos ejecutivos (conf. art. 542 inc. 4, CPCC), la obligatoriedad dimanada de la mencionada doctrina legal vino a imponer a los jueces el deber de indagar la faz causal del reclamo, en orden a determinar la competencia por razón del territorio.#En la hipótesis de constatar -en base a la ponderación de extremos serios y justificados- la existencia de una relación sustancial de consumo subyacente en la ejecución, los magistrados deben resolver -aún de oficio- en concordancia con la solución establecida en el art. 36 de la mencionada Ley de Defensa de Usuarios y Consumidores. En caso contrario, corresponderá remitirse a los restantes preceptos generales o especiales concernientes a la materia.#En pocas palabras, la doctrina que fluye del citado antecedente jurisprudencial no se cristaliza en una solución establecida por esta Suprema Corte para fijar a priori el organismo que deberá conocer en la causa. Diversamente, emplaza al juez en la situación de analizar, en cada proceso en particular, la eventual existencia de una relación sustancial de consumo. De allí que la respectiva competencia territorial queda sujeta, en principio, al resultado de tal evaluación.#En el caso bajo estudio, se observa que la señora jueza del órgano platense estimó de aplicación al caso el art. 36 de la ley 24.240 (conf. ley 26.361) de defensa del consumidor con sustento en los principios que emanan de la doctrina legal del citado texto normativo, fijada en el mencionado precedente \"Cuevas\".#Por un lado, ha estimado este Tribunal que la circunstancia de haber emitido el órgano jurisdiccional ciertos actos procesales (tales como, el primer despacho disponiendo la intimación de pago, la citación para oponer excepciones, etc.), no necesariamente impiden su ulterior declaración de incompetencia ex officio en tanto la misma viene fundada en el art. 36 de la ley de defensa del consumidor y se practica invocando la habilitación que emerge de la doctrina de la causa mencionada anteriormente (conf. causas C. 119.166, \"Rodríguez\", resol. de 11-II-2016; C. 121.020, \"Amorese International Corp.\", resol. de 26-X-2016; C. 121.285, \"Crédito Para Todos S.A.\", resol. de 28-XII-2016; C. 121.422, \"Colmi S.A.\", resol. de 5-I-2016; e.o.).#Por otra parte, también dijo que si la accionada (consumidora) se presenta tempestivamente en juicio, ofreciendo y produciendo prueba, incluso hasta opinando sobre sus resultas, es decir, ejerciendo su derecho de defensa en juicio, más allá de la relación de consumo en la que se sustenta el caratular traído a ejecución y el orden público de las normas en la que se funda la inhibitoria, la protección derivada del art. 36 de la ley 24.240 modificada por la ley 26.361, aun cuando el trámite procesal esté en desarrollo, no encuentra suficiente sustento (causas C. 118.917, \"Rodríguez\", resol. de 17-VI-2015; C. 118.943, \"Rodríguez\", resol. de 9-IX-2015 y C. 119.462, \"Rodríguez\", resol. de 9-IX-2015). En otras palabras, se dejó establecido que siendo que el tratamiento de la competencia posee un medio de deducción y un tiempo específico -encontrándose estos extremos contemplados en nuestra legislación procesal- la inhibitoria del juez puede devenir inviable por preclusión (conf. doctr. causas C. 113.524, \"Nuevo Banco Bisel S.A.\", resol. de 16-II-2011; C. 117.278, \"Compañía Financiera Argentina\", resol. de 5-XII-2012 y C. 117.544, \"Carlos Giudice S.A.\", resol. de 15-V-2013).#IV.2. Ahora bien, a la luz de las doctrinas expuestas, entiendo que el caso bajo análisis no resulta ser sustancialmente análogo a los que sirvieron de base para la elucubración de aquellas. Me explico.#IV.2.a. En el presente proceso, se presentó la firma Multicompras S.A. con el objeto de obtener el cobro de una suma de dinero por parte del señor Martín Oscar Beaulien. En dicho andar, denunció como lugar de domicilio del deudor a la calle 29 entre 68 y 69 n° 1.768 de la ciudad de La Plata (v. fs. 4/6). Habiéndoselo considerado como parte en el juicio (v. fs. 14) se dispuso el traslado de la citación, obteniéndose un resultado negativo en la diligencia, según da cuenta el informe del oficial notificador (v. fs. 15 y vta.).#Posteriormente, se presentó el señor Osvaldo Juan Israel Silicaro, en su carácter de cesionario de la firma Multicompras S.A., solicitando el libramiento de un oficio informativo al Instituto de Previsión Social de la Provincia de Buenos Aires para dar con el domicilio real del accionado (v. fs. 2.431 vta. y 21/22, respectivamente), el cual resultó ser la calle 19 entre 2 y 5 de la localidad de Pipinas (v. fs. 37).#Frente a esta situación, la parte actora denunció el nuevo asiento del legitimado pasivo y solicitó la efectivización de una nueva cédula notificatoria, la que culminó finalmente con la presentación del requerido (v. fs. 44/45 y 53/55).#A fs. 48 se declaró al accionado en rebeldía y a fs. 53 se presentó el señor Beaulien invocando su calidad de consumidor y pidiendo la concesión del beneficio de litigar sin gastos, el cese de la rebeldía decretada y la suspensión del curso de los intereses en los períodos carentes de actividad procesal útil (v. fs. 53/55).#Estatuido como parte, el Juzgado en lo Civil y Comercial n° 11 del Departamento Judicial de La Plata ordenó el pase en vista de las actuaciones al señor agente fiscal, el cual solicitó primordialmente -en base a los arts. 30 de la ley provincial 13.133 y 36 de la ley nacional 24.240- la remisión de la causa al juez del domicilio del consumidor, sito en la ciudad de Pipinas, por considerarlo competente para entender la controversia (v. fs. 57 y vta.).#IV.2.b. La magistrada de origen se declaró inhábil para seguir entendiendo el trámite, disponiendo la baja del sistema informático de secretaría y la remisión de la causa al Juzgado de Paz letrado de Punta Indio (v. fs. 58 y vta.).#IV.2.c. A su tiempo, la Sala II de la Cámara de Apelación del fuero departamental revocó dicho pronunciamiento, al considerar que la oportunidad de la magistrada de primer grado había fenecido luego de haber dictado distintas medidas que implicaron el ejercicio pleno de su jurisdicción. Para ello, hizo hincapié en la intimación de cumplimiento sobre las cargas previsionales de la parte actora a fs. 7, la efectiva presentación de la firma Multicompras S.A. a fs. 14, la renuncia al mandato del letrado que representaba la citada empresa a fs. 17, el desarchivo de las actuaciones a fs. 20, la presentación del señor Silicaro a fs. 32, la declaración de rebeldía del accionado a fs. 48 y la presentación del señor Beaulien a fs. 56 (v. fs. 79 vta. y 80).#IV.2.d. Considero que dicha forma de resolver se aparta no sólo del propósito perseguido por esta Suprema Corte al elaborar las doctrinas precedentemente expuestas, sino también de las normas legales que expresamente regulan esta clase de conflictos. Veamos.#Si bien es cierto que existen ciertos actos procesales que implican el consentimiento tácito de la competencia y que la falta de invocación expresa del pedido de inhibitoria por parte del interesado puede llevar a considerar como tardía la declaración de inhabilidad por parte del órgano jurisdiccional, en la especie, no se puede desconocer que: a] el verdadero domicilio del accionado recién fue acreditado en forma fehaciente por el reclamante -a través del informe del Instituto de Previsión Social de fs. 37/39- luego de 12 años de iniciado el expediente, habiéndose dictado ya las medidas invocadas por el Tribunal de Alzada de fs. 7, 14, 17, 20 y 32 y b] la presentación del legitimado pasivo en el juicio, a los fines de ejercer su derecho de defensa, fue posterior a la providencia que declaró su rebeldía a fs. 48.#Por consiguiente, la apreciación y razonamiento que efectuó el a quo en este segmento de la sentencia se encuentra afectado por el vicio de absurdo y merece ser descalificado, ya que no existían elementos para conocer en forma previa la situación geográfica del domicilio del requerido ni la voluntad de éste para opinar sobre la competencia de la jueza platense (conf. art. 289, CPCC y doctr. causas C. 99.055, \"Fabiani\", sent. de 7-V-2014; C. 118.567, \"Fisco de la Provincia de Buenos Aires\", sent. de 4-III-2015 y C. 118.426, \"Dignani\", sent. de 12-VII-2017).#Siguiendo con el estudio del trámite de la causa, cabe resaltar que en forma coetánea a la presentación del señor Beaulien, el señor agente fiscal es quien hace saber respecto de la incompetencia de la juzgadora interviniente de acuerdo al domicilio del consumidor en la ciudad de Pipinas (v. fs. 57 y vta.).#Sobre el tópico, deviene necesario destacar el efecto que provoca esta intervención en el proceso, donde el contenido de la presentación no puede ser inadvertido por la judicatura ante los derechos que se encuentran en disputa, más todavía cuando es la propia ley especial la que obliga la actuación del Ministerio Público a fin de que éste fiscalice su efectivo cumplimiento (arts. 27, ley 13.133 y 52, ley 24.240). Sino ¿Qué tuvo en miras el legislador al prever dicha participación? ¿Cuál es el sentido de otorgar la vista? La respuesta no resulta otra que permitir la actuación coadyuvante del órgano estatal en el proceso, dirigida a salvaguardar los derechos que la ley prevé para la parte débil de la relación jurídica. Por ello, es que la sustancia de la actuación debe ser apreciada por el órgano jurisdiccional con el mismo sentido y alcance a la que realiza el sujeto vulnerable, debiendo proporcionarle los mismos efectos que aquél pretendiere sobre la disputa de la competencia.#Consecuentemente, tampoco puede considerarse preclusa la oportunidad de la judicante de origen en su decisión de fs. 58 y vta. (es decir, luego de haber constituido al demandado como parte en el proceso y haber dado traslado al Ministerio Público) cuando la intervención del señor agente fiscal -en forma previa- resultaba obligatoria antes de expedirse sobre una cuestión tan dirimente para el pleito; y éste se expidió justamente sobre las disposiciones establecidas en los arts. 36 de ley nacional 24.240 y 30 de su par local.#Por las razones expuestas, habiéndose interpretado erróneamente tanto el pensamiento de este Superior Tribunal como las normas legales para dilucidar esta clase de controversias, estimo que la sentencia en crisis merece ser casada (art. 289, CPCC).#V. En virtud de ello, oído lo dictaminado por el señor Procurador General, corresponde hacer lugar al recurso extraordinario de inaplicabilidad de ley, revocar el fallo impugnado y mantener lo decidido en primera instancia. Las costas se imponen a la accionada, en su condición de vencida (art. 68, CPCC).#Voto por la afirmativa.#Los señores Jueces doctores de Lázzari y Negri y la señora Jueza doctora Kogan, por los mismos fundamentos del señor Juez doctor Genoud, votaron también por la afirmativa.#Con lo que terminó el acuerdo, dictándose la siguiente#S E N T E N C I A#Por lo expuesto en el acuerdo que antecede, oído lo dictaminado por el señor Procurador General, corresponde hacer lugar al recurso extraordinario de inaplicabilidad de ley, revocar el fallo impugnado y mantener lo decidido en primera instancia. En consecuencia, los autos deberán ser remitidos a la Receptoría General de Expedientes del Departamento Judicial de La Plata a los fines expuestos a fs. 58 vta. (art. 289, CPCC). Las costas se imponen a la accionada, en su condición de vencida (art. 68, CPCC).#Notifíquese y devuélvase.#EDUARDO NESTOR DE LÁZZARI#HECTOR NEGRI\\xa0\\xa0\\xa0\\xa0\\xa0\\xa0\\xa0\\xa0\\xa0\\xa0 LUIS ESTEBAN GENOUD#HILDA KOGAN#EDUARDO A. FERNANDEZ#Subsecretario'"
            ]
          },
          "metadata": {
            "tags": []
          },
          "execution_count": 52
        }
      ]
    },
    {
      "cell_type": "code",
      "metadata": {
        "id": "VL06Ujv7kSSC",
        "outputId": "7e86b5a5-a235-4866-fccd-ce7a946103c2",
        "colab": {
          "base_uri": "https://localhost:8080/",
          "height": 50
        }
      },
      "source": [
        "import spacy.cli\n",
        "spacy.cli.download(\"es_core_news_md\")\n",
        "import es_core_news_md\n",
        "nlp = es_core_news_md.load()"
      ],
      "execution_count": 31,
      "outputs": [
        {
          "output_type": "stream",
          "text": [
            "\u001b[38;5;2m✔ Download and installation successful\u001b[0m\n",
            "You can now load the model via spacy.load('es_core_news_md')\n"
          ],
          "name": "stdout"
        }
      ]
    }
  ]
}