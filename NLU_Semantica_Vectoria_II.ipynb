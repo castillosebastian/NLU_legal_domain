{
  "nbformat": 4,
  "nbformat_minor": 0,
  "metadata": {
    "colab": {
      "name": "NLU_Semantica_Vectoria_II.ipynb",
      "provenance": [],
      "authorship_tag": "ABX9TyOLg9IDoBCYf+sz0tGpgb/K",
      "include_colab_link": true
    },
    "kernelspec": {
      "name": "python3",
      "display_name": "Python 3"
    },
    "accelerator": "GPU"
  },
  "cells": [
    {
      "cell_type": "markdown",
      "metadata": {
        "id": "view-in-github",
        "colab_type": "text"
      },
      "source": [
        "<a href=\"https://colab.research.google.com/github/castillosebastian/NLU_legal_domain/blob/master/NLU_Semantica_Vectoria_II.ipynb\" target=\"_parent\"><img src=\"https://colab.research.google.com/assets/colab-badge.svg\" alt=\"Open In Colab\"/></a>"
      ]
    },
    {
      "cell_type": "markdown",
      "metadata": {
        "id": "RIOC9tzHzBjD"
      },
      "source": [
        "# Semantica Vectorial para procesar sentencias"
      ]
    },
    {
      "cell_type": "code",
      "metadata": {
        "id": "u6lhCPvQ5kxw"
      },
      "source": [
        "# Libraries, tools and thanks \n",
        "import bs4\n",
        "import nltk\n",
        "import numpy\n",
        "import pandas as pd\n",
        "import io\n",
        "import requests\n",
        "from google.colab import drive\n",
        "import numpy as np \n",
        "import json"
      ],
      "execution_count": 14,
      "outputs": []
    },
    {
      "cell_type": "code",
      "metadata": {
        "id": "6MUuIZYyKxsk"
      },
      "source": [
        "# procesar con GPU"
      ],
      "execution_count": null,
      "outputs": []
    },
    {
      "cell_type": "code",
      "metadata": {
        "id": "jJAxQeOi3eRz",
        "outputId": "a17f79cd-823d-4e78-85be-0cc53f7d73fb",
        "colab": {
          "base_uri": "https://localhost:8080/",
          "height": 50
        }
      },
      "source": [
        "from google.colab import drive # import drive from google colab\n",
        "\n",
        "ROOT = \"/content/drive\"     # default location for the drive\n",
        "print(ROOT)                 # print content of ROOT (Optional)\n",
        "\n",
        "drive.mount(ROOT)           # we mount the google drive at /content/drive"
      ],
      "execution_count": 15,
      "outputs": [
        {
          "output_type": "stream",
          "text": [
            "/content/drive\n",
            "Drive already mounted at /content/drive; to attempt to forcibly remount, call drive.mount(\"/content/drive\", force_remount=True).\n"
          ],
          "name": "stdout"
        }
      ]
    },
    {
      "cell_type": "code",
      "metadata": {
        "id": "7_qSVGUt4ASA",
        "outputId": "9ac78219-a604-4017-ed64-e1a7959c1c74",
        "colab": {
          "base_uri": "https://localhost:8080/",
          "height": 50
        }
      },
      "source": [
        "%cd  'drive/My Drive/Colab Notebooks/data'"
      ],
      "execution_count": 16,
      "outputs": [
        {
          "output_type": "stream",
          "text": [
            "[Errno 2] No such file or directory: 'drive/My Drive/Colab Notebooks/data'\n",
            "/content/drive/My Drive/Colab Notebooks/data\n"
          ],
          "name": "stdout"
        }
      ]
    },
    {
      "cell_type": "code",
      "metadata": {
        "id": "rnDT50z377Nk",
        "outputId": "3007ef26-26ff-4a38-af9b-f6dc0e85dba6",
        "colab": {
          "base_uri": "https://localhost:8080/",
          "height": 50
        }
      },
      "source": [
        "%ls"
      ],
      "execution_count": 17,
      "outputs": [
        {
          "output_type": "stream",
          "text": [
            "corpus_fallosmetdat.json  tbdoctrina.json  tbmetdat.json\n",
            "corpus_textosfallos.json  tbfallos.json\n"
          ],
          "name": "stdout"
        }
      ]
    },
    {
      "cell_type": "markdown",
      "metadata": {
        "id": "yFTywqxn3_mA"
      },
      "source": [
        "# Lectura de tablas de datos primarios"
      ]
    },
    {
      "cell_type": "code",
      "metadata": {
        "id": "LAA71S5CxjmW"
      },
      "source": [
        "with open('tbfallos.json', 'r') as myfile:\n",
        "    data1=myfile.read()\n",
        "# parse file\n",
        "tbfallos = json.loads(data1)\n",
        "tbfallos = pd.DataFrame.from_dict(tbfallos)"
      ],
      "execution_count": 18,
      "outputs": []
    },
    {
      "cell_type": "code",
      "metadata": {
        "id": "zcPhLlph_YRD",
        "outputId": "0c2aa469-c896-4133-e6ab-2d1edd837a7e",
        "colab": {
          "base_uri": "https://localhost:8080/",
          "height": 118
        }
      },
      "source": [
        "tbfallos['textos_fallo'][1]"
      ],
      "execution_count": 8,
      "outputs": [
        {
          "output_type": "execute_result",
          "data": {
            "application/vnd.google.colaboratory.intrinsic+json": {
              "type": "string"
            },
            "text/plain": [
              "'#TEXTO COMPLETO#A C U E R D O#En la ciudad de La Plata, a 15 de mayo de 2019, habiéndose establecido, de conformidad con lo dispuesto en el Acuerdo 2078, que deberá observarse el siguiente orden de votación: doctores Soria, de Lázzari, Genoud, Kogan, se reúnen los señores Jueces de la Suprema Corte de Justicia en acuerdo ordinario para pronunciar sentencia definitiva en la causa C. 122.321, \"F., R.. Determinación de la capacidad jurídica\".#A N T E C E D E N T E S#La Sala I de la Cámara de Apelación en lo Civil y Comercial de San Isidro confirmó el fallo de primera instancia que, en los autos sobre determinación de la capacidad jurídica del señor R. F., resolvió aprobar la rendición de cuentas efectuada por la Curaduría Oficial de Alienados (v. fs. 689 y 660, respectivamente).#Se interpuso, por la titular de la Asesoría de Incapaces n° 2 departamental, recurso extraordinario de inaplicabilidad de ley (v. fs. 705/711).#Oído el señor Procurador General, dictada la providencia de autos y encontrándose la causa en estado de pronunciar sentencia, la Suprema Corte resolvió plantear y votar la siguiente#C U E S T I Ó N#¿Es fundado el recurso extraordinario de inaplicabilidad de ley?#V O T A C I Ó N#A la cuestión planteada, el señor Juez doctor Soria dijo:#I. En el marco del proceso judicial por determinación de la capacidad jurídica del señor R. F., en trámite ante el Juzgado de Familia n° 4 de San Isidro, la titular de la Curaduría Oficial de Alienados de San Isidro y Zárate-Campana acompañó una rendición de cuentas informando los movimientos y saldos de la Cuenta de Autos y de la Cuenta Fiscal de Curaduría, adjuntando comprobantes para acreditar los gastos efectuados para el sostenimiento del causante e informando los montos y erogaciones originados en el subsidio ley 10.315, para el caso de que el señor F. estuviera gozando del mismo (v. fs. 541/548).#La Asesora de Incapaces impugnó la rendición de cuentas efectuada, esgrimiendo que de la documentación acompañada junto a la misma surgían dos facturas de la acompañante terapéutica -Daniela Elizabeth Ferreyra- en concepto de honorarios por trámites de afiliación al Programa Federal de Salud (PROFE-Salud), emitidas con fechas 11 de noviembre de 2015 y 15 de enero de 2016 por las sumas de $720 y $800, respectivamente (v. fs. 566).#Manifestó que de la compulsa del expediente surgía que desde el año 2013, luego de que el señor F. egresara con un permiso de salida del Hospital Cabred, no se habían tenido noticias del mismo, existiendo además constancias de la búsqueda de su paradero (v. fs. 566).#Hizo referencia a las resoluciones 578/03 y 127/06 en cuanto regulan la necesidad de intervención de los acompañantes terapéuticos, aspectos sobre los que deben trabajar, etcétera, y la obligación de los curadores de informar al juez lo presupuestado mensualmente para gastos ordinarios (v. fs. 566 vta.), puntualizando que en las constancias de autos no había elementos que indicaran las actividades desplegadas por la acompañante Ferreyra en lo que hace a las funciones e incumbencias profesionales, así como tampoco documentación que respalde las gestiones y trámites facturados por dicha profesional, máxime teniendo en cuenta que se desconocía el paradero del señor F. (v. fs. 567).#Solicitó que se brinden explicaciones respecto de los puntos señalados en la impugnación, para cuyo fin propuso la realización de una audiencia ante el juez (v. fs. 567 y vta.).#Frente a dichos planteos, el Juzgado dispuso el pase de las actuaciones a la Curaduría Oficial de Alienados a fin de que se expida al respecto (v. fs. 568).#La titular de la Curaduría contestó la impugnación y solicitó la aprobación de rendición efectuada (v. fs. 597/599 vta.).#Allí, refirió que las personas con padecimientos mentales son beneficiarias de una pensión contributiva a la que se le practica un descuento mensual del Programa Federal de Salud cuya afiliación no es automática, por lo que la persona comienza a pagar por un servicio de salud que no recibe hasta tanto se concluyan los trámites y pase a figurar como activo en el padrón.#Adujo que desde la Curaduría se había generado una operatoria para suplir la falta de afiliación automática, siendo los acompañantes terapéuticos quienes concurren a la Delegación del PROFE al final de un recorrido previo que deben realizar para conseguir toda la documentación necesaria (v. fs. 598).#Asimismo, hizo referencia a la cuestión vinculada con la disponibilidad de los recursos con los que contaba el organismo y controvirtió por inadecuada la normativa citada por la Asesora impugnante (v. fs. 599).#El Juzgado resolvió, sin perjuicio de la impugnación realizada, aprobar por única vez en cuanto ha lugar por derecho la rendición de cuentas efectuada en los términos y con los alcances manifestados a fs. 548. Asimismo, hizo saber a la Curaduría Oficial que deberá acreditar en autos los trámites realizados en favor del causante por los cuales se presentan las facturas y el resultado de los mismos.#Además, señaló que en lo sucesivo y para futuras rendiciones de cuentas se deberá denunciar en la causa la disposición de la Suprema Corte que autoriza a la Curaduría Oficial a tercerizar la gestión de trámites, señalando que, al asignarse un acompañante terapéutico a algún justiciable, se deberá denunciar en los respectivos autos cuales serían sus tareas y el procedimiento para su designación (v. fs. 600).#II. Apelado dicho pronunciamiento por la Asesora interviniente (v. fs. 633), la Sala I de la Cámara de Apelación lo confirmó (v. fs. 689 y vta.).#III. Contra dicho fallo se alza la Asesora mencionada mediante recurso extraordinario de inaplicabilidad de ley, denunciando la violación de los arts. 18, 75 incs. 22 y 23 de la Constitución nacional; 8 de la Convención Americana sobre los Derechos Humanos; 1, 2, 4, 5, 12, 13 de la Convención sobre los Derechos de las Personas con Discapacidad (leyes 26.378 y 27.044); XVII, XVIII de la Declaración Americana de los Derechos y Deberes del Hombre; 8 de la Declaración Universal de Derechos Humanos; 10, 15, 36.5 y 171 de la Constitución provincial; 3, 130, 131, 134, 858, 860 inc. \"c\", 862, 1.716, 1.717, 1.766, 1.775, 1.776 del Código Civil y Comercial y 1, 2 y 4 de la ley 26.944. Asimismo, denuncia absurdo (v. fs. 705/711).#Sostiene que la sola afirmación de la Cámara de que las explicaciones brindadas por la Curaduría Oficial resultan razonables, sin abordar ninguna de las defensas planteadas, constituye un típico ejercicio de formulación dogmática y una decisión arbitraria (v. fs. 709).#Expone que en el fallo impugnado se ignoran todos y cada uno de los elementos obrantes en la causa, las acciones instadas, en particular una investigación criminal sobre el hecho, todo lo que imponía el rechazo de las cuentas (v. fs. 708 vta.).#Controvierte que para fundamentar normativamente la sentencia y concluir en la razonabilidad de las explicaciones brindadas por la Curaduría Oficial, la Cámara invoque la Convención sobre los Derechos de las Personas con Discapacidad y a partir de la misma pondere y califique el gasto y la contratación efectuados como razonable (v. fs. 710 y vta.).#IV. El recurso debe prosperar.#Comparto y hago propios los fundamentos y conclusiones vertidos por el señor Procurador General en su dictamen de fs. 782/787, los que estimo abastecen adecuadamente la respuesta que cabe brindar en el sub lite (conf. causas C. 113.234, sent. de 9-V-2012; C. 115.708, sent. de 12-VI-2013; C. 121.104, sent. de 23-V-2017; C. 121.980 \"P., S\", sent. de 27-VI-2018), en cuanto señala \"...la ausencia de las razones o motivos por los cuales se receptan como base de la decisión, las manifestaciones de la Curaduría Oficial...\" (fs. 784 vta.).#En efecto, el Tribunal de Alzada, como único sustento de su decisión de tener por razonable la explicación brindada por la Curaduría Oficial y mantener la providencia que aprobó la rendición de cuentas impugnada, alude a la Convención sobre los Derechos de las Personas con Discapacidad y su Protocolo Facultativo \"...en cuanto establece el criterio por el cual los procedimientos deben ser ajustados de manera de facilitar la realización de los trámites...\" (fs. 689 vta.).#Tal como denuncia la recurrente (v. fs. 710 vta./711), las genéricas apreciaciones formuladas en el fallo impugnado, además de no cumplir con los mandatos convencionales que exigen atención especial de las personas con discapacidad, manejo transparente con rendición de cuentas documentada, precisa y detallada, justificada en necesidades concretas y verificables, no se corresponden con los hechos acreditados en la causa, máxime cuando -como viene denunciando la Asesora de Incapaces- en la rendición de cuentas presentada por la Curaduría Oficial, se incluyen gastos para la contratación de quien sería la acompañante terapéutica para realizar gestiones y tramitaciones en favor del señor F., facturadas en noviembre de 2015 y enero de 2016, cuando el causante mantiene paradero desconocido para todos los órganos judiciales desde julio de 2013 (v. fs. 566, 635, 655 vta., 707).#IV. En virtud de lo expuesto, corresponde hacer lugar al recurso extraordinario de inaplicabilidad de ley interpuesto, revocar el fallo impugnado y devolver los autos al Tribunal de origen para que, con la debida integración, dicte un nuevo pronunciamiento (art. 289, CPCC).#Las costas se imponen por su orden, dada la índole de los temas debatidos (art. 68, segundo párrafo, CPCC).#La presente se notificará con copia del dictamen de fs. 782/787.#Voto por la afirmativa.#Los señores Jueces doctores de Lázzari y Genoud y la señora Jueza doctora Kogan, por los mismos fundamentos del señor Juez doctor Soria, votaron también por la afirmativa.#Con lo que terminó el acuerdo, dictándose la siguiente#S E N T E N C I A#Por lo expuesto en el acuerdo que antecede, de conformidad con lo dictaminado por el señor Procurador General, se hace lugar al recurso extraordinario de inaplicabilidad de ley interpuesto, se revoca el fallo impugnado y se devuelven los autos al Tribunal de origen para que, con la debida integración, dicte un nuevo pronunciamiento (art. 289, CPCC).#Las costas se imponen por su orden, dada la índole de los temas debatidos (art. 68, segundo párrafo, CPCC).#Notifíquese con copia del dictamen de fs. 782/787 y devuélvase.#EDUARDO NESTOR DE LÁZZARI#DANIEL FERNANDO SORIA\\xa0 LUIS ESTEBAN GENOUD#HILDA KOGAN#CARLOS E. CAMPS#Secretario'"
            ]
          },
          "metadata": {
            "tags": []
          },
          "execution_count": 8
        }
      ]
    },
    {
      "cell_type": "code",
      "metadata": {
        "id": "nIHXCKCM6Rfd",
        "outputId": "ee9b151b-1851-4f21-bf11-c1d1f6bd7a26",
        "colab": {
          "base_uri": "https://localhost:8080/",
          "height": 197
        }
      },
      "source": [
        "tbfallos.head()"
      ],
      "execution_count": 14,
      "outputs": [
        {
          "output_type": "execute_result",
          "data": {
            "text/html": [
              "<div>\n",
              "<style scoped>\n",
              "    .dataframe tbody tr th:only-of-type {\n",
              "        vertical-align: middle;\n",
              "    }\n",
              "\n",
              "    .dataframe tbody tr th {\n",
              "        vertical-align: top;\n",
              "    }\n",
              "\n",
              "    .dataframe thead th {\n",
              "        text-align: right;\n",
              "    }\n",
              "</style>\n",
              "<table border=\"1\" class=\"dataframe\">\n",
              "  <thead>\n",
              "    <tr style=\"text-align: right;\">\n",
              "      <th></th>\n",
              "      <th>textos_fallo</th>\n",
              "      <th>nro_causa</th>\n",
              "    </tr>\n",
              "  </thead>\n",
              "  <tbody>\n",
              "    <tr>\n",
              "      <th>0</th>\n",
              "      <td>#TEXTO COMPLETO#A C U E R D O#En la ciudad de ...</td>\n",
              "      <td>122176</td>\n",
              "    </tr>\n",
              "    <tr>\n",
              "      <th>1</th>\n",
              "      <td>#TEXTO COMPLETO#A C U E R D O#En la ciudad de ...</td>\n",
              "      <td>122321</td>\n",
              "    </tr>\n",
              "    <tr>\n",
              "      <th>2</th>\n",
              "      <td>#TEXTO COMPLETO#\"VOSS SUSANA BEATRIZ C/ VILLAR...</td>\n",
              "      <td>123033</td>\n",
              "    </tr>\n",
              "    <tr>\n",
              "      <th>3</th>\n",
              "      <td>#TEXTO COMPLETO#A C U E R D O#En la ciudad de ...</td>\n",
              "      <td>122514</td>\n",
              "    </tr>\n",
              "    <tr>\n",
              "      <th>4</th>\n",
              "      <td>#TEXTO COMPLETO#\"RICA ARIEL FEDERICO Y OTROS C...</td>\n",
              "      <td>123396</td>\n",
              "    </tr>\n",
              "  </tbody>\n",
              "</table>\n",
              "</div>"
            ],
            "text/plain": [
              "                                        textos_fallo  nro_causa\n",
              "0  #TEXTO COMPLETO#A C U E R D O#En la ciudad de ...     122176\n",
              "1  #TEXTO COMPLETO#A C U E R D O#En la ciudad de ...     122321\n",
              "2  #TEXTO COMPLETO#\"VOSS SUSANA BEATRIZ C/ VILLAR...     123033\n",
              "3  #TEXTO COMPLETO#A C U E R D O#En la ciudad de ...     122514\n",
              "4  #TEXTO COMPLETO#\"RICA ARIEL FEDERICO Y OTROS C...     123396"
            ]
          },
          "metadata": {
            "tags": []
          },
          "execution_count": 14
        }
      ]
    },
    {
      "cell_type": "markdown",
      "metadata": {
        "id": "Zik8UJ2cDrxh"
      },
      "source": [
        "# Instalar librería STANZA (Stanford NLP)"
      ]
    },
    {
      "cell_type": "code",
      "metadata": {
        "id": "6KYLU44dfhNd"
      },
      "source": [
        "! pip install stanza"
      ],
      "execution_count": null,
      "outputs": []
    },
    {
      "cell_type": "code",
      "metadata": {
        "id": "8oS1AodfhBK_",
        "outputId": "0dd09d0e-994e-4b3b-e745-eeb27b4e81cc",
        "colab": {
          "base_uri": "https://localhost:8080/",
          "height": 83
        }
      },
      "source": [
        "import stanza\n",
        "stanza.download('es') # download spanish model"
      ],
      "execution_count": 19,
      "outputs": [
        {
          "output_type": "stream",
          "text": [
            "Downloading https://raw.githubusercontent.com/stanfordnlp/stanza-resources/master/resources_1.1.0.json: 122kB [00:00, 24.7MB/s]                    \n",
            "2020-10-27 15:18:06 INFO: Downloading default packages for language: es (Spanish)...\n",
            "2020-10-27 15:18:07 INFO: File exists: /root/stanza_resources/es/default.zip.\n",
            "2020-10-27 15:18:13 INFO: Finished downloading models and saved to /root/stanza_resources.\n"
          ],
          "name": "stderr"
        }
      ]
    },
    {
      "cell_type": "markdown",
      "metadata": {
        "id": "8RyZsHEz5taT"
      },
      "source": [
        "# Prueba de Tokenizacion de un sumario"
      ]
    },
    {
      "cell_type": "code",
      "metadata": {
        "id": "qqUZEfmU7s1-"
      },
      "source": [
        "fallos = tbfallos['textos_fallo'][1]\n",
        "fallos = fallos.replace(\"#\",\"\\n\\n\")\n",
        "#fallos = fallos.values.tolist()"
      ],
      "execution_count": 20,
      "outputs": []
    },
    {
      "cell_type": "code",
      "metadata": {
        "id": "TDHfX3Ld8Ndh",
        "outputId": "bd3ec73a-bb58-4fb3-906e-2c7585553bd3",
        "colab": {
          "base_uri": "https://localhost:8080/",
          "height": 350
        }
      },
      "source": [
        "nlp = stanza.Pipeline(lang='es', processors='tokenize,ner,mwt,pos,lemma,depparse', tokenize_no_ssplit=True)\n",
        "doc = nlp(fallos)"
      ],
      "execution_count": 56,
      "outputs": [
        {
          "output_type": "stream",
          "text": [
            "2020-10-27 11:34:38 INFO: Loading these models for language: es (Spanish):\n",
            "=======================\n",
            "| Processor | Package |\n",
            "-----------------------\n",
            "| tokenize  | ancora  |\n",
            "| mwt       | ancora  |\n",
            "| pos       | ancora  |\n",
            "| lemma     | ancora  |\n",
            "| depparse  | ancora  |\n",
            "| ner       | conll02 |\n",
            "=======================\n",
            "\n",
            "2020-10-27 11:34:38 INFO: Use device: cpu\n",
            "2020-10-27 11:34:38 INFO: Loading: tokenize\n",
            "2020-10-27 11:34:38 INFO: Loading: mwt\n",
            "2020-10-27 11:34:38 INFO: Loading: pos\n",
            "2020-10-27 11:34:39 INFO: Loading: lemma\n",
            "2020-10-27 11:34:39 INFO: Loading: depparse\n",
            "2020-10-27 11:34:40 INFO: Loading: ner\n",
            "2020-10-27 11:34:42 INFO: Done loading processors!\n"
          ],
          "name": "stderr"
        }
      ]
    },
    {
      "cell_type": "code",
      "metadata": {
        "id": "-4NRYg4SA1h5",
        "outputId": "56314837-c56c-4294-efc5-b98f3955ed38",
        "colab": {
          "base_uri": "https://localhost:8080/",
          "height": 34
        }
      },
      "source": [
        "doc.sentences[0].text"
      ],
      "execution_count": 57,
      "outputs": [
        {
          "output_type": "execute_result",
          "data": {
            "application/vnd.google.colaboratory.intrinsic+json": {
              "type": "string"
            },
            "text/plain": [
              "'TEXTO COMPLETO'"
            ]
          },
          "metadata": {
            "tags": []
          },
          "execution_count": 57
        }
      ]
    },
    {
      "cell_type": "code",
      "metadata": {
        "id": "LbhldXImDMaq"
      },
      "source": [
        "for sent in doc.sentences:\n",
        "    print(sent.text)"
      ],
      "execution_count": null,
      "outputs": []
    },
    {
      "cell_type": "code",
      "metadata": {
        "id": "EKvaRH-r7e3P"
      },
      "source": [
        "for i, sentence in enumerate(doc.sentences):\n",
        "    print(f'====== Sentence {i+1} tokens =======')\n",
        "    print(*[f'id: {token.id}\\ttext: {token.text}' for token in sentence.tokens], sep='\\n')"
      ],
      "execution_count": null,
      "outputs": []
    },
    {
      "cell_type": "code",
      "metadata": {
        "id": "0VUGkMho9QC9"
      },
      "source": [
        "dicts = doc.to_dict() # dicts is List[List[Dict]], representing each token / word in each sentence in the document"
      ],
      "execution_count": 61,
      "outputs": []
    },
    {
      "cell_type": "markdown",
      "metadata": {
        "id": "AnJS3EU9wsEU"
      },
      "source": [
        "# Prueba de manipulacion de objeto \"doc\" sobre un sumario"
      ]
    },
    {
      "cell_type": "code",
      "metadata": {
        "id": "8bSrAtGCwv9q"
      },
      "source": [
        "def print_doc_info(doc):\n",
        "    print(f\"Num sentences:\\t{len(doc.sentences)}\")\n",
        "    print(f\"Num tokens:\\t{doc.num_tokens}\")\n",
        "    print(f\"Num words:\\t{doc.num_words}\")\n",
        "    print(f\"Num entities:\\t{len(doc.entities)}\")"
      ],
      "execution_count": 22,
      "outputs": []
    },
    {
      "cell_type": "code",
      "metadata": {
        "id": "u82GFYTPw7Bp",
        "outputId": "373edc94-e7d9-48c2-ba51-95178aaf0b3b",
        "colab": {
          "base_uri": "https://localhost:8080/",
          "height": 83
        }
      },
      "source": [
        "print_doc_info(doc)"
      ],
      "execution_count": 23,
      "outputs": [
        {
          "output_type": "stream",
          "text": [
            "Num sentences:\t47\n",
            "Num tokens:\t2008\n",
            "Num words:\t2013\n",
            "Num entities:\t92\n"
          ],
          "name": "stdout"
        }
      ]
    },
    {
      "cell_type": "code",
      "metadata": {
        "id": "U4PB5pfLyJ0s"
      },
      "source": [
        "def word_info_df(doc):\n",
        "    \"\"\"\n",
        "    - Parameters: doc (a Stanza Document object)\n",
        "    - Returns: A Pandas DataFrame object with one row for each token in\n",
        "      doc, and columns for text, lemma, upos, and xpos.\n",
        "    \"\"\"\n",
        "    rows = []\n",
        "    for sentence in doc.sentences:\n",
        "        for word in sentence.words:\n",
        "            row = {\n",
        "                \"text\": word.text,\n",
        "                \"lemma\": word.lemma,\n",
        "                \"upos\": word.upos,\n",
        "                \"xpos\": word.xpos,\n",
        "            }\n",
        "            rows.append(row)\n",
        "    return pd.DataFrame(rows)"
      ],
      "execution_count": 24,
      "outputs": []
    },
    {
      "cell_type": "code",
      "metadata": {
        "id": "vK6DdBNH1w_3"
      },
      "source": [
        "word_info_df(doc)"
      ],
      "execution_count": null,
      "outputs": []
    },
    {
      "cell_type": "code",
      "metadata": {
        "id": "tYvkAKg349PH",
        "outputId": "bde2b7ab-62ca-44ff-96b7-f287d93d6170",
        "colab": {
          "base_uri": "https://localhost:8080/",
          "height": 33
        }
      },
      "source": [
        "doc.num_words"
      ],
      "execution_count": 60,
      "outputs": [
        {
          "output_type": "execute_result",
          "data": {
            "text/plain": [
              "2013"
            ]
          },
          "metadata": {
            "tags": []
          },
          "execution_count": 60
        }
      ]
    },
    {
      "cell_type": "code",
      "metadata": {
        "id": "XCxAr3Be1-lz",
        "outputId": "49ad2c66-aade-4f79-a596-6f29adca23fe",
        "colab": {
          "base_uri": "https://localhost:8080/",
          "height": 33
        }
      },
      "source": [
        "doc.num_tokens"
      ],
      "execution_count": 61,
      "outputs": [
        {
          "output_type": "execute_result",
          "data": {
            "text/plain": [
              "2008"
            ]
          },
          "metadata": {
            "tags": []
          },
          "execution_count": 61
        }
      ]
    },
    {
      "cell_type": "markdown",
      "metadata": {
        "id": "4WxzLZ7s7EIr"
      },
      "source": [
        "# Prueba sobre entidades de un sumario"
      ]
    },
    {
      "cell_type": "code",
      "metadata": {
        "id": "Zf3V9fPq8Yxm"
      },
      "source": [
        "print(*[f'entity: {ent.text}\\ttype: {ent.type}' for ent in doc.ents], sep='\\n')[1]"
      ],
      "execution_count": null,
      "outputs": []
    },
    {
      "cell_type": "code",
      "metadata": {
        "id": "Zl0TWNSm78re"
      },
      "source": [
        "# select person entities\n",
        "def select_person_entities(doc):\n",
        "    return [ent for ent in doc.entities if ent.type == \"PER\"]"
      ],
      "execution_count": 63,
      "outputs": []
    },
    {
      "cell_type": "code",
      "metadata": {
        "id": "YbdE-9Hn7Hda"
      },
      "source": [
        "def person_df(doc):\n",
        "    \"\"\"\n",
        "    - Parameters: doc (a Stanza Document object)\n",
        "    - Returns: A Pandas DataFrame with one row for each entity in doc\n",
        "      that has a \"PERSON\" type, and and columns text, type, start_char.\n",
        "    \"\"\"\n",
        "    rows = []\n",
        "    persons = select_person_entities(doc)\n",
        "    for person in persons:\n",
        "        row = {\n",
        "            \"text\": person.text,\n",
        "            \"type\": person.type,\n",
        "            \"start_char\": person.start_char,\n",
        "            \"end_char\": person.end_char\n",
        "        }\n",
        "        rows.append(row)\n",
        "    return pd.DataFrame(rows)\n"
      ],
      "execution_count": 64,
      "outputs": []
    },
    {
      "cell_type": "code",
      "metadata": {
        "id": "q4NnhD1U7T4p"
      },
      "source": [
        "person_df(doc)"
      ],
      "execution_count": null,
      "outputs": []
    },
    {
      "cell_type": "markdown",
      "metadata": {
        "id": "dDw6HEMjDJ5S"
      },
      "source": [
        "## Pruebas de manipulacion"
      ]
    },
    {
      "cell_type": "code",
      "metadata": {
        "id": "s6j0xU19DHBu"
      },
      "source": [
        "for i, sent in enumerate(doc.sentences):\n",
        "  sent.print_tokens()"
      ],
      "execution_count": null,
      "outputs": []
    },
    {
      "cell_type": "code",
      "metadata": {
        "id": "lu7DkZlcDHB2"
      },
      "source": [
        "# Iterate over all tokens in all sentences\n",
        "for i, sent in enumerate(doc.sentences):    \n",
        "    for t in sent.tokens:\n",
        "        print(t.text)"
      ],
      "execution_count": null,
      "outputs": []
    },
    {
      "cell_type": "code",
      "metadata": {
        "id": "BciQ23WnDHB4"
      },
      "source": [
        "# Iterate over all words in all sentences\n",
        "for i, sent in enumerate(doc.sentences):    \n",
        "    for w in sent.words:\n",
        "        print(w.text)"
      ],
      "execution_count": null,
      "outputs": []
    },
    {
      "cell_type": "code",
      "metadata": {
        "id": "_ONzDqVIDHB6"
      },
      "source": [
        "# Iterate over all entities in all sentences\n",
        "for i, sent in enumerate(doc.sentences):    \n",
        "    for e in sent.entities:\n",
        "        print(e.text)"
      ],
      "execution_count": null,
      "outputs": []
    },
    {
      "cell_type": "code",
      "metadata": {
        "id": "wyE2CNGmDHB8"
      },
      "source": [
        "# Iterate over all llemmas in all sentences\n",
        "for i, sent in enumerate(doc.sentences):    \n",
        "    for w in sent.words:\n",
        "        print(w.lemma)"
      ],
      "execution_count": null,
      "outputs": []
    },
    {
      "cell_type": "markdown",
      "metadata": {
        "id": "vO_RLJnQJF9v"
      },
      "source": [
        "# Bibliografia\n",
        "\n",
        "- https://medium.com/@severinperez/exploring-literature-with-the-stanza-nlp-package-927d5b6556bf \n",
        "- https://colab.research.google.com/github/stanfordnlp/stanza/blob/master/demo/Stanza_CoreNLP_Interface.ipynb#scrollTo=ezEjc9LeV2Xs\n",
        "- https://scikit-learn.org/stable/modules/feature_extraction.html \n",
        "\n"
      ]
    },
    {
      "cell_type": "markdown",
      "metadata": {
        "id": "-nd6OoNXI3K-"
      },
      "source": [
        "# Prueba de Trabjo en Corspus"
      ]
    },
    {
      "cell_type": "code",
      "metadata": {
        "id": "yUrph76u8EXZ"
      },
      "source": [
        "fallos = tbfallos['textos_fallo']"
      ],
      "execution_count": 6,
      "outputs": []
    },
    {
      "cell_type": "code",
      "metadata": {
        "id": "cC2cS46m8kV8"
      },
      "source": [
        "fallos"
      ],
      "execution_count": null,
      "outputs": []
    },
    {
      "cell_type": "code",
      "metadata": {
        "id": "OxLe6JgU84Uw"
      },
      "source": [
        "fallos = fallos.replace(\"#\",\"\\n\\n\")\n",
        "fallos = fallos.values.tolist()"
      ],
      "execution_count": 8,
      "outputs": []
    },
    {
      "cell_type": "code",
      "metadata": {
        "id": "UB9Lg5Id84Uz",
        "outputId": "e8b7c698-cf43-4660-a723-dee20bc5e9c0",
        "colab": {
          "base_uri": "https://localhost:8080/",
          "height": 283
        }
      },
      "source": [
        "nlp = stanza.Pipeline(lang='es', processors='tokenize,mwt,pos,lemma', tokenize_no_ssplit=True)\n",
        "doc = nlp(fallos)  "
      ],
      "execution_count": 21,
      "outputs": [
        {
          "output_type": "stream",
          "text": [
            "2020-10-27 15:18:43 INFO: Loading these models for language: es (Spanish):\n",
            "=======================\n",
            "| Processor | Package |\n",
            "-----------------------\n",
            "| tokenize  | ancora  |\n",
            "| mwt       | ancora  |\n",
            "| pos       | ancora  |\n",
            "| lemma     | ancora  |\n",
            "=======================\n",
            "\n",
            "2020-10-27 15:18:43 INFO: Use device: gpu\n",
            "2020-10-27 15:18:43 INFO: Loading: tokenize\n",
            "2020-10-27 15:18:43 INFO: Loading: mwt\n",
            "2020-10-27 15:18:43 INFO: Loading: pos\n",
            "2020-10-27 15:18:44 INFO: Loading: lemma\n",
            "2020-10-27 15:18:44 INFO: Done loading processors!\n"
          ],
          "name": "stderr"
        }
      ]
    },
    {
      "cell_type": "code",
      "metadata": {
        "id": "j5nhMWQiRQSh"
      },
      "source": [
        "def print_doc_info(doc):\n",
        "    print(f\"Num sentences:\\t{len(doc.sentences)}\")\n",
        "    print(f\"Num tokens:\\t{doc.num_tokens}\")\n",
        "    print(f\"Num words:\\t{doc.num_words}\")\n",
        "    print(f\"Num entities:\\t{len(doc.entities)}\")"
      ],
      "execution_count": 22,
      "outputs": []
    },
    {
      "cell_type": "code",
      "metadata": {
        "id": "u2IWKD-jRQSo",
        "outputId": "dac1768d-078e-4f53-e4df-e185757fa306",
        "colab": {
          "base_uri": "https://localhost:8080/",
          "height": 83
        }
      },
      "source": [
        "print_doc_info(doc)"
      ],
      "execution_count": 23,
      "outputs": [
        {
          "output_type": "stream",
          "text": [
            "Num sentences:\t47\n",
            "Num tokens:\t2008\n",
            "Num words:\t2013\n",
            "Num entities:\t0\n"
          ],
          "name": "stdout"
        }
      ]
    },
    {
      "cell_type": "code",
      "metadata": {
        "id": "729dNgweRgSQ",
        "outputId": "99d0aaaf-a702-49c6-db1d-999a59f8df8f",
        "colab": {
          "base_uri": "https://localhost:8080/",
          "height": 53
        }
      },
      "source": [
        "print(*[f'{word.lemma}' for sent in doc.sentences for word in sent.words])"
      ],
      "execution_count": 24,
      "outputs": [
        {
          "output_type": "stream",
          "text": [
            "texto completo a c U e R D o en el ciudad de el Plata , a 15 de mayo de 2019 , haber él establecer , de conformidad con él dispuesto en el Acuerdo 2078 , que deber observar él el siguiente orden de votación : doctor Soria , de Lázzari , Genoud , Kogan , él reunir el señor Jueces de el Suprema Corte de Justicia en acuerdo ordinario para pronunciar sentencia definitivo en el causa C. 122321 , \" F. , R. . Determinación de el capacidad jurídico \" . a N T e C e D e N T e S el Sala I de el Cámara de Apelación en él Civil y Comercial de San Isidro confirmar el fallo de primero instancia que , en el auto sobre determinación de el capacidad jurídico del señor R. F. , resolver aprobar el rendición de cuenta efectuado por el Curaduría Oficial de Alienados ( v. fs . 689 y 660 , respectivamente ) . él interponer , por el titular de el Asesoría de Incapaces n° 2 departamental , recurso extraordinario de inaplicabilidad de ley ( v. fs . 705/711 ) . oído el señor Procurador General , dictado el providencia de auto y encontrar él el causa en estado de pronunciar sentencia , el Suprema Corte resolver plantear y votar el siguiente C U e S T I Ó N ¿ ser fundado el recurso extraordinario de inaplicabilidad de ley ? V o T a C I Ó N a el cuestión planteado , el señor Juez doctor Soria decir : I . en el marco del proceso judicial por determinación de el capacidad jurídico del señor R. F. , en trámite ante el Juzgado de Familia n° 4 de San Isidro , el titular de el Curaduría Oficial de Alienados de San Isidro y Zárate-Campana acompañar uno rendición de cuenta informar el movimiento y saldo de el contar de Autos y de el contar Fiscal de Curaduría , adjuntar comprobante para acreditar el gasto efectuado para el sostenimiento del causante e informar el monto y erogación originado en el subsidio ley 10315 , para el caso de que el señor F. estar gozar del mismo ( v. fs . 541/548 ) . el Asesora de Incapaces impugnar el rendición de cuenta efectuado , esgrimir que de el documentación acompañado junto a el mismo surgir dos factura de el acompañante terapéutico - Daniela Elizabeth Ferreyra - en concepto de honorario por trámite de afiliación al Programa Federal de Salud ( PROFE-Salud ) , emitido con fecha 11 de noviembre de 2015 y 15 de enero de 2016 por el suma de $720 y $ 800 , respectivamente ( v. fs . 566 ) . manifestar que de el compulsa del expediente surgir que desde el año 2013 , luego de que el señor F. egresar con uno permiso de salida del Hospital Cabred , no él haber tener noticia del mismo , existir además constancia de el búsqueda de su paradero ( v. fs . 566 ) . hacer referencia a el resolución 578/03 y 127/06 en cuanto regular el necesidad de intervención de el acompañante terapéutico , aspecto sobre el que deber trabajar , etcétera , y el obligación de el curador de informar al juez él presupuestado mensualmente para gasto ordinario ( v. fs . 566 vta. ) , puntualizar que en el constancia de auto no haber elemento que indicar el actividad desplegado por el acompañante Ferreyra en él que hacer a el función e incumbencia profesional , así como tampoco documentación que respaldar el gestión y trámite facturado por dicho profesional , máxime tener en cuenta que él desconocer el paradero del señor F. ( v. fs . 567 ) . solicitar que él brindar explicación respecto de el punto señalado en el impugnación , para cuyo fin proponer el realización de uno audiencia ante el juez ( v. fs . 567 y vta . ) . frente a dicho planteo , el Juzgado disponer el pase de el actuación a el Curaduría Oficial de Alienados a fin de que él expidar al respecto ( v. fs . 568 ) . el titular de el Curaduría contestar el impugnación y solicitar el aprobación de rendición efectuado ( v. fs . 597/599 vta . ) . allí , referir que el persona con padecimiento mental ser beneficiario de uno pensión contributivo a el que él él practicar uno descuento mensual del Programa Federal de Salud cuyo afiliación no ser automático , por él que el persona comenzar a pagar por uno servicio de salud que no recibir hasta tanto él concluir el trámite y pasar a figurar como activo en el padrón . aducir que desde el Curaduría él haber generar uno operatoria para suplir el falta de afiliación automático , ser el acompañante terapéutico quien concurrir a el Delegación del PROFE al final de uno recorrido previo que deber realizar para conseguir todo el documentación necesario ( v. fs . 598 ) . asimismo , hacer referencia a el cuestión vinculado con el disponibilidad de el recurso con el que contar el organismo y controvertir por inadecuado el normativa citado por el Asesora impugnante ( v. fs . 599 ) . el Juzgado resolver , sin perjuicio de el impugnación realizado , aprobar por único vez en cuanto haber lugar por derecho el rendición de cuenta efectuado en el término y con el alcance manifestado a fs . 548 . asimismo , hacer saber a el Curaduría Oficial que deber acreditar en auto el trámite realizado en favor del causante por el cual él presentar el factura y el resultado de el mismo . además , señalar que en él sucesivo y para futuro rendición de cuenta él deber denunciar en el causa el disposición de el Suprema Corte que autorizar a el Curaduría Oficial a tercerizar el gestión de trámite , señalar que , al asignar él uno acompañante terapéutico a alguno justiciable , él deber denunciar en el respectivo auto cual ser su tarea y el procedimiento para su designación ( v. fs . 600 ) . II . apelado dicho pronunciamiento por el Asesora interviniente ( v. fs . 633 ) , el Sala I de el Cámara de Apelación él confirmar ( v. fs . 689 y vta . ) . III . contra dicho fallo él alzar el Asesora mencionado mediante recurso extraordinario de inaplicabilidad de ley , denunciar el violación de el arts . 18 , 75 inc . 22 y 23 de el Constitución nacional ; 8 de el Convención Americana sobre el Derechos Humanos ; 1 , 2 , 4 , 5 , 12 , 13 de el Convención sobre el Derechos de el persona con Discapacidad ( ley 26378 y 27044 ) ; XVII , XVIII de el Declaración Americana de el Derechos y Deberes del Hombre ; 8 de el Declaración Universal de Derechos Humanos ; 10 , 15 , 36.5 y 171 de el Constitución provincial ; 3 , 130 , 131 , 134 , 858 , 860 inc. \" c \" , 862 , 1716 , 1717 , 1766 , 1775 , 1776 del Código Civil y Comercial y 1 , 2 y 4 de el ley 26944 . asimismo , denuncia absurdo ( v. fs . 705/711 ) . sostener que el solo afirmación de el Cámara de que el explicación brindado por el Curaduría Oficial resultar razonable , sin abordar ninguno de el defensa planteado , constituir uno típico ejercicio de formulación dogmático y uno decisión arbitrario ( v. fs . 709 ) . exponer que en el fallo impugnado él ignorar todo y cada uno de el elemento obrante en el causa , el acción instado , en particular uno investigación criminal sobre el hecho , todo él que imponer el rechazo de el cuenta ( v. fs . 708 vta. ) . Controvierte que para fundamentar normativamente el sentencia y concluir en el razonabilidad de el explicación brindado por el Curaduría Oficial , el Cámara invocar el Convención sobre el Derechos de el persona con Discapacidad y a partir de el mismo pondere y calificar el gasto y el contratación efectuado como razonable ( v. fs . 710 y vta . ) . IV . el recurso deber prosperar . compartir y hacer propio el fundamento y conclusión vertido por el señor Procurador General en su dictamen de fs . 782787 , el que estimar abastecer adecuadamente el respuesta que caber brindar en el sub lite ( conf . causa C. 113234 , sent. de 9-V-2012 ; C. 115708 , sent. de 12-VI-2013 ; C. 121104 , sent. de 23-V-2017 ; C. 121980 \" P. , S \" , sent. de 27-vI-2018 ) , en cuanto señalar \" ..lo ausencia de el razón o motivo por el cual él receptar como base de el decisión , el manifestación de el Curaduría Oficial ... \" ( fs . 784 vta . ) . en efecto , el Tribunal de Alzada , como único sustento de su decisión de tener por razonable el explicación brindado por el Curaduría Oficial y mantener el providencia que aprobar el rendición de cuenta impugnado , aludir a el Convención sobre el Derechos de el persona con Discapacidad y su Protocolo Facultativo \" ...en cuanto establecer el criterio por el cual el procedimiento deber ser ajustar de manera de facilitar el realización de el trámite ... \" ( fs . 689 vta . ) . tal como denunciar el recurrente ( v. fs . 710 vta./711 ) , el genérico apreciación formulado en el fallo impugnado , además de no cumplir con el mandato convencional que exigir atención especial de el persona con discapacidad , manejo transparente con rendición de cuenta documentado , preciso y detallado , justificado en necesidad concreto y verificable , no él corresponder con el hecho acreditado en el causa , máxime cuando - como venir denunciar el Asesora de Incapaces - en el rendición de cuenta presentado por el Curaduría Oficial , él incluir gasto para el contratación de quien ser el acompañante terapéutico para realizar gestión y tramitación en favor del señor F. , facturado en noviembre de 2015 y enero de 2016 , cuando el causante mantener paradero desconocido para todo el órgano judicial desde julio de 2013 ( v. fs . 566 , 635 , 655 vta . , 707 ) . IV . en virtud de él expuesto , corresponder hacer lugar al recurso extraordinario de inaplicabilidad de ley interpuesto , revocar el fallo impugnado y devolver el auto al Tribunal de origen para que , con el debido integración , dictar uno nuevo pronunciamiento ( art . 289 , CPCC ) . el costa él imponer por su orden , dar el índole de el tema debatido ( art. 68 , segundo párrafo , CPCC ) . el presente él notificar con copia del dictamen de fs . 782787 . voto por el afirmativo . el señor Jueces doctor de Lázzari y Genoud y el señora Jueza doctora Kogan , por el mismo fundamento del señor Juez doctor Soria , votar también por el afirmativo . con él que terminar el acuerdo , dictar él el siguiente S e N T e N C I A por él expuesto en el acuerdo que anteceder , de conformidad con él dictaminado por el señor Procurador General , él hacer lugar al recurso extraordinario de inaplicabilidad de ley interpuesto , él revocar el fallo impugnado y él devolver el auto al Tribunal de origen para que , con el debido integración , dictar uno nuevo pronunciamiento ( art . 289 , CPCC ) . el costa él imponer por su orden , dar el índole de el tema debatido ( art. 68 , segundo párrafo , CPCC ) . notifiquer con copia del dictamen de fs . 782787 y devuélva e . eduardo NESTOR de LÁZZARI DANIEL FERNANDO SORIA Luis ESTEBAN GENOUD HILDA KOGAN CARLOS E. CAMPS Secretario\n"
          ],
          "name": "stdout"
        }
      ]
    },
    {
      "cell_type": "code",
      "metadata": {
        "id": "Fa8LKFdyRiT3"
      },
      "source": [
        "lemas = [word.lemma for sent in doc.sentences for word in sent.words]"
      ],
      "execution_count": 47,
      "outputs": []
    },
    {
      "cell_type": "code",
      "metadata": {
        "id": "0WqnxoMGsD_3"
      },
      "source": [
        "lemas"
      ],
      "execution_count": null,
      "outputs": []
    },
    {
      "cell_type": "code",
      "metadata": {
        "id": "cz5QgNZVRiaV"
      },
      "source": [
        "import spacy\n",
        "from collections import Counter"
      ],
      "execution_count": 30,
      "outputs": []
    },
    {
      "cell_type": "code",
      "metadata": {
        "id": "ndr1iGtspMGF"
      },
      "source": [
        "word_freq = Counter(lemas)\n",
        "common_words = word_freq.most_common(5)"
      ],
      "execution_count": 31,
      "outputs": []
    },
    {
      "cell_type": "code",
      "metadata": {
        "id": "IC2rKUEApMYy",
        "outputId": "6991b7b5-c0a9-4eff-8bed-b56378a8403d",
        "colab": {
          "base_uri": "https://localhost:8080/",
          "height": 33
        }
      },
      "source": [
        "common_words"
      ],
      "execution_count": 32,
      "outputs": [
        {
          "output_type": "execute_result",
          "data": {
            "text/plain": [
              "[('el', 208), ('de', 140), (',', 121), ('.', 79), ('y', 49)]"
            ]
          },
          "metadata": {
            "tags": []
          },
          "execution_count": 32
        }
      ]
    },
    {
      "cell_type": "markdown",
      "metadata": {
        "id": "EHQAzypsy35G"
      },
      "source": [
        "# Continuar con armado de matriz docxword con STANZA"
      ]
    },
    {
      "cell_type": "code",
      "metadata": {
        "id": "aqiFtF9HzHNP"
      },
      "source": [
        ""
      ],
      "execution_count": null,
      "outputs": []
    },
    {
      "cell_type": "markdown",
      "metadata": {
        "id": "rnRyfiDXUqCl"
      },
      "source": [
        "# Word count Matrix of documents with SKLEARN\n"
      ]
    },
    {
      "cell_type": "code",
      "metadata": {
        "id": "TNuUSe6CUHIV"
      },
      "source": [
        "from sklearn.feature_extraction.text import CountVectorizer"
      ],
      "execution_count": 170,
      "outputs": []
    },
    {
      "cell_type": "code",
      "metadata": {
        "id": "-SGqOLvZZsxN",
        "outputId": "e843a9bd-387f-4c69-f96a-56bc5bcd5baf",
        "colab": {
          "base_uri": "https://localhost:8080/",
          "height": 216
        }
      },
      "source": [
        "tbfallos['textos_fallo']"
      ],
      "execution_count": 32,
      "outputs": [
        {
          "output_type": "execute_result",
          "data": {
            "text/plain": [
              "0      #TEXTO COMPLETO#A C U E R D O#En la ciudad de ...\n",
              "1      #TEXTO COMPLETO#A C U E R D O#En la ciudad de ...\n",
              "2      #TEXTO COMPLETO#\"VOSS SUSANA BEATRIZ C/ VILLAR...\n",
              "3      #TEXTO COMPLETO#A C U E R D O#En la ciudad de ...\n",
              "4      #TEXTO COMPLETO#\"RICA ARIEL FEDERICO Y OTROS C...\n",
              "                             ...                        \n",
              "909    #TEXTO COMPLETO#A C U E R D O#En la ciudad de ...\n",
              "910    #TEXTO COMPLETO#A C U E R D O#En la ciudad de ...\n",
              "911    #TEXTO COMPLETO#A C U E R D O#En la ciudad de ...\n",
              "912    #TEXTO COMPLETO#A C U E R D O#En la ciudad de ...\n",
              "913    #TEXTO COMPLETO#A C U E R D O#En la ciudad de ...\n",
              "Name: textos_fallo, Length: 914, dtype: object"
            ]
          },
          "metadata": {
            "tags": []
          },
          "execution_count": 32
        }
      ]
    },
    {
      "cell_type": "code",
      "metadata": {
        "id": "SIecewEbVZDl"
      },
      "source": [
        "df = tbfallos['textos_fallo']"
      ],
      "execution_count": 34,
      "outputs": []
    },
    {
      "cell_type": "code",
      "metadata": {
        "id": "TqEqPaAFUQhc"
      },
      "source": [
        "cv = CountVectorizer()\n",
        "cv.fit(df)\n",
        "results = cv.transform(df)"
      ],
      "execution_count": 180,
      "outputs": []
    },
    {
      "cell_type": "code",
      "metadata": {
        "id": "6dct0LYlVdWq",
        "outputId": "6db35391-b68f-45fe-ef42-6d22c6c6938f",
        "colab": {
          "base_uri": "https://localhost:8080/",
          "height": 33
        }
      },
      "source": [
        "print(results.shape) # Sparse matrix"
      ],
      "execution_count": 181,
      "outputs": [
        {
          "output_type": "stream",
          "text": [
            "(914, 44226)\n"
          ],
          "name": "stdout"
        }
      ]
    },
    {
      "cell_type": "code",
      "metadata": {
        "id": "r8fybamPUWm8"
      },
      "source": [
        "features = cv.get_feature_names()\n",
        "df_res = pd.DataFrame(results.toarray(), columns=features)"
      ],
      "execution_count": 185,
      "outputs": []
    },
    {
      "cell_type": "code",
      "metadata": {
        "id": "Gbz-2D0PZCrO",
        "outputId": "21dff581-7e0a-43f3-a814-c72f5c550b2f",
        "colab": {
          "base_uri": "https://localhost:8080/",
          "height": 246
        }
      },
      "source": [
        "df_res.head()"
      ],
      "execution_count": 189,
      "outputs": [
        {
          "output_type": "execute_result",
          "data": {
            "text/html": [
              "<div>\n",
              "<style scoped>\n",
              "    .dataframe tbody tr th:only-of-type {\n",
              "        vertical-align: middle;\n",
              "    }\n",
              "\n",
              "    .dataframe tbody tr th {\n",
              "        vertical-align: top;\n",
              "    }\n",
              "\n",
              "    .dataframe thead th {\n",
              "        text-align: right;\n",
              "    }\n",
              "</style>\n",
              "<table border=\"1\" class=\"dataframe\">\n",
              "  <thead>\n",
              "    <tr style=\"text-align: right;\">\n",
              "      <th></th>\n",
              "      <th>00</th>\n",
              "      <th>000</th>\n",
              "      <th>0000</th>\n",
              "      <th>00000016</th>\n",
              "      <th>00000018</th>\n",
              "      <th>00000235</th>\n",
              "      <th>00000261</th>\n",
              "      <th>00000262</th>\n",
              "      <th>00000365</th>\n",
              "      <th>0000056</th>\n",
              "      <th>00000565</th>\n",
              "      <th>00000566</th>\n",
              "      <th>00000570</th>\n",
              "      <th>00000602</th>\n",
              "      <th>00000603</th>\n",
              "      <th>00000622</th>\n",
              "      <th>00000673</th>\n",
              "      <th>00000770</th>\n",
              "      <th>00000771</th>\n",
              "      <th>00000833</th>\n",
              "      <th>00001</th>\n",
              "      <th>00002772</th>\n",
              "      <th>00003413</th>\n",
              "      <th>00003417</th>\n",
              "      <th>00003907</th>\n",
              "      <th>00003908</th>\n",
              "      <th>00008571</th>\n",
              "      <th>00009</th>\n",
              "      <th>0001</th>\n",
              "      <th>000156</th>\n",
              "      <th>00018462</th>\n",
              "      <th>0002</th>\n",
              "      <th>000325</th>\n",
              "      <th>0006</th>\n",
              "      <th>000663</th>\n",
              "      <th>000969</th>\n",
              "      <th>0009867</th>\n",
              "      <th>001</th>\n",
              "      <th>001026</th>\n",
              "      <th>001133</th>\n",
              "      <th>...</th>\n",
              "      <th>ítem</th>\n",
              "      <th>ítems</th>\n",
              "      <th>íter</th>\n",
              "      <th>ñamandú</th>\n",
              "      <th>ñata</th>\n",
              "      <th>óbice</th>\n",
              "      <th>óbices</th>\n",
              "      <th>óbito</th>\n",
              "      <th>ómnibus</th>\n",
              "      <th>óntico</th>\n",
              "      <th>óptica</th>\n",
              "      <th>óptima</th>\n",
              "      <th>óptimas</th>\n",
              "      <th>óptimo</th>\n",
              "      <th>órbita</th>\n",
              "      <th>órbitas</th>\n",
              "      <th>órdenes</th>\n",
              "      <th>órgano</th>\n",
              "      <th>órganos</th>\n",
              "      <th>ósea</th>\n",
              "      <th>óseas</th>\n",
              "      <th>óseo</th>\n",
              "      <th>ótico</th>\n",
              "      <th>óvulos</th>\n",
              "      <th>últ</th>\n",
              "      <th>última</th>\n",
              "      <th>últimamente</th>\n",
              "      <th>últimas</th>\n",
              "      <th>últimaáratioádel</th>\n",
              "      <th>último</th>\n",
              "      <th>últimos</th>\n",
              "      <th>única</th>\n",
              "      <th>únicamente</th>\n",
              "      <th>únicas</th>\n",
              "      <th>único</th>\n",
              "      <th>únicos</th>\n",
              "      <th>útero</th>\n",
              "      <th>útil</th>\n",
              "      <th>útiles</th>\n",
              "      <th>útilmente</th>\n",
              "    </tr>\n",
              "  </thead>\n",
              "  <tbody>\n",
              "    <tr>\n",
              "      <th>0</th>\n",
              "      <td>0</td>\n",
              "      <td>0</td>\n",
              "      <td>0</td>\n",
              "      <td>0</td>\n",
              "      <td>0</td>\n",
              "      <td>0</td>\n",
              "      <td>0</td>\n",
              "      <td>0</td>\n",
              "      <td>0</td>\n",
              "      <td>0</td>\n",
              "      <td>0</td>\n",
              "      <td>0</td>\n",
              "      <td>0</td>\n",
              "      <td>0</td>\n",
              "      <td>0</td>\n",
              "      <td>0</td>\n",
              "      <td>0</td>\n",
              "      <td>0</td>\n",
              "      <td>0</td>\n",
              "      <td>0</td>\n",
              "      <td>0</td>\n",
              "      <td>0</td>\n",
              "      <td>0</td>\n",
              "      <td>0</td>\n",
              "      <td>0</td>\n",
              "      <td>0</td>\n",
              "      <td>0</td>\n",
              "      <td>0</td>\n",
              "      <td>0</td>\n",
              "      <td>0</td>\n",
              "      <td>0</td>\n",
              "      <td>0</td>\n",
              "      <td>0</td>\n",
              "      <td>0</td>\n",
              "      <td>0</td>\n",
              "      <td>0</td>\n",
              "      <td>0</td>\n",
              "      <td>0</td>\n",
              "      <td>0</td>\n",
              "      <td>0</td>\n",
              "      <td>...</td>\n",
              "      <td>0</td>\n",
              "      <td>0</td>\n",
              "      <td>0</td>\n",
              "      <td>0</td>\n",
              "      <td>0</td>\n",
              "      <td>0</td>\n",
              "      <td>0</td>\n",
              "      <td>0</td>\n",
              "      <td>0</td>\n",
              "      <td>0</td>\n",
              "      <td>0</td>\n",
              "      <td>0</td>\n",
              "      <td>0</td>\n",
              "      <td>0</td>\n",
              "      <td>1</td>\n",
              "      <td>0</td>\n",
              "      <td>0</td>\n",
              "      <td>7</td>\n",
              "      <td>0</td>\n",
              "      <td>0</td>\n",
              "      <td>0</td>\n",
              "      <td>0</td>\n",
              "      <td>0</td>\n",
              "      <td>0</td>\n",
              "      <td>0</td>\n",
              "      <td>0</td>\n",
              "      <td>0</td>\n",
              "      <td>0</td>\n",
              "      <td>0</td>\n",
              "      <td>1</td>\n",
              "      <td>0</td>\n",
              "      <td>0</td>\n",
              "      <td>0</td>\n",
              "      <td>0</td>\n",
              "      <td>0</td>\n",
              "      <td>0</td>\n",
              "      <td>0</td>\n",
              "      <td>1</td>\n",
              "      <td>0</td>\n",
              "      <td>0</td>\n",
              "    </tr>\n",
              "    <tr>\n",
              "      <th>1</th>\n",
              "      <td>0</td>\n",
              "      <td>0</td>\n",
              "      <td>0</td>\n",
              "      <td>0</td>\n",
              "      <td>0</td>\n",
              "      <td>0</td>\n",
              "      <td>0</td>\n",
              "      <td>0</td>\n",
              "      <td>0</td>\n",
              "      <td>0</td>\n",
              "      <td>0</td>\n",
              "      <td>0</td>\n",
              "      <td>0</td>\n",
              "      <td>0</td>\n",
              "      <td>0</td>\n",
              "      <td>0</td>\n",
              "      <td>0</td>\n",
              "      <td>0</td>\n",
              "      <td>0</td>\n",
              "      <td>0</td>\n",
              "      <td>0</td>\n",
              "      <td>0</td>\n",
              "      <td>0</td>\n",
              "      <td>0</td>\n",
              "      <td>0</td>\n",
              "      <td>0</td>\n",
              "      <td>0</td>\n",
              "      <td>0</td>\n",
              "      <td>0</td>\n",
              "      <td>0</td>\n",
              "      <td>0</td>\n",
              "      <td>0</td>\n",
              "      <td>0</td>\n",
              "      <td>0</td>\n",
              "      <td>0</td>\n",
              "      <td>0</td>\n",
              "      <td>0</td>\n",
              "      <td>0</td>\n",
              "      <td>0</td>\n",
              "      <td>0</td>\n",
              "      <td>...</td>\n",
              "      <td>0</td>\n",
              "      <td>0</td>\n",
              "      <td>0</td>\n",
              "      <td>0</td>\n",
              "      <td>0</td>\n",
              "      <td>0</td>\n",
              "      <td>0</td>\n",
              "      <td>0</td>\n",
              "      <td>0</td>\n",
              "      <td>0</td>\n",
              "      <td>0</td>\n",
              "      <td>0</td>\n",
              "      <td>0</td>\n",
              "      <td>0</td>\n",
              "      <td>0</td>\n",
              "      <td>0</td>\n",
              "      <td>0</td>\n",
              "      <td>0</td>\n",
              "      <td>1</td>\n",
              "      <td>0</td>\n",
              "      <td>0</td>\n",
              "      <td>0</td>\n",
              "      <td>0</td>\n",
              "      <td>0</td>\n",
              "      <td>0</td>\n",
              "      <td>0</td>\n",
              "      <td>0</td>\n",
              "      <td>0</td>\n",
              "      <td>0</td>\n",
              "      <td>0</td>\n",
              "      <td>0</td>\n",
              "      <td>1</td>\n",
              "      <td>0</td>\n",
              "      <td>0</td>\n",
              "      <td>1</td>\n",
              "      <td>0</td>\n",
              "      <td>0</td>\n",
              "      <td>0</td>\n",
              "      <td>0</td>\n",
              "      <td>0</td>\n",
              "    </tr>\n",
              "    <tr>\n",
              "      <th>2</th>\n",
              "      <td>0</td>\n",
              "      <td>0</td>\n",
              "      <td>0</td>\n",
              "      <td>0</td>\n",
              "      <td>0</td>\n",
              "      <td>0</td>\n",
              "      <td>0</td>\n",
              "      <td>0</td>\n",
              "      <td>0</td>\n",
              "      <td>0</td>\n",
              "      <td>0</td>\n",
              "      <td>0</td>\n",
              "      <td>0</td>\n",
              "      <td>0</td>\n",
              "      <td>0</td>\n",
              "      <td>0</td>\n",
              "      <td>0</td>\n",
              "      <td>0</td>\n",
              "      <td>0</td>\n",
              "      <td>0</td>\n",
              "      <td>0</td>\n",
              "      <td>0</td>\n",
              "      <td>0</td>\n",
              "      <td>0</td>\n",
              "      <td>0</td>\n",
              "      <td>0</td>\n",
              "      <td>0</td>\n",
              "      <td>0</td>\n",
              "      <td>0</td>\n",
              "      <td>0</td>\n",
              "      <td>0</td>\n",
              "      <td>0</td>\n",
              "      <td>0</td>\n",
              "      <td>0</td>\n",
              "      <td>0</td>\n",
              "      <td>0</td>\n",
              "      <td>0</td>\n",
              "      <td>0</td>\n",
              "      <td>0</td>\n",
              "      <td>0</td>\n",
              "      <td>...</td>\n",
              "      <td>0</td>\n",
              "      <td>0</td>\n",
              "      <td>0</td>\n",
              "      <td>0</td>\n",
              "      <td>0</td>\n",
              "      <td>0</td>\n",
              "      <td>0</td>\n",
              "      <td>0</td>\n",
              "      <td>0</td>\n",
              "      <td>0</td>\n",
              "      <td>0</td>\n",
              "      <td>0</td>\n",
              "      <td>0</td>\n",
              "      <td>0</td>\n",
              "      <td>0</td>\n",
              "      <td>0</td>\n",
              "      <td>0</td>\n",
              "      <td>0</td>\n",
              "      <td>0</td>\n",
              "      <td>0</td>\n",
              "      <td>0</td>\n",
              "      <td>0</td>\n",
              "      <td>0</td>\n",
              "      <td>0</td>\n",
              "      <td>0</td>\n",
              "      <td>0</td>\n",
              "      <td>0</td>\n",
              "      <td>0</td>\n",
              "      <td>0</td>\n",
              "      <td>0</td>\n",
              "      <td>0</td>\n",
              "      <td>0</td>\n",
              "      <td>0</td>\n",
              "      <td>0</td>\n",
              "      <td>0</td>\n",
              "      <td>0</td>\n",
              "      <td>0</td>\n",
              "      <td>0</td>\n",
              "      <td>0</td>\n",
              "      <td>0</td>\n",
              "    </tr>\n",
              "    <tr>\n",
              "      <th>3</th>\n",
              "      <td>0</td>\n",
              "      <td>0</td>\n",
              "      <td>0</td>\n",
              "      <td>0</td>\n",
              "      <td>0</td>\n",
              "      <td>0</td>\n",
              "      <td>0</td>\n",
              "      <td>0</td>\n",
              "      <td>0</td>\n",
              "      <td>0</td>\n",
              "      <td>0</td>\n",
              "      <td>0</td>\n",
              "      <td>0</td>\n",
              "      <td>0</td>\n",
              "      <td>0</td>\n",
              "      <td>0</td>\n",
              "      <td>0</td>\n",
              "      <td>0</td>\n",
              "      <td>0</td>\n",
              "      <td>0</td>\n",
              "      <td>0</td>\n",
              "      <td>0</td>\n",
              "      <td>0</td>\n",
              "      <td>0</td>\n",
              "      <td>0</td>\n",
              "      <td>0</td>\n",
              "      <td>0</td>\n",
              "      <td>0</td>\n",
              "      <td>0</td>\n",
              "      <td>0</td>\n",
              "      <td>0</td>\n",
              "      <td>0</td>\n",
              "      <td>0</td>\n",
              "      <td>0</td>\n",
              "      <td>0</td>\n",
              "      <td>0</td>\n",
              "      <td>0</td>\n",
              "      <td>2</td>\n",
              "      <td>0</td>\n",
              "      <td>0</td>\n",
              "      <td>...</td>\n",
              "      <td>0</td>\n",
              "      <td>0</td>\n",
              "      <td>0</td>\n",
              "      <td>0</td>\n",
              "      <td>0</td>\n",
              "      <td>0</td>\n",
              "      <td>0</td>\n",
              "      <td>0</td>\n",
              "      <td>0</td>\n",
              "      <td>0</td>\n",
              "      <td>0</td>\n",
              "      <td>0</td>\n",
              "      <td>0</td>\n",
              "      <td>0</td>\n",
              "      <td>0</td>\n",
              "      <td>0</td>\n",
              "      <td>0</td>\n",
              "      <td>1</td>\n",
              "      <td>0</td>\n",
              "      <td>0</td>\n",
              "      <td>0</td>\n",
              "      <td>0</td>\n",
              "      <td>0</td>\n",
              "      <td>0</td>\n",
              "      <td>0</td>\n",
              "      <td>0</td>\n",
              "      <td>0</td>\n",
              "      <td>0</td>\n",
              "      <td>0</td>\n",
              "      <td>0</td>\n",
              "      <td>0</td>\n",
              "      <td>0</td>\n",
              "      <td>0</td>\n",
              "      <td>0</td>\n",
              "      <td>0</td>\n",
              "      <td>0</td>\n",
              "      <td>0</td>\n",
              "      <td>0</td>\n",
              "      <td>0</td>\n",
              "      <td>0</td>\n",
              "    </tr>\n",
              "    <tr>\n",
              "      <th>4</th>\n",
              "      <td>0</td>\n",
              "      <td>0</td>\n",
              "      <td>0</td>\n",
              "      <td>0</td>\n",
              "      <td>0</td>\n",
              "      <td>0</td>\n",
              "      <td>0</td>\n",
              "      <td>0</td>\n",
              "      <td>0</td>\n",
              "      <td>0</td>\n",
              "      <td>0</td>\n",
              "      <td>0</td>\n",
              "      <td>0</td>\n",
              "      <td>0</td>\n",
              "      <td>0</td>\n",
              "      <td>0</td>\n",
              "      <td>0</td>\n",
              "      <td>0</td>\n",
              "      <td>0</td>\n",
              "      <td>0</td>\n",
              "      <td>0</td>\n",
              "      <td>0</td>\n",
              "      <td>0</td>\n",
              "      <td>0</td>\n",
              "      <td>0</td>\n",
              "      <td>0</td>\n",
              "      <td>0</td>\n",
              "      <td>0</td>\n",
              "      <td>0</td>\n",
              "      <td>0</td>\n",
              "      <td>0</td>\n",
              "      <td>0</td>\n",
              "      <td>0</td>\n",
              "      <td>0</td>\n",
              "      <td>0</td>\n",
              "      <td>0</td>\n",
              "      <td>0</td>\n",
              "      <td>0</td>\n",
              "      <td>0</td>\n",
              "      <td>0</td>\n",
              "      <td>...</td>\n",
              "      <td>0</td>\n",
              "      <td>0</td>\n",
              "      <td>0</td>\n",
              "      <td>0</td>\n",
              "      <td>0</td>\n",
              "      <td>0</td>\n",
              "      <td>0</td>\n",
              "      <td>0</td>\n",
              "      <td>0</td>\n",
              "      <td>0</td>\n",
              "      <td>0</td>\n",
              "      <td>0</td>\n",
              "      <td>0</td>\n",
              "      <td>0</td>\n",
              "      <td>0</td>\n",
              "      <td>0</td>\n",
              "      <td>0</td>\n",
              "      <td>3</td>\n",
              "      <td>0</td>\n",
              "      <td>0</td>\n",
              "      <td>0</td>\n",
              "      <td>0</td>\n",
              "      <td>0</td>\n",
              "      <td>0</td>\n",
              "      <td>0</td>\n",
              "      <td>0</td>\n",
              "      <td>0</td>\n",
              "      <td>0</td>\n",
              "      <td>0</td>\n",
              "      <td>0</td>\n",
              "      <td>0</td>\n",
              "      <td>1</td>\n",
              "      <td>0</td>\n",
              "      <td>0</td>\n",
              "      <td>1</td>\n",
              "      <td>0</td>\n",
              "      <td>0</td>\n",
              "      <td>0</td>\n",
              "      <td>0</td>\n",
              "      <td>0</td>\n",
              "    </tr>\n",
              "  </tbody>\n",
              "</table>\n",
              "<p>5 rows × 44226 columns</p>\n",
              "</div>"
            ],
            "text/plain": [
              "   00  000  0000  00000016  00000018  ...  únicos  útero  útil  útiles  útilmente\n",
              "0   0    0     0         0         0  ...       0      0     1       0          0\n",
              "1   0    0     0         0         0  ...       0      0     0       0          0\n",
              "2   0    0     0         0         0  ...       0      0     0       0          0\n",
              "3   0    0     0         0         0  ...       0      0     0       0          0\n",
              "4   0    0     0         0         0  ...       0      0     0       0          0\n",
              "\n",
              "[5 rows x 44226 columns]"
            ]
          },
          "metadata": {
            "tags": []
          },
          "execution_count": 189
        }
      ]
    }
  ]
}