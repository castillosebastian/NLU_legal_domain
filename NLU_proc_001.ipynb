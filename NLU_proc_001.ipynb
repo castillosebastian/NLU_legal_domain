{
  "nbformat": 4,
  "nbformat_minor": 0,
  "metadata": {
    "colab": {
      "name": "NLU_proc_001.ipynb",
      "provenance": [],
      "authorship_tag": "ABX9TyPS9Ta8oCiQ2utKREWz+vgm",
      "include_colab_link": true
    },
    "kernelspec": {
      "name": "python3",
      "display_name": "Python 3"
    },
    "accelerator": "GPU"
  },
  "cells": [
    {
      "cell_type": "markdown",
      "metadata": {
        "id": "view-in-github",
        "colab_type": "text"
      },
      "source": [
        "<a href=\"https://colab.research.google.com/github/castillosebastian/NLU_legal_domain/blob/master/NLU_proc_001.ipynb\" target=\"_parent\"><img src=\"https://colab.research.google.com/assets/colab-badge.svg\" alt=\"Open In Colab\"/></a>"
      ]
    },
    {
      "cell_type": "markdown",
      "metadata": {
        "id": "05QKhvGiCTEd"
      },
      "source": [
        "# Script 1: procesamiento NLU"
      ]
    },
    {
      "cell_type": "markdown",
      "metadata": {
        "id": "JaaQKkhmJqc1"
      },
      "source": [
        "##  Entorno"
      ]
    },
    {
      "cell_type": "code",
      "metadata": {
        "id": "u6lhCPvQ5kxw"
      },
      "source": [
        "# Libraries, tools and thanks \n",
        "import bs4\n",
        "import nltk\n",
        "import numpy\n",
        "import pandas as pd\n",
        "import io\n",
        "import requests\n",
        "from google.colab import drive\n",
        "import numpy as np \n",
        "import json\n",
        "import re"
      ],
      "execution_count": 1,
      "outputs": []
    },
    {
      "cell_type": "code",
      "metadata": {
        "id": "6MUuIZYyKxsk"
      },
      "source": [
        "# procesar con GPU"
      ],
      "execution_count": null,
      "outputs": []
    },
    {
      "cell_type": "code",
      "metadata": {
        "id": "jJAxQeOi3eRz",
        "outputId": "7b12ef0a-f006-40b3-a8da-d5bf037bd527",
        "colab": {
          "base_uri": "https://localhost:8080/"
        }
      },
      "source": [
        "from google.colab import drive # import drive from google colab\n",
        "\n",
        "ROOT = \"/content/drive\"     # default location for the drive\n",
        "print(ROOT)                 # print content of ROOT (Optional)\n",
        "\n",
        "drive.mount(ROOT)           # we mount the google drive at /content/drive"
      ],
      "execution_count": 2,
      "outputs": [
        {
          "output_type": "stream",
          "text": [
            "/content/drive\n",
            "Mounted at /content/drive\n"
          ],
          "name": "stdout"
        }
      ]
    },
    {
      "cell_type": "code",
      "metadata": {
        "id": "7_qSVGUt4ASA",
        "outputId": "b13d29f1-9d5a-4a5d-90b9-ad206230963d",
        "colab": {
          "base_uri": "https://localhost:8080/"
        }
      },
      "source": [
        "%cd  'drive/My Drive/Colab Notebooks/data'"
      ],
      "execution_count": 3,
      "outputs": [
        {
          "output_type": "stream",
          "text": [
            "/content/drive/My Drive/Colab Notebooks/data\n"
          ],
          "name": "stdout"
        }
      ]
    },
    {
      "cell_type": "code",
      "metadata": {
        "id": "rnDT50z377Nk",
        "outputId": "666a58a1-6fef-4cd5-cffa-c0431ee541b7",
        "colab": {
          "base_uri": "https://localhost:8080/"
        }
      },
      "source": [
        "%ls"
      ],
      "execution_count": 4,
      "outputs": [
        {
          "output_type": "stream",
          "text": [
            "corpus_fallosmetdat.json  tbdoctrina.json  tbmetdat.json\n",
            "corpus_textosfallos.json  tbfallos.json\n"
          ],
          "name": "stdout"
        }
      ]
    },
    {
      "cell_type": "markdown",
      "metadata": {
        "id": "yFTywqxn3_mA"
      },
      "source": [
        "Lectura de tablas de datos primarios"
      ]
    },
    {
      "cell_type": "code",
      "metadata": {
        "id": "LAA71S5CxjmW"
      },
      "source": [
        "with open('tbfallos.json', 'r') as myfile:\n",
        "    data1=myfile.read()\n",
        "# parse file\n",
        "tbfallos = json.loads(data1)\n",
        "tbfallos = pd.DataFrame.from_dict(tbfallos)"
      ],
      "execution_count": 5,
      "outputs": []
    },
    {
      "cell_type": "markdown",
      "metadata": {
        "id": "Zik8UJ2cDrxh"
      },
      "source": [
        "Instalar librería STANZA (Stanford NLP)"
      ]
    },
    {
      "cell_type": "code",
      "metadata": {
        "id": "6KYLU44dfhNd"
      },
      "source": [
        "! pip install stanza"
      ],
      "execution_count": null,
      "outputs": []
    },
    {
      "cell_type": "code",
      "metadata": {
        "id": "8oS1AodfhBK_",
        "outputId": "ce55fe0f-9103-4a3b-8bf8-b6107a53b7b0",
        "colab": {
          "base_uri": "https://localhost:8080/"
        }
      },
      "source": [
        "import stanza\n",
        "stanza.download('es') # download spanish model"
      ],
      "execution_count": 7,
      "outputs": [
        {
          "output_type": "stream",
          "text": [
            "Downloading https://raw.githubusercontent.com/stanfordnlp/stanza-resources/master/resources_1.1.0.json: 122kB [00:00, 34.6MB/s]                    \n",
            "2020-11-02 20:17:37 INFO: Downloading default packages for language: es (Spanish)...\n",
            "Downloading http://nlp.stanford.edu/software/stanza/1.1.0/es/default.zip: 100%|██████████| 583M/583M [09:54<00:00, 980kB/s] \n",
            "2020-11-02 20:27:40 INFO: Finished downloading models and saved to /root/stanza_resources.\n"
          ],
          "name": "stderr"
        }
      ]
    },
    {
      "cell_type": "markdown",
      "metadata": {
        "id": "8RyZsHEz5taT"
      },
      "source": [
        "# Prueba de Tokenizacion de un sumario"
      ]
    },
    {
      "cell_type": "code",
      "metadata": {
        "id": "qqUZEfmU7s1-"
      },
      "source": [
        "fallos = tbfallos.loc[1:100, ['textos_fallo']] # selecting row and cols"
      ],
      "execution_count": 8,
      "outputs": []
    },
    {
      "cell_type": "code",
      "metadata": {
        "id": "t0Sp5016Giw4"
      },
      "source": [
        "fallos['textos_fallo'] = fallos.textos_fallo.str.replace(\"#\",\"\\n\\n\") # or fallos.textos_fallo.replace(\"#\",\"\\n\\n\", regex=True) "
      ],
      "execution_count": 9,
      "outputs": []
    },
    {
      "cell_type": "code",
      "metadata": {
        "id": "T8oLj_6gGizw"
      },
      "source": [
        "corpus = fallos.textos_fallo.to_list()"
      ],
      "execution_count": 10,
      "outputs": []
    },
    {
      "cell_type": "code",
      "metadata": {
        "id": "46NiFdzKKHz1"
      },
      "source": [
        "corpus[1]"
      ],
      "execution_count": null,
      "outputs": []
    },
    {
      "cell_type": "code",
      "metadata": {
        "id": "Yloy0SYXKH2l",
        "outputId": "6baf2686-3c39-4377-94fd-814328a71f84",
        "colab": {
          "base_uri": "https://localhost:8080/"
        }
      },
      "source": [
        "len(corpus)"
      ],
      "execution_count": 24,
      "outputs": [
        {
          "output_type": "execute_result",
          "data": {
            "text/plain": [
              "100"
            ]
          },
          "metadata": {
            "tags": []
          },
          "execution_count": 24
        }
      ]
    },
    {
      "cell_type": "code",
      "metadata": {
        "id": "jgvztxg00peS",
        "outputId": "fe162b48-73cf-489e-9740-b0744878d044",
        "colab": {
          "base_uri": "https://localhost:8080/"
        }
      },
      "source": [
        "type(corpus)"
      ],
      "execution_count": 23,
      "outputs": [
        {
          "output_type": "execute_result",
          "data": {
            "text/plain": [
              "list"
            ]
          },
          "metadata": {
            "tags": []
          },
          "execution_count": 23
        }
      ]
    },
    {
      "cell_type": "code",
      "metadata": {
        "id": "LqIsysDBTHrI",
        "outputId": "a1fcc087-9598-4208-a0a6-7bf9a2ab66b4",
        "colab": {
          "base_uri": "https://localhost:8080/"
        }
      },
      "source": [
        "nlp = stanza.Pipeline(lang='es', processors='tokenize,mwt,pos,lemma', tokenize_no_ssplit=True)"
      ],
      "execution_count": 13,
      "outputs": [
        {
          "output_type": "stream",
          "text": [
            "2020-11-02 20:27:59 INFO: Loading these models for language: es (Spanish):\n",
            "=======================\n",
            "| Processor | Package |\n",
            "-----------------------\n",
            "| tokenize  | ancora  |\n",
            "| mwt       | ancora  |\n",
            "| pos       | ancora  |\n",
            "| lemma     | ancora  |\n",
            "=======================\n",
            "\n",
            "2020-11-02 20:27:59 INFO: Use device: gpu\n",
            "2020-11-02 20:27:59 INFO: Loading: tokenize\n",
            "2020-11-02 20:28:08 INFO: Loading: mwt\n",
            "2020-11-02 20:28:08 INFO: Loading: pos\n",
            "2020-11-02 20:28:09 INFO: Loading: lemma\n",
            "2020-11-02 20:28:09 INFO: Done loading processors!\n"
          ],
          "name": "stderr"
        }
      ]
    },
    {
      "cell_type": "markdown",
      "metadata": {
        "id": "7Zc3mZIzYe96"
      },
      "source": [
        "Pruebas para procesamiento en lotes para extracción de lemas y otros datos"
      ]
    },
    {
      "cell_type": "code",
      "metadata": {
        "id": "5DeHXW1AUe1m"
      },
      "source": [
        "def print_word_info(word):\n",
        "    print(f\"Text:\\t{word.text}\")\n",
        "    print(f\"Lemma: \\t{word.lemma}\")\n",
        "    print(f\"UPOS: \\t{word.upos}\")\n",
        "    print(f\"XPOS: \\t{word.xpos}\")\n",
        "\n",
        "def word_info_df(doc):\n",
        "    \"\"\"\n",
        "    - Parameters: doc (a Stanza Document object)\n",
        "    - Returns: A Pandas DataFrame object with one row for each token in\n",
        "      doc, and columns for text, lemma, upos, and xpos.\n",
        "    \"\"\"\n",
        "    rows = []\n",
        "    for sentence in doc.sentences:\n",
        "        for word in sentence.words:\n",
        "            row = {\n",
        "                \"text\": word.text,\n",
        "                \"lemma\": word.lemma,\n",
        "                \"upos\": word.upos,\n",
        "                \"xpos\": word.xpos,\n",
        "            }\n",
        "            rows.append(row)\n",
        "    return pd.DataFrame(rows)\n",
        "\n"
      ],
      "execution_count": 14,
      "outputs": []
    },
    {
      "cell_type": "code",
      "metadata": {
        "id": "HFtiAUz9Skzg"
      },
      "source": [
        "df = pd.DataFrame()\n",
        "counter = 0\n",
        "\n",
        "for text in corpus:\n",
        "  counter = counter + 1 \n",
        "  temp = nlp(text)\n",
        "  temp = word_info_df(temp)\n",
        "  temp[\"fallo_nro\"] = counter\n",
        "  df = pd.concat([df, temp], axis=0)  "
      ],
      "execution_count": 15,
      "outputs": []
    },
    {
      "cell_type": "code",
      "metadata": {
        "id": "jHJlggnxSk-V",
        "outputId": "cfb631ac-aa3e-4dd7-ca79-4ea89e9e0b39",
        "colab": {
          "base_uri": "https://localhost:8080/",
          "height": 406
        }
      },
      "source": [
        "df"
      ],
      "execution_count": 16,
      "outputs": [
        {
          "output_type": "execute_result",
          "data": {
            "text/html": [
              "<div>\n",
              "<style scoped>\n",
              "    .dataframe tbody tr th:only-of-type {\n",
              "        vertical-align: middle;\n",
              "    }\n",
              "\n",
              "    .dataframe tbody tr th {\n",
              "        vertical-align: top;\n",
              "    }\n",
              "\n",
              "    .dataframe thead th {\n",
              "        text-align: right;\n",
              "    }\n",
              "</style>\n",
              "<table border=\"1\" class=\"dataframe\">\n",
              "  <thead>\n",
              "    <tr style=\"text-align: right;\">\n",
              "      <th></th>\n",
              "      <th>text</th>\n",
              "      <th>lemma</th>\n",
              "      <th>upos</th>\n",
              "      <th>xpos</th>\n",
              "      <th>fallo_nro</th>\n",
              "    </tr>\n",
              "  </thead>\n",
              "  <tbody>\n",
              "    <tr>\n",
              "      <th>0</th>\n",
              "      <td>TEXTO</td>\n",
              "      <td>texto</td>\n",
              "      <td>NOUN</td>\n",
              "      <td>NOUN</td>\n",
              "      <td>1</td>\n",
              "    </tr>\n",
              "    <tr>\n",
              "      <th>1</th>\n",
              "      <td>COMPLETO</td>\n",
              "      <td>completo</td>\n",
              "      <td>ADJ</td>\n",
              "      <td>ADJ</td>\n",
              "      <td>1</td>\n",
              "    </tr>\n",
              "    <tr>\n",
              "      <th>2</th>\n",
              "      <td>A</td>\n",
              "      <td>a</td>\n",
              "      <td>ADP</td>\n",
              "      <td>ADP</td>\n",
              "      <td>1</td>\n",
              "    </tr>\n",
              "    <tr>\n",
              "      <th>3</th>\n",
              "      <td>C</td>\n",
              "      <td>c</td>\n",
              "      <td>NOUN</td>\n",
              "      <td>NOUN</td>\n",
              "      <td>1</td>\n",
              "    </tr>\n",
              "    <tr>\n",
              "      <th>4</th>\n",
              "      <td>U</td>\n",
              "      <td>U</td>\n",
              "      <td>CCONJ</td>\n",
              "      <td>CCONJ</td>\n",
              "      <td>1</td>\n",
              "    </tr>\n",
              "    <tr>\n",
              "      <th>...</th>\n",
              "      <td>...</td>\n",
              "      <td>...</td>\n",
              "      <td>...</td>\n",
              "      <td>...</td>\n",
              "      <td>...</td>\n",
              "    </tr>\n",
              "    <tr>\n",
              "      <th>6905</th>\n",
              "      <td>SORIA</td>\n",
              "      <td>SORIA</td>\n",
              "      <td>PROPN</td>\n",
              "      <td>PROPN</td>\n",
              "      <td>100</td>\n",
              "    </tr>\n",
              "    <tr>\n",
              "      <th>6906</th>\n",
              "      <td>JUAN</td>\n",
              "      <td>JUAN</td>\n",
              "      <td>PROPN</td>\n",
              "      <td>PROPN</td>\n",
              "      <td>100</td>\n",
              "    </tr>\n",
              "    <tr>\n",
              "      <th>6907</th>\n",
              "      <td>JOSE</td>\n",
              "      <td>JOSE</td>\n",
              "      <td>PROPN</td>\n",
              "      <td>PROPN</td>\n",
              "      <td>100</td>\n",
              "    </tr>\n",
              "    <tr>\n",
              "      <th>6908</th>\n",
              "      <td>MARTIARENA</td>\n",
              "      <td>MARTIARENA</td>\n",
              "      <td>PROPN</td>\n",
              "      <td>PROPN</td>\n",
              "      <td>100</td>\n",
              "    </tr>\n",
              "    <tr>\n",
              "      <th>6909</th>\n",
              "      <td>Secretario</td>\n",
              "      <td>Secretario</td>\n",
              "      <td>NOUN</td>\n",
              "      <td>NOUN</td>\n",
              "      <td>100</td>\n",
              "    </tr>\n",
              "  </tbody>\n",
              "</table>\n",
              "<p>475042 rows × 5 columns</p>\n",
              "</div>"
            ],
            "text/plain": [
              "            text       lemma   upos   xpos  fallo_nro\n",
              "0          TEXTO       texto   NOUN   NOUN          1\n",
              "1       COMPLETO    completo    ADJ    ADJ          1\n",
              "2              A           a    ADP    ADP          1\n",
              "3              C           c   NOUN   NOUN          1\n",
              "4              U           U  CCONJ  CCONJ          1\n",
              "...          ...         ...    ...    ...        ...\n",
              "6905       SORIA       SORIA  PROPN  PROPN        100\n",
              "6906        JUAN        JUAN  PROPN  PROPN        100\n",
              "6907        JOSE        JOSE  PROPN  PROPN        100\n",
              "6908  MARTIARENA  MARTIARENA  PROPN  PROPN        100\n",
              "6909  Secretario  Secretario   NOUN   NOUN        100\n",
              "\n",
              "[475042 rows x 5 columns]"
            ]
          },
          "metadata": {
            "tags": []
          },
          "execution_count": 16
        }
      ]
    },
    {
      "cell_type": "code",
      "metadata": {
        "id": "hstMsJGGSlBV",
        "outputId": "d0cd2d6f-c5d8-4b64-b3bc-d6e2a944aeaf",
        "colab": {
          "base_uri": "https://localhost:8080/"
        }
      },
      "source": [
        "df.lemma.unique()"
      ],
      "execution_count": 17,
      "outputs": [
        {
          "output_type": "execute_result",
          "data": {
            "text/plain": [
              "array(['texto', 'completo', 'a', ..., 'reembolsar', 'invalidado',\n",
              "       '118176'], dtype=object)"
            ]
          },
          "metadata": {
            "tags": []
          },
          "execution_count": 17
        }
      ]
    },
    {
      "cell_type": "code",
      "metadata": {
        "id": "_zwtgp4aSlD9"
      },
      "source": [
        "def proc_lemas(lista_raw_docs):\n",
        "  \"\"\"\n",
        "  - Parameters: list of raw documents, sep: newline(n)newline(n)\n",
        "  - Returns: a pd df columns for text, lemma, upos, and xpos.\n",
        "  \"\"\"\n",
        "  df = pd.DataFrame()\n",
        "  counter = 0\n",
        "  nlp = stanza.Pipeline(lang='es', processors='tokenize,mwt,pos,lemma', tokenize_no_ssplit=True)\n",
        "\n",
        "  for text in corpus:\n",
        "    counter = counter + 1 \n",
        "    temp = nlp(text)\n",
        "    temp = word_info_df(temp)\n",
        "    temp[\"fallo_nro\"] = counter\n",
        "    df = pd.concat([df, temp], axis=0)  \n",
        "  return df"
      ],
      "execution_count": 30,
      "outputs": []
    },
    {
      "cell_type": "code",
      "metadata": {
        "id": "ds9RXAQpO-Xi"
      },
      "source": [
        "df_lemas = proc_lemas(corpus)"
      ],
      "execution_count": null,
      "outputs": []
    },
    {
      "cell_type": "code",
      "metadata": {
        "id": "iFv0kqv5O-aZ",
        "outputId": "67b5c0f5-11c7-4eef-b110-fc125a4f841a",
        "colab": {
          "base_uri": "https://localhost:8080/"
        }
      },
      "source": [
        "df_lemas.lemma.unique()"
      ],
      "execution_count": 33,
      "outputs": [
        {
          "output_type": "execute_result",
          "data": {
            "text/plain": [
              "array(['texto', 'completo', 'a', ..., 'reembolsar', 'invalidado',\n",
              "       '118176'], dtype=object)"
            ]
          },
          "metadata": {
            "tags": []
          },
          "execution_count": 33
        }
      ]
    },
    {
      "cell_type": "code",
      "metadata": {
        "id": "6ojP-bpb6bp9"
      },
      "source": [
        ""
      ],
      "execution_count": 34,
      "outputs": []
    }
  ]
}