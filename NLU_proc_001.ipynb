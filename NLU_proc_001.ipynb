{
  "nbformat": 4,
  "nbformat_minor": 0,
  "metadata": {
    "colab": {
      "name": "NLU_proc_001.ipynb",
      "provenance": [],
      "authorship_tag": "ABX9TyPq5noMrrl01oUVzrx7Y6u9",
      "include_colab_link": true
    },
    "kernelspec": {
      "name": "python3",
      "display_name": "Python 3"
    },
    "accelerator": "GPU"
  },
  "cells": [
    {
      "cell_type": "markdown",
      "metadata": {
        "id": "view-in-github",
        "colab_type": "text"
      },
      "source": [
        "<a href=\"https://colab.research.google.com/github/castillosebastian/NLU_legal_domain/blob/master/NLU_proc_001.ipynb\" target=\"_parent\"><img src=\"https://colab.research.google.com/assets/colab-badge.svg\" alt=\"Open In Colab\"/></a>"
      ]
    },
    {
      "cell_type": "markdown",
      "metadata": {
        "id": "05QKhvGiCTEd"
      },
      "source": [
        "# Script 1: procesamiento NLU"
      ]
    },
    {
      "cell_type": "markdown",
      "metadata": {
        "id": "JaaQKkhmJqc1"
      },
      "source": [
        "##  Entorno"
      ]
    },
    {
      "cell_type": "code",
      "metadata": {
        "id": "u6lhCPvQ5kxw"
      },
      "source": [
        "# Libraries, tools and thanks \n",
        "import bs4\n",
        "import nltk\n",
        "import numpy\n",
        "import pandas as pd\n",
        "import io\n",
        "import requests\n",
        "from google.colab import drive\n",
        "import numpy as np \n",
        "import json\n",
        "import re"
      ],
      "execution_count": 3,
      "outputs": []
    },
    {
      "cell_type": "code",
      "metadata": {
        "id": "6MUuIZYyKxsk"
      },
      "source": [
        "# procesar con GPU"
      ],
      "execution_count": null,
      "outputs": []
    },
    {
      "cell_type": "code",
      "metadata": {
        "id": "jJAxQeOi3eRz",
        "outputId": "5f92ff8b-4db1-4770-ad36-261c984bd69f",
        "colab": {
          "base_uri": "https://localhost:8080/"
        }
      },
      "source": [
        "from google.colab import drive # import drive from google colab\n",
        "\n",
        "ROOT = \"/content/drive\"     # default location for the drive\n",
        "print(ROOT)                 # print content of ROOT (Optional)\n",
        "\n",
        "drive.mount(ROOT)           # we mount the google drive at /content/drive"
      ],
      "execution_count": 4,
      "outputs": [
        {
          "output_type": "stream",
          "text": [
            "/content/drive\n",
            "Mounted at /content/drive\n"
          ],
          "name": "stdout"
        }
      ]
    },
    {
      "cell_type": "code",
      "metadata": {
        "id": "7_qSVGUt4ASA",
        "outputId": "8776b744-8900-427f-f84d-981ab5fdb864",
        "colab": {
          "base_uri": "https://localhost:8080/"
        }
      },
      "source": [
        "%cd  'drive/My Drive/Colab Notebooks/data'"
      ],
      "execution_count": 5,
      "outputs": [
        {
          "output_type": "stream",
          "text": [
            "/content/drive/My Drive/Colab Notebooks/data\n"
          ],
          "name": "stdout"
        }
      ]
    },
    {
      "cell_type": "code",
      "metadata": {
        "id": "rnDT50z377Nk",
        "outputId": "d1698c6b-f124-4e53-ee49-a9ebc07bb7c2",
        "colab": {
          "base_uri": "https://localhost:8080/"
        }
      },
      "source": [
        "%ls"
      ],
      "execution_count": 6,
      "outputs": [
        {
          "output_type": "stream",
          "text": [
            "corpus_fallosmetdat.json  tbdoctrina.json  tbmetdat.json\n",
            "corpus_textosfallos.json  tbfallos.json\n"
          ],
          "name": "stdout"
        }
      ]
    },
    {
      "cell_type": "markdown",
      "metadata": {
        "id": "yFTywqxn3_mA"
      },
      "source": [
        "Lectura de tablas de datos primarios"
      ]
    },
    {
      "cell_type": "code",
      "metadata": {
        "id": "LAA71S5CxjmW"
      },
      "source": [
        "with open('tbfallos.json', 'r') as myfile:\n",
        "    data1=myfile.read()\n",
        "# parse file\n",
        "tbfallos = json.loads(data1)\n",
        "tbfallos = pd.DataFrame.from_dict(tbfallos)"
      ],
      "execution_count": 7,
      "outputs": []
    },
    {
      "cell_type": "markdown",
      "metadata": {
        "id": "Zik8UJ2cDrxh"
      },
      "source": [
        "Instalar librería STANZA (Stanford NLP)"
      ]
    },
    {
      "cell_type": "code",
      "metadata": {
        "id": "6KYLU44dfhNd"
      },
      "source": [
        "! pip install stanza"
      ],
      "execution_count": null,
      "outputs": []
    },
    {
      "cell_type": "code",
      "metadata": {
        "id": "8oS1AodfhBK_"
      },
      "source": [
        "import stanza\n",
        "stanza.download('es') # download spanish model"
      ],
      "execution_count": null,
      "outputs": []
    },
    {
      "cell_type": "markdown",
      "metadata": {
        "id": "8RyZsHEz5taT"
      },
      "source": [
        "# Prueba de Tokenizacion de un sumario"
      ]
    },
    {
      "cell_type": "code",
      "metadata": {
        "id": "qqUZEfmU7s1-"
      },
      "source": [
        "fallos = tbfallos.loc[1:100, ['textos_fallo']] # selecting row and cols"
      ],
      "execution_count": 96,
      "outputs": []
    },
    {
      "cell_type": "code",
      "metadata": {
        "id": "t0Sp5016Giw4"
      },
      "source": [
        "fallos['textos_fallo'] = fallos.textos_fallo.str.replace(\"#\",\"\\n\\n\") # or fallos.textos_fallo.replace(\"#\",\"\\n\\n\", regex=True) "
      ],
      "execution_count": 97,
      "outputs": []
    },
    {
      "cell_type": "code",
      "metadata": {
        "id": "T8oLj_6gGizw"
      },
      "source": [
        "corpus = fallos.textos_fallo.to_list()"
      ],
      "execution_count": 98,
      "outputs": []
    },
    {
      "cell_type": "code",
      "metadata": {
        "id": "46NiFdzKKHz1",
        "outputId": "8e2937e7-c9c9-4e42-c47e-4d24edacfb39",
        "colab": {
          "base_uri": "https://localhost:8080/",
          "height": 118
        }
      },
      "source": [
        "corpus[1]"
      ],
      "execution_count": 99,
      "outputs": [
        {
          "output_type": "execute_result",
          "data": {
            "application/vnd.google.colaboratory.intrinsic+json": {
              "type": "string"
            },
            "text/plain": [
              "'\\n\\nTEXTO COMPLETO\\n\\n\"VOSS SUSANA BEATRIZ C/ VILLARROEL MIRIAM ISABEL S/ REVISION DE COSA JUZGADA\"\\n\\nLa Plata, 14 de Agosto de 2019.\\n\\nAUTOS Y VISTOS:\\n\\nLos señores Jueces doctores Torres, Soria y Genoud y la señora Jueza doctora Kogan dijeron:\\n\\nI. La Sala II de la Cámara Primera de Apelación en lo Civil y Comercial del Departamento Judicial de San Isidro confirmó la decisión que, a su tiempo, dispusiera la intervención del defensor oficial, en atención a la falta de presentación de los herederos de Susana Beatriz Voss (v. providencia simple electrónica de fecha 5-X-2018 y fs. 260 y vta.).\\n\\nII. Frente a ello, el defensor oficial interpone recurso extraordinario de inaplicabilidad de ley por el que aduce infracción a los arts. 33 inc. 2 de la ley 14.452; 375 inc. \"d\" del Código Civil y Comercial; 43, 53 inc. 5, 59, 60 y 341 del Código Procesal Civil y Comercial y 14, 16, 17, 18, 19, 28 y concs. de la Constitución nacional. Asimismo, aduce vulneración de doctrina legal que cita (v. fs. 262/273 vta.).\\n\\nIII. Oído lo aconsejado por el Procurador General a fs. 277/280 vta., se anticipa que la impugnación debe prosperar, en virtud de lo resuelto por esta Corte en casos sustancialmente análogos (arts. 31 bis, ley 5.827, texto según ley 13.812 y 289, CPCC).\\n\\nHa sostenido este Superior Tribunal que el art. 53 inc. 5 debe ser interpretado de consuno con lo preceptuado por el inc. 2 del art. 33 de la Ley Orgánica del Ministerio Público 14.442, que circunscribe esta particular intervención de los defensores oficiales a la representación de las personas ausentes citadas a juicio (en el sentido de demandadas), en observancia de las garantías constitucionales de la defensa en juicio y el debido proceso (art. 18, Const. nac.), sin que le quepa suplir el interés del promotor de la acción o de sus herederos (conf. doctr. causas C. 120.248, \"Martinelli\", sent. de 29-XI-2017 y C. 120.875, \"Morales\", sent. de 29-XI-2017).\\n\\nEn el caso, tratándose de un proceso incoado mediante una acción civil de derecho privado (en esencia de contenido patrimonial, en tanto persigue dejar sin efecto una sentencia recaída en un proceso por cobro de alquileres; v. fs. 3/6), la designación de defensor oficial para la representación o patrocinio de los eventuales herederos \"ausentes\" de la parte actora, implica transferir al funcionario (defensor oficial) un impropio ejercicio directo de la acción entablada, en el marco de un proceso gobernado -en forma preeminente- por el principio \"dispositivo\" (conf. doctr. arts. 14, 17, 18, 19 y concs., Const. nac.). Asimismo, desnaturaliza su función propia, transfiriéndole el ejercicio de la vocación hereditaria de los presuntos herederos, respecto de los cuales se desconoce su voluntad o interés (conf. arts. 1881 inc. 16 del Cód. Civil y art. 375 inc. \"d\" del Cód. Civ. y Com. y causa C. 120.248, cit.).\\n\\nLo brevemente expuesto, basta para acoger la vía intentada.\\n\\nPor ello, la Suprema Corte de Justicia\\n\\nRESUELVE:\\n\\nAtento a que el planteo introducido en el recurso extraordinario de inaplicabilidad de ley deducido ha sido admitido en otros casos sustancialmente análogos, se lo declara procedente, revocándose el pronunciamiento de fs. 260/261. Los autos deberán ser remitidos a la instancia de origen para la prosecución del trámite según su estado (arts. 31 bis, ley 5.827, texto según ley 13.812 y 289, CPCC).\\n\\nCostas por su orden (arts. 68, segundo párrafo, 69, 274, 279 y 289, CPCC).\\n\\nRegístrese, notifíquese y devuélvase.\\n\\nDANIEL FERNANDO SORIA\\n\\nLUIS ESTEBAN GENOUD\\xa0\\xa0\\xa0\\xa0\\xa0\\xa0\\xa0\\xa0\\xa0\\xa0\\xa0\\xa0\\xa0\\xa0\\xa0 HILDA KOGAN\\n\\nSERGIO GABRIEL TORRES\\n\\nCARLOS ENRIQUE CAMPS\\n\\nSecretario\\n\\nRegistrada bajo el n°'"
            ]
          },
          "metadata": {
            "tags": []
          },
          "execution_count": 99
        }
      ]
    },
    {
      "cell_type": "code",
      "metadata": {
        "id": "Yloy0SYXKH2l",
        "outputId": "4948ccab-ea8b-43bb-d4c5-99f1135d41db",
        "colab": {
          "base_uri": "https://localhost:8080/"
        }
      },
      "source": [
        "len(corpus)"
      ],
      "execution_count": 100,
      "outputs": [
        {
          "output_type": "execute_result",
          "data": {
            "text/plain": [
              "100"
            ]
          },
          "metadata": {
            "tags": []
          },
          "execution_count": 100
        }
      ]
    },
    {
      "cell_type": "code",
      "metadata": {
        "id": "LqIsysDBTHrI"
      },
      "source": [
        "nlp = stanza.Pipeline(lang='es', processors='tokenize,mwt,pos,lemma', tokenize_no_ssplit=True)"
      ],
      "execution_count": null,
      "outputs": []
    },
    {
      "cell_type": "markdown",
      "metadata": {
        "id": "7Zc3mZIzYe96"
      },
      "source": [
        "Pruebas para procesamiento en lotes para extracción de lemas y otros datos"
      ]
    },
    {
      "cell_type": "code",
      "metadata": {
        "id": "5DeHXW1AUe1m"
      },
      "source": [
        "def print_word_info(word):\n",
        "    print(f\"Text:\\t{word.text}\")\n",
        "    print(f\"Lemma: \\t{word.lemma}\")\n",
        "    print(f\"UPOS: \\t{word.upos}\")\n",
        "    print(f\"XPOS: \\t{word.xpos}\")\n",
        "\n",
        "def word_info_df(doc):\n",
        "    \"\"\"\n",
        "    - Parameters: doc (a Stanza Document object)\n",
        "    - Returns: A Pandas DataFrame object with one row for each token in\n",
        "      doc, and columns for text, lemma, upos, and xpos.\n",
        "    \"\"\"\n",
        "    rows = []\n",
        "    for sentence in doc.sentences:\n",
        "        for word in sentence.words:\n",
        "            row = {\n",
        "                \"text\": word.text,\n",
        "                \"lemma\": word.lemma,\n",
        "                \"upos\": word.upos,\n",
        "                \"xpos\": word.xpos,\n",
        "            }\n",
        "            rows.append(row)\n",
        "    return pd.DataFrame(rows)\n",
        "\n"
      ],
      "execution_count": 102,
      "outputs": []
    },
    {
      "cell_type": "code",
      "metadata": {
        "id": "HFtiAUz9Skzg"
      },
      "source": [
        "df = pd.DataFrame()\n",
        "counter = 0\n",
        "\n",
        "for text in corpus:\n",
        "  counter = counter + 1 \n",
        "  temp = nlp(text)\n",
        "  temp = word_info_df(temp)\n",
        "  temp[\"fallo_nro\"] = counter\n",
        "  df = pd.concat([df, temp], axis=0)  "
      ],
      "execution_count": 103,
      "outputs": []
    },
    {
      "cell_type": "code",
      "metadata": {
        "id": "jHJlggnxSk-V",
        "outputId": "08566afa-a077-459e-ab5c-83aa6098b0f4",
        "colab": {
          "base_uri": "https://localhost:8080/",
          "height": 406
        }
      },
      "source": [
        "df"
      ],
      "execution_count": 104,
      "outputs": [
        {
          "output_type": "execute_result",
          "data": {
            "text/html": [
              "<div>\n",
              "<style scoped>\n",
              "    .dataframe tbody tr th:only-of-type {\n",
              "        vertical-align: middle;\n",
              "    }\n",
              "\n",
              "    .dataframe tbody tr th {\n",
              "        vertical-align: top;\n",
              "    }\n",
              "\n",
              "    .dataframe thead th {\n",
              "        text-align: right;\n",
              "    }\n",
              "</style>\n",
              "<table border=\"1\" class=\"dataframe\">\n",
              "  <thead>\n",
              "    <tr style=\"text-align: right;\">\n",
              "      <th></th>\n",
              "      <th>text</th>\n",
              "      <th>lemma</th>\n",
              "      <th>upos</th>\n",
              "      <th>xpos</th>\n",
              "      <th>fallo_nro</th>\n",
              "    </tr>\n",
              "  </thead>\n",
              "  <tbody>\n",
              "    <tr>\n",
              "      <th>0</th>\n",
              "      <td>TEXTO</td>\n",
              "      <td>texto</td>\n",
              "      <td>NOUN</td>\n",
              "      <td>NOUN</td>\n",
              "      <td>1</td>\n",
              "    </tr>\n",
              "    <tr>\n",
              "      <th>1</th>\n",
              "      <td>COMPLETO</td>\n",
              "      <td>completo</td>\n",
              "      <td>ADJ</td>\n",
              "      <td>ADJ</td>\n",
              "      <td>1</td>\n",
              "    </tr>\n",
              "    <tr>\n",
              "      <th>2</th>\n",
              "      <td>A</td>\n",
              "      <td>a</td>\n",
              "      <td>ADP</td>\n",
              "      <td>ADP</td>\n",
              "      <td>1</td>\n",
              "    </tr>\n",
              "    <tr>\n",
              "      <th>3</th>\n",
              "      <td>C</td>\n",
              "      <td>c</td>\n",
              "      <td>NOUN</td>\n",
              "      <td>NOUN</td>\n",
              "      <td>1</td>\n",
              "    </tr>\n",
              "    <tr>\n",
              "      <th>4</th>\n",
              "      <td>U</td>\n",
              "      <td>U</td>\n",
              "      <td>CCONJ</td>\n",
              "      <td>CCONJ</td>\n",
              "      <td>1</td>\n",
              "    </tr>\n",
              "    <tr>\n",
              "      <th>...</th>\n",
              "      <td>...</td>\n",
              "      <td>...</td>\n",
              "      <td>...</td>\n",
              "      <td>...</td>\n",
              "      <td>...</td>\n",
              "    </tr>\n",
              "    <tr>\n",
              "      <th>6905</th>\n",
              "      <td>SORIA</td>\n",
              "      <td>SORIA</td>\n",
              "      <td>PROPN</td>\n",
              "      <td>PROPN</td>\n",
              "      <td>100</td>\n",
              "    </tr>\n",
              "    <tr>\n",
              "      <th>6906</th>\n",
              "      <td>JUAN</td>\n",
              "      <td>JUAN</td>\n",
              "      <td>PROPN</td>\n",
              "      <td>PROPN</td>\n",
              "      <td>100</td>\n",
              "    </tr>\n",
              "    <tr>\n",
              "      <th>6907</th>\n",
              "      <td>JOSE</td>\n",
              "      <td>JOSE</td>\n",
              "      <td>PROPN</td>\n",
              "      <td>PROPN</td>\n",
              "      <td>100</td>\n",
              "    </tr>\n",
              "    <tr>\n",
              "      <th>6908</th>\n",
              "      <td>MARTIARENA</td>\n",
              "      <td>MARTIARENA</td>\n",
              "      <td>PROPN</td>\n",
              "      <td>PROPN</td>\n",
              "      <td>100</td>\n",
              "    </tr>\n",
              "    <tr>\n",
              "      <th>6909</th>\n",
              "      <td>Secretario</td>\n",
              "      <td>Secretario</td>\n",
              "      <td>NOUN</td>\n",
              "      <td>NOUN</td>\n",
              "      <td>100</td>\n",
              "    </tr>\n",
              "  </tbody>\n",
              "</table>\n",
              "<p>475042 rows × 5 columns</p>\n",
              "</div>"
            ],
            "text/plain": [
              "            text       lemma   upos   xpos  fallo_nro\n",
              "0          TEXTO       texto   NOUN   NOUN          1\n",
              "1       COMPLETO    completo    ADJ    ADJ          1\n",
              "2              A           a    ADP    ADP          1\n",
              "3              C           c   NOUN   NOUN          1\n",
              "4              U           U  CCONJ  CCONJ          1\n",
              "...          ...         ...    ...    ...        ...\n",
              "6905       SORIA       SORIA  PROPN  PROPN        100\n",
              "6906        JUAN        JUAN  PROPN  PROPN        100\n",
              "6907        JOSE        JOSE  PROPN  PROPN        100\n",
              "6908  MARTIARENA  MARTIARENA  PROPN  PROPN        100\n",
              "6909  Secretario  Secretario   NOUN   NOUN        100\n",
              "\n",
              "[475042 rows x 5 columns]"
            ]
          },
          "metadata": {
            "tags": []
          },
          "execution_count": 104
        }
      ]
    },
    {
      "cell_type": "code",
      "metadata": {
        "id": "hstMsJGGSlBV",
        "outputId": "a4701cba-72f6-490b-bbce-24f70202f528",
        "colab": {
          "base_uri": "https://localhost:8080/"
        }
      },
      "source": [
        "df.lemma.unique()"
      ],
      "execution_count": 105,
      "outputs": [
        {
          "output_type": "execute_result",
          "data": {
            "text/plain": [
              "array(['texto', 'completo', 'a', ..., 'reembolsar', 'invalidado',\n",
              "       '118176'], dtype=object)"
            ]
          },
          "metadata": {
            "tags": []
          },
          "execution_count": 105
        }
      ]
    },
    {
      "cell_type": "code",
      "metadata": {
        "id": "_zwtgp4aSlD9"
      },
      "source": [
        ""
      ],
      "execution_count": null,
      "outputs": []
    },
    {
      "cell_type": "code",
      "metadata": {
        "id": "ds9RXAQpO-Xi"
      },
      "source": [
        ""
      ],
      "execution_count": null,
      "outputs": []
    },
    {
      "cell_type": "code",
      "metadata": {
        "id": "iFv0kqv5O-aZ"
      },
      "source": [
        ""
      ],
      "execution_count": null,
      "outputs": []
    }
  ]
}