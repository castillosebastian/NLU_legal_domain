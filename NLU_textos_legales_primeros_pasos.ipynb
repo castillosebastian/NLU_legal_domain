{
  "nbformat": 4,
  "nbformat_minor": 0,
  "metadata": {
    "colab": {
      "name": "NLU textos legales: primeros pasos.ipynb",
      "provenance": [],
      "authorship_tag": "ABX9TyPnWu4QP7LJO4QDX8+3JFh4",
      "include_colab_link": true
    },
    "kernelspec": {
      "name": "python3",
      "display_name": "Python 3"
    }
  },
  "cells": [
    {
      "cell_type": "markdown",
      "metadata": {
        "id": "view-in-github",
        "colab_type": "text"
      },
      "source": [
        "<a href=\"https://colab.research.google.com/github/castillosebastian/NLU_legal_domain/blob/master/NLU_textos_legales_primeros_pasos.ipynb\" target=\"_parent\"><img src=\"https://colab.research.google.com/assets/colab-badge.svg\" alt=\"Open In Colab\"/></a>"
      ]
    },
    {
      "cell_type": "markdown",
      "metadata": {
        "id": "4m97o3Xixk0B"
      },
      "source": [
        "# Exploracion Fallos Jurisprudencia SCBA"
      ]
    },
    {
      "cell_type": "code",
      "metadata": {
        "id": "rpxMVDQy9PhZ"
      },
      "source": [
        "# Libraries, tools and thanks \n",
        "import bs4\n",
        "import nltk\n",
        "import numpy\n",
        "import pandas as pd\n",
        "import io\n",
        "import requests\n",
        "from google.colab import drive\n",
        "import numpy as np \n",
        "import json"
      ],
      "execution_count": 2,
      "outputs": []
    },
    {
      "cell_type": "code",
      "metadata": {
        "id": "jJAxQeOi3eRz",
        "outputId": "30e60b06-b177-4173-96e6-70f8ee2513f1",
        "colab": {
          "base_uri": "https://localhost:8080/",
          "height": 50
        }
      },
      "source": [
        "from google.colab import drive # import drive from google colab\n",
        "\n",
        "ROOT = \"/content/drive\"     # default location for the drive\n",
        "print(ROOT)                 # print content of ROOT (Optional)\n",
        "\n",
        "drive.mount(ROOT)           # we mount the google drive at /content/drive"
      ],
      "execution_count": 4,
      "outputs": [
        {
          "output_type": "stream",
          "text": [
            "/content/drive\n",
            "Mounted at /content/drive\n"
          ],
          "name": "stdout"
        }
      ]
    },
    {
      "cell_type": "code",
      "metadata": {
        "id": "7_qSVGUt4ASA",
        "outputId": "d67b4b21-2f00-4c46-c7c2-a0e06aeea373",
        "colab": {
          "base_uri": "https://localhost:8080/",
          "height": 33
        }
      },
      "source": [
        "%cd  'drive/My Drive/Colab Notebooks/data'"
      ],
      "execution_count": 5,
      "outputs": [
        {
          "output_type": "stream",
          "text": [
            "/content/drive/My Drive/Colab Notebooks/data\n"
          ],
          "name": "stdout"
        }
      ]
    },
    {
      "cell_type": "code",
      "metadata": {
        "id": "rnDT50z377Nk",
        "outputId": "c0ecbb7b-b026-4f4b-b9f0-e707a5fb8d56",
        "colab": {
          "base_uri": "https://localhost:8080/",
          "height": 50
        }
      },
      "source": [
        "%ls"
      ],
      "execution_count": 6,
      "outputs": [
        {
          "output_type": "stream",
          "text": [
            "corpus_fallosmetdat.json  tbdoctrina.json  tbmetdat.json\n",
            "corpus_textosfallos.json  tbfallos.json\n"
          ],
          "name": "stdout"
        }
      ]
    },
    {
      "cell_type": "markdown",
      "metadata": {
        "id": "yFTywqxn3_mA"
      },
      "source": [
        "# Lectura de tablas de datos primarios"
      ]
    },
    {
      "cell_type": "code",
      "metadata": {
        "id": "951T5fFMEeaL"
      },
      "source": [
        "pd.set_option('display.max_columns', None)"
      ],
      "execution_count": 7,
      "outputs": []
    },
    {
      "cell_type": "code",
      "metadata": {
        "id": "LAA71S5CxjmW"
      },
      "source": [
        "with open('tbfallos.json', 'r') as myfile:\n",
        "    data1=myfile.read()\n",
        "# parse file\n",
        "tbfallos = json.loads(data1)\n",
        "tbfallos = pd.DataFrame.from_dict(tbfallos)"
      ],
      "execution_count": 40,
      "outputs": []
    },
    {
      "cell_type": "code",
      "metadata": {
        "id": "zcPhLlph_YRD"
      },
      "source": [
        "tbfallos['textos_fallo'][1]"
      ],
      "execution_count": null,
      "outputs": []
    },
    {
      "cell_type": "code",
      "metadata": {
        "id": "mdk0Ayko9co2"
      },
      "source": [
        "with open('tbmetdat.json', 'r') as myfile:\n",
        "    data1=myfile.read()\n",
        "# parse file\n",
        "tbmetdat = json.loads(data1)\n",
        "tbmetdat = pd.DataFrame.from_dict(tbmetdat)"
      ],
      "execution_count": 10,
      "outputs": []
    },
    {
      "cell_type": "code",
      "metadata": {
        "id": "n4Dyutw7_bax",
        "outputId": "10ecf4f6-ca17-4593-b4fd-612550dc9c46",
        "colab": {
          "base_uri": "https://localhost:8080/",
          "height": 164
        }
      },
      "source": [
        "tbmetdat[tbmetdat.nro_causa == 122321]"
      ],
      "execution_count": 11,
      "outputs": [
        {
          "output_type": "execute_result",
          "data": {
            "text/html": [
              "<div>\n",
              "<style scoped>\n",
              "    .dataframe tbody tr th:only-of-type {\n",
              "        vertical-align: middle;\n",
              "    }\n",
              "\n",
              "    .dataframe tbody tr th {\n",
              "        vertical-align: top;\n",
              "    }\n",
              "\n",
              "    .dataframe thead th {\n",
              "        text-align: right;\n",
              "    }\n",
              "</style>\n",
              "<table border=\"1\" class=\"dataframe\">\n",
              "  <thead>\n",
              "    <tr style=\"text-align: right;\">\n",
              "      <th></th>\n",
              "      <th>nro_causa</th>\n",
              "      <th>fres</th>\n",
              "      <th>textos_raw_len</th>\n",
              "      <th>materia</th>\n",
              "      <th>tipo_fallo</th>\n",
              "      <th>tribunal_emisor</th>\n",
              "      <th>caratula</th>\n",
              "      <th>caratula_pub</th>\n",
              "      <th>magistrados_votantes</th>\n",
              "      <th>tribunal_origen</th>\n",
              "      <th>bnro</th>\n",
              "      <th>magistrados</th>\n",
              "      <th>sumario</th>\n",
              "      <th>voces</th>\n",
              "    </tr>\n",
              "  </thead>\n",
              "  <tbody>\n",
              "    <tr>\n",
              "      <th>1</th>\n",
              "      <td>122321</td>\n",
              "      <td>2019-05-15</td>\n",
              "      <td>160</td>\n",
              "      <td>CIVIL Y COMERCIAL</td>\n",
              "      <td>Sentencia Definitiva</td>\n",
              "      <td>SUPREMA CORTE DE JUSTICIA DE LA PROVINCIA (SCBA)</td>\n",
              "      <td>Figueredo, Rafael s/ Determinación de la capac...</td>\n",
              "      <td>F. ,R. s/ Determinación de la capacidad jurídica</td>\n",
              "      <td>Soria-de Lázzari-Genoud-Kogan</td>\n",
              "      <td>CAMARA DE APELACION EN LO CIVIL Y COMERCIAL SA...</td>\n",
              "      <td>158.0</td>\n",
              "      <td>Soria - de Lázzari - Genoud - Kogan.</td>\n",
              "      <td>\\nSentencia-Fundamentación. Rendición de cuen...</td>\n",
              "      <td>RENDICION DE CUENTAS,APROBACION,SENTENCIA,FUND...</td>\n",
              "    </tr>\n",
              "  </tbody>\n",
              "</table>\n",
              "</div>"
            ],
            "text/plain": [
              "   nro_causa        fres  textos_raw_len            materia  \\\n",
              "1     122321  2019-05-15             160  CIVIL Y COMERCIAL   \n",
              "\n",
              "             tipo_fallo                                   tribunal_emisor  \\\n",
              "1  Sentencia Definitiva  SUPREMA CORTE DE JUSTICIA DE LA PROVINCIA (SCBA)   \n",
              "\n",
              "                                            caratula  \\\n",
              "1  Figueredo, Rafael s/ Determinación de la capac...   \n",
              "\n",
              "                                       caratula_pub  \\\n",
              "1  F. ,R. s/ Determinación de la capacidad jurídica   \n",
              "\n",
              "            magistrados_votantes  \\\n",
              "1  Soria-de Lázzari-Genoud-Kogan   \n",
              "\n",
              "                                     tribunal_origen   bnro  \\\n",
              "1  CAMARA DE APELACION EN LO CIVIL Y COMERCIAL SA...  158.0   \n",
              "\n",
              "                            magistrados  \\\n",
              "1  Soria - de Lázzari - Genoud - Kogan.   \n",
              "\n",
              "                                             sumario  \\\n",
              "1   \\nSentencia-Fundamentación. Rendición de cuen...   \n",
              "\n",
              "                                               voces  \n",
              "1  RENDICION DE CUENTAS,APROBACION,SENTENCIA,FUND...  "
            ]
          },
          "metadata": {
            "tags": []
          },
          "execution_count": 11
        }
      ]
    },
    {
      "cell_type": "code",
      "metadata": {
        "id": "I9R0VwoSAR50",
        "outputId": "ce0fed29-0e47-45f6-f55e-84a1afe26a6a",
        "colab": {
          "base_uri": "https://localhost:8080/",
          "height": 266
        }
      },
      "source": [
        "tbmetdat.loc[1]"
      ],
      "execution_count": 12,
      "outputs": [
        {
          "output_type": "execute_result",
          "data": {
            "text/plain": [
              "nro_causa                                                          122321\n",
              "fres                                                           2019-05-15\n",
              "textos_raw_len                                                        160\n",
              "materia                                                 CIVIL Y COMERCIAL\n",
              "tipo_fallo                                           Sentencia Definitiva\n",
              "tribunal_emisor          SUPREMA CORTE DE JUSTICIA DE LA PROVINCIA (SCBA)\n",
              "caratula                Figueredo, Rafael s/ Determinación de la capac...\n",
              "caratula_pub             F. ,R. s/ Determinación de la capacidad jurídica\n",
              "magistrados_votantes                        Soria-de Lázzari-Genoud-Kogan\n",
              "tribunal_origen         CAMARA DE APELACION EN LO CIVIL Y COMERCIAL SA...\n",
              "bnro                                                                  158\n",
              "magistrados                          Soria - de Lázzari - Genoud - Kogan.\n",
              "sumario                  \\nSentencia-Fundamentación. Rendición de cuen...\n",
              "voces                   RENDICION DE CUENTAS,APROBACION,SENTENCIA,FUND...\n",
              "Name: 1, dtype: object"
            ]
          },
          "metadata": {
            "tags": []
          },
          "execution_count": 12
        }
      ]
    },
    {
      "cell_type": "code",
      "metadata": {
        "id": "AdZNjjAVDywY",
        "outputId": "371b2ed1-af66-4968-f2a6-3cb4f8adc65a",
        "colab": {
          "base_uri": "https://localhost:8080/",
          "height": 67
        }
      },
      "source": [
        "tbmetdat.loc[1].sumario"
      ],
      "execution_count": 13,
      "outputs": [
        {
          "output_type": "execute_result",
          "data": {
            "application/vnd.google.colaboratory.intrinsic+json": {
              "type": "string"
            },
            "text/plain": [
              "' \\nSentencia-Fundamentación. Rendición de cuentas-Aprobación. \\nLa Suprema Corte de Justicia de la Provincia de Buenos Aires revocó la sentencia que tubo por \\naprobada  la rendición  de  cuentas  presentada  por  el  Curador  Oficial  en  el  marco  del  proceso de \\ndeterminación de la capacidad, considerando la falta de fundamentación suficiente del fallo y de \\nadecuación a los hechos probados en la causa. '"
            ]
          },
          "metadata": {
            "tags": []
          },
          "execution_count": 13
        }
      ]
    },
    {
      "cell_type": "code",
      "metadata": {
        "id": "0aY84LI9-vzs"
      },
      "source": [
        "with open('tbdoctrina.json', 'r') as myfile:\n",
        "    data1=myfile.read()\n",
        "# parse file\n",
        "tbdoctrina = json.loads(data1)\n",
        "tbdoctrina = pd.DataFrame.from_dict(tbdoctrina)"
      ],
      "execution_count": 14,
      "outputs": []
    },
    {
      "cell_type": "code",
      "metadata": {
        "id": "0zA-Fy7QCiqb",
        "outputId": "f84a2ca4-b11b-49f5-b249-4e9925b295cb",
        "colab": {
          "base_uri": "https://localhost:8080/",
          "height": 197
        }
      },
      "source": [
        "tbdoctrina.head()"
      ],
      "execution_count": 15,
      "outputs": [
        {
          "output_type": "execute_result",
          "data": {
            "text/html": [
              "<div>\n",
              "<style scoped>\n",
              "    .dataframe tbody tr th:only-of-type {\n",
              "        vertical-align: middle;\n",
              "    }\n",
              "\n",
              "    .dataframe tbody tr th {\n",
              "        vertical-align: top;\n",
              "    }\n",
              "\n",
              "    .dataframe thead th {\n",
              "        text-align: right;\n",
              "    }\n",
              "</style>\n",
              "<table border=\"1\" class=\"dataframe\">\n",
              "  <thead>\n",
              "    <tr style=\"text-align: right;\">\n",
              "      <th></th>\n",
              "      <th>nro_causa</th>\n",
              "      <th>doctrina_nro</th>\n",
              "      <th>doctrina</th>\n",
              "    </tr>\n",
              "  </thead>\n",
              "  <tbody>\n",
              "    <tr>\n",
              "      <th>0</th>\n",
              "      <td>122514</td>\n",
              "      <td>1</td>\n",
              "      <td>El recurso de inaplicabilidad de ley no consti...</td>\n",
              "    </tr>\n",
              "    <tr>\n",
              "      <th>1</th>\n",
              "      <td>122514</td>\n",
              "      <td>2</td>\n",
              "      <td>Los juicios de divorcio en trámite al momento ...</td>\n",
              "    </tr>\n",
              "    <tr>\n",
              "      <th>2</th>\n",
              "      <td>122514</td>\n",
              "      <td>3</td>\n",
              "      <td>Cuando en la causa sobre divorcio las partes n...</td>\n",
              "    </tr>\n",
              "    <tr>\n",
              "      <th>3</th>\n",
              "      <td>122514</td>\n",
              "      <td>4</td>\n",
              "      <td>El artículo 7 del nuevo Código Civil y Comerci...</td>\n",
              "    </tr>\n",
              "    <tr>\n",
              "      <th>4</th>\n",
              "      <td>122514</td>\n",
              "      <td>5</td>\n",
              "      <td>La aplicación inmediata de las normas se disti...</td>\n",
              "    </tr>\n",
              "  </tbody>\n",
              "</table>\n",
              "</div>"
            ],
            "text/plain": [
              "   nro_causa  doctrina_nro                                           doctrina\n",
              "0     122514             1  El recurso de inaplicabilidad de ley no consti...\n",
              "1     122514             2  Los juicios de divorcio en trámite al momento ...\n",
              "2     122514             3  Cuando en la causa sobre divorcio las partes n...\n",
              "3     122514             4  El artículo 7 del nuevo Código Civil y Comerci...\n",
              "4     122514             5  La aplicación inmediata de las normas se disti..."
            ]
          },
          "metadata": {
            "tags": []
          },
          "execution_count": 15
        }
      ]
    },
    {
      "cell_type": "code",
      "metadata": {
        "id": "CGq9V37yBcCR",
        "outputId": "715f56b5-046e-448b-ed38-ba985d876efe",
        "colab": {
          "base_uri": "https://localhost:8080/",
          "height": 50
        }
      },
      "source": [
        "tbdoctrina[tbdoctrina.nro_causa == 122321].doctrina"
      ],
      "execution_count": 16,
      "outputs": [
        {
          "output_type": "execute_result",
          "data": {
            "text/plain": [
              "10    Debe ser revocado el fallo que, como único sus...\n",
              "Name: doctrina, dtype: object"
            ]
          },
          "metadata": {
            "tags": []
          },
          "execution_count": 16
        }
      ]
    },
    {
      "cell_type": "markdown",
      "metadata": {
        "id": "sVVbXUmIUhpB"
      },
      "source": [
        "# Preprocesamiento de texto"
      ]
    },
    {
      "cell_type": "markdown",
      "metadata": {
        "id": "xr5D0at-z8NM"
      },
      "source": [
        "## Tokenización de sentencias"
      ]
    },
    {
      "cell_type": "markdown",
      "metadata": {
        "id": "0BQiJmzoz_s0"
      },
      "source": [
        "### 1 Spacy\n"
      ]
    },
    {
      "cell_type": "code",
      "metadata": {
        "id": "uKR9jzeER9wY"
      },
      "source": [
        "# https://spacy.io/usage/spacy-101#whats-spacy\n",
        "# https://spacy.io/models/es muy iportante\n",
        "# https://github.com/relopezbriega/relopezbriega.github.io/blob/master/downloads/NLP.ipynb\n",
        "# Also for english\n",
        "# https://github.com/GerardoX1/spaCy/blob/master/Spacy%20primeros%20pasos.ipynb o en medium \n",
        "# https://medium.com/datos-y-ciencia/comenzando-con-spacy-para-procesamiento-de-lenguaje-natural-e8cf24a18a5a \n",
        "# Instalation\n",
        "# https://stackoverflow.com/questions/49259404/how-to-install-models-download-packages-on-google-colab?rq=1\n"
      ],
      "execution_count": null,
      "outputs": []
    },
    {
      "cell_type": "code",
      "metadata": {
        "id": "wEDLyilRzfu3",
        "outputId": "aff7df43-fcb5-49f5-9447-85dd402b6aec",
        "colab": {
          "base_uri": "https://localhost:8080/",
          "height": 50
        }
      },
      "source": [
        "import spacy.cli\n",
        "spacy.cli.download(\"es_core_news_md\")\n",
        "import es_core_news_md\n",
        "nlp = es_core_news_md.load()"
      ],
      "execution_count": 56,
      "outputs": [
        {
          "output_type": "stream",
          "text": [
            "\u001b[38;5;2m✔ Download and installation successful\u001b[0m\n",
            "You can now load the model via spacy.load('es_core_news_md')\n"
          ],
          "name": "stdout"
        }
      ]
    },
    {
      "cell_type": "code",
      "metadata": {
        "id": "3_sRzIMkKfmE"
      },
      "source": [
        "text = tbfallos['textos_fallo'][1]"
      ],
      "execution_count": 57,
      "outputs": []
    },
    {
      "cell_type": "code",
      "metadata": {
        "id": "XlTOIhtkrFT5"
      },
      "source": [
        "# Agrego Regla para Segmentar (tokenizar) oraciones\n",
        "def set_custom_Sentence_end_points(doc):\n",
        "    for token in doc[:-1]:\n",
        "        if token.text == '#':\n",
        "            doc[token.i+1].is_sent_start = True\n",
        "    return doc"
      ],
      "execution_count": 58,
      "outputs": []
    },
    {
      "cell_type": "code",
      "metadata": {
        "id": "mR1sRDY1sV4h"
      },
      "source": [
        "nlp.add_pipe(set_custom_Sentence_end_points, before='parser')"
      ],
      "execution_count": 59,
      "outputs": []
    },
    {
      "cell_type": "code",
      "metadata": {
        "id": "skbUXEj0KnVm",
        "outputId": "8d4f7593-8e55-497a-938b-ec0bd4b3bb46",
        "colab": {
          "base_uri": "https://localhost:8080/",
          "height": 53
        }
      },
      "source": [
        "doc=nlp(text)\n",
        "print(doc)"
      ],
      "execution_count": 60,
      "outputs": [
        {
          "output_type": "stream",
          "text": [
            "#TEXTO COMPLETO#A C U E R D O#En la ciudad de La Plata, a 15 de mayo de 2019, habiéndose establecido, de conformidad con lo dispuesto en el Acuerdo 2078, que deberá observarse el siguiente orden de votación: doctores Soria, de Lázzari, Genoud, Kogan, se reúnen los señores Jueces de la Suprema Corte de Justicia en acuerdo ordinario para pronunciar sentencia definitiva en la causa C. 122.321, \"F., R.. Determinación de la capacidad jurídica\".#A N T E C E D E N T E S#La Sala I de la Cámara de Apelación en lo Civil y Comercial de San Isidro confirmó el fallo de primera instancia que, en los autos sobre determinación de la capacidad jurídica del señor R. F., resolvió aprobar la rendición de cuentas efectuada por la Curaduría Oficial de Alienados (v. fs. 689 y 660, respectivamente).#Se interpuso, por la titular de la Asesoría de Incapaces n° 2 departamental, recurso extraordinario de inaplicabilidad de ley (v. fs. 705/711).#Oído el señor Procurador General, dictada la providencia de autos y encontrándose la causa en estado de pronunciar sentencia, la Suprema Corte resolvió plantear y votar la siguiente#C U E S T I Ó N#¿Es fundado el recurso extraordinario de inaplicabilidad de ley?#V O T A C I Ó N#A la cuestión planteada, el señor Juez doctor Soria dijo:#I. En el marco del proceso judicial por determinación de la capacidad jurídica del señor R. F., en trámite ante el Juzgado de Familia n° 4 de San Isidro, la titular de la Curaduría Oficial de Alienados de San Isidro y Zárate-Campana acompañó una rendición de cuentas informando los movimientos y saldos de la Cuenta de Autos y de la Cuenta Fiscal de Curaduría, adjuntando comprobantes para acreditar los gastos efectuados para el sostenimiento del causante e informando los montos y erogaciones originados en el subsidio ley 10.315, para el caso de que el señor F. estuviera gozando del mismo (v. fs. 541/548).#La Asesora de Incapaces impugnó la rendición de cuentas efectuada, esgrimiendo que de la documentación acompañada junto a la misma surgían dos facturas de la acompañante terapéutica -Daniela Elizabeth Ferreyra- en concepto de honorarios por trámites de afiliación al Programa Federal de Salud (PROFE-Salud), emitidas con fechas 11 de noviembre de 2015 y 15 de enero de 2016 por las sumas de $720 y $800, respectivamente (v. fs. 566).#Manifestó que de la compulsa del expediente surgía que desde el año 2013, luego de que el señor F. egresara con un permiso de salida del Hospital Cabred, no se habían tenido noticias del mismo, existiendo además constancias de la búsqueda de su paradero (v. fs. 566).#Hizo referencia a las resoluciones 578/03 y 127/06 en cuanto regulan la necesidad de intervención de los acompañantes terapéuticos, aspectos sobre los que deben trabajar, etcétera, y la obligación de los curadores de informar al juez lo presupuestado mensualmente para gastos ordinarios (v. fs. 566 vta.), puntualizando que en las constancias de autos no había elementos que indicaran las actividades desplegadas por la acompañante Ferreyra en lo que hace a las funciones e incumbencias profesionales, así como tampoco documentación que respalde las gestiones y trámites facturados por dicha profesional, máxime teniendo en cuenta que se desconocía el paradero del señor F. (v. fs. 567).#Solicitó que se brinden explicaciones respecto de los puntos señalados en la impugnación, para cuyo fin propuso la realización de una audiencia ante el juez (v. fs. 567 y vta.).#Frente a dichos planteos, el Juzgado dispuso el pase de las actuaciones a la Curaduría Oficial de Alienados a fin de que se expida al respecto (v. fs. 568).#La titular de la Curaduría contestó la impugnación y solicitó la aprobación de rendición efectuada (v. fs. 597/599 vta.).#Allí, refirió que las personas con padecimientos mentales son beneficiarias de una pensión contributiva a la que se le practica un descuento mensual del Programa Federal de Salud cuya afiliación no es automática, por lo que la persona comienza a pagar por un servicio de salud que no recibe hasta tanto se concluyan los trámites y pase a figurar como activo en el padrón.#Adujo que desde la Curaduría se había generado una operatoria para suplir la falta de afiliación automática, siendo los acompañantes terapéuticos quienes concurren a la Delegación del PROFE al final de un recorrido previo que deben realizar para conseguir toda la documentación necesaria (v. fs. 598).#Asimismo, hizo referencia a la cuestión vinculada con la disponibilidad de los recursos con los que contaba el organismo y controvirtió por inadecuada la normativa citada por la Asesora impugnante (v. fs. 599).#El Juzgado resolvió, sin perjuicio de la impugnación realizada, aprobar por única vez en cuanto ha lugar por derecho la rendición de cuentas efectuada en los términos y con los alcances manifestados a fs. 548. Asimismo, hizo saber a la Curaduría Oficial que deberá acreditar en autos los trámites realizados en favor del causante por los cuales se presentan las facturas y el resultado de los mismos.#Además, señaló que en lo sucesivo y para futuras rendiciones de cuentas se deberá denunciar en la causa la disposición de la Suprema Corte que autoriza a la Curaduría Oficial a tercerizar la gestión de trámites, señalando que, al asignarse un acompañante terapéutico a algún justiciable, se deberá denunciar en los respectivos autos cuales serían sus tareas y el procedimiento para su designación (v. fs. 600).#II. Apelado dicho pronunciamiento por la Asesora interviniente (v. fs. 633), la Sala I de la Cámara de Apelación lo confirmó (v. fs. 689 y vta.).#III. Contra dicho fallo se alza la Asesora mencionada mediante recurso extraordinario de inaplicabilidad de ley, denunciando la violación de los arts. 18, 75 incs. 22 y 23 de la Constitución nacional; 8 de la Convención Americana sobre los Derechos Humanos; 1, 2, 4, 5, 12, 13 de la Convención sobre los Derechos de las Personas con Discapacidad (leyes 26.378 y 27.044); XVII, XVIII de la Declaración Americana de los Derechos y Deberes del Hombre; 8 de la Declaración Universal de Derechos Humanos; 10, 15, 36.5 y 171 de la Constitución provincial; 3, 130, 131, 134, 858, 860 inc. \"c\", 862, 1.716, 1.717, 1.766, 1.775, 1.776 del Código Civil y Comercial y 1, 2 y 4 de la ley 26.944. Asimismo, denuncia absurdo (v. fs. 705/711).#Sostiene que la sola afirmación de la Cámara de que las explicaciones brindadas por la Curaduría Oficial resultan razonables, sin abordar ninguna de las defensas planteadas, constituye un típico ejercicio de formulación dogmática y una decisión arbitraria (v. fs. 709).#Expone que en el fallo impugnado se ignoran todos y cada uno de los elementos obrantes en la causa, las acciones instadas, en particular una investigación criminal sobre el hecho, todo lo que imponía el rechazo de las cuentas (v. fs. 708 vta.).#Controvierte que para fundamentar normativamente la sentencia y concluir en la razonabilidad de las explicaciones brindadas por la Curaduría Oficial, la Cámara invoque la Convención sobre los Derechos de las Personas con Discapacidad y a partir de la misma pondere y califique el gasto y la contratación efectuados como razonable (v. fs. 710 y vta.).#IV. El recurso debe prosperar.#Comparto y hago propios los fundamentos y conclusiones vertidos por el señor Procurador General en su dictamen de fs. 782/787, los que estimo abastecen adecuadamente la respuesta que cabe brindar en el sub lite (conf. causas C. 113.234, sent. de 9-V-2012; C. 115.708, sent. de 12-VI-2013; C. 121.104, sent. de 23-V-2017; C. 121.980 \"P., S\", sent. de 27-VI-2018), en cuanto señala \"...la ausencia de las razones o motivos por los cuales se receptan como base de la decisión, las manifestaciones de la Curaduría Oficial...\" (fs. 784 vta.).#En efecto, el Tribunal de Alzada, como único sustento de su decisión de tener por razonable la explicación brindada por la Curaduría Oficial y mantener la providencia que aprobó la rendición de cuentas impugnada, alude a la Convención sobre los Derechos de las Personas con Discapacidad y su Protocolo Facultativo \"...en cuanto establece el criterio por el cual los procedimientos deben ser ajustados de manera de facilitar la realización de los trámites...\" (fs. 689 vta.).#Tal como denuncia la recurrente (v. fs. 710 vta./711), las genéricas apreciaciones formuladas en el fallo impugnado, además de no cumplir con los mandatos convencionales que exigen atención especial de las personas con discapacidad, manejo transparente con rendición de cuentas documentada, precisa y detallada, justificada en necesidades concretas y verificables, no se corresponden con los hechos acreditados en la causa, máxime cuando -como viene denunciando la Asesora de Incapaces- en la rendición de cuentas presentada por la Curaduría Oficial, se incluyen gastos para la contratación de quien sería la acompañante terapéutica para realizar gestiones y tramitaciones en favor del señor F., facturadas en noviembre de 2015 y enero de 2016, cuando el causante mantiene paradero desconocido para todos los órganos judiciales desde julio de 2013 (v. fs. 566, 635, 655 vta., 707).#IV. En virtud de lo expuesto, corresponde hacer lugar al recurso extraordinario de inaplicabilidad de ley interpuesto, revocar el fallo impugnado y devolver los autos al Tribunal de origen para que, con la debida integración, dicte un nuevo pronunciamiento (art. 289, CPCC).#Las costas se imponen por su orden, dada la índole de los temas debatidos (art. 68, segundo párrafo, CPCC).#La presente se notificará con copia del dictamen de fs. 782/787.#Voto por la afirmativa.#Los señores Jueces doctores de Lázzari y Genoud y la señora Jueza doctora Kogan, por los mismos fundamentos del señor Juez doctor Soria, votaron también por la afirmativa.#Con lo que terminó el acuerdo, dictándose la siguiente#S E N T E N C I A#Por lo expuesto en el acuerdo que antecede, de conformidad con lo dictaminado por el señor Procurador General, se hace lugar al recurso extraordinario de inaplicabilidad de ley interpuesto, se revoca el fallo impugnado y se devuelven los autos al Tribunal de origen para que, con la debida integración, dicte un nuevo pronunciamiento (art. 289, CPCC).#Las costas se imponen por su orden, dada la índole de los temas debatidos (art. 68, segundo párrafo, CPCC).#Notifíquese con copia del dictamen de fs. 782/787 y devuélvase.#EDUARDO NESTOR DE LÁZZARI#DANIEL FERNANDO SORIA  LUIS ESTEBAN GENOUD#HILDA KOGAN#CARLOS E. CAMPS#Secretario\n"
          ],
          "name": "stdout"
        }
      ]
    },
    {
      "cell_type": "code",
      "metadata": {
        "id": "_kriNb5T2McT"
      },
      "source": [
        "#Para tokenizar oraciones.\n",
        "for num,oracion in enumerate(doc.sents):\n",
        "    print(f'{num}: {oracion}')\n",
        "\n",
        "# NOT EFFECTIVE"
      ],
      "execution_count": null,
      "outputs": []
    },
    {
      "cell_type": "markdown",
      "metadata": {
        "id": "a-MeAiNE0IMh"
      },
      "source": [
        "### 2 Script Had-Hoc"
      ]
    },
    {
      "cell_type": "markdown",
      "metadata": {
        "id": "JeCNNY9A3tCa"
      },
      "source": [
        "Modelo:\n",
        "\n",
        "https://stackoverflow.com/questions/4576077/how-can-i-split-a-text-into-sentences\n",
        "\n",
        "Eficacia: Alta"
      ]
    },
    {
      "cell_type": "code",
      "metadata": {
        "id": "LsoDNJRiz5o7"
      },
      "source": [
        "import re\n",
        "#alphabets= \"([A-Za-z])\"\n",
        "#prefixes = \"(Sr|Sra|Srta|Dr|Dra)[.]\"\n",
        "#suffixes = \"(SA|Ltd)\"\n",
        "#starters = \"(Sr|Sra|Srta|Dr|El|Ella|Eso|Ellos|Sus|Nuestros|Nosotros|Pero|Sin embargo|Entonces|Esto|Por)\"\n",
        "#acronyms = \"([A-Z][.][A-Z][.](?:[A-Z][.])?)\"\n",
        "#websites = \"[.](com|net|org|io|gov)\"\n",
        "\n",
        "def split_into_sentences(text):    \n",
        "    #text = \" \" + text + \"  \"\n",
        "    #text = text.replace(\"\\n\",\" \")\n",
        "    #text = text.replace(\"#\",\" \")\n",
        "    #text = re.sub(prefixes,\"\\\\1<prd>\",text)\n",
        "    #text = re.sub(websites,\"<prd>\\\\1\",text)\n",
        "    #if \"Ph.D\" in text: text = text.replace(\"Ph.D.\",\"Ph<prd>D<prd>\")\n",
        "    #text = re.sub(\"\\s\" + alphabets + \"[.] \",\" \\\\1<prd> \",text)\n",
        "    #text = re.sub(acronyms+\" \"+starters,\"\\\\1<stop> \\\\2\",text)\n",
        "    #text = re.sub(alphabets + \"[.]\" + alphabets + \"[.]\" + alphabets + \"[.]\",\"\\\\1<prd>\\\\2<prd>\\\\3<prd>\",text)\n",
        "    #text = re.sub(alphabets + \"[.]\" + alphabets + \"[.]\",\"\\\\1<prd>\\\\2<prd>\",text)\n",
        "    #text = re.sub(\" \"+suffixes+\"[.] \"+starters,\" \\\\1<stop> \\\\2\",text)\n",
        "    #text = re.sub(\" \"+suffixes+\"[.]\",\" \\\\1<prd>\",text)\n",
        "    #text = re.sub(\" \" + alphabets + \"[.]\",\" \\\\1<prd>\",text)\n",
        "    #if \"”\" in text: text = text.replace(\".”\",\"”.\")\n",
        "    #if \"\\\"\" in text: text = text.replace(\".\\\"\",\"\\\".\")\n",
        "    #if \"!\" in text: text = text.replace(\"!\\\"\",\"\\\"!\")\n",
        "    #if \"?\" in text: text = text.replace(\"?\\\"\",\"\\\"?\")\n",
        "    text = text.replace(\"#\",\"<stop>\")\n",
        "    #text = text.replace(\".\",\".<stop>\")\n",
        "    #text = text.replace(\"?\",\"?<stop>\")\n",
        "    #text = text.replace(\"!\",\"!<stop>\")\n",
        "    #text = text.replace(\"<prd>\",\".\")\n",
        "    sentences = text.split(\"<stop>\")\n",
        "    sentences = sentences[:-1]\n",
        "    sentences = [s.strip() for s in sentences]\n",
        "    return sentences"
      ],
      "execution_count": 72,
      "outputs": []
    },
    {
      "cell_type": "code",
      "metadata": {
        "id": "HYgsRFTJ2aR_",
        "outputId": "0a70dae3-d64a-4f4c-ca59-b86d1615fc26",
        "colab": {
          "base_uri": "https://localhost:8080/",
          "height": 820
        }
      },
      "source": [
        "split_into_sentences(text)"
      ],
      "execution_count": 73,
      "outputs": [
        {
          "output_type": "execute_result",
          "data": {
            "text/plain": [
              "['',\n",
              " 'TEXTO COMPLETO',\n",
              " 'A C U E R D O',\n",
              " 'En la ciudad de La Plata, a 15 de mayo de 2019, habiéndose establecido, de conformidad con lo dispuesto en el Acuerdo 2078, que deberá observarse el siguiente orden de votación: doctores Soria, de Lázzari, Genoud, Kogan, se reúnen los señores Jueces de la Suprema Corte de Justicia en acuerdo ordinario para pronunciar sentencia definitiva en la causa C. 122.321, \"F., R.. Determinación de la capacidad jurídica\".',\n",
              " 'A N T E C E D E N T E S',\n",
              " 'La Sala I de la Cámara de Apelación en lo Civil y Comercial de San Isidro confirmó el fallo de primera instancia que, en los autos sobre determinación de la capacidad jurídica del señor R. F., resolvió aprobar la rendición de cuentas efectuada por la Curaduría Oficial de Alienados (v. fs. 689 y 660, respectivamente).',\n",
              " 'Se interpuso, por la titular de la Asesoría de Incapaces n° 2 departamental, recurso extraordinario de inaplicabilidad de ley (v. fs. 705/711).',\n",
              " 'Oído el señor Procurador General, dictada la providencia de autos y encontrándose la causa en estado de pronunciar sentencia, la Suprema Corte resolvió plantear y votar la siguiente',\n",
              " 'C U E S T I Ó N',\n",
              " '¿Es fundado el recurso extraordinario de inaplicabilidad de ley?',\n",
              " 'V O T A C I Ó N',\n",
              " 'A la cuestión planteada, el señor Juez doctor Soria dijo:',\n",
              " 'I. En el marco del proceso judicial por determinación de la capacidad jurídica del señor R. F., en trámite ante el Juzgado de Familia n° 4 de San Isidro, la titular de la Curaduría Oficial de Alienados de San Isidro y Zárate-Campana acompañó una rendición de cuentas informando los movimientos y saldos de la Cuenta de Autos y de la Cuenta Fiscal de Curaduría, adjuntando comprobantes para acreditar los gastos efectuados para el sostenimiento del causante e informando los montos y erogaciones originados en el subsidio ley 10.315, para el caso de que el señor F. estuviera gozando del mismo (v. fs. 541/548).',\n",
              " 'La Asesora de Incapaces impugnó la rendición de cuentas efectuada, esgrimiendo que de la documentación acompañada junto a la misma surgían dos facturas de la acompañante terapéutica -Daniela Elizabeth Ferreyra- en concepto de honorarios por trámites de afiliación al Programa Federal de Salud (PROFE-Salud), emitidas con fechas 11 de noviembre de 2015 y 15 de enero de 2016 por las sumas de $720 y $800, respectivamente (v. fs. 566).',\n",
              " 'Manifestó que de la compulsa del expediente surgía que desde el año 2013, luego de que el señor F. egresara con un permiso de salida del Hospital Cabred, no se habían tenido noticias del mismo, existiendo además constancias de la búsqueda de su paradero (v. fs. 566).',\n",
              " 'Hizo referencia a las resoluciones 578/03 y 127/06 en cuanto regulan la necesidad de intervención de los acompañantes terapéuticos, aspectos sobre los que deben trabajar, etcétera, y la obligación de los curadores de informar al juez lo presupuestado mensualmente para gastos ordinarios (v. fs. 566 vta.), puntualizando que en las constancias de autos no había elementos que indicaran las actividades desplegadas por la acompañante Ferreyra en lo que hace a las funciones e incumbencias profesionales, así como tampoco documentación que respalde las gestiones y trámites facturados por dicha profesional, máxime teniendo en cuenta que se desconocía el paradero del señor F. (v. fs. 567).',\n",
              " 'Solicitó que se brinden explicaciones respecto de los puntos señalados en la impugnación, para cuyo fin propuso la realización de una audiencia ante el juez (v. fs. 567 y vta.).',\n",
              " 'Frente a dichos planteos, el Juzgado dispuso el pase de las actuaciones a la Curaduría Oficial de Alienados a fin de que se expida al respecto (v. fs. 568).',\n",
              " 'La titular de la Curaduría contestó la impugnación y solicitó la aprobación de rendición efectuada (v. fs. 597/599 vta.).',\n",
              " 'Allí, refirió que las personas con padecimientos mentales son beneficiarias de una pensión contributiva a la que se le practica un descuento mensual del Programa Federal de Salud cuya afiliación no es automática, por lo que la persona comienza a pagar por un servicio de salud que no recibe hasta tanto se concluyan los trámites y pase a figurar como activo en el padrón.',\n",
              " 'Adujo que desde la Curaduría se había generado una operatoria para suplir la falta de afiliación automática, siendo los acompañantes terapéuticos quienes concurren a la Delegación del PROFE al final de un recorrido previo que deben realizar para conseguir toda la documentación necesaria (v. fs. 598).',\n",
              " 'Asimismo, hizo referencia a la cuestión vinculada con la disponibilidad de los recursos con los que contaba el organismo y controvirtió por inadecuada la normativa citada por la Asesora impugnante (v. fs. 599).',\n",
              " 'El Juzgado resolvió, sin perjuicio de la impugnación realizada, aprobar por única vez en cuanto ha lugar por derecho la rendición de cuentas efectuada en los términos y con los alcances manifestados a fs. 548. Asimismo, hizo saber a la Curaduría Oficial que deberá acreditar en autos los trámites realizados en favor del causante por los cuales se presentan las facturas y el resultado de los mismos.',\n",
              " 'Además, señaló que en lo sucesivo y para futuras rendiciones de cuentas se deberá denunciar en la causa la disposición de la Suprema Corte que autoriza a la Curaduría Oficial a tercerizar la gestión de trámites, señalando que, al asignarse un acompañante terapéutico a algún justiciable, se deberá denunciar en los respectivos autos cuales serían sus tareas y el procedimiento para su designación (v. fs. 600).',\n",
              " 'II. Apelado dicho pronunciamiento por la Asesora interviniente (v. fs. 633), la Sala I de la Cámara de Apelación lo confirmó (v. fs. 689 y vta.).',\n",
              " 'III. Contra dicho fallo se alza la Asesora mencionada mediante recurso extraordinario de inaplicabilidad de ley, denunciando la violación de los arts. 18, 75 incs. 22 y 23 de la Constitución nacional; 8 de la Convención Americana sobre los Derechos Humanos; 1, 2, 4, 5, 12, 13 de la Convención sobre los Derechos de las Personas con Discapacidad (leyes 26.378 y 27.044); XVII, XVIII de la Declaración Americana de los Derechos y Deberes del Hombre; 8 de la Declaración Universal de Derechos Humanos; 10, 15, 36.5 y 171 de la Constitución provincial; 3, 130, 131, 134, 858, 860 inc. \"c\", 862, 1.716, 1.717, 1.766, 1.775, 1.776 del Código Civil y Comercial y 1, 2 y 4 de la ley 26.944. Asimismo, denuncia absurdo (v. fs. 705/711).',\n",
              " 'Sostiene que la sola afirmación de la Cámara de que las explicaciones brindadas por la Curaduría Oficial resultan razonables, sin abordar ninguna de las defensas planteadas, constituye un típico ejercicio de formulación dogmática y una decisión arbitraria (v. fs. 709).',\n",
              " 'Expone que en el fallo impugnado se ignoran todos y cada uno de los elementos obrantes en la causa, las acciones instadas, en particular una investigación criminal sobre el hecho, todo lo que imponía el rechazo de las cuentas (v. fs. 708 vta.).',\n",
              " 'Controvierte que para fundamentar normativamente la sentencia y concluir en la razonabilidad de las explicaciones brindadas por la Curaduría Oficial, la Cámara invoque la Convención sobre los Derechos de las Personas con Discapacidad y a partir de la misma pondere y califique el gasto y la contratación efectuados como razonable (v. fs. 710 y vta.).',\n",
              " 'IV. El recurso debe prosperar.',\n",
              " 'Comparto y hago propios los fundamentos y conclusiones vertidos por el señor Procurador General en su dictamen de fs. 782/787, los que estimo abastecen adecuadamente la respuesta que cabe brindar en el sub lite (conf. causas C. 113.234, sent. de 9-V-2012; C. 115.708, sent. de 12-VI-2013; C. 121.104, sent. de 23-V-2017; C. 121.980 \"P., S\", sent. de 27-VI-2018), en cuanto señala \"...la ausencia de las razones o motivos por los cuales se receptan como base de la decisión, las manifestaciones de la Curaduría Oficial...\" (fs. 784 vta.).',\n",
              " 'En efecto, el Tribunal de Alzada, como único sustento de su decisión de tener por razonable la explicación brindada por la Curaduría Oficial y mantener la providencia que aprobó la rendición de cuentas impugnada, alude a la Convención sobre los Derechos de las Personas con Discapacidad y su Protocolo Facultativo \"...en cuanto establece el criterio por el cual los procedimientos deben ser ajustados de manera de facilitar la realización de los trámites...\" (fs. 689 vta.).',\n",
              " 'Tal como denuncia la recurrente (v. fs. 710 vta./711), las genéricas apreciaciones formuladas en el fallo impugnado, además de no cumplir con los mandatos convencionales que exigen atención especial de las personas con discapacidad, manejo transparente con rendición de cuentas documentada, precisa y detallada, justificada en necesidades concretas y verificables, no se corresponden con los hechos acreditados en la causa, máxime cuando -como viene denunciando la Asesora de Incapaces- en la rendición de cuentas presentada por la Curaduría Oficial, se incluyen gastos para la contratación de quien sería la acompañante terapéutica para realizar gestiones y tramitaciones en favor del señor F., facturadas en noviembre de 2015 y enero de 2016, cuando el causante mantiene paradero desconocido para todos los órganos judiciales desde julio de 2013 (v. fs. 566, 635, 655 vta., 707).',\n",
              " 'IV. En virtud de lo expuesto, corresponde hacer lugar al recurso extraordinario de inaplicabilidad de ley interpuesto, revocar el fallo impugnado y devolver los autos al Tribunal de origen para que, con la debida integración, dicte un nuevo pronunciamiento (art. 289, CPCC).',\n",
              " 'Las costas se imponen por su orden, dada la índole de los temas debatidos (art. 68, segundo párrafo, CPCC).',\n",
              " 'La presente se notificará con copia del dictamen de fs. 782/787.',\n",
              " 'Voto por la afirmativa.',\n",
              " 'Los señores Jueces doctores de Lázzari y Genoud y la señora Jueza doctora Kogan, por los mismos fundamentos del señor Juez doctor Soria, votaron también por la afirmativa.',\n",
              " 'Con lo que terminó el acuerdo, dictándose la siguiente',\n",
              " 'S E N T E N C I A',\n",
              " 'Por lo expuesto en el acuerdo que antecede, de conformidad con lo dictaminado por el señor Procurador General, se hace lugar al recurso extraordinario de inaplicabilidad de ley interpuesto, se revoca el fallo impugnado y se devuelven los autos al Tribunal de origen para que, con la debida integración, dicte un nuevo pronunciamiento (art. 289, CPCC).',\n",
              " 'Las costas se imponen por su orden, dada la índole de los temas debatidos (art. 68, segundo párrafo, CPCC).',\n",
              " 'Notifíquese con copia del dictamen de fs. 782/787 y devuélvase.',\n",
              " 'EDUARDO NESTOR DE LÁZZARI',\n",
              " 'DANIEL FERNANDO SORIA\\xa0 LUIS ESTEBAN GENOUD',\n",
              " 'HILDA KOGAN',\n",
              " 'CARLOS E. CAMPS']"
            ]
          },
          "metadata": {
            "tags": []
          },
          "execution_count": 73
        }
      ]
    },
    {
      "cell_type": "code",
      "metadata": {
        "id": "Vcsa4c4P3Hb0",
        "outputId": "b519af8e-7c8b-4dea-8685-9cc11c463334",
        "colab": {
          "base_uri": "https://localhost:8080/",
          "height": 53
        }
      },
      "source": [
        "# Para hacer una lista de tokens\n",
        "lista_palabras=[palabra.text.replace('#',' ') for palabra in doc]\n",
        "print(lista_palabras)\n",
        "\n",
        "# EFFECTIVE"
      ],
      "execution_count": 77,
      "outputs": [
        {
          "output_type": "stream",
          "text": [
            "[' ', 'TEXTO', 'COMPLETO A', 'C', 'U', 'E', 'R', 'D', 'O En', 'la', 'ciudad', 'de', 'La', 'Plata', ',', 'a', '15', 'de', 'mayo', 'de', '2019', ',', 'habiéndose', 'establecido', ',', 'de', 'conformidad', 'con', 'lo', 'dispuesto', 'en', 'el', 'Acuerdo', '2078', ',', 'que', 'deberá', 'observarse', 'el', 'siguiente', 'orden', 'de', 'votación', ':', 'doctores', 'Soria', ',', 'de', 'Lázzari', ',', 'Genoud', ',', 'Kogan', ',', 'se', 'reúnen', 'los', 'señores', 'Jueces', 'de', 'la', 'Suprema', 'Corte', 'de', 'Justicia', 'en', 'acuerdo', 'ordinario', 'para', 'pronunciar', 'sentencia', 'definitiva', 'en', 'la', 'causa', 'C.', '122.321', ',', '\"', 'F.', ',', 'R', '..', 'Determinación', 'de', 'la', 'capacidad', 'jurídica\". A', 'N', 'T', 'E', 'C', 'E', 'D', 'E', 'N', 'T', 'E', 'S La', 'Sala', 'I', 'de', 'la', 'Cámara', 'de', 'Apelación', 'en', 'lo', 'Civil', 'y', 'Comercial', 'de', 'San', 'Isidro', 'confirmó', 'el', 'fallo', 'de', 'primera', 'instancia', 'que', ',', 'en', 'los', 'autos', 'sobre', 'determinación', 'de', 'la', 'capacidad', 'jurídica', 'del', 'señor', 'R.', 'F.', ',', 'resolvió', 'aprobar', 'la', 'rendición', 'de', 'cuentas', 'efectuada', 'por', 'la', 'Curaduría', 'Oficial', 'de', 'Alienados', '(', 'v.', 'fs', '.', '689', 'y', '660', ',', 'respectivamente). Se', 'interpuso', ',', 'por', 'la', 'titular', 'de', 'la', 'Asesoría', 'de', 'Incapaces', 'n', '°', '2', 'departamental', ',', 'recurso', 'extraordinario', 'de', 'inaplicabilidad', 'de', 'ley', '(', 'v.', 'fs', '.', '705/711). Oído', 'el', 'señor', 'Procurador', 'General', ',', 'dictada', 'la', 'providencia', 'de', 'autos', 'y', 'encontrándose', 'la', 'causa', 'en', 'estado', 'de', 'pronunciar', 'sentencia', ',', 'la', 'Suprema', 'Corte', 'resolvió', 'plantear', 'y', 'votar', 'la', 'siguiente C', 'U', 'E', 'S', 'T', 'I', 'Ó', 'N ¿Es', 'fundado', 'el', 'recurso', 'extraordinario', 'de', 'inaplicabilidad', 'de', 'ley? V', 'O', 'T', 'A', 'C', 'I', 'Ó', 'N A', 'la', 'cuestión', 'planteada', ',', 'el', 'señor', 'Juez', 'doctor', 'Soria', 'dijo: I.', 'En', 'el', 'marco', 'del', 'proceso', 'judicial', 'por', 'determinación', 'de', 'la', 'capacidad', 'jurídica', 'del', 'señor', 'R.', 'F.', ',', 'en', 'trámite', 'ante', 'el', 'Juzgado', 'de', 'Familia', 'n', '°', '4', 'de', 'San', 'Isidro', ',', 'la', 'titular', 'de', 'la', 'Curaduría', 'Oficial', 'de', 'Alienados', 'de', 'San', 'Isidro', 'y', 'Zárate', '-', 'Campana', 'acompañó', 'una', 'rendición', 'de', 'cuentas', 'informando', 'los', 'movimientos', 'y', 'saldos', 'de', 'la', 'Cuenta', 'de', 'Autos', 'y', 'de', 'la', 'Cuenta', 'Fiscal', 'de', 'Curaduría', ',', 'adjuntando', 'comprobantes', 'para', 'acreditar', 'los', 'gastos', 'efectuados', 'para', 'el', 'sostenimiento', 'del', 'causante', 'e', 'informando', 'los', 'montos', 'y', 'erogaciones', 'originados', 'en', 'el', 'subsidio', 'ley', '10.315', ',', 'para', 'el', 'caso', 'de', 'que', 'el', 'señor', 'F.', 'estuviera', 'gozando', 'del', 'mismo', '(', 'v.', 'fs', '.', '541/548). La', 'Asesora', 'de', 'Incapaces', 'impugnó', 'la', 'rendición', 'de', 'cuentas', 'efectuada', ',', 'esgrimiendo', 'que', 'de', 'la', 'documentación', 'acompañada', 'junto', 'a', 'la', 'misma', 'surgían', 'dos', 'facturas', 'de', 'la', 'acompañante', 'terapéutica', '-Daniela', 'Elizabeth', 'Ferreyra-', 'en', 'concepto', 'de', 'honorarios', 'por', 'trámites', 'de', 'afiliación', 'al', 'Programa', 'Federal', 'de', 'Salud', '(', 'PROFE', '-', 'Salud', ')', ',', 'emitidas', 'con', 'fechas', '11', 'de', 'noviembre', 'de', '2015', 'y', '15', 'de', 'enero', 'de', '2016', 'por', 'las', 'sumas', 'de', '$', '720', 'y', '$', '800', ',', 'respectivamente', '(', 'v.', 'fs', '.', '566). Manifestó', 'que', 'de', 'la', 'compulsa', 'del', 'expediente', 'surgía', 'que', 'desde', 'el', 'año', '2013', ',', 'luego', 'de', 'que', 'el', 'señor', 'F.', 'egresara', 'con', 'un', 'permiso', 'de', 'salida', 'del', 'Hospital', 'Cabred', ',', 'no', 'se', 'habían', 'tenido', 'noticias', 'del', 'mismo', ',', 'existiendo', 'además', 'constancias', 'de', 'la', 'búsqueda', 'de', 'su', 'paradero', '(', 'v.', 'fs', '.', '566). Hizo', 'referencia', 'a', 'las', 'resoluciones', '578/03', 'y', '127/06', 'en', 'cuanto', 'regulan', 'la', 'necesidad', 'de', 'intervención', 'de', 'los', 'acompañantes', 'terapéuticos', ',', 'aspectos', 'sobre', 'los', 'que', 'deben', 'trabajar', ',', 'etcétera', ',', 'y', 'la', 'obligación', 'de', 'los', 'curadores', 'de', 'informar', 'al', 'juez', 'lo', 'presupuestado', 'mensualmente', 'para', 'gastos', 'ordinarios', '(', 'v.', 'fs', '.', '566', 'vta', '.', ')', ',', 'puntualizando', 'que', 'en', 'las', 'constancias', 'de', 'autos', 'no', 'había', 'elementos', 'que', 'indicaran', 'las', 'actividades', 'desplegadas', 'por', 'la', 'acompañante', 'Ferreyra', 'en', 'lo', 'que', 'hace', 'a', 'las', 'funciones', 'e', 'incumbencias', 'profesionales', ',', 'así', 'como', 'tampoco', 'documentación', 'que', 'respalde', 'las', 'gestiones', 'y', 'trámites', 'facturados', 'por', 'dicha', 'profesional', ',', 'máxime', 'teniendo', 'en', 'cuenta', 'que', 'se', 'desconocía', 'el', 'paradero', 'del', 'señor', 'F.', '(', 'v.', 'fs', '.', '567). Solicitó', 'que', 'se', 'brinden', 'explicaciones', 'respecto', 'de', 'los', 'puntos', 'señalados', 'en', 'la', 'impugnación', ',', 'para', 'cuyo', 'fin', 'propuso', 'la', 'realización', 'de', 'una', 'audiencia', 'ante', 'el', 'juez', '(', 'v.', 'fs', '.', '567', 'y', 'vta.). Frente', 'a', 'dichos', 'planteos', ',', 'el', 'Juzgado', 'dispuso', 'el', 'pase', 'de', 'las', 'actuaciones', 'a', 'la', 'Curaduría', 'Oficial', 'de', 'Alienados', 'a', 'fin', 'de', 'que', 'se', 'expida', 'al', 'respecto', '(', 'v.', 'fs', '.', '568). La', 'titular', 'de', 'la', 'Curaduría', 'contestó', 'la', 'impugnación', 'y', 'solicitó', 'la', 'aprobación', 'de', 'rendición', 'efectuada', '(', 'v.', 'fs', '.', '597/599', 'vta.). Allí', ',', 'refirió', 'que', 'las', 'personas', 'con', 'padecimientos', 'mentales', 'son', 'beneficiarias', 'de', 'una', 'pensión', 'contributiva', 'a', 'la', 'que', 'se', 'le', 'practica', 'un', 'descuento', 'mensual', 'del', 'Programa', 'Federal', 'de', 'Salud', 'cuya', 'afiliación', 'no', 'es', 'automática', ',', 'por', 'lo', 'que', 'la', 'persona', 'comienza', 'a', 'pagar', 'por', 'un', 'servicio', 'de', 'salud', 'que', 'no', 'recibe', 'hasta', 'tanto', 'se', 'concluyan', 'los', 'trámites', 'y', 'pase', 'a', 'figurar', 'como', 'activo', 'en', 'el', 'padrón. Adujo', 'que', 'desde', 'la', 'Curaduría', 'se', 'había', 'generado', 'una', 'operatoria', 'para', 'suplir', 'la', 'falta', 'de', 'afiliación', 'automática', ',', 'siendo', 'los', 'acompañantes', 'terapéuticos', 'quienes', 'concurren', 'a', 'la', 'Delegación', 'del', 'PROFE', 'al', 'final', 'de', 'un', 'recorrido', 'previo', 'que', 'deben', 'realizar', 'para', 'conseguir', 'toda', 'la', 'documentación', 'necesaria', '(', 'v.', 'fs', '.', '598). Asimismo', ',', 'hizo', 'referencia', 'a', 'la', 'cuestión', 'vinculada', 'con', 'la', 'disponibilidad', 'de', 'los', 'recursos', 'con', 'los', 'que', 'contaba', 'el', 'organismo', 'y', 'controvirtió', 'por', 'inadecuada', 'la', 'normativa', 'citada', 'por', 'la', 'Asesora', 'impugnante', '(', 'v.', 'fs', '.', '599). El', 'Juzgado', 'resolvió', ',', 'sin', 'perjuicio', 'de', 'la', 'impugnación', 'realizada', ',', 'aprobar', 'por', 'única', 'vez', 'en', 'cuanto', 'ha', 'lugar', 'por', 'derecho', 'la', 'rendición', 'de', 'cuentas', 'efectuada', 'en', 'los', 'términos', 'y', 'con', 'los', 'alcances', 'manifestados', 'a', 'fs', '.', '548', '.', 'Asimismo', ',', 'hizo', 'saber', 'a', 'la', 'Curaduría', 'Oficial', 'que', 'deberá', 'acreditar', 'en', 'autos', 'los', 'trámites', 'realizados', 'en', 'favor', 'del', 'causante', 'por', 'los', 'cuales', 'se', 'presentan', 'las', 'facturas', 'y', 'el', 'resultado', 'de', 'los', 'mismos. Además', ',', 'señaló', 'que', 'en', 'lo', 'sucesivo', 'y', 'para', 'futuras', 'rendiciones', 'de', 'cuentas', 'se', 'deberá', 'denunciar', 'en', 'la', 'causa', 'la', 'disposición', 'de', 'la', 'Suprema', 'Corte', 'que', 'autoriza', 'a', 'la', 'Curaduría', 'Oficial', 'a', 'tercerizar', 'la', 'gestión', 'de', 'trámites', ',', 'señalando', 'que', ',', 'al', 'asignarse', 'un', 'acompañante', 'terapéutico', 'a', 'algún', 'justiciable', ',', 'se', 'deberá', 'denunciar', 'en', 'los', 'respectivos', 'autos', 'cuales', 'serían', 'sus', 'tareas', 'y', 'el', 'procedimiento', 'para', 'su', 'designación', '(', 'v.', 'fs', '.', '600). II', '.', 'Apelado', 'dicho', 'pronunciamiento', 'por', 'la', 'Asesora', 'interviniente', '(', 'v.', 'fs', '.', '633', ')', ',', 'la', 'Sala', 'I', 'de', 'la', 'Cámara', 'de', 'Apelación', 'lo', 'confirmó', '(', 'v.', 'fs', '.', '689', 'y', 'vta.). III', '.', 'Contra', 'dicho', 'fallo', 'se', 'alza', 'la', 'Asesora', 'mencionada', 'mediante', 'recurso', 'extraordinario', 'de', 'inaplicabilidad', 'de', 'ley', ',', 'denunciando', 'la', 'violación', 'de', 'los', 'arts', '.', '18', ',', '75', 'incs', '.', '22', 'y', '23', 'de', 'la', 'Constitución', 'nacional', ';', '8', 'de', 'la', 'Convención', 'Americana', 'sobre', 'los', 'Derechos', 'Humanos', ';', '1', ',', '2', ',', '4', ',', '5', ',', '12', ',', '13', 'de', 'la', 'Convención', 'sobre', 'los', 'Derechos', 'de', 'las', 'Personas', 'con', 'Discapacidad', '(', 'leyes', '26.378', 'y', '27.044', ')', ';', 'XVII', ',', 'XVIII', 'de', 'la', 'Declaración', 'Americana', 'de', 'los', 'Derechos', 'y', 'Deberes', 'del', 'Hombre', ';', '8', 'de', 'la', 'Declaración', 'Universal', 'de', 'Derechos', 'Humanos', ';', '10', ',', '15', ',', '36.5', 'y', '171', 'de', 'la', 'Constitución', 'provincial', ';', '3', ',', '130', ',', '131', ',', '134', ',', '858', ',', '860', 'inc', '.', '\"', 'c', '\"', ',', '862', ',', '1.716', ',', '1.717', ',', '1.766', ',', '1.775', ',', '1.776', 'del', 'Código', 'Civil', 'y', 'Comercial', 'y', '1', ',', '2', 'y', '4', 'de', 'la', 'ley', '26.944', '.', 'Asimismo', ',', 'denuncia', 'absurdo', '(', 'v.', 'fs', '.', '705/711). Sostiene', 'que', 'la', 'sola', 'afirmación', 'de', 'la', 'Cámara', 'de', 'que', 'las', 'explicaciones', 'brindadas', 'por', 'la', 'Curaduría', 'Oficial', 'resultan', 'razonables', ',', 'sin', 'abordar', 'ninguna', 'de', 'las', 'defensas', 'planteadas', ',', 'constituye', 'un', 'típico', 'ejercicio', 'de', 'formulación', 'dogmática', 'y', 'una', 'decisión', 'arbitraria', '(', 'v.', 'fs', '.', '709). Expone', 'que', 'en', 'el', 'fallo', 'impugnado', 'se', 'ignoran', 'todos', 'y', 'cada', 'uno', 'de', 'los', 'elementos', 'obrantes', 'en', 'la', 'causa', ',', 'las', 'acciones', 'instadas', ',', 'en', 'particular', 'una', 'investigación', 'criminal', 'sobre', 'el', 'hecho', ',', 'todo', 'lo', 'que', 'imponía', 'el', 'rechazo', 'de', 'las', 'cuentas', '(', 'v.', 'fs', '.', '708', 'vta.). Controvierte', 'que', 'para', 'fundamentar', 'normativamente', 'la', 'sentencia', 'y', 'concluir', 'en', 'la', 'razonabilidad', 'de', 'las', 'explicaciones', 'brindadas', 'por', 'la', 'Curaduría', 'Oficial', ',', 'la', 'Cámara', 'invoque', 'la', 'Convención', 'sobre', 'los', 'Derechos', 'de', 'las', 'Personas', 'con', 'Discapacidad', 'y', 'a', 'partir', 'de', 'la', 'misma', 'pondere', 'y', 'califique', 'el', 'gasto', 'y', 'la', 'contratación', 'efectuados', 'como', 'razonable', '(', 'v.', 'fs', '.', '710', 'y', 'vta.). IV', '.', 'El', 'recurso', 'debe', 'prosperar. Comparto', 'y', 'hago', 'propios', 'los', 'fundamentos', 'y', 'conclusiones', 'vertidos', 'por', 'el', 'señor', 'Procurador', 'General', 'en', 'su', 'dictamen', 'de', 'fs', '.', '782/787', ',', 'los', 'que', 'estimo', 'abastecen', 'adecuadamente', 'la', 'respuesta', 'que', 'cabe', 'brindar', 'en', 'el', 'sub', 'lite', '(', 'conf', '.', 'causas', 'C.', '113.234', ',', 'sent', '.', 'de', '9-V-2012', ';', 'C.', '115.708', ',', 'sent', '.', 'de', '12-VI-2013', ';', 'C.', '121.104', ',', 'sent', '.', 'de', '23-V-2017', ';', 'C.', '121.980', '\"', 'P.', ',', 'S', '\"', ',', 'sent', '.', 'de', '27-VI-2018', ')', ',', 'en', 'cuanto', 'señala', '\"', '...', 'la', 'ausencia', 'de', 'las', 'razones', 'o', 'motivos', 'por', 'los', 'cuales', 'se', 'receptan', 'como', 'base', 'de', 'la', 'decisión', ',', 'las', 'manifestaciones', 'de', 'la', 'Curaduría', 'Oficial', '...', '\"', '(', 'fs', '.', '784', 'vta.). En', 'efecto', ',', 'el', 'Tribunal', 'de', 'Alzada', ',', 'como', 'único', 'sustento', 'de', 'su', 'decisión', 'de', 'tener', 'por', 'razonable', 'la', 'explicación', 'brindada', 'por', 'la', 'Curaduría', 'Oficial', 'y', 'mantener', 'la', 'providencia', 'que', 'aprobó', 'la', 'rendición', 'de', 'cuentas', 'impugnada', ',', 'alude', 'a', 'la', 'Convención', 'sobre', 'los', 'Derechos', 'de', 'las', 'Personas', 'con', 'Discapacidad', 'y', 'su', 'Protocolo', 'Facultativo', '\"', '...', 'en', 'cuanto', 'establece', 'el', 'criterio', 'por', 'el', 'cual', 'los', 'procedimientos', 'deben', 'ser', 'ajustados', 'de', 'manera', 'de', 'facilitar', 'la', 'realización', 'de', 'los', 'trámites', '...', '\"', '(', 'fs', '.', '689', 'vta.). Tal', 'como', 'denuncia', 'la', 'recurrente', '(', 'v.', 'fs', '.', '710', 'vta./711', ')', ',', 'las', 'genéricas', 'apreciaciones', 'formuladas', 'en', 'el', 'fallo', 'impugnado', ',', 'además', 'de', 'no', 'cumplir', 'con', 'los', 'mandatos', 'convencionales', 'que', 'exigen', 'atención', 'especial', 'de', 'las', 'personas', 'con', 'discapacidad', ',', 'manejo', 'transparente', 'con', 'rendición', 'de', 'cuentas', 'documentada', ',', 'precisa', 'y', 'detallada', ',', 'justificada', 'en', 'necesidades', 'concretas', 'y', 'verificables', ',', 'no', 'se', 'corresponden', 'con', 'los', 'hechos', 'acreditados', 'en', 'la', 'causa', ',', 'máxime', 'cuando', '-como', 'viene', 'denunciando', 'la', 'Asesora', 'de', 'Incapaces-', 'en', 'la', 'rendición', 'de', 'cuentas', 'presentada', 'por', 'la', 'Curaduría', 'Oficial', ',', 'se', 'incluyen', 'gastos', 'para', 'la', 'contratación', 'de', 'quien', 'sería', 'la', 'acompañante', 'terapéutica', 'para', 'realizar', 'gestiones', 'y', 'tramitaciones', 'en', 'favor', 'del', 'señor', 'F.', ',', 'facturadas', 'en', 'noviembre', 'de', '2015', 'y', 'enero', 'de', '2016', ',', 'cuando', 'el', 'causante', 'mantiene', 'paradero', 'desconocido', 'para', 'todos', 'los', 'órganos', 'judiciales', 'desde', 'julio', 'de', '2013', '(', 'v.', 'fs', '.', '566', ',', '635', ',', '655', 'vta', '.', ',', '707). IV', '.', 'En', 'virtud', 'de', 'lo', 'expuesto', ',', 'corresponde', 'hacer', 'lugar', 'al', 'recurso', 'extraordinario', 'de', 'inaplicabilidad', 'de', 'ley', 'interpuesto', ',', 'revocar', 'el', 'fallo', 'impugnado', 'y', 'devolver', 'los', 'autos', 'al', 'Tribunal', 'de', 'origen', 'para', 'que', ',', 'con', 'la', 'debida', 'integración', ',', 'dicte', 'un', 'nuevo', 'pronunciamiento', '(', 'art', '.', '289', ',', 'CPCC). Las', 'costas', 'se', 'imponen', 'por', 'su', 'orden', ',', 'dada', 'la', 'índole', 'de', 'los', 'temas', 'debatidos', '(', 'art', '.', '68', ',', 'segundo', 'párrafo', ',', 'CPCC). La', 'presente', 'se', 'notificará', 'con', 'copia', 'del', 'dictamen', 'de', 'fs', '.', '782/787. Voto', 'por', 'la', 'afirmativa. Los', 'señores', 'Jueces', 'doctores', 'de', 'Lázzari', 'y', 'Genoud', 'y', 'la', 'señora', 'Jueza', 'doctora', 'Kogan', ',', 'por', 'los', 'mismos', 'fundamentos', 'del', 'señor', 'Juez', 'doctor', 'Soria', ',', 'votaron', 'también', 'por', 'la', 'afirmativa. Con', 'lo', 'que', 'terminó', 'el', 'acuerdo', ',', 'dictándose', 'la', 'siguiente S', 'E', 'N', 'T', 'E', 'N', 'C', 'I', 'A Por', 'lo', 'expuesto', 'en', 'el', 'acuerdo', 'que', 'antecede', ',', 'de', 'conformidad', 'con', 'lo', 'dictaminado', 'por', 'el', 'señor', 'Procurador', 'General', ',', 'se', 'hace', 'lugar', 'al', 'recurso', 'extraordinario', 'de', 'inaplicabilidad', 'de', 'ley', 'interpuesto', ',', 'se', 'revoca', 'el', 'fallo', 'impugnado', 'y', 'se', 'devuelven', 'los', 'autos', 'al', 'Tribunal', 'de', 'origen', 'para', 'que', ',', 'con', 'la', 'debida', 'integración', ',', 'dicte', 'un', 'nuevo', 'pronunciamiento', '(', 'art', '.', '289', ',', 'CPCC). Las', 'costas', 'se', 'imponen', 'por', 'su', 'orden', ',', 'dada', 'la', 'índole', 'de', 'los', 'temas', 'debatidos', '(', 'art', '.', '68', ',', 'segundo', 'párrafo', ',', 'CPCC). Notifíquese', 'con', 'copia', 'del', 'dictamen', 'de', 'fs', '.', '782/787', 'y', 'devuélvase. EDUARDO', 'NESTOR', 'DE', 'LÁZZARI DANIEL', 'FERNANDO', 'SORIA', '\\xa0 ', 'LUIS', 'ESTEBAN', 'GENOUD HILDA', 'KOGAN CARLOS', 'E.', 'CAMPS Secretario']\n"
          ],
          "name": "stdout"
        }
      ]
    },
    {
      "cell_type": "markdown",
      "metadata": {
        "id": "ztCU6xO79Yil"
      },
      "source": [
        "# Tools"
      ]
    },
    {
      "cell_type": "code",
      "metadata": {
        "id": "eJf1Opx69b_-",
        "outputId": "dd6bd510-75a0-4b96-b705-f242e9bfa379",
        "colab": {
          "base_uri": "https://localhost:8080/",
          "height": 118
        }
      },
      "source": [
        "tbfallos['textos_fallo'][1]"
      ],
      "execution_count": 16,
      "outputs": [
        {
          "output_type": "execute_result",
          "data": {
            "application/vnd.google.colaboratory.intrinsic+json": {
              "type": "string"
            },
            "text/plain": [
              "'#TEXTO COMPLETO#A C U E R D O#En la ciudad de La Plata, a 15 de mayo de 2019, habiéndose establecido, de conformidad con lo dispuesto en el Acuerdo 2078, que deberá observarse el siguiente orden de votación: doctores Soria, de Lázzari, Genoud, Kogan, se reúnen los señores Jueces de la Suprema Corte de Justicia en acuerdo ordinario para pronunciar sentencia definitiva en la causa C. 122.321, \"F., R.. Determinación de la capacidad jurídica\".#A N T E C E D E N T E S#La Sala I de la Cámara de Apelación en lo Civil y Comercial de San Isidro confirmó el fallo de primera instancia que, en los autos sobre determinación de la capacidad jurídica del señor R. F., resolvió aprobar la rendición de cuentas efectuada por la Curaduría Oficial de Alienados (v. fs. 689 y 660, respectivamente).#Se interpuso, por la titular de la Asesoría de Incapaces n° 2 departamental, recurso extraordinario de inaplicabilidad de ley (v. fs. 705/711).#Oído el señor Procurador General, dictada la providencia de autos y encontrándose la causa en estado de pronunciar sentencia, la Suprema Corte resolvió plantear y votar la siguiente#C U E S T I Ó N#¿Es fundado el recurso extraordinario de inaplicabilidad de ley?#V O T A C I Ó N#A la cuestión planteada, el señor Juez doctor Soria dijo:#I. En el marco del proceso judicial por determinación de la capacidad jurídica del señor R. F., en trámite ante el Juzgado de Familia n° 4 de San Isidro, la titular de la Curaduría Oficial de Alienados de San Isidro y Zárate-Campana acompañó una rendición de cuentas informando los movimientos y saldos de la Cuenta de Autos y de la Cuenta Fiscal de Curaduría, adjuntando comprobantes para acreditar los gastos efectuados para el sostenimiento del causante e informando los montos y erogaciones originados en el subsidio ley 10.315, para el caso de que el señor F. estuviera gozando del mismo (v. fs. 541/548).#La Asesora de Incapaces impugnó la rendición de cuentas efectuada, esgrimiendo que de la documentación acompañada junto a la misma surgían dos facturas de la acompañante terapéutica -Daniela Elizabeth Ferreyra- en concepto de honorarios por trámites de afiliación al Programa Federal de Salud (PROFE-Salud), emitidas con fechas 11 de noviembre de 2015 y 15 de enero de 2016 por las sumas de $720 y $800, respectivamente (v. fs. 566).#Manifestó que de la compulsa del expediente surgía que desde el año 2013, luego de que el señor F. egresara con un permiso de salida del Hospital Cabred, no se habían tenido noticias del mismo, existiendo además constancias de la búsqueda de su paradero (v. fs. 566).#Hizo referencia a las resoluciones 578/03 y 127/06 en cuanto regulan la necesidad de intervención de los acompañantes terapéuticos, aspectos sobre los que deben trabajar, etcétera, y la obligación de los curadores de informar al juez lo presupuestado mensualmente para gastos ordinarios (v. fs. 566 vta.), puntualizando que en las constancias de autos no había elementos que indicaran las actividades desplegadas por la acompañante Ferreyra en lo que hace a las funciones e incumbencias profesionales, así como tampoco documentación que respalde las gestiones y trámites facturados por dicha profesional, máxime teniendo en cuenta que se desconocía el paradero del señor F. (v. fs. 567).#Solicitó que se brinden explicaciones respecto de los puntos señalados en la impugnación, para cuyo fin propuso la realización de una audiencia ante el juez (v. fs. 567 y vta.).#Frente a dichos planteos, el Juzgado dispuso el pase de las actuaciones a la Curaduría Oficial de Alienados a fin de que se expida al respecto (v. fs. 568).#La titular de la Curaduría contestó la impugnación y solicitó la aprobación de rendición efectuada (v. fs. 597/599 vta.).#Allí, refirió que las personas con padecimientos mentales son beneficiarias de una pensión contributiva a la que se le practica un descuento mensual del Programa Federal de Salud cuya afiliación no es automática, por lo que la persona comienza a pagar por un servicio de salud que no recibe hasta tanto se concluyan los trámites y pase a figurar como activo en el padrón.#Adujo que desde la Curaduría se había generado una operatoria para suplir la falta de afiliación automática, siendo los acompañantes terapéuticos quienes concurren a la Delegación del PROFE al final de un recorrido previo que deben realizar para conseguir toda la documentación necesaria (v. fs. 598).#Asimismo, hizo referencia a la cuestión vinculada con la disponibilidad de los recursos con los que contaba el organismo y controvirtió por inadecuada la normativa citada por la Asesora impugnante (v. fs. 599).#El Juzgado resolvió, sin perjuicio de la impugnación realizada, aprobar por única vez en cuanto ha lugar por derecho la rendición de cuentas efectuada en los términos y con los alcances manifestados a fs. 548. Asimismo, hizo saber a la Curaduría Oficial que deberá acreditar en autos los trámites realizados en favor del causante por los cuales se presentan las facturas y el resultado de los mismos.#Además, señaló que en lo sucesivo y para futuras rendiciones de cuentas se deberá denunciar en la causa la disposición de la Suprema Corte que autoriza a la Curaduría Oficial a tercerizar la gestión de trámites, señalando que, al asignarse un acompañante terapéutico a algún justiciable, se deberá denunciar en los respectivos autos cuales serían sus tareas y el procedimiento para su designación (v. fs. 600).#II. Apelado dicho pronunciamiento por la Asesora interviniente (v. fs. 633), la Sala I de la Cámara de Apelación lo confirmó (v. fs. 689 y vta.).#III. Contra dicho fallo se alza la Asesora mencionada mediante recurso extraordinario de inaplicabilidad de ley, denunciando la violación de los arts. 18, 75 incs. 22 y 23 de la Constitución nacional; 8 de la Convención Americana sobre los Derechos Humanos; 1, 2, 4, 5, 12, 13 de la Convención sobre los Derechos de las Personas con Discapacidad (leyes 26.378 y 27.044); XVII, XVIII de la Declaración Americana de los Derechos y Deberes del Hombre; 8 de la Declaración Universal de Derechos Humanos; 10, 15, 36.5 y 171 de la Constitución provincial; 3, 130, 131, 134, 858, 860 inc. \"c\", 862, 1.716, 1.717, 1.766, 1.775, 1.776 del Código Civil y Comercial y 1, 2 y 4 de la ley 26.944. Asimismo, denuncia absurdo (v. fs. 705/711).#Sostiene que la sola afirmación de la Cámara de que las explicaciones brindadas por la Curaduría Oficial resultan razonables, sin abordar ninguna de las defensas planteadas, constituye un típico ejercicio de formulación dogmática y una decisión arbitraria (v. fs. 709).#Expone que en el fallo impugnado se ignoran todos y cada uno de los elementos obrantes en la causa, las acciones instadas, en particular una investigación criminal sobre el hecho, todo lo que imponía el rechazo de las cuentas (v. fs. 708 vta.).#Controvierte que para fundamentar normativamente la sentencia y concluir en la razonabilidad de las explicaciones brindadas por la Curaduría Oficial, la Cámara invoque la Convención sobre los Derechos de las Personas con Discapacidad y a partir de la misma pondere y califique el gasto y la contratación efectuados como razonable (v. fs. 710 y vta.).#IV. El recurso debe prosperar.#Comparto y hago propios los fundamentos y conclusiones vertidos por el señor Procurador General en su dictamen de fs. 782/787, los que estimo abastecen adecuadamente la respuesta que cabe brindar en el sub lite (conf. causas C. 113.234, sent. de 9-V-2012; C. 115.708, sent. de 12-VI-2013; C. 121.104, sent. de 23-V-2017; C. 121.980 \"P., S\", sent. de 27-VI-2018), en cuanto señala \"...la ausencia de las razones o motivos por los cuales se receptan como base de la decisión, las manifestaciones de la Curaduría Oficial...\" (fs. 784 vta.).#En efecto, el Tribunal de Alzada, como único sustento de su decisión de tener por razonable la explicación brindada por la Curaduría Oficial y mantener la providencia que aprobó la rendición de cuentas impugnada, alude a la Convención sobre los Derechos de las Personas con Discapacidad y su Protocolo Facultativo \"...en cuanto establece el criterio por el cual los procedimientos deben ser ajustados de manera de facilitar la realización de los trámites...\" (fs. 689 vta.).#Tal como denuncia la recurrente (v. fs. 710 vta./711), las genéricas apreciaciones formuladas en el fallo impugnado, además de no cumplir con los mandatos convencionales que exigen atención especial de las personas con discapacidad, manejo transparente con rendición de cuentas documentada, precisa y detallada, justificada en necesidades concretas y verificables, no se corresponden con los hechos acreditados en la causa, máxime cuando -como viene denunciando la Asesora de Incapaces- en la rendición de cuentas presentada por la Curaduría Oficial, se incluyen gastos para la contratación de quien sería la acompañante terapéutica para realizar gestiones y tramitaciones en favor del señor F., facturadas en noviembre de 2015 y enero de 2016, cuando el causante mantiene paradero desconocido para todos los órganos judiciales desde julio de 2013 (v. fs. 566, 635, 655 vta., 707).#IV. En virtud de lo expuesto, corresponde hacer lugar al recurso extraordinario de inaplicabilidad de ley interpuesto, revocar el fallo impugnado y devolver los autos al Tribunal de origen para que, con la debida integración, dicte un nuevo pronunciamiento (art. 289, CPCC).#Las costas se imponen por su orden, dada la índole de los temas debatidos (art. 68, segundo párrafo, CPCC).#La presente se notificará con copia del dictamen de fs. 782/787.#Voto por la afirmativa.#Los señores Jueces doctores de Lázzari y Genoud y la señora Jueza doctora Kogan, por los mismos fundamentos del señor Juez doctor Soria, votaron también por la afirmativa.#Con lo que terminó el acuerdo, dictándose la siguiente#S E N T E N C I A#Por lo expuesto en el acuerdo que antecede, de conformidad con lo dictaminado por el señor Procurador General, se hace lugar al recurso extraordinario de inaplicabilidad de ley interpuesto, se revoca el fallo impugnado y se devuelven los autos al Tribunal de origen para que, con la debida integración, dicte un nuevo pronunciamiento (art. 289, CPCC).#Las costas se imponen por su orden, dada la índole de los temas debatidos (art. 68, segundo párrafo, CPCC).#Notifíquese con copia del dictamen de fs. 782/787 y devuélvase.#EDUARDO NESTOR DE LÁZZARI#DANIEL FERNANDO SORIA\\xa0 LUIS ESTEBAN GENOUD#HILDA KOGAN#CARLOS E. CAMPS#Secretario'"
            ]
          },
          "metadata": {
            "tags": []
          },
          "execution_count": 16
        }
      ]
    }
  ]
}